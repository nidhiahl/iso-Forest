{
  "nbformat": 4,
  "nbformat_minor": 0,
  "metadata": {
    "colab": {
      "provenance": []
    },
    "kernelspec": {
      "name": "python3",
      "display_name": "Python 3"
    },
    "language_info": {
      "name": "python"
    }
  },
  "cells": [
    {
      "cell_type": "markdown",
      "source": [
        "# Imports"
      ],
      "metadata": {
        "id": "-oNGCaZHON8Q"
      }
    },
    {
      "cell_type": "code",
      "source": [
        "%matplotlib inline\n",
        "import pandas as pd\n",
        "import matplotlib.pyplot as plt\n",
        "import numpy as np\n",
        "from scipy.stats import multivariate_normal\n",
        "import random as rn\n",
        "import seaborn as sb\n",
        "sb.set_style(style=\"whitegrid\")\n",
        "sb.set_color_codes()\n",
        "import scipy.ndimage\n",
        "from scipy.interpolate import griddata\n",
        "import numpy.ma as ma\n",
        "from numpy.random import uniform, seed\n",
        "from google.colab import files"
      ],
      "metadata": {
        "id": "AAnfvcFBOSff"
      },
      "execution_count": 1,
      "outputs": []
    },
    {
      "cell_type": "markdown",
      "source": [
        "# Single Blob"
      ],
      "metadata": {
        "id": "Mj6LH_isOEN2"
      }
    },
    {
      "cell_type": "markdown",
      "source": [
        "## Data Preparation\n"
      ],
      "metadata": {
        "id": "Of6H844bOJmu"
      }
    },
    {
      "cell_type": "markdown",
      "source": [
        "### Data Generation"
      ],
      "metadata": {
        "id": "f99Vn1XpOh7J"
      }
    },
    {
      "cell_type": "code",
      "execution_count": 2,
      "metadata": {
        "id": "aoYrHOiIN8Tt"
      },
      "outputs": [],
      "source": [
        "mean = [0, 0]\n",
        "cov = [[1, 0], [0, 1]]  # diagonal covariance\n",
        "Nobjs = 500\n",
        "np.random.seed(1)\n",
        "x, y = np.random.multivariate_normal(mean, cov, Nobjs).T\n",
        "#Add manual outlier\n",
        "x[0]=3.3\n",
        "y[0]=3.3\n",
        "X=np.array([x,y]).T"
      ]
    },
    {
      "cell_type": "markdown",
      "source": [
        "### Data Visualisation"
      ],
      "metadata": {
        "id": "GFiLAmCuOlag"
      }
    },
    {
      "cell_type": "code",
      "source": [
        "fig=plt.figure(figsize=(6,6))\n",
        "fig.add_subplot(111)\n",
        "plt.plot(X[:,0],X[:,1],'o', markersize=10, color=[0.5,0.5,0.5])\n",
        "plt.grid(\"off\")\n",
        "plt.axis(\"equal\")\n",
        "plt.xlim([-5,5])\n",
        "plt.ylim([-5,5])\n",
        "plt.tick_params(direction='out', length=6, width=2, colors='k',labelsize=20)\n",
        "plt.show()"
      ],
      "metadata": {
        "colab": {
          "base_uri": "https://localhost:8080/",
          "height": 386
        },
        "id": "ZUnmRzX1OpnC",
        "outputId": "5aca4c15-c59c-46df-b706-6dee6120f6a2"
      },
      "execution_count": 3,
      "outputs": [
        {
          "output_type": "display_data",
          "data": {
            "text/plain": [
              "<Figure size 432x432 with 1 Axes>"
            ],
            "image/png": "[encoded data removed]"
          },
          "metadata": {}
        }
      ]
    },
    {
      "cell_type": "markdown",
      "source": [
        "### Saving in csv "
      ],
      "metadata": {
        "id": "XprnJ6NuPA6J"
      }
    },
    {
      "cell_type": "code",
      "source": [
        "label=np.zeros(500, int)\n",
        "label[0]=1\n",
        "\n",
        "dict={'1':x, '2':y, 'label':label}\n",
        "df=pd.DataFrame(dict)\n",
        "\n",
        "df.to_csv('SingleBlob.csv', sep='\\t')\n",
        "files.download(\"SingleBlob.csv\")"
      ],
      "metadata": {
        "colab": {
          "base_uri": "https://localhost:8080/",
          "height": 17
        },
        "id": "b6waRqqFPKWa",
        "outputId": "cf30e643-be51-4d70-f0d2-d162996d38b2"
      },
      "execution_count": 4,
      "outputs": [
        {
          "output_type": "display_data",
          "data": {
            "text/plain": [
              "<IPython.core.display.Javascript object>"
            ],
            "application/javascript": [
              "\n",
              "    async function download(id, filename, size) {\n",
              "      if (!google.colab.kernel.accessAllowed) {\n",
              "        return;\n",
              "      }\n",
              "      const div = document.createElement('div');\n",
              "      const label = document.createElement('label');\n",
              "      label.textContent = `Downloading \"${filename}\": `;\n",
              "      div.appendChild(label);\n",
              "      const progress = document.createElement('progress');\n",
              "      progress.max = size;\n",
              "      div.appendChild(progress);\n",
              "      document.body.appendChild(div);\n",
              "\n",
              "      const buffers = [];\n",
              "      let downloaded = 0;\n",
              "\n",
              "      const channel = await google.colab.kernel.comms.open(id);\n",
              "      // Send a message to notify the kernel that we're ready.\n",
              "      channel.send({})\n",
              "\n",
              "      for await (const message of channel.messages) {\n",
              "        // Send a message to notify the kernel that we're ready.\n",
              "        channel.send({})\n",
              "        if (message.buffers) {\n",
              "          for (const buffer of message.buffers) {\n",
              "            buffers.push(buffer);\n",
              "            downloaded += buffer.byteLength;\n",
              "            progress.value = downloaded;\n",
              "          }\n",
              "        }\n",
              "      }\n",
              "      const blob = new Blob(buffers, {type: 'application/binary'});\n",
              "      const a = document.createElement('a');\n",
              "      a.href = window.URL.createObjectURL(blob);\n",
              "      a.download = filename;\n",
              "      div.appendChild(a);\n",
              "      a.click();\n",
              "      div.remove();\n",
              "    }\n",
              "  "
            ]
          },
          "metadata": {}
        },
        {
          "output_type": "display_data",
          "data": {
            "text/plain": [
              "<IPython.core.display.Javascript object>"
            ],
            "application/javascript": [
              "download(\"download_241f6efd-4f51-4d3e-b518-b5e1dda0de7b\", \"SingleBlob.csv\", 22523)"
            ]
          },
          "metadata": {}
        }
      ]
    },
    {
      "cell_type": "markdown",
      "source": [
        "## Train iForest on Data"
      ],
      "metadata": {
        "id": "GdqRIpn7mXeA"
      }
    },
    {
      "cell_type": "markdown",
      "source": [
        "This process is done on local machine."
      ],
      "metadata": {
        "id": "UU_puPdimtqj"
      }
    },
    {
      "cell_type": "markdown",
      "source": [
        "## Obtain Anomaly Scores"
      ],
      "metadata": {
        "id": "EgzqDZ7Omxgz"
      }
    },
    {
      "cell_type": "code",
      "source": [
        "files.upload()"
      ],
      "metadata": {
        "colab": {
          "base_uri": "https://localhost:8080/",
          "height": 1000
        },
        "id": "jy60x-JvpbTl",
        "outputId": "e4398b40-1aa9-486a-bebf-c5c156a88f50"
      },
      "execution_count": 5,
      "outputs": [
        {
          "output_type": "display_data",
          "data": {
            "text/plain": [
              "<IPython.core.display.HTML object>"
            ],
            "text/html": [
              "\n",
              "     <input type=\"file\" id=\"files-54819bc5-b0d8-4726-a473-87dda64161ba\" name=\"files[]\" multiple disabled\n",
              "        style=\"border:none\" />\n",
              "     <output id=\"result-54819bc5-b0d8-4726-a473-87dda64161ba\">\n",
              "      Upload widget is only available when the cell has been executed in the\n",
              "      current browser session. Please rerun this cell to enable.\n",
              "      </output>\n",
              "      <script>// Copyright 2017 Google LLC\n",
              "//\n",
              "// Licensed under the Apache License, Version 2.0 (the \"License\");\n",
              "// you may not use this file except in compliance with the License.\n",
              "// You may obtain a copy of the License at\n",
              "//\n",
              "//      http://www.apache.org/licenses/LICENSE-2.0\n",
              "//\n",
              "// Unless required by applicable law or agreed to in writing, software\n",
              "// distributed under the License is distributed on an \"AS IS\" BASIS,\n",
              "// WITHOUT WARRANTIES OR CONDITIONS OF ANY KIND, either express or implied.\n",
              "// See the License for the specific language governing permissions and\n",
              "// limitations under the License.\n",
              "\n",
              "/**\n",
              " * @fileoverview Helpers for google.colab Python module.\n",
              " */\n",
              "(function(scope) {\n",
              "function span(text, styleAttributes = {}) {\n",
              "  const element = document.createElement('span');\n",
              "  element.textContent = text;\n",
              "  for (const key of Object.keys(styleAttributes)) {\n",
              "    element.style[key] = styleAttributes[key];\n",
              "  }\n",
              "  return element;\n",
              "}\n",
              "\n",
              "// Max number of bytes which will be uploaded at a time.\n",
              "const MAX_PAYLOAD_SIZE = 100 * 1024;\n",
              "\n",
              "function _uploadFiles(inputId, outputId) {\n",
              "  const steps = uploadFilesStep(inputId, outputId);\n",
              "  const outputElement = document.getElementById(outputId);\n",
              "  // Cache steps on the outputElement to make it available for the next call\n",
              "  // to uploadFilesContinue from Python.\n",
              "  outputElement.steps = steps;\n",
              "\n",
              "  return _uploadFilesContinue(outputId);\n",
              "}\n",
              "\n",
              "// This is roughly an async generator (not supported in the browser yet),\n",
              "// where there are multiple asynchronous steps and the Python side is going\n",
              "// to poll for completion of each step.\n",
              "// This uses a Promise to block the python side on completion of each step,\n",
              "// then passes the result of the previous step as the input to the next step.\n",
              "function _uploadFilesContinue(outputId) {\n",
              "  const outputElement = document.getElementById(outputId);\n",
              "  const steps = outputElement.steps;\n",
              "\n",
              "  const next = steps.next(outputElement.lastPromiseValue);\n",
              "  return Promise.resolve(next.value.promise).then((value) => {\n",
              "    // Cache the last promise value to make it available to the next\n",
              "    // step of the generator.\n",
              "    outputElement.lastPromiseValue = value;\n",
              "    return next.value.response;\n",
              "  });\n",
              "}\n",
              "\n",
              "/**\n",
              " * Generator function which is called between each async step of the upload\n",
              " * process.\n",
              " * @param {string} inputId Element ID of the input file picker element.\n",
              " * @param {string} outputId Element ID of the output display.\n",
              " * @return {!Iterable<!Object>} Iterable of next steps.\n",
              " */\n",
              "function* uploadFilesStep(inputId, outputId) {\n",
              "  const inputElement = document.getElementById(inputId);\n",
              "  inputElement.disabled = false;\n",
              "\n",
              "  const outputElement = document.getElementById(outputId);\n",
              "  outputElement.innerHTML = '';\n",
              "\n",
              "  const pickedPromise = new Promise((resolve) => {\n",
              "    inputElement.addEventListener('change', (e) => {\n",
              "      resolve(e.target.files);\n",
              "    });\n",
              "  });\n",
              "\n",
              "  const cancel = document.createElement('button');\n",
              "  inputElement.parentElement.appendChild(cancel);\n",
              "  cancel.textContent = 'Cancel upload';\n",
              "  const cancelPromise = new Promise((resolve) => {\n",
              "    cancel.onclick = () => {\n",
              "      resolve(null);\n",
              "    };\n",
              "  });\n",
              "\n",
              "  // Wait for the user to pick the files.\n",
              "  const files = yield {\n",
              "    promise: Promise.race([pickedPromise, cancelPromise]),\n",
              "    response: {\n",
              "      action: 'starting',\n",
              "    }\n",
              "  };\n",
              "\n",
              "  cancel.remove();\n",
              "\n",
              "  // Disable the input element since further picks are not allowed.\n",
              "  inputElement.disabled = true;\n",
              "\n",
              "  if (!files) {\n",
              "    return {\n",
              "      response: {\n",
              "        action: 'complete',\n",
              "      }\n",
              "    };\n",
              "  }\n",
              "\n",
              "  for (const file of files) {\n",
              "    const li = document.createElement('li');\n",
              "    li.append(span(file.name, {fontWeight: 'bold'}));\n",
              "    li.append(span(\n",
              "        `(${file.type || 'n/a'}) - ${file.size} bytes, ` +\n",
              "        `last modified: ${\n",
              "            file.lastModifiedDate ? file.lastModifiedDate.toLocaleDateString() :\n",
              "                                    'n/a'} - `));\n",
              "    const percent = span('0% done');\n",
              "    li.appendChild(percent);\n",
              "\n",
              "    outputElement.appendChild(li);\n",
              "\n",
              "    const fileDataPromise = new Promise((resolve) => {\n",
              "      const reader = new FileReader();\n",
              "      reader.onload = (e) => {\n",
              "        resolve(e.target.result);\n",
              "      };\n",
              "      reader.readAsArrayBuffer(file);\n",
              "    });\n",
              "    // Wait for the data to be ready.\n",
              "    let fileData = yield {\n",
              "      promise: fileDataPromise,\n",
              "      response: {\n",
              "        action: 'continue',\n",
              "      }\n",
              "    };\n",
              "\n",
              "    // Use a chunked sending to avoid message size limits. See b/62115660.\n",
              "    let position = 0;\n",
              "    do {\n",
              "      const length = Math.min(fileData.byteLength - position, MAX_PAYLOAD_SIZE);\n",
              "      const chunk = new Uint8Array(fileData, position, length);\n",
              "      position += length;\n",
              "\n",
              "      const base64 = btoa(String.fromCharCode.apply(null, chunk));\n",
              "      yield {\n",
              "        response: {\n",
              "          action: 'append',\n",
              "          file: file.name,\n",
              "          data: base64,\n",
              "        },\n",
              "      };\n",
              "\n",
              "      let percentDone = fileData.byteLength === 0 ?\n",
              "          100 :\n",
              "          Math.round((position / fileData.byteLength) * 100);\n",
              "      percent.textContent = `${percentDone}% done`;\n",
              "\n",
              "    } while (position < fileData.byteLength);\n",
              "  }\n",
              "\n",
              "  // All done.\n",
              "  yield {\n",
              "    response: {\n",
              "      action: 'complete',\n",
              "    }\n",
              "  };\n",
              "}\n",
              "\n",
              "scope.google = scope.google || {};\n",
              "scope.google.colab = scope.google.colab || {};\n",
              "scope.google.colab._files = {\n",
              "  _uploadFiles,\n",
              "  _uploadFilesContinue,\n",
              "};\n",
              "})(self);\n",
              "</script> "
            ]
          },
          "metadata": {}
        },
        {
          "output_type": "stream",
          "name": "stdout",
          "text": [
            "Saving SingleBlob_tested_over_SingleBlob.csv to SingleBlob_tested_over_SingleBlob.csv\n"
          ]
        },
        {
          "output_type": "execute_result",
          "data": {
            "text/plain": [
              "{'SingleBlob_tested_over_SingleBlob.csv': b'pointId Ascore actuallabel\\n0 0.804333 1\\n1 0.444131 0\\n2 0.58618 0\\n3 0.509846 0\\n4 0.397646 0\\n5 0.616811 0\\n6 0.415765 0\\n7 0.455726 0\\n8 0.42465 0\\n9 0.404546 0\\n10 0.467205 0\\n11 0.424608 0\\n12 0.425782 0\\n13 0.426522 0\\n14 0.41436 0\\n15 0.42666 0\\n16 0.44224 0\\n17 0.42534 0\\n18 0.438126 0\\n19 0.497327 0\\n20 0.425135 0\\n21 0.515978 0\\n22 0.415971 0\\n23 0.552851 0\\n24 0.402855 0\\n25 0.400298 0\\n26 0.440985 0\\n27 0.406577 0\\n28 0.43118 0\\n29 0.408888 0\\n30 0.467084 0\\n31 0.402266 0\\n32 0.396523 0\\n33 0.496636 0\\n34 0.623168 0\\n35 0.47077 0\\n36 0.413143 0\\n37 0.539491 0\\n38 0.426799 0\\n39 0.410691 0\\n40 0.404673 0\\n41 0.408809 0\\n42 0.397271 0\\n43 0.432622 0\\n44 0.42128 0\\n45 0.438359 0\\n46 0.422822 0\\n47 0.398669 0\\n48 0.41764 0\\n49 0.429697 0\\n50 0.445063 0\\n51 0.406523 0\\n52 0.441136 0\\n53 0.431614 0\\n54 0.412204 0\\n55 0.462655 0\\n56 0.429295 0\\n57 0.45178 0\\n58 0.490716 0\\n59 0.434705 0\\n60 0.419737 0\\n61 0.586047 0\\n62 0.56679 0\\n63 0.475251 0\\n64 0.465826 0\\n65 0.412465 0\\n66 0.456441 0\\n67 0.410268 0\\n68 0.427846 0\\n69 0.412195 0\\n70 0.400527 0\\n71 0.427201 0\\n72 0.402896 0\\n73 0.402433 0\\n74 0.405449 0\\n75 0.592138 0\\n76 0.591511 0\\n77 0.393228 0\\n78 0.399706 0\\n79 0.428259 0\\n80 0.439736 0\\n81 0.395898 0\\n82 0.398268 0\\n83 0.420329 0\\n84 0.6713 0\\n85 0.44242 0\\n86 0.613223 0\\n87 0.404869 0\\n88 0.456287 0\\n89 0.408002 0\\n90 0.447781 0\\n91 0.445971 0\\n92 0.413292 0\\n93 0.405552 0\\n94 0.391744 0\\n95 0.434708 0\\n96 0.555436 0\\n97 0.480672 0\\n98 0.410736 0\\n99 0.430621 0\\n100 0.432161 0\\n101 0.533508 0\\n102 0.585741 0\\n103 0.517179 0\\n104 0.546949 0\\n105 0.462692 0\\n106 0.436 0\\n107 0.469751 0\\n108 0.400438 0\\n109 0.454101 0\\n110 0.478711 0\\n111 0.4663 0\\n112 0.625947 0\\n113 0.421123 0\\n114 0.426415 0\\n115 0.393115 0\\n116 0.4956 0\\n117 0.443058 0\\n118 0.463355 0\\n119 0.51906 0\\n120 0.419856 0\\n121 0.462245 0\\n122 0.437974 0\\n123 0.400472 0\\n124 0.56776 0\\n125 0.414736 0\\n126 0.697663 0\\n127 0.416783 0\\n128 0.546392 0\\n129 0.401007 0\\n130 0.476958 0\\n131 0.406864 0\\n132 0.42598 0\\n133 0.394933 0\\n134 0.408264 0\\n135 0.480075 0\\n136 0.417915 0\\n137 0.462794 0\\n138 0.521327 0\\n139 0.44535 0\\n140 0.433019 0\\n141 0.413876 0\\n142 0.398943 0\\n143 0.399816 0\\n144 0.440697 0\\n145 0.40215 0\\n146 0.404739 0\\n147 0.40811 0\\n148 0.413478 0\\n149 0.442273 0\\n150 0.618277 0\\n151 0.464275 0\\n152 0.473055 0\\n153 0.417727 0\\n154 0.404117 0\\n155 0.435122 0\\n156 0.463911 0\\n157 0.678812 0\\n158 0.402498 0\\n159 0.448406 0\\n160 0.41986 0\\n161 0.409572 0\\n162 0.419926 0\\n163 0.459731 0\\n164 0.427314 0\\n165 0.423784 0\\n166 0.439737 0\\n167 0.467399 0\\n168 0.636575 0\\n169 0.698566 0\\n170 0.445215 0\\n171 0.422318 0\\n172 0.405254 0\\n173 0.401757 0\\n174 0.428007 0\\n175 0.436091 0\\n176 0.414826 0\\n177 0.42986 0\\n178 0.395921 0\\n179 0.422839 0\\n180 0.441736 0\\n181 0.534409 0\\n182 0.416002 0\\n183 0.639514 0\\n184 0.408967 0\\n185 0.407853 0\\n186 0.410873 0\\n187 0.518081 0\\n188 0.57532 0\\n189 0.519064 0\\n190 0.414945 0\\n191 0.481857 0\\n192 0.399807 0\\n193 0.402406 0\\n194 0.441429 0\\n195 0.553561 0\\n196 0.417898 0\\n197 0.45295 0\\n198 0.54594 0\\n199 0.553134 0\\n200 0.447304 0\\n201 0.437688 0\\n202 0.417904 0\\n203 0.569896 0\\n204 0.427101 0\\n205 0.540747 0\\n206 0.496458 0\\n207 0.663052 0\\n208 0.456054 0\\n209 0.540463 0\\n210 0.469053 0\\n211 0.423362 0\\n212 0.53781 0\\n213 0.422506 0\\n214 0.407767 0\\n215 0.474821 0\\n216 0.413787 0\\n217 0.430529 0\\n218 0.41758 0\\n219 0.504772 0\\n220 0.489909 0\\n221 0.487012 0\\n222 0.420105 0\\n223 0.458155 0\\n224 0.462051 0\\n225 0.447986 0\\n226 0.41035 0\\n227 0.445887 0\\n228 0.442647 0\\n229 0.42744 0\\n230 0.431097 0\\n231 0.42913 0\\n232 0.400529 0\\n233 0.495333 0\\n234 0.415645 0\\n235 0.404438 0\\n236 0.505453 0\\n237 0.417348 0\\n238 0.589152 0\\n239 0.405369 0\\n240 0.425982 0\\n241 0.434504 0\\n242 0.456771 0\\n243 0.534349 0\\n244 0.443744 0\\n245 0.409647 0\\n246 0.418314 0\\n247 0.505286 0\\n248 0.558745 0\\n249 0.437572 0\\n250 0.502657 0\\n251 0.433796 0\\n252 0.40707 0\\n253 0.422005 0\\n254 0.425699 0\\n255 0.484181 0\\n256 0.431906 0\\n257 0.416591 0\\n258 0.437875 0\\n259 0.42431 0\\n260 0.467291 0\\n261 0.477746 0\\n262 0.428673 0\\n263 0.452317 0\\n264 0.454993 0\\n265 0.497346 0\\n266 0.415758 0\\n267 0.409336 0\\n268 0.405901 0\\n269 0.519447 0\\n270 0.428049 0\\n271 0.509335 0\\n272 0.626349 0\\n273 0.433837 0\\n274 0.48025 0\\n275 0.479116 0\\n276 0.50423 0\\n277 0.419556 0\\n278 0.445977 0\\n279 0.436562 0\\n280 0.410711 0\\n281 0.453728 0\\n282 0.757007 0\\n283 0.40344 0\\n284 0.460896 0\\n285 0.422783 0\\n286 0.503506 0\\n287 0.40441 0\\n288 0.392074 0\\n289 0.423883 0\\n290 0.413877 0\\n291 0.437169 0\\n292 0.433034 0\\n293 0.51002 0\\n294 0.586097 0\\n295 0.421635 0\\n296 0.488251 0\\n297 0.4498 0\\n298 0.4206 0\\n299 0.460825 0\\n300 0.441192 0\\n301 0.437574 0\\n302 0.47379 0\\n303 0.392664 0\\n304 0.519173 0\\n305 0.414356 0\\n306 0.41305 0\\n307 0.551923 0\\n308 0.460878 0\\n309 0.414721 0\\n310 0.506551 0\\n311 0.433502 0\\n312 0.417117 0\\n313 0.408875 0\\n314 0.485186 0\\n315 0.448914 0\\n316 0.406593 0\\n317 0.4043 0\\n318 0.423214 0\\n319 0.434719 0\\n320 0.442166 0\\n321 0.458559 0\\n322 0.447965 0\\n323 0.560316 0\\n324 0.423333 0\\n325 0.466653 0\\n326 0.505373 0\\n327 0.408808 0\\n328 0.425455 0\\n329 0.455997 0\\n330 0.653327 0\\n331 0.43906 0\\n332 0.40526 0\\n333 0.448092 0\\n334 0.436254 0\\n335 0.533259 0\\n336 0.412824 0\\n337 0.433664 0\\n338 0.395486 0\\n339 0.408004 0\\n340 0.417473 0\\n341 0.635386 0\\n342 0.593091 0\\n343 0.408188 0\\n344 0.40881 0\\n345 0.437173 0\\n346 0.414632 0\\n347 0.407505 0\\n348 0.461082 0\\n349 0.444687 0\\n350 0.467187 0\\n351 0.452065 0\\n352 0.418536 0\\n353 0.505288 0\\n354 0.485667 0\\n355 0.595319 0\\n356 0.402152 0\\n357 0.454091 0\\n358 0.423112 0\\n359 0.395729 0\\n360 0.565818 0\\n361 0.424257 0\\n362 0.443463 0\\n363 0.40141 0\\n364 0.42069 0\\n365 0.428673 0\\n366 0.68509 0\\n367 0.432062 0\\n368 0.404592 0\\n369 0.657918 0\\n370 0.414797 0\\n371 0.491247 0\\n372 0.4181 0\\n373 0.403291 0\\n374 0.407935 0\\n375 0.469219 0\\n376 0.449788 0\\n377 0.407792 0\\n378 0.45427 0\\n379 0.404399 0\\n380 0.505009 0\\n381 0.521157 0\\n382 0.509769 0\\n383 0.405269 0\\n384 0.557711 0\\n385 0.413258 0\\n386 0.423141 0\\n387 0.422147 0\\n388 0.464834 0\\n389 0.522014 0\\n390 0.432013 0\\n391 0.417765 0\\n392 0.562727 0\\n393 0.434491 0\\n394 0.439782 0\\n395 0.543698 0\\n396 0.397375 0\\n397 0.471155 0\\n398 0.442543 0\\n399 0.407235 0\\n400 0.42322 0\\n401 0.477155 0\\n402 0.407634 0\\n403 0.53682 0\\n404 0.465481 0\\n405 0.445898 0\\n406 0.404425 0\\n407 0.602882 0\\n408 0.435338 0\\n409 0.414071 0\\n410 0.41082 0\\n411 0.415669 0\\n412 0.436077 0\\n413 0.412577 0\\n414 0.413529 0\\n415 0.404482 0\\n416 0.402152 0\\n417 0.417972 0\\n418 0.413575 0\\n419 0.410525 0\\n420 0.462926 0\\n421 0.470733 0\\n422 0.586686 0\\n423 0.471944 0\\n424 0.417483 0\\n425 0.398783 0\\n426 0.418637 0\\n427 0.623315 0\\n428 0.422105 0\\n429 0.402237 0\\n430 0.439222 0\\n431 0.454444 0\\n432 0.419901 0\\n433 0.394366 0\\n434 0.398672 0\\n435 0.524608 0\\n436 0.546363 0\\n437 0.407646 0\\n438 0.410819 0\\n439 0.410778 0\\n440 0.416533 0\\n441 0.406414 0\\n442 0.429602 0\\n443 0.500446 0\\n444 0.421387 0\\n445 0.395049 0\\n446 0.662938 0\\n447 0.49676 0\\n448 0.532271 0\\n449 0.466124 0\\n450 0.412661 0\\n451 0.417616 0\\n452 0.417989 0\\n453 0.534122 0\\n454 0.502241 0\\n455 0.45934 0\\n456 0.439286 0\\n457 0.419014 0\\n458 0.408274 0\\n459 0.442399 0\\n460 0.42409 0\\n461 0.453008 0\\n462 0.434241 0\\n463 0.425706 0\\n464 0.397739 0\\n465 0.494794 0\\n466 0.433895 0\\n467 0.485586 0\\n468 0.433384 0\\n469 0.415197 0\\n470 0.428194 0\\n471 0.513951 0\\n472 0.466967 0\\n473 0.420676 0\\n474 0.466572 0\\n475 0.405816 0\\n476 0.411724 0\\n477 0.435095 0\\n478 0.423523 0\\n479 0.42635 0\\n480 0.406641 0\\n481 0.46286 0\\n482 0.447456 0\\n483 0.411472 0\\n484 0.416769 0\\n485 0.399282 0\\n486 0.626304 0\\n487 0.454413 0\\n488 0.643144 0\\n489 0.394999 0\\n490 0.425575 0\\n491 0.396725 0\\n492 0.404416 0\\n493 0.41373 0\\n494 0.419901 0\\n495 0.392309 0\\n496 0.408325 0\\n497 0.447309 0\\n498 0.57582 0\\n499 0.393161 0\\n'}"
            ]
          },
          "metadata": {},
          "execution_count": 5
        }
      ]
    },
    {
      "cell_type": "code",
      "source": [
        "data = pd.read_csv(\"SingleBlob_tested_over_SingleBlob.csv\", delimiter=' ')\n",
        "S0 = data['Ascore'].to_numpy()"
      ],
      "metadata": {
        "id": "qiD-vvr3alKh"
      },
      "execution_count": 6,
      "outputs": []
    },
    {
      "cell_type": "markdown",
      "source": [
        "### Visualise scores"
      ],
      "metadata": {
        "id": "v63vzygPuIsC"
      }
    },
    {
      "cell_type": "code",
      "source": [
        "ss0=np.argsort(S0)\n",
        "\n",
        "\n",
        "f = plt.figure(figsize=(12,6))\n",
        "plt.subplot(1,2,1)\n",
        "plt.scatter(x,y,s=15,c='b',edgecolor='b')\n",
        "plt.scatter(x[ss0[-10:]],y[ss0[-10:]],s=55,c='k')\n",
        "plt.scatter(x[ss0[:10]],y[ss0[:10]],s=55,c='r')\n",
        "plt.title('standard')\n",
        "\n",
        "plt.show()"
      ],
      "metadata": {
        "colab": {
          "base_uri": "https://localhost:8080/",
          "height": 390
        },
        "id": "s0ij85A0ucZW",
        "outputId": "3667db5c-8aa4-4f11-f53c-24da39a7e581"
      },
      "execution_count": 7,
      "outputs": [
        {
          "output_type": "display_data",
          "data": {
            "text/plain": [
              "<Figure size 864x432 with 1 Axes>"
            ],
            "image/png": "[encoded data removed]"
          },
          "metadata": {}
        }
      ]
    },
    {
      "cell_type": "code",
      "source": [
        "f = plt.figure(figsize=(12,6))\n",
        "plt.subplot(1,2,1)\n",
        "sb.distplot(S0, kde=True, color=\"b\")\n",
        "plt.title('standard')\n"
      ],
      "metadata": {
        "colab": {
          "base_uri": "https://localhost:8080/",
          "height": 462
        },
        "id": "E0vo-huGbQvy",
        "outputId": "1c257cac-ea4a-49fa-b171-bdedef64c312"
      },
      "execution_count": 8,
      "outputs": [
        {
          "output_type": "stream",
          "name": "stderr",
          "text": [
            "/usr/local/lib/python3.7/dist-packages/seaborn/distributions.py:2619: FutureWarning: `distplot` is a deprecated function and will be removed in a future version. Please adapt your code to use either `displot` (a figure-level function with similar flexibility) or `histplot` (an axes-level function for histograms).\n",
            "  warnings.warn(msg, FutureWarning)\n"
          ]
        },
        {
          "output_type": "execute_result",
          "data": {
            "text/plain": [
              "Text(0.5, 1.0, 'standard')"
            ]
          },
          "metadata": {},
          "execution_count": 8
        },
        {
          "output_type": "display_data",
          "data": {
            "text/plain": [
              "<Figure size 864x432 with 1 Axes>"
            ],
            "image/png": "[encoded data removed]"
          },
          "metadata": {}
        }
      ]
    },
    {
      "cell_type": "markdown",
      "source": [
        "## Score Maps"
      ],
      "metadata": {
        "id": "gb9KqvOTykrF"
      }
    },
    {
      "cell_type": "code",
      "source": [
        "xx, yy = np.meshgrid(np.linspace(-5., 5., 30), np.linspace(-5., 5, 30))\n",
        "X_in=np.c_[xx.ravel(), yy.ravel()]\n",
        "\n",
        "label=np.zeros(900, int)\n",
        "\n",
        "dict={'1':X_in[:, 0], '2':X_in[:, 1], 'label':label}\n",
        "df=pd.DataFrame(dict)\n",
        "\n",
        "df.to_csv('SingleBlob_heatmap.csv', sep='\\t')\n",
        "files.download(\"SingleBlob_heatmap.csv\")\n"
      ],
      "metadata": {
        "colab": {
          "base_uri": "https://localhost:8080/",
          "height": 17
        },
        "id": "NrL2WypDxLBt",
        "outputId": "aad9f577-598c-421f-abb0-c6ac64b8d637"
      },
      "execution_count": 9,
      "outputs": [
        {
          "output_type": "display_data",
          "data": {
            "text/plain": [
              "<IPython.core.display.Javascript object>"
            ],
            "application/javascript": [
              "\n",
              "    async function download(id, filename, size) {\n",
              "      if (!google.colab.kernel.accessAllowed) {\n",
              "        return;\n",
              "      }\n",
              "      const div = document.createElement('div');\n",
              "      const label = document.createElement('label');\n",
              "      label.textContent = `Downloading \"${filename}\": `;\n",
              "      div.appendChild(label);\n",
              "      const progress = document.createElement('progress');\n",
              "      progress.max = size;\n",
              "      div.appendChild(progress);\n",
              "      document.body.appendChild(div);\n",
              "\n",
              "      const buffers = [];\n",
              "      let downloaded = 0;\n",
              "\n",
              "      const channel = await google.colab.kernel.comms.open(id);\n",
              "      // Send a message to notify the kernel that we're ready.\n",
              "      channel.send({})\n",
              "\n",
              "      for await (const message of channel.messages) {\n",
              "        // Send a message to notify the kernel that we're ready.\n",
              "        channel.send({})\n",
              "        if (message.buffers) {\n",
              "          for (const buffer of message.buffers) {\n",
              "            buffers.push(buffer);\n",
              "            downloaded += buffer.byteLength;\n",
              "            progress.value = downloaded;\n",
              "          }\n",
              "        }\n",
              "      }\n",
              "      const blob = new Blob(buffers, {type: 'application/binary'});\n",
              "      const a = document.createElement('a');\n",
              "      a.href = window.URL.createObjectURL(blob);\n",
              "      a.download = filename;\n",
              "      div.appendChild(a);\n",
              "      a.click();\n",
              "      div.remove();\n",
              "    }\n",
              "  "
            ]
          },
          "metadata": {}
        },
        {
          "output_type": "display_data",
          "data": {
            "text/plain": [
              "<IPython.core.display.Javascript object>"
            ],
            "application/javascript": [
              "download(\"download_a03c02ee-3d28-4bbe-aab1-1bcf7b46bdab\", \"SingleBlob_heatmap.csv\", 37941)"
            ]
          },
          "metadata": {}
        }
      ]
    },
    {
      "cell_type": "code",
      "source": [
        "files.upload()\n",
        "\n"
      ],
      "metadata": {
        "colab": {
          "base_uri": "https://localhost:8080/",
          "height": 1000
        },
        "id": "P3VgYWc25viV",
        "outputId": "9bc7e82e-2f36-4c9e-c8b7-442e16dc1fa0"
      },
      "execution_count": 10,
      "outputs": [
        {
          "output_type": "display_data",
          "data": {
            "text/plain": [
              "<IPython.core.display.HTML object>"
            ],
            "text/html": [
              "\n",
              "     <input type=\"file\" id=\"files-b0d04b32-105f-4e0f-a388-1f4de65fdb01\" name=\"files[]\" multiple disabled\n",
              "        style=\"border:none\" />\n",
              "     <output id=\"result-b0d04b32-105f-4e0f-a388-1f4de65fdb01\">\n",
              "      Upload widget is only available when the cell has been executed in the\n",
              "      current browser session. Please rerun this cell to enable.\n",
              "      </output>\n",
              "      <script>// Copyright 2017 Google LLC\n",
              "//\n",
              "// Licensed under the Apache License, Version 2.0 (the \"License\");\n",
              "// you may not use this file except in compliance with the License.\n",
              "// You may obtain a copy of the License at\n",
              "//\n",
              "//      http://www.apache.org/licenses/LICENSE-2.0\n",
              "//\n",
              "// Unless required by applicable law or agreed to in writing, software\n",
              "// distributed under the License is distributed on an \"AS IS\" BASIS,\n",
              "// WITHOUT WARRANTIES OR CONDITIONS OF ANY KIND, either express or implied.\n",
              "// See the License for the specific language governing permissions and\n",
              "// limitations under the License.\n",
              "\n",
              "/**\n",
              " * @fileoverview Helpers for google.colab Python module.\n",
              " */\n",
              "(function(scope) {\n",
              "function span(text, styleAttributes = {}) {\n",
              "  const element = document.createElement('span');\n",
              "  element.textContent = text;\n",
              "  for (const key of Object.keys(styleAttributes)) {\n",
              "    element.style[key] = styleAttributes[key];\n",
              "  }\n",
              "  return element;\n",
              "}\n",
              "\n",
              "// Max number of bytes which will be uploaded at a time.\n",
              "const MAX_PAYLOAD_SIZE = 100 * 1024;\n",
              "\n",
              "function _uploadFiles(inputId, outputId) {\n",
              "  const steps = uploadFilesStep(inputId, outputId);\n",
              "  const outputElement = document.getElementById(outputId);\n",
              "  // Cache steps on the outputElement to make it available for the next call\n",
              "  // to uploadFilesContinue from Python.\n",
              "  outputElement.steps = steps;\n",
              "\n",
              "  return _uploadFilesContinue(outputId);\n",
              "}\n",
              "\n",
              "// This is roughly an async generator (not supported in the browser yet),\n",
              "// where there are multiple asynchronous steps and the Python side is going\n",
              "// to poll for completion of each step.\n",
              "// This uses a Promise to block the python side on completion of each step,\n",
              "// then passes the result of the previous step as the input to the next step.\n",
              "function _uploadFilesContinue(outputId) {\n",
              "  const outputElement = document.getElementById(outputId);\n",
              "  const steps = outputElement.steps;\n",
              "\n",
              "  const next = steps.next(outputElement.lastPromiseValue);\n",
              "  return Promise.resolve(next.value.promise).then((value) => {\n",
              "    // Cache the last promise value to make it available to the next\n",
              "    // step of the generator.\n",
              "    outputElement.lastPromiseValue = value;\n",
              "    return next.value.response;\n",
              "  });\n",
              "}\n",
              "\n",
              "/**\n",
              " * Generator function which is called between each async step of the upload\n",
              " * process.\n",
              " * @param {string} inputId Element ID of the input file picker element.\n",
              " * @param {string} outputId Element ID of the output display.\n",
              " * @return {!Iterable<!Object>} Iterable of next steps.\n",
              " */\n",
              "function* uploadFilesStep(inputId, outputId) {\n",
              "  const inputElement = document.getElementById(inputId);\n",
              "  inputElement.disabled = false;\n",
              "\n",
              "  const outputElement = document.getElementById(outputId);\n",
              "  outputElement.innerHTML = '';\n",
              "\n",
              "  const pickedPromise = new Promise((resolve) => {\n",
              "    inputElement.addEventListener('change', (e) => {\n",
              "      resolve(e.target.files);\n",
              "    });\n",
              "  });\n",
              "\n",
              "  const cancel = document.createElement('button');\n",
              "  inputElement.parentElement.appendChild(cancel);\n",
              "  cancel.textContent = 'Cancel upload';\n",
              "  const cancelPromise = new Promise((resolve) => {\n",
              "    cancel.onclick = () => {\n",
              "      resolve(null);\n",
              "    };\n",
              "  });\n",
              "\n",
              "  // Wait for the user to pick the files.\n",
              "  const files = yield {\n",
              "    promise: Promise.race([pickedPromise, cancelPromise]),\n",
              "    response: {\n",
              "      action: 'starting',\n",
              "    }\n",
              "  };\n",
              "\n",
              "  cancel.remove();\n",
              "\n",
              "  // Disable the input element since further picks are not allowed.\n",
              "  inputElement.disabled = true;\n",
              "\n",
              "  if (!files) {\n",
              "    return {\n",
              "      response: {\n",
              "        action: 'complete',\n",
              "      }\n",
              "    };\n",
              "  }\n",
              "\n",
              "  for (const file of files) {\n",
              "    const li = document.createElement('li');\n",
              "    li.append(span(file.name, {fontWeight: 'bold'}));\n",
              "    li.append(span(\n",
              "        `(${file.type || 'n/a'}) - ${file.size} bytes, ` +\n",
              "        `last modified: ${\n",
              "            file.lastModifiedDate ? file.lastModifiedDate.toLocaleDateString() :\n",
              "                                    'n/a'} - `));\n",
              "    const percent = span('0% done');\n",
              "    li.appendChild(percent);\n",
              "\n",
              "    outputElement.appendChild(li);\n",
              "\n",
              "    const fileDataPromise = new Promise((resolve) => {\n",
              "      const reader = new FileReader();\n",
              "      reader.onload = (e) => {\n",
              "        resolve(e.target.result);\n",
              "      };\n",
              "      reader.readAsArrayBuffer(file);\n",
              "    });\n",
              "    // Wait for the data to be ready.\n",
              "    let fileData = yield {\n",
              "      promise: fileDataPromise,\n",
              "      response: {\n",
              "        action: 'continue',\n",
              "      }\n",
              "    };\n",
              "\n",
              "    // Use a chunked sending to avoid message size limits. See b/62115660.\n",
              "    let position = 0;\n",
              "    do {\n",
              "      const length = Math.min(fileData.byteLength - position, MAX_PAYLOAD_SIZE);\n",
              "      const chunk = new Uint8Array(fileData, position, length);\n",
              "      position += length;\n",
              "\n",
              "      const base64 = btoa(String.fromCharCode.apply(null, chunk));\n",
              "      yield {\n",
              "        response: {\n",
              "          action: 'append',\n",
              "          file: file.name,\n",
              "          data: base64,\n",
              "        },\n",
              "      };\n",
              "\n",
              "      let percentDone = fileData.byteLength === 0 ?\n",
              "          100 :\n",
              "          Math.round((position / fileData.byteLength) * 100);\n",
              "      percent.textContent = `${percentDone}% done`;\n",
              "\n",
              "    } while (position < fileData.byteLength);\n",
              "  }\n",
              "\n",
              "  // All done.\n",
              "  yield {\n",
              "    response: {\n",
              "      action: 'complete',\n",
              "    }\n",
              "  };\n",
              "}\n",
              "\n",
              "scope.google = scope.google || {};\n",
              "scope.google.colab = scope.google.colab || {};\n",
              "scope.google.colab._files = {\n",
              "  _uploadFiles,\n",
              "  _uploadFilesContinue,\n",
              "};\n",
              "})(self);\n",
              "</script> "
            ]
          },
          "metadata": {}
        },
        {
          "output_type": "stream",
          "name": "stdout",
          "text": [
            "Saving SingleBlob_heatmap_tested_over_SingleBlob.csv to SingleBlob_heatmap_tested_over_SingleBlob.csv\n"
          ]
        },
        {
          "output_type": "execute_result",
          "data": {
            "text/plain": [
              "{'SingleBlob_heatmap_tested_over_SingleBlob.csv': b'pointId Ascore actuallabel\\n0 0.759465 0\\n1 0.759465 0\\n2 0.759465 0\\n3 0.759465 0\\n4 0.759465 0\\n5 0.759465 0\\n6 0.750644 0\\n7 0.741069 0\\n8 0.725231 0\\n9 0.711544 0\\n10 0.69834 0\\n11 0.687974 0\\n12 0.67146 0\\n13 0.651281 0\\n14 0.639544 0\\n15 0.638828 0\\n16 0.638765 0\\n17 0.660097 0\\n18 0.675914 0\\n19 0.700767 0\\n20 0.706243 0\\n21 0.722131 0\\n22 0.742778 0\\n23 0.760581 0\\n24 0.776073 0\\n25 0.776562 0\\n26 0.776562 0\\n27 0.776562 0\\n28 0.776562 0\\n29 0.776562 0\\n30 0.759465 0\\n31 0.759465 0\\n32 0.759465 0\\n33 0.759465 0\\n34 0.759465 0\\n35 0.759465 0\\n36 0.750644 0\\n37 0.741069 0\\n38 0.725231 0\\n39 0.711544 0\\n40 0.69834 0\\n41 0.687974 0\\n42 0.67146 0\\n43 0.651281 0\\n44 0.639544 0\\n45 0.638828 0\\n46 0.638765 0\\n47 0.660097 0\\n48 0.675914 0\\n49 0.700767 0\\n50 0.706243 0\\n51 0.722131 0\\n52 0.742778 0\\n53 0.760581 0\\n54 0.776073 0\\n55 0.776562 0\\n56 0.776562 0\\n57 0.776562 0\\n58 0.776562 0\\n59 0.776562 0\\n60 0.759465 0\\n61 0.759465 0\\n62 0.759465 0\\n63 0.759465 0\\n64 0.759465 0\\n65 0.759465 0\\n66 0.750644 0\\n67 0.741069 0\\n68 0.725231 0\\n69 0.711544 0\\n70 0.69834 0\\n71 0.687974 0\\n72 0.67146 0\\n73 0.651281 0\\n74 0.639544 0\\n75 0.638828 0\\n76 0.638765 0\\n77 0.660097 0\\n78 0.675914 0\\n79 0.700767 0\\n80 0.706243 0\\n81 0.722131 0\\n82 0.742778 0\\n83 0.760581 0\\n84 0.776073 0\\n85 0.776562 0\\n86 0.776562 0\\n87 0.776562 0\\n88 0.776562 0\\n89 0.776562 0\\n90 0.759465 0\\n91 0.759465 0\\n92 0.759465 0\\n93 0.759465 0\\n94 0.759465 0\\n95 0.759465 0\\n96 0.750644 0\\n97 0.741069 0\\n98 0.725231 0\\n99 0.711544 0\\n100 0.69834 0\\n101 0.687974 0\\n102 0.67146 0\\n103 0.651281 0\\n104 0.639544 0\\n105 0.638828 0\\n106 0.638765 0\\n107 0.660097 0\\n108 0.675914 0\\n109 0.700767 0\\n110 0.706243 0\\n111 0.722131 0\\n112 0.742778 0\\n113 0.760581 0\\n114 0.776073 0\\n115 0.776562 0\\n116 0.776562 0\\n117 0.776562 0\\n118 0.776562 0\\n119 0.776562 0\\n120 0.759465 0\\n121 0.759465 0\\n122 0.759465 0\\n123 0.759465 0\\n124 0.759465 0\\n125 0.759465 0\\n126 0.750644 0\\n127 0.741069 0\\n128 0.725231 0\\n129 0.711544 0\\n130 0.69834 0\\n131 0.687974 0\\n132 0.67146 0\\n133 0.651281 0\\n134 0.639544 0\\n135 0.638828 0\\n136 0.638765 0\\n137 0.660097 0\\n138 0.675914 0\\n139 0.700767 0\\n140 0.706243 0\\n141 0.722131 0\\n142 0.742778 0\\n143 0.760581 0\\n144 0.776073 0\\n145 0.776562 0\\n146 0.776562 0\\n147 0.776562 0\\n148 0.776562 0\\n149 0.776562 0\\n150 0.759465 0\\n151 0.759465 0\\n152 0.759465 0\\n153 0.759465 0\\n154 0.759465 0\\n155 0.759465 0\\n156 0.750644 0\\n157 0.741069 0\\n158 0.725231 0\\n159 0.711544 0\\n160 0.69834 0\\n161 0.687974 0\\n162 0.67146 0\\n163 0.651281 0\\n164 0.639544 0\\n165 0.638828 0\\n166 0.638765 0\\n167 0.660097 0\\n168 0.675914 0\\n169 0.700767 0\\n170 0.706243 0\\n171 0.722131 0\\n172 0.742778 0\\n173 0.760581 0\\n174 0.776073 0\\n175 0.776562 0\\n176 0.776562 0\\n177 0.776562 0\\n178 0.776562 0\\n179 0.776562 0\\n180 0.759465 0\\n181 0.759465 0\\n182 0.759465 0\\n183 0.759465 0\\n184 0.759465 0\\n185 0.759465 0\\n186 0.750644 0\\n187 0.741069 0\\n188 0.725231 0\\n189 0.711544 0\\n190 0.69834 0\\n191 0.687974 0\\n192 0.67146 0\\n193 0.651281 0\\n194 0.639544 0\\n195 0.638828 0\\n196 0.638765 0\\n197 0.660097 0\\n198 0.675914 0\\n199 0.700767 0\\n200 0.706243 0\\n201 0.722131 0\\n202 0.742778 0\\n203 0.760581 0\\n204 0.776073 0\\n205 0.776562 0\\n206 0.776562 0\\n207 0.776562 0\\n208 0.776562 0\\n209 0.776562 0\\n210 0.746704 0\\n211 0.746704 0\\n212 0.746704 0\\n213 0.746704 0\\n214 0.746704 0\\n215 0.746704 0\\n216 0.738031 0\\n217 0.728158 0\\n218 0.711698 0\\n219 0.697387 0\\n220 0.683153 0\\n221 0.671936 0\\n222 0.652013 0\\n223 0.628174 0\\n224 0.615424 0\\n225 0.618337 0\\n226 0.619674 0\\n227 0.640368 0\\n228 0.656699 0\\n229 0.681937 0\\n230 0.688132 0\\n231 0.708441 0\\n232 0.728697 0\\n233 0.746162 0\\n234 0.761361 0\\n235 0.76184 0\\n236 0.76184 0\\n237 0.76184 0\\n238 0.76184 0\\n239 0.76184 0\\n240 0.741079 0\\n241 0.741079 0\\n242 0.741079 0\\n243 0.741079 0\\n244 0.741079 0\\n245 0.741079 0\\n246 0.732471 0\\n247 0.719332 0\\n248 0.698206 0\\n249 0.677751 0\\n250 0.658218 0\\n251 0.640007 0\\n252 0.618761 0\\n253 0.587555 0\\n254 0.565028 0\\n255 0.555698 0\\n256 0.557885 0\\n257 0.587839 0\\n258 0.608211 0\\n259 0.635327 0\\n260 0.651371 0\\n261 0.679883 0\\n262 0.704738 0\\n263 0.724363 0\\n264 0.743208 0\\n265 0.743677 0\\n266 0.743677 0\\n267 0.743677 0\\n268 0.743677 0\\n269 0.743677 0\\n270 0.728924 0\\n271 0.728924 0\\n272 0.728924 0\\n273 0.728924 0\\n274 0.728924 0\\n275 0.728924 0\\n276 0.719381 0\\n277 0.706032 0\\n278 0.676895 0\\n279 0.652051 0\\n280 0.632921 0\\n281 0.614636 0\\n282 0.58575 0\\n283 0.557358 0\\n284 0.536554 0\\n285 0.519809 0\\n286 0.521075 0\\n287 0.553423 0\\n288 0.576287 0\\n289 0.607854 0\\n290 0.625557 0\\n291 0.659404 0\\n292 0.691887 0\\n293 0.712499 0\\n294 0.730576 0\\n295 0.731036 0\\n296 0.731036 0\\n297 0.731036 0\\n298 0.731036 0\\n299 0.731036 0\\n300 0.706478 0\\n301 0.706478 0\\n302 0.706478 0\\n303 0.706478 0\\n304 0.706478 0\\n305 0.706478 0\\n306 0.697065 0\\n307 0.68053 0\\n308 0.642926 0\\n309 0.616757 0\\n310 0.603173 0\\n311 0.571182 0\\n312 0.53741 0\\n313 0.516073 0\\n314 0.487731 0\\n315 0.480775 0\\n316 0.482452 0\\n317 0.511766 0\\n318 0.533379 0\\n319 0.569218 0\\n320 0.596595 0\\n321 0.630979 0\\n322 0.665317 0\\n323 0.695684 0\\n324 0.720215 0\\n325 0.720669 0\\n326 0.720669 0\\n327 0.720669 0\\n328 0.720669 0\\n329 0.720669 0\\n330 0.687373 0\\n331 0.687373 0\\n332 0.687373 0\\n333 0.687373 0\\n334 0.687373 0\\n335 0.687373 0\\n336 0.674935 0\\n337 0.658925 0\\n338 0.620831 0\\n339 0.58738 0\\n340 0.562142 0\\n341 0.532206 0\\n342 0.483223 0\\n343 0.464225 0\\n344 0.442663 0\\n345 0.437026 0\\n346 0.441918 0\\n347 0.458788 0\\n348 0.480342 0\\n349 0.5222 0\\n350 0.550714 0\\n351 0.607851 0\\n352 0.659551 0\\n353 0.695165 0\\n354 0.720921 0\\n355 0.721375 0\\n356 0.721375 0\\n357 0.721375 0\\n358 0.721375 0\\n359 0.721375 0\\n360 0.659091 0\\n361 0.659091 0\\n362 0.659091 0\\n363 0.659091 0\\n364 0.659091 0\\n365 0.659091 0\\n366 0.646758 0\\n367 0.631416 0\\n368 0.588538 0\\n369 0.552116 0\\n370 0.525384 0\\n371 0.492488 0\\n372 0.44701 0\\n373 0.428997 0\\n374 0.412397 0\\n375 0.414724 0\\n376 0.415197 0\\n377 0.42882 0\\n378 0.451412 0\\n379 0.494925 0\\n380 0.52262 0\\n381 0.586871 0\\n382 0.642142 0\\n383 0.682103 0\\n384 0.708267 0\\n385 0.712181 0\\n386 0.712181 0\\n387 0.712181 0\\n388 0.712181 0\\n389 0.712181 0\\n390 0.654743 0\\n391 0.654743 0\\n392 0.654743 0\\n393 0.654743 0\\n394 0.654743 0\\n395 0.654743 0\\n396 0.639783 0\\n397 0.621915 0\\n398 0.576045 0\\n399 0.528358 0\\n400 0.49982 0\\n401 0.47031 0\\n402 0.432002 0\\n403 0.418252 0\\n404 0.402704 0\\n405 0.405468 0\\n406 0.404501 0\\n407 0.412867 0\\n408 0.438066 0\\n409 0.478239 0\\n410 0.513202 0\\n411 0.574419 0\\n412 0.634584 0\\n413 0.675064 0\\n414 0.70293 0\\n415 0.706814 0\\n416 0.706814 0\\n417 0.706814 0\\n418 0.706814 0\\n419 0.706814 0\\n420 0.650569 0\\n421 0.650569 0\\n422 0.650569 0\\n423 0.650569 0\\n424 0.650569 0\\n425 0.650569 0\\n426 0.634128 0\\n427 0.61342 0\\n428 0.561624 0\\n429 0.510217 0\\n430 0.482015 0\\n431 0.447304 0\\n432 0.42064 0\\n433 0.408175 0\\n434 0.395638 0\\n435 0.397562 0\\n436 0.397652 0\\n437 0.409599 0\\n438 0.436096 0\\n439 0.481632 0\\n440 0.516426 0\\n441 0.563775 0\\n442 0.633279 0\\n443 0.675794 0\\n444 0.702804 0\\n445 0.706688 0\\n446 0.706688 0\\n447 0.706688 0\\n448 0.706688 0\\n449 0.706688 0\\n450 0.669549 0\\n451 0.669549 0\\n452 0.669549 0\\n453 0.669549 0\\n454 0.669549 0\\n455 0.669549 0\\n456 0.652406 0\\n457 0.630025 0\\n458 0.572731 0\\n459 0.509767 0\\n460 0.469423 0\\n461 0.439474 0\\n462 0.418601 0\\n463 0.404736 0\\n464 0.39791 0\\n465 0.401557 0\\n466 0.406067 0\\n467 0.414856 0\\n468 0.439705 0\\n469 0.474109 0\\n470 0.521904 0\\n471 0.573287 0\\n472 0.645895 0\\n473 0.682552 0\\n474 0.705946 0\\n475 0.706391 0\\n476 0.706391 0\\n477 0.706391 0\\n478 0.706391 0\\n479 0.706391 0\\n480 0.682075 0\\n481 0.682075 0\\n482 0.682075 0\\n483 0.682075 0\\n484 0.682075 0\\n485 0.682075 0\\n486 0.664612 0\\n487 0.638578 0\\n488 0.58471 0\\n489 0.516522 0\\n490 0.47962 0\\n491 0.448024 0\\n492 0.425204 0\\n493 0.410811 0\\n494 0.402358 0\\n495 0.409175 0\\n496 0.415509 0\\n497 0.424011 0\\n498 0.448537 0\\n499 0.47789 0\\n500 0.519609 0\\n501 0.574891 0\\n502 0.642298 0\\n503 0.681267 0\\n504 0.708191 0\\n505 0.708637 0\\n506 0.708637 0\\n507 0.708637 0\\n508 0.708637 0\\n509 0.708637 0\\n510 0.686364 0\\n511 0.686364 0\\n512 0.686364 0\\n513 0.686364 0\\n514 0.686364 0\\n515 0.686364 0\\n516 0.672274 0\\n517 0.644412 0\\n518 0.603919 0\\n519 0.538747 0\\n520 0.485676 0\\n521 0.456798 0\\n522 0.431285 0\\n523 0.420122 0\\n524 0.410455 0\\n525 0.410816 0\\n526 0.413463 0\\n527 0.430676 0\\n528 0.456645 0\\n529 0.494904 0\\n530 0.533181 0\\n531 0.582602 0\\n532 0.650957 0\\n533 0.696101 0\\n534 0.72291 0\\n535 0.723365 0\\n536 0.723365 0\\n537 0.723365 0\\n538 0.723365 0\\n539 0.723365 0\\n540 0.697662 0\\n541 0.697662 0\\n542 0.697662 0\\n543 0.697662 0\\n544 0.697662 0\\n545 0.697662 0\\n546 0.684946 0\\n547 0.660555 0\\n548 0.626528 0\\n549 0.565929 0\\n550 0.51353 0\\n551 0.482634 0\\n552 0.457005 0\\n553 0.437158 0\\n554 0.429833 0\\n555 0.433478 0\\n556 0.432955 0\\n557 0.449713 0\\n558 0.476115 0\\n559 0.511584 0\\n560 0.554692 0\\n561 0.601359 0\\n562 0.67053 0\\n563 0.709331 0\\n564 0.736033 0\\n565 0.736497 0\\n566 0.736497 0\\n567 0.736497 0\\n568 0.736497 0\\n569 0.736497 0\\n570 0.714764 0\\n571 0.714764 0\\n572 0.714764 0\\n573 0.714764 0\\n574 0.714764 0\\n575 0.714764 0\\n576 0.703748 0\\n577 0.682251 0\\n578 0.649935 0\\n579 0.594076 0\\n580 0.553893 0\\n581 0.52284 0\\n582 0.501344 0\\n583 0.475612 0\\n584 0.467994 0\\n585 0.474075 0\\n586 0.470198 0\\n587 0.493193 0\\n588 0.523465 0\\n589 0.550445 0\\n590 0.594405 0\\n591 0.634559 0\\n592 0.693496 0\\n593 0.723169 0\\n594 0.748098 0\\n595 0.749514 0\\n596 0.749514 0\\n597 0.749514 0\\n598 0.749514 0\\n599 0.749514 0\\n600 0.731206 0\\n601 0.731206 0\\n602 0.731206 0\\n603 0.731206 0\\n604 0.731206 0\\n605 0.731206 0\\n606 0.721753 0\\n607 0.701154 0\\n608 0.669457 0\\n609 0.620703 0\\n610 0.583949 0\\n611 0.551036 0\\n612 0.533463 0\\n613 0.516481 0\\n614 0.510587 0\\n615 0.515731 0\\n616 0.521888 0\\n617 0.541483 0\\n618 0.569759 0\\n619 0.594696 0\\n620 0.634017 0\\n621 0.66321 0\\n622 0.706228 0\\n623 0.729969 0\\n624 0.750717 0\\n625 0.75356 0\\n626 0.75356 0\\n627 0.75356 0\\n628 0.75356 0\\n629 0.75356 0\\n630 0.745106 0\\n631 0.745106 0\\n632 0.745106 0\\n633 0.745106 0\\n634 0.745106 0\\n635 0.745106 0\\n636 0.742294 0\\n637 0.727968 0\\n638 0.70414 0\\n639 0.663339 0\\n640 0.631068 0\\n641 0.605716 0\\n642 0.594418 0\\n643 0.57086 0\\n644 0.567196 0\\n645 0.573678 0\\n646 0.581859 0\\n647 0.590585 0\\n648 0.613139 0\\n649 0.631699 0\\n650 0.664265 0\\n651 0.681327 0\\n652 0.721533 0\\n653 0.742332 0\\n654 0.76077 0\\n655 0.763652 0\\n656 0.763652 0\\n657 0.763652 0\\n658 0.763652 0\\n659 0.763652 0\\n660 0.749982 0\\n661 0.749982 0\\n662 0.749982 0\\n663 0.749982 0\\n664 0.749982 0\\n665 0.749982 0\\n666 0.747152 0\\n667 0.732732 0\\n668 0.708748 0\\n669 0.67242 0\\n670 0.649966 0\\n671 0.631625 0\\n672 0.618992 0\\n673 0.595487 0\\n674 0.594701 0\\n675 0.590255 0\\n676 0.604962 0\\n677 0.607288 0\\n678 0.622866 0\\n679 0.64172 0\\n680 0.673215 0\\n681 0.691378 0\\n682 0.729552 0\\n683 0.750583 0\\n684 0.767773 0\\n685 0.770681 0\\n686 0.770681 0\\n687 0.770681 0\\n688 0.770681 0\\n689 0.770681 0\\n690 0.755199 0\\n691 0.755199 0\\n692 0.755199 0\\n693 0.755199 0\\n694 0.755199 0\\n695 0.755199 0\\n696 0.753772 0\\n697 0.739225 0\\n698 0.715479 0\\n699 0.682968 0\\n700 0.66143 0\\n701 0.642493 0\\n702 0.630094 0\\n703 0.608573 0\\n704 0.608692 0\\n705 0.604141 0\\n706 0.616262 0\\n707 0.619803 0\\n708 0.637054 0\\n709 0.656016 0\\n710 0.685495 0\\n711 0.700753 0\\n712 0.739445 0\\n713 0.76076 0\\n714 0.778183 0\\n715 0.781131 0\\n716 0.781131 0\\n717 0.781131 0\\n718 0.781131 0\\n719 0.781131 0\\n720 0.767673 0\\n721 0.767673 0\\n722 0.767673 0\\n723 0.767673 0\\n724 0.767673 0\\n725 0.767673 0\\n726 0.766224 0\\n727 0.751436 0\\n728 0.730073 0\\n729 0.698217 0\\n730 0.68329 0\\n731 0.663726 0\\n732 0.650098 0\\n733 0.626342 0\\n734 0.627939 0\\n735 0.622809 0\\n736 0.634105 0\\n737 0.63815 0\\n738 0.653849 0\\n739 0.670933 0\\n740 0.696637 0\\n741 0.712143 0\\n742 0.746937 0\\n743 0.768953 0\\n744 0.786564 0\\n745 0.789544 0\\n746 0.789544 0\\n747 0.789544 0\\n748 0.789544 0\\n749 0.789544 0\\n750 0.779601 0\\n751 0.779601 0\\n752 0.779601 0\\n753 0.779601 0\\n754 0.779601 0\\n755 0.779601 0\\n756 0.778129 0\\n757 0.766968 0\\n758 0.748241 0\\n759 0.717419 0\\n760 0.706829 0\\n761 0.689138 0\\n762 0.673713 0\\n763 0.649503 0\\n764 0.650749 0\\n765 0.6481 0\\n766 0.653008 0\\n767 0.65695 0\\n768 0.668381 0\\n769 0.685845 0\\n770 0.706727 0\\n771 0.721548 0\\n772 0.752133 0\\n773 0.774302 0\\n774 0.789544 0\\n775 0.792534 0\\n776 0.792534 0\\n777 0.792534 0\\n778 0.792534 0\\n779 0.792534 0\\n780 0.787501 0\\n781 0.787501 0\\n782 0.787501 0\\n783 0.787501 0\\n784 0.787501 0\\n785 0.787501 0\\n786 0.786014 0\\n787 0.776659 0\\n788 0.76189 0\\n789 0.734935 0\\n790 0.724543 0\\n791 0.706409 0\\n792 0.688891 0\\n793 0.664135 0\\n794 0.66499 0\\n795 0.6602 0\\n796 0.663927 0\\n797 0.668355 0\\n798 0.679556 0\\n799 0.694601 0\\n800 0.712334 0\\n801 0.727272 0\\n802 0.755934 0\\n803 0.778215 0\\n804 0.793534 0\\n805 0.79654 0\\n806 0.79654 0\\n807 0.79654 0\\n808 0.79654 0\\n809 0.79654 0\\n810 0.787501 0\\n811 0.787501 0\\n812 0.787501 0\\n813 0.787501 0\\n814 0.787501 0\\n815 0.787501 0\\n816 0.786014 0\\n817 0.776659 0\\n818 0.76189 0\\n819 0.734935 0\\n820 0.724543 0\\n821 0.706409 0\\n822 0.688891 0\\n823 0.664135 0\\n824 0.66499 0\\n825 0.6602 0\\n826 0.663927 0\\n827 0.668355 0\\n828 0.679556 0\\n829 0.694601 0\\n830 0.712334 0\\n831 0.727272 0\\n832 0.755934 0\\n833 0.778215 0\\n834 0.793534 0\\n835 0.79654 0\\n836 0.79654 0\\n837 0.79654 0\\n838 0.79654 0\\n839 0.79654 0\\n840 0.787501 0\\n841 0.787501 0\\n842 0.787501 0\\n843 0.787501 0\\n844 0.787501 0\\n845 0.787501 0\\n846 0.786014 0\\n847 0.776659 0\\n848 0.76189 0\\n849 0.734935 0\\n850 0.724543 0\\n851 0.706409 0\\n852 0.688891 0\\n853 0.664135 0\\n854 0.66499 0\\n855 0.6602 0\\n856 0.663927 0\\n857 0.668355 0\\n858 0.679556 0\\n859 0.694601 0\\n860 0.712334 0\\n861 0.727272 0\\n862 0.755934 0\\n863 0.778215 0\\n864 0.793534 0\\n865 0.79654 0\\n866 0.79654 0\\n867 0.79654 0\\n868 0.79654 0\\n869 0.79654 0\\n870 0.787501 0\\n871 0.787501 0\\n872 0.787501 0\\n873 0.787501 0\\n874 0.787501 0\\n875 0.787501 0\\n876 0.786014 0\\n877 0.776659 0\\n878 0.76189 0\\n879 0.734935 0\\n880 0.724543 0\\n881 0.706409 0\\n882 0.688891 0\\n883 0.664135 0\\n884 0.66499 0\\n885 0.6602 0\\n886 0.663927 0\\n887 0.668355 0\\n888 0.679556 0\\n889 0.694601 0\\n890 0.712334 0\\n891 0.727272 0\\n892 0.755934 0\\n893 0.778215 0\\n894 0.793534 0\\n895 0.79654 0\\n896 0.79654 0\\n897 0.79654 0\\n898 0.79654 0\\n899 0.79654 0\\n'}"
            ]
          },
          "metadata": {},
          "execution_count": 10
        }
      ]
    },
    {
      "cell_type": "code",
      "source": [
        "data = pd.read_csv(\"SingleBlob_heatmap_tested_over_SingleBlob.csv\", delimiter=' ')\n",
        "S0 = data['Ascore'].to_numpy()\n",
        "S0 = S0.reshape(xx.shape)"
      ],
      "metadata": {
        "id": "UIX_nHUob7tf"
      },
      "execution_count": 11,
      "outputs": []
    },
    {
      "cell_type": "code",
      "source": [
        "f = plt.figure(figsize=(12,6))\n",
        "\n",
        "ax1 = f.add_subplot(121)\n",
        "levels = np.linspace(np.min(S0),np.max(S0),10)\n",
        "CS = ax1.contourf(xx, yy, S0, levels, cmap=plt.cm.YlOrRd)\n",
        "plt.scatter(x,y,s=15,c='None',edgecolor='k')\n",
        "plt.axis(\"equal\")\n",
        "\n",
        "plt.show()"
      ],
      "metadata": {
        "colab": {
          "base_uri": "https://localhost:8080/",
          "height": 374
        },
        "id": "yFAlI7a4cF2I",
        "outputId": "139223a5-fda7-4b02-d4cf-d0dbf595f182"
      },
      "execution_count": 12,
      "outputs": [
        {
          "output_type": "display_data",
          "data": {
            "text/plain": [
              "<Figure size 864x432 with 1 Axes>"
            ],
            "image/png": "[encoded data removed]"
          },
          "metadata": {}
        }
      ]
    },
    {
      "cell_type": "markdown",
      "source": [
        "# Multiple Blobs"
      ],
      "metadata": {
        "id": "cBz-G49b06cZ"
      }
    },
    {
      "cell_type": "markdown",
      "source": [
        "## Data Preparation"
      ],
      "metadata": {
        "id": "U8LqrDfq1BEq"
      }
    },
    {
      "cell_type": "markdown",
      "source": [
        "### Data Generation"
      ],
      "metadata": {
        "id": "Tj4WiIl61Irq"
      }
    },
    {
      "cell_type": "code",
      "source": [
        "mean1 = [10, 0]\n",
        "cov1 = [[1, 0], [0, 1]]  \n",
        "\n",
        "mean2 = [0, 10]\n",
        "cov2 = [[1, 0], [0, 1]]\n",
        "\n",
        "Nobjs = 500          # Size of dataset.\n",
        "np.random.seed(1)    # Add this for repeatablilty of the experiment. \n",
        "\n",
        "x1, y1 = np.random.multivariate_normal(mean1, cov1, int(Nobjs/2)).T\n",
        "x2, y2 = np.random.multivariate_normal(mean2, cov2, int(Nobjs/2)).T\n",
        "\n",
        "# join the two clusters so as to make one dataset. \n",
        "x = np.concatenate((x1,x2))\n",
        "y = np.concatenate((y1,y2))\n",
        "X=np.array([x,y]).T"
      ],
      "metadata": {
        "id": "X3oghqTu0_Qy"
      },
      "execution_count": 13,
      "outputs": []
    },
    {
      "cell_type": "markdown",
      "source": [
        "### Data Visualisation"
      ],
      "metadata": {
        "id": "vJeeaHu81Vac"
      }
    },
    {
      "cell_type": "code",
      "source": [
        "fig=plt.figure(figsize=(6,6))\n",
        "fig.add_subplot(111)\n",
        "plt.plot(X[:,0],X[:,1],'o', color=[0.5,0.5,0.5])\n",
        "plt.grid(\"off\")\n",
        "plt.axis(\"equal\")\n",
        "\n",
        "plt.xlim([-5,15])\n",
        "plt.ylim([-5,15])\n",
        "plt.tick_params(direction='out', length=6, width=2, colors='k',labelsize=30)\n",
        "\n",
        "plt.show()"
      ],
      "metadata": {
        "colab": {
          "base_uri": "https://localhost:8080/",
          "height": 396
        },
        "id": "-21nXCuD1Y3C",
        "outputId": "1f3c1ea8-7e0e-41c5-b5ff-f5ee9bf8ed21"
      },
      "execution_count": 14,
      "outputs": [
        {
          "output_type": "display_data",
          "data": {
            "text/plain": [
              "<Figure size 432x432 with 1 Axes>"
            ],
            "image/png": "[encoded data removed]"
          },
          "metadata": {}
        }
      ]
    },
    {
      "cell_type": "markdown",
      "source": [
        "### Save in csv\n"
      ],
      "metadata": {
        "id": "Iv_nHgro1oWL"
      }
    },
    {
      "cell_type": "code",
      "source": [
        "label=np.zeros(500, int)\n",
        "label[0]=1\n",
        "\n",
        "dict={'1':x, '2':y, 'label':label}\n",
        "df=pd.DataFrame(dict)\n",
        "\n",
        "df.to_csv('MultipleBlob.csv', sep='\\t')\n",
        "files.download(\"MultipleBlob.csv\")"
      ],
      "metadata": {
        "colab": {
          "base_uri": "https://localhost:8080/",
          "height": 17
        },
        "id": "xdO-C8PY1scL",
        "outputId": "e931e9bb-b149-4378-9f64-33b6c0591c91"
      },
      "execution_count": 15,
      "outputs": [
        {
          "output_type": "display_data",
          "data": {
            "text/plain": [
              "<IPython.core.display.Javascript object>"
            ],
            "application/javascript": [
              "\n",
              "    async function download(id, filename, size) {\n",
              "      if (!google.colab.kernel.accessAllowed) {\n",
              "        return;\n",
              "      }\n",
              "      const div = document.createElement('div');\n",
              "      const label = document.createElement('label');\n",
              "      label.textContent = `Downloading \"${filename}\": `;\n",
              "      div.appendChild(label);\n",
              "      const progress = document.createElement('progress');\n",
              "      progress.max = size;\n",
              "      div.appendChild(progress);\n",
              "      document.body.appendChild(div);\n",
              "\n",
              "      const buffers = [];\n",
              "      let downloaded = 0;\n",
              "\n",
              "      const channel = await google.colab.kernel.comms.open(id);\n",
              "      // Send a message to notify the kernel that we're ready.\n",
              "      channel.send({})\n",
              "\n",
              "      for await (const message of channel.messages) {\n",
              "        // Send a message to notify the kernel that we're ready.\n",
              "        channel.send({})\n",
              "        if (message.buffers) {\n",
              "          for (const buffer of message.buffers) {\n",
              "            buffers.push(buffer);\n",
              "            downloaded += buffer.byteLength;\n",
              "            progress.value = downloaded;\n",
              "          }\n",
              "        }\n",
              "      }\n",
              "      const blob = new Blob(buffers, {type: 'application/binary'});\n",
              "      const a = document.createElement('a');\n",
              "      a.href = window.URL.createObjectURL(blob);\n",
              "      a.download = filename;\n",
              "      div.appendChild(a);\n",
              "      a.click();\n",
              "      div.remove();\n",
              "    }\n",
              "  "
            ]
          },
          "metadata": {}
        },
        {
          "output_type": "display_data",
          "data": {
            "text/plain": [
              "<IPython.core.display.Javascript object>"
            ],
            "application/javascript": [
              "download(\"download_675ee462-fcb1-46b4-b9bc-98d71187a0a4\", \"MultipleBlob.csv\", 21876)"
            ]
          },
          "metadata": {}
        }
      ]
    },
    {
      "cell_type": "markdown",
      "source": [
        "## Train iForest on Data"
      ],
      "metadata": {
        "id": "LYjAQ9e518Er"
      }
    },
    {
      "cell_type": "markdown",
      "source": [
        "This part is done on local machine"
      ],
      "metadata": {
        "id": "chSXlQu82Dbs"
      }
    },
    {
      "cell_type": "markdown",
      "source": [
        "## Obtain Anomaly Scores"
      ],
      "metadata": {
        "id": "9iskL-5t2KDM"
      }
    },
    {
      "cell_type": "code",
      "source": [
        "files.upload()"
      ],
      "metadata": {
        "colab": {
          "base_uri": "https://localhost:8080/",
          "height": 1000
        },
        "id": "LkOZFAaD2PYE",
        "outputId": "fbfa2881-9506-4038-dad5-eede2a383597"
      },
      "execution_count": 16,
      "outputs": [
        {
          "output_type": "display_data",
          "data": {
            "text/plain": [
              "<IPython.core.display.HTML object>"
            ],
            "text/html": [
              "\n",
              "     <input type=\"file\" id=\"files-732aa911-b591-485d-a935-645185df82c7\" name=\"files[]\" multiple disabled\n",
              "        style=\"border:none\" />\n",
              "     <output id=\"result-732aa911-b591-485d-a935-645185df82c7\">\n",
              "      Upload widget is only available when the cell has been executed in the\n",
              "      current browser session. Please rerun this cell to enable.\n",
              "      </output>\n",
              "      <script>// Copyright 2017 Google LLC\n",
              "//\n",
              "// Licensed under the Apache License, Version 2.0 (the \"License\");\n",
              "// you may not use this file except in compliance with the License.\n",
              "// You may obtain a copy of the License at\n",
              "//\n",
              "//      http://www.apache.org/licenses/LICENSE-2.0\n",
              "//\n",
              "// Unless required by applicable law or agreed to in writing, software\n",
              "// distributed under the License is distributed on an \"AS IS\" BASIS,\n",
              "// WITHOUT WARRANTIES OR CONDITIONS OF ANY KIND, either express or implied.\n",
              "// See the License for the specific language governing permissions and\n",
              "// limitations under the License.\n",
              "\n",
              "/**\n",
              " * @fileoverview Helpers for google.colab Python module.\n",
              " */\n",
              "(function(scope) {\n",
              "function span(text, styleAttributes = {}) {\n",
              "  const element = document.createElement('span');\n",
              "  element.textContent = text;\n",
              "  for (const key of Object.keys(styleAttributes)) {\n",
              "    element.style[key] = styleAttributes[key];\n",
              "  }\n",
              "  return element;\n",
              "}\n",
              "\n",
              "// Max number of bytes which will be uploaded at a time.\n",
              "const MAX_PAYLOAD_SIZE = 100 * 1024;\n",
              "\n",
              "function _uploadFiles(inputId, outputId) {\n",
              "  const steps = uploadFilesStep(inputId, outputId);\n",
              "  const outputElement = document.getElementById(outputId);\n",
              "  // Cache steps on the outputElement to make it available for the next call\n",
              "  // to uploadFilesContinue from Python.\n",
              "  outputElement.steps = steps;\n",
              "\n",
              "  return _uploadFilesContinue(outputId);\n",
              "}\n",
              "\n",
              "// This is roughly an async generator (not supported in the browser yet),\n",
              "// where there are multiple asynchronous steps and the Python side is going\n",
              "// to poll for completion of each step.\n",
              "// This uses a Promise to block the python side on completion of each step,\n",
              "// then passes the result of the previous step as the input to the next step.\n",
              "function _uploadFilesContinue(outputId) {\n",
              "  const outputElement = document.getElementById(outputId);\n",
              "  const steps = outputElement.steps;\n",
              "\n",
              "  const next = steps.next(outputElement.lastPromiseValue);\n",
              "  return Promise.resolve(next.value.promise).then((value) => {\n",
              "    // Cache the last promise value to make it available to the next\n",
              "    // step of the generator.\n",
              "    outputElement.lastPromiseValue = value;\n",
              "    return next.value.response;\n",
              "  });\n",
              "}\n",
              "\n",
              "/**\n",
              " * Generator function which is called between each async step of the upload\n",
              " * process.\n",
              " * @param {string} inputId Element ID of the input file picker element.\n",
              " * @param {string} outputId Element ID of the output display.\n",
              " * @return {!Iterable<!Object>} Iterable of next steps.\n",
              " */\n",
              "function* uploadFilesStep(inputId, outputId) {\n",
              "  const inputElement = document.getElementById(inputId);\n",
              "  inputElement.disabled = false;\n",
              "\n",
              "  const outputElement = document.getElementById(outputId);\n",
              "  outputElement.innerHTML = '';\n",
              "\n",
              "  const pickedPromise = new Promise((resolve) => {\n",
              "    inputElement.addEventListener('change', (e) => {\n",
              "      resolve(e.target.files);\n",
              "    });\n",
              "  });\n",
              "\n",
              "  const cancel = document.createElement('button');\n",
              "  inputElement.parentElement.appendChild(cancel);\n",
              "  cancel.textContent = 'Cancel upload';\n",
              "  const cancelPromise = new Promise((resolve) => {\n",
              "    cancel.onclick = () => {\n",
              "      resolve(null);\n",
              "    };\n",
              "  });\n",
              "\n",
              "  // Wait for the user to pick the files.\n",
              "  const files = yield {\n",
              "    promise: Promise.race([pickedPromise, cancelPromise]),\n",
              "    response: {\n",
              "      action: 'starting',\n",
              "    }\n",
              "  };\n",
              "\n",
              "  cancel.remove();\n",
              "\n",
              "  // Disable the input element since further picks are not allowed.\n",
              "  inputElement.disabled = true;\n",
              "\n",
              "  if (!files) {\n",
              "    return {\n",
              "      response: {\n",
              "        action: 'complete',\n",
              "      }\n",
              "    };\n",
              "  }\n",
              "\n",
              "  for (const file of files) {\n",
              "    const li = document.createElement('li');\n",
              "    li.append(span(file.name, {fontWeight: 'bold'}));\n",
              "    li.append(span(\n",
              "        `(${file.type || 'n/a'}) - ${file.size} bytes, ` +\n",
              "        `last modified: ${\n",
              "            file.lastModifiedDate ? file.lastModifiedDate.toLocaleDateString() :\n",
              "                                    'n/a'} - `));\n",
              "    const percent = span('0% done');\n",
              "    li.appendChild(percent);\n",
              "\n",
              "    outputElement.appendChild(li);\n",
              "\n",
              "    const fileDataPromise = new Promise((resolve) => {\n",
              "      const reader = new FileReader();\n",
              "      reader.onload = (e) => {\n",
              "        resolve(e.target.result);\n",
              "      };\n",
              "      reader.readAsArrayBuffer(file);\n",
              "    });\n",
              "    // Wait for the data to be ready.\n",
              "    let fileData = yield {\n",
              "      promise: fileDataPromise,\n",
              "      response: {\n",
              "        action: 'continue',\n",
              "      }\n",
              "    };\n",
              "\n",
              "    // Use a chunked sending to avoid message size limits. See b/62115660.\n",
              "    let position = 0;\n",
              "    do {\n",
              "      const length = Math.min(fileData.byteLength - position, MAX_PAYLOAD_SIZE);\n",
              "      const chunk = new Uint8Array(fileData, position, length);\n",
              "      position += length;\n",
              "\n",
              "      const base64 = btoa(String.fromCharCode.apply(null, chunk));\n",
              "      yield {\n",
              "        response: {\n",
              "          action: 'append',\n",
              "          file: file.name,\n",
              "          data: base64,\n",
              "        },\n",
              "      };\n",
              "\n",
              "      let percentDone = fileData.byteLength === 0 ?\n",
              "          100 :\n",
              "          Math.round((position / fileData.byteLength) * 100);\n",
              "      percent.textContent = `${percentDone}% done`;\n",
              "\n",
              "    } while (position < fileData.byteLength);\n",
              "  }\n",
              "\n",
              "  // All done.\n",
              "  yield {\n",
              "    response: {\n",
              "      action: 'complete',\n",
              "    }\n",
              "  };\n",
              "}\n",
              "\n",
              "scope.google = scope.google || {};\n",
              "scope.google.colab = scope.google.colab || {};\n",
              "scope.google.colab._files = {\n",
              "  _uploadFiles,\n",
              "  _uploadFilesContinue,\n",
              "};\n",
              "})(self);\n",
              "</script> "
            ]
          },
          "metadata": {}
        },
        {
          "output_type": "stream",
          "name": "stdout",
          "text": [
            "Saving MultipleBlob_tested_over_MultipleBlob.csv to MultipleBlob_tested_over_MultipleBlob.csv\n"
          ]
        },
        {
          "output_type": "execute_result",
          "data": {
            "text/plain": [
              "{'MultipleBlob_tested_over_MultipleBlob.csv': b'pointId Ascore actuallabel\\n0 0.524585 1\\n1 0.468368 0\\n2 0.6017 0\\n3 0.545433 0\\n4 0.422166 0\\n5 0.624877 0\\n6 0.416618 0\\n7 0.518599 0\\n8 0.4313 0\\n9 0.430107 0\\n10 0.484994 0\\n11 0.447433 0\\n12 0.457524 0\\n13 0.437341 0\\n14 0.420148 0\\n15 0.442037 0\\n16 0.456971 0\\n17 0.444583 0\\n18 0.4652 0\\n19 0.526995 0\\n20 0.433981 0\\n21 0.508419 0\\n22 0.420429 0\\n23 0.535613 0\\n24 0.423034 0\\n25 0.417705 0\\n26 0.472495 0\\n27 0.427994 0\\n28 0.459709 0\\n29 0.437436 0\\n30 0.474283 0\\n31 0.425571 0\\n32 0.423737 0\\n33 0.52718 0\\n34 0.622007 0\\n35 0.509308 0\\n36 0.434235 0\\n37 0.558237 0\\n38 0.426894 0\\n39 0.429072 0\\n40 0.416044 0\\n41 0.424216 0\\n42 0.419449 0\\n43 0.444079 0\\n44 0.445128 0\\n45 0.466021 0\\n46 0.423748 0\\n47 0.423739 0\\n48 0.420834 0\\n49 0.437727 0\\n50 0.453951 0\\n51 0.430957 0\\n52 0.465545 0\\n53 0.480309 0\\n54 0.415867 0\\n55 0.49376 0\\n56 0.46886 0\\n57 0.492804 0\\n58 0.516644 0\\n59 0.461298 0\\n60 0.42841 0\\n61 0.591331 0\\n62 0.561804 0\\n63 0.512053 0\\n64 0.476905 0\\n65 0.41836 0\\n66 0.478481 0\\n67 0.452788 0\\n68 0.474323 0\\n69 0.440824 0\\n70 0.413587 0\\n71 0.455635 0\\n72 0.422472 0\\n73 0.422884 0\\n74 0.426854 0\\n75 0.604786 0\\n76 0.593268 0\\n77 0.42497 0\\n78 0.414823 0\\n79 0.454556 0\\n80 0.458275 0\\n81 0.419417 0\\n82 0.423541 0\\n83 0.456181 0\\n84 0.671337 0\\n85 0.44108 0\\n86 0.604401 0\\n87 0.416057 0\\n88 0.491122 0\\n89 0.44023 0\\n90 0.481388 0\\n91 0.457574 0\\n92 0.417538 0\\n93 0.429299 0\\n94 0.418413 0\\n95 0.461546 0\\n96 0.565862 0\\n97 0.536524 0\\n98 0.431397 0\\n99 0.466064 0\\n100 0.426994 0\\n101 0.508317 0\\n102 0.58959 0\\n103 0.538586 0\\n104 0.535127 0\\n105 0.496292 0\\n106 0.472341 0\\n107 0.483576 0\\n108 0.432228 0\\n109 0.49362 0\\n110 0.514219 0\\n111 0.50398 0\\n112 0.588381 0\\n113 0.437974 0\\n114 0.445715 0\\n115 0.423119 0\\n116 0.519449 0\\n117 0.474003 0\\n118 0.486954 0\\n119 0.514056 0\\n120 0.426077 0\\n121 0.504092 0\\n122 0.453875 0\\n123 0.432228 0\\n124 0.588929 0\\n125 0.419358 0\\n126 0.651297 0\\n127 0.460781 0\\n128 0.55528 0\\n129 0.428607 0\\n130 0.505479 0\\n131 0.442817 0\\n132 0.454271 0\\n133 0.419385 0\\n134 0.425945 0\\n135 0.510141 0\\n136 0.449942 0\\n137 0.47311 0\\n138 0.530045 0\\n139 0.46411 0\\n140 0.450549 0\\n141 0.438062 0\\n142 0.421423 0\\n143 0.423733 0\\n144 0.470242 0\\n145 0.415213 0\\n146 0.434488 0\\n147 0.416564 0\\n148 0.433764 0\\n149 0.457854 0\\n150 0.61618 0\\n151 0.468244 0\\n152 0.482806 0\\n153 0.425773 0\\n154 0.437833 0\\n155 0.459796 0\\n156 0.508629 0\\n157 0.627603 0\\n158 0.431698 0\\n159 0.46063 0\\n160 0.424211 0\\n161 0.429267 0\\n162 0.446279 0\\n163 0.468092 0\\n164 0.439431 0\\n165 0.442316 0\\n166 0.462315 0\\n167 0.509429 0\\n168 0.634497 0\\n169 0.670358 0\\n170 0.454007 0\\n171 0.428419 0\\n172 0.413642 0\\n173 0.414998 0\\n174 0.47229 0\\n175 0.476132 0\\n176 0.424516 0\\n177 0.449192 0\\n178 0.415833 0\\n179 0.429833 0\\n180 0.444327 0\\n181 0.540427 0\\n182 0.424286 0\\n183 0.635518 0\\n184 0.430593 0\\n185 0.423503 0\\n186 0.448631 0\\n187 0.532806 0\\n188 0.575804 0\\n189 0.525321 0\\n190 0.442681 0\\n191 0.515221 0\\n192 0.432871 0\\n193 0.414835 0\\n194 0.463969 0\\n195 0.55914 0\\n196 0.430573 0\\n197 0.463907 0\\n198 0.545613 0\\n199 0.536013 0\\n200 0.487508 0\\n201 0.455451 0\\n202 0.424381 0\\n203 0.589717 0\\n204 0.440061 0\\n205 0.520645 0\\n206 0.528924 0\\n207 0.649569 0\\n208 0.460448 0\\n209 0.562146 0\\n210 0.482647 0\\n211 0.427199 0\\n212 0.551139 0\\n213 0.43112 0\\n214 0.420683 0\\n215 0.50075 0\\n216 0.446969 0\\n217 0.469434 0\\n218 0.436084 0\\n219 0.531643 0\\n220 0.538376 0\\n221 0.511242 0\\n222 0.427249 0\\n223 0.459296 0\\n224 0.475022 0\\n225 0.445858 0\\n226 0.450207 0\\n227 0.505552 0\\n228 0.450688 0\\n229 0.442023 0\\n230 0.443978 0\\n231 0.461728 0\\n232 0.418481 0\\n233 0.504956 0\\n234 0.452613 0\\n235 0.442359 0\\n236 0.495605 0\\n237 0.425616 0\\n238 0.608429 0\\n239 0.433064 0\\n240 0.469543 0\\n241 0.449299 0\\n242 0.50912 0\\n243 0.550589 0\\n244 0.499969 0\\n245 0.422129 0\\n246 0.425399 0\\n247 0.526828 0\\n248 0.58445 0\\n249 0.471755 0\\n250 0.530864 0\\n251 0.447585 0\\n252 0.423356 0\\n253 0.43038 0\\n254 0.439576 0\\n255 0.502345 0\\n256 0.461771 0\\n257 0.436127 0\\n258 0.448368 0\\n259 0.450239 0\\n260 0.474772 0\\n261 0.527339 0\\n262 0.46297 0\\n263 0.463554 0\\n264 0.499543 0\\n265 0.496009 0\\n266 0.424224 0\\n267 0.429072 0\\n268 0.42861 0\\n269 0.535497 0\\n270 0.441612 0\\n271 0.560038 0\\n272 0.636884 0\\n273 0.483957 0\\n274 0.490296 0\\n275 0.484719 0\\n276 0.492616 0\\n277 0.447854 0\\n278 0.50405 0\\n279 0.449096 0\\n280 0.429187 0\\n281 0.481659 0\\n282 0.740471 0\\n283 0.431355 0\\n284 0.497467 0\\n285 0.436556 0\\n286 0.534363 0\\n287 0.421041 0\\n288 0.417991 0\\n289 0.459717 0\\n290 0.438004 0\\n291 0.459718 0\\n292 0.451411 0\\n293 0.514825 0\\n294 0.575817 0\\n295 0.436652 0\\n296 0.521514 0\\n297 0.485475 0\\n298 0.451373 0\\n299 0.513548 0\\n300 0.462714 0\\n301 0.471842 0\\n302 0.513183 0\\n303 0.418732 0\\n304 0.597583 0\\n305 0.43854 0\\n306 0.43768 0\\n307 0.578306 0\\n308 0.480485 0\\n309 0.441829 0\\n310 0.518429 0\\n311 0.451411 0\\n312 0.441342 0\\n313 0.427177 0\\n314 0.481095 0\\n315 0.472594 0\\n316 0.420435 0\\n317 0.424396 0\\n318 0.438547 0\\n319 0.465987 0\\n320 0.485487 0\\n321 0.480504 0\\n322 0.471185 0\\n323 0.580966 0\\n324 0.432754 0\\n325 0.512133 0\\n326 0.550198 0\\n327 0.42122 0\\n328 0.451437 0\\n329 0.470509 0\\n330 0.599432 0\\n331 0.454378 0\\n332 0.430952 0\\n333 0.495 0\\n334 0.454309 0\\n335 0.54212 0\\n336 0.434407 0\\n337 0.450409 0\\n338 0.418949 0\\n339 0.42115 0\\n340 0.447288 0\\n341 0.664105 0\\n342 0.566238 0\\n343 0.426231 0\\n344 0.435774 0\\n345 0.454701 0\\n346 0.430388 0\\n347 0.419023 0\\n348 0.517523 0\\n349 0.480127 0\\n350 0.523409 0\\n351 0.48948 0\\n352 0.426422 0\\n353 0.596674 0\\n354 0.486313 0\\n355 0.5862 0\\n356 0.421933 0\\n357 0.49439 0\\n358 0.434419 0\\n359 0.419721 0\\n360 0.597215 0\\n361 0.430623 0\\n362 0.487596 0\\n363 0.417118 0\\n364 0.448474 0\\n365 0.46297 0\\n366 0.629069 0\\n367 0.459724 0\\n368 0.431893 0\\n369 0.657223 0\\n370 0.441888 0\\n371 0.529312 0\\n372 0.436683 0\\n373 0.424249 0\\n374 0.428352 0\\n375 0.480413 0\\n376 0.45285 0\\n377 0.431597 0\\n378 0.478615 0\\n379 0.420435 0\\n380 0.511093 0\\n381 0.564717 0\\n382 0.526546 0\\n383 0.428466 0\\n384 0.578519 0\\n385 0.429243 0\\n386 0.447127 0\\n387 0.442031 0\\n388 0.486508 0\\n389 0.53728 0\\n390 0.45697 0\\n391 0.430492 0\\n392 0.552854 0\\n393 0.4442 0\\n394 0.455134 0\\n395 0.566728 0\\n396 0.422063 0\\n397 0.484869 0\\n398 0.458257 0\\n399 0.427877 0\\n400 0.453436 0\\n401 0.506952 0\\n402 0.423662 0\\n403 0.565045 0\\n404 0.497989 0\\n405 0.473634 0\\n406 0.431934 0\\n407 0.590243 0\\n408 0.452574 0\\n409 0.419816 0\\n410 0.433261 0\\n411 0.434161 0\\n412 0.454656 0\\n413 0.431783 0\\n414 0.436836 0\\n415 0.42161 0\\n416 0.421315 0\\n417 0.438883 0\\n418 0.429858 0\\n419 0.430159 0\\n420 0.499235 0\\n421 0.473059 0\\n422 0.589923 0\\n423 0.493559 0\\n424 0.448495 0\\n425 0.430699 0\\n426 0.446528 0\\n427 0.61937 0\\n428 0.452764 0\\n429 0.429415 0\\n430 0.457943 0\\n431 0.467038 0\\n432 0.437078 0\\n433 0.418938 0\\n434 0.427739 0\\n435 0.517855 0\\n436 0.58556 0\\n437 0.420858 0\\n438 0.433886 0\\n439 0.427192 0\\n440 0.446346 0\\n441 0.418264 0\\n442 0.452137 0\\n443 0.536446 0\\n444 0.444006 0\\n445 0.416699 0\\n446 0.670483 0\\n447 0.525929 0\\n448 0.533796 0\\n449 0.475863 0\\n450 0.430089 0\\n451 0.439451 0\\n452 0.437733 0\\n453 0.535344 0\\n454 0.514299 0\\n455 0.504677 0\\n456 0.455864 0\\n457 0.44403 0\\n458 0.423405 0\\n459 0.469459 0\\n460 0.451783 0\\n461 0.484971 0\\n462 0.452418 0\\n463 0.446594 0\\n464 0.431265 0\\n465 0.526473 0\\n466 0.446896 0\\n467 0.486524 0\\n468 0.476376 0\\n469 0.4425 0\\n470 0.446566 0\\n471 0.560717 0\\n472 0.474556 0\\n473 0.426514 0\\n474 0.485292 0\\n475 0.423847 0\\n476 0.435644 0\\n477 0.468127 0\\n478 0.453008 0\\n479 0.460925 0\\n480 0.420591 0\\n481 0.470364 0\\n482 0.495243 0\\n483 0.432703 0\\n484 0.437236 0\\n485 0.41598 0\\n486 0.604098 0\\n487 0.484496 0\\n488 0.635358 0\\n489 0.419132 0\\n490 0.446244 0\\n491 0.417572 0\\n492 0.420705 0\\n493 0.436918 0\\n494 0.437132 0\\n495 0.417815 0\\n496 0.430159 0\\n497 0.452178 0\\n498 0.583628 0\\n499 0.41924 0\\n'}"
            ]
          },
          "metadata": {},
          "execution_count": 16
        }
      ]
    },
    {
      "cell_type": "code",
      "source": [
        "data = pd.read_csv(\"MultipleBlob_tested_over_MultipleBlob.csv\", delimiter=' ')\n",
        "S0 = data['Ascore'].to_numpy()\n"
      ],
      "metadata": {
        "id": "pM11VBA52uv9"
      },
      "execution_count": 17,
      "outputs": []
    },
    {
      "cell_type": "markdown",
      "source": [
        "### Visualise Scores"
      ],
      "metadata": {
        "id": "OrOHHgZF3jNh"
      }
    },
    {
      "cell_type": "code",
      "source": [
        "ss0=np.argsort(S0)\n",
        "\n",
        "f = plt.figure(figsize=(12,6))\n",
        "plt.subplot(1,2,1)\n",
        "plt.scatter(x,y,s=15,c='b',edgecolor='b')\n",
        "plt.scatter(x[ss0[-10:]],y[ss0[-10:]],s=55,c='k')\n",
        "plt.scatter(x[ss0[:10]],y[ss0[:10]],s=55,c='r')\n",
        "plt.title('standard')\n",
        "\n",
        "plt.show()"
      ],
      "metadata": {
        "colab": {
          "base_uri": "https://localhost:8080/",
          "height": 390
        },
        "id": "_FzUsri8dvWy",
        "outputId": "05a10492-90e3-4ce5-ce72-27634ab0619e"
      },
      "execution_count": 18,
      "outputs": [
        {
          "output_type": "display_data",
          "data": {
            "text/plain": [
              "<Figure size 864x432 with 1 Axes>"
            ],
            "image/png": "[encoded data removed]"
          },
          "metadata": {}
        }
      ]
    },
    {
      "cell_type": "code",
      "source": [
        "f = plt.figure(figsize=(12,6))\n",
        "plt.subplot(1,2,1)\n",
        "sb.distplot(S0, kde=True, color=\"b\")\n",
        "plt.title('standard')"
      ],
      "metadata": {
        "colab": {
          "base_uri": "https://localhost:8080/",
          "height": 462
        },
        "id": "fmxwmkcZd5pC",
        "outputId": "34b1d4df-c6bd-4b88-a3fb-fcf5519f602d"
      },
      "execution_count": 19,
      "outputs": [
        {
          "output_type": "stream",
          "name": "stderr",
          "text": [
            "/usr/local/lib/python3.7/dist-packages/seaborn/distributions.py:2619: FutureWarning: `distplot` is a deprecated function and will be removed in a future version. Please adapt your code to use either `displot` (a figure-level function with similar flexibility) or `histplot` (an axes-level function for histograms).\n",
            "  warnings.warn(msg, FutureWarning)\n"
          ]
        },
        {
          "output_type": "execute_result",
          "data": {
            "text/plain": [
              "Text(0.5, 1.0, 'standard')"
            ]
          },
          "metadata": {},
          "execution_count": 19
        },
        {
          "output_type": "display_data",
          "data": {
            "text/plain": [
              "<Figure size 864x432 with 1 Axes>"
            ],
            "image/png": "[encoded data removed]"
          },
          "metadata": {}
        }
      ]
    },
    {
      "cell_type": "markdown",
      "source": [
        "## Score Map"
      ],
      "metadata": {
        "id": "3BYlR-5F4v4W"
      }
    },
    {
      "cell_type": "code",
      "source": [
        "xx, yy = np.meshgrid(np.linspace(-5, 15, 30), np.linspace(-5, 15, 30))\n",
        "X_in=np.c_[xx.ravel(), yy.ravel()]\n",
        "\n",
        "label=np.zeros(900, int)\n",
        "\n",
        "dict={'1':X_in[:, 0], '2':X_in[:, 1], 'label':label}\n",
        "df=pd.DataFrame(dict)\n",
        "\n",
        "df.to_csv('MultipleBlob_heatmap.csv', sep='\\t')\n",
        "files.download(\"MultipleBlob_heatmap.csv\")"
      ],
      "metadata": {
        "colab": {
          "base_uri": "https://localhost:8080/",
          "height": 17
        },
        "id": "rcs2MUsh40kn",
        "outputId": "31820da4-f23e-48c0-8211-956f4c3d55be"
      },
      "execution_count": 20,
      "outputs": [
        {
          "output_type": "display_data",
          "data": {
            "text/plain": [
              "<IPython.core.display.Javascript object>"
            ],
            "application/javascript": [
              "\n",
              "    async function download(id, filename, size) {\n",
              "      if (!google.colab.kernel.accessAllowed) {\n",
              "        return;\n",
              "      }\n",
              "      const div = document.createElement('div');\n",
              "      const label = document.createElement('label');\n",
              "      label.textContent = `Downloading \"${filename}\": `;\n",
              "      div.appendChild(label);\n",
              "      const progress = document.createElement('progress');\n",
              "      progress.max = size;\n",
              "      div.appendChild(progress);\n",
              "      document.body.appendChild(div);\n",
              "\n",
              "      const buffers = [];\n",
              "      let downloaded = 0;\n",
              "\n",
              "      const channel = await google.colab.kernel.comms.open(id);\n",
              "      // Send a message to notify the kernel that we're ready.\n",
              "      channel.send({})\n",
              "\n",
              "      for await (const message of channel.messages) {\n",
              "        // Send a message to notify the kernel that we're ready.\n",
              "        channel.send({})\n",
              "        if (message.buffers) {\n",
              "          for (const buffer of message.buffers) {\n",
              "            buffers.push(buffer);\n",
              "            downloaded += buffer.byteLength;\n",
              "            progress.value = downloaded;\n",
              "          }\n",
              "        }\n",
              "      }\n",
              "      const blob = new Blob(buffers, {type: 'application/binary'});\n",
              "      const a = document.createElement('a');\n",
              "      a.href = window.URL.createObjectURL(blob);\n",
              "      a.download = filename;\n",
              "      div.appendChild(a);\n",
              "      a.click();\n",
              "      div.remove();\n",
              "    }\n",
              "  "
            ]
          },
          "metadata": {}
        },
        {
          "output_type": "display_data",
          "data": {
            "text/plain": [
              "<IPython.core.display.Javascript object>"
            ],
            "application/javascript": [
              "download(\"download_6aac7f01-9ea7-43e5-9cd7-5a82a733a2c1\", \"MultipleBlob_heatmap.csv\", 37401)"
            ]
          },
          "metadata": {}
        }
      ]
    },
    {
      "cell_type": "code",
      "source": [
        "files.upload()"
      ],
      "metadata": {
        "colab": {
          "base_uri": "https://localhost:8080/",
          "height": 1000
        },
        "id": "XtPwsKDteMJG",
        "outputId": "ee9cd49e-cacb-4b1d-966a-bf396e85b2ae"
      },
      "execution_count": 21,
      "outputs": [
        {
          "output_type": "display_data",
          "data": {
            "text/plain": [
              "<IPython.core.display.HTML object>"
            ],
            "text/html": [
              "\n",
              "     <input type=\"file\" id=\"files-17d656e9-d0aa-434a-97b6-23aadd036e6b\" name=\"files[]\" multiple disabled\n",
              "        style=\"border:none\" />\n",
              "     <output id=\"result-17d656e9-d0aa-434a-97b6-23aadd036e6b\">\n",
              "      Upload widget is only available when the cell has been executed in the\n",
              "      current browser session. Please rerun this cell to enable.\n",
              "      </output>\n",
              "      <script>// Copyright 2017 Google LLC\n",
              "//\n",
              "// Licensed under the Apache License, Version 2.0 (the \"License\");\n",
              "// you may not use this file except in compliance with the License.\n",
              "// You may obtain a copy of the License at\n",
              "//\n",
              "//      http://www.apache.org/licenses/LICENSE-2.0\n",
              "//\n",
              "// Unless required by applicable law or agreed to in writing, software\n",
              "// distributed under the License is distributed on an \"AS IS\" BASIS,\n",
              "// WITHOUT WARRANTIES OR CONDITIONS OF ANY KIND, either express or implied.\n",
              "// See the License for the specific language governing permissions and\n",
              "// limitations under the License.\n",
              "\n",
              "/**\n",
              " * @fileoverview Helpers for google.colab Python module.\n",
              " */\n",
              "(function(scope) {\n",
              "function span(text, styleAttributes = {}) {\n",
              "  const element = document.createElement('span');\n",
              "  element.textContent = text;\n",
              "  for (const key of Object.keys(styleAttributes)) {\n",
              "    element.style[key] = styleAttributes[key];\n",
              "  }\n",
              "  return element;\n",
              "}\n",
              "\n",
              "// Max number of bytes which will be uploaded at a time.\n",
              "const MAX_PAYLOAD_SIZE = 100 * 1024;\n",
              "\n",
              "function _uploadFiles(inputId, outputId) {\n",
              "  const steps = uploadFilesStep(inputId, outputId);\n",
              "  const outputElement = document.getElementById(outputId);\n",
              "  // Cache steps on the outputElement to make it available for the next call\n",
              "  // to uploadFilesContinue from Python.\n",
              "  outputElement.steps = steps;\n",
              "\n",
              "  return _uploadFilesContinue(outputId);\n",
              "}\n",
              "\n",
              "// This is roughly an async generator (not supported in the browser yet),\n",
              "// where there are multiple asynchronous steps and the Python side is going\n",
              "// to poll for completion of each step.\n",
              "// This uses a Promise to block the python side on completion of each step,\n",
              "// then passes the result of the previous step as the input to the next step.\n",
              "function _uploadFilesContinue(outputId) {\n",
              "  const outputElement = document.getElementById(outputId);\n",
              "  const steps = outputElement.steps;\n",
              "\n",
              "  const next = steps.next(outputElement.lastPromiseValue);\n",
              "  return Promise.resolve(next.value.promise).then((value) => {\n",
              "    // Cache the last promise value to make it available to the next\n",
              "    // step of the generator.\n",
              "    outputElement.lastPromiseValue = value;\n",
              "    return next.value.response;\n",
              "  });\n",
              "}\n",
              "\n",
              "/**\n",
              " * Generator function which is called between each async step of the upload\n",
              " * process.\n",
              " * @param {string} inputId Element ID of the input file picker element.\n",
              " * @param {string} outputId Element ID of the output display.\n",
              " * @return {!Iterable<!Object>} Iterable of next steps.\n",
              " */\n",
              "function* uploadFilesStep(inputId, outputId) {\n",
              "  const inputElement = document.getElementById(inputId);\n",
              "  inputElement.disabled = false;\n",
              "\n",
              "  const outputElement = document.getElementById(outputId);\n",
              "  outputElement.innerHTML = '';\n",
              "\n",
              "  const pickedPromise = new Promise((resolve) => {\n",
              "    inputElement.addEventListener('change', (e) => {\n",
              "      resolve(e.target.files);\n",
              "    });\n",
              "  });\n",
              "\n",
              "  const cancel = document.createElement('button');\n",
              "  inputElement.parentElement.appendChild(cancel);\n",
              "  cancel.textContent = 'Cancel upload';\n",
              "  const cancelPromise = new Promise((resolve) => {\n",
              "    cancel.onclick = () => {\n",
              "      resolve(null);\n",
              "    };\n",
              "  });\n",
              "\n",
              "  // Wait for the user to pick the files.\n",
              "  const files = yield {\n",
              "    promise: Promise.race([pickedPromise, cancelPromise]),\n",
              "    response: {\n",
              "      action: 'starting',\n",
              "    }\n",
              "  };\n",
              "\n",
              "  cancel.remove();\n",
              "\n",
              "  // Disable the input element since further picks are not allowed.\n",
              "  inputElement.disabled = true;\n",
              "\n",
              "  if (!files) {\n",
              "    return {\n",
              "      response: {\n",
              "        action: 'complete',\n",
              "      }\n",
              "    };\n",
              "  }\n",
              "\n",
              "  for (const file of files) {\n",
              "    const li = document.createElement('li');\n",
              "    li.append(span(file.name, {fontWeight: 'bold'}));\n",
              "    li.append(span(\n",
              "        `(${file.type || 'n/a'}) - ${file.size} bytes, ` +\n",
              "        `last modified: ${\n",
              "            file.lastModifiedDate ? file.lastModifiedDate.toLocaleDateString() :\n",
              "                                    'n/a'} - `));\n",
              "    const percent = span('0% done');\n",
              "    li.appendChild(percent);\n",
              "\n",
              "    outputElement.appendChild(li);\n",
              "\n",
              "    const fileDataPromise = new Promise((resolve) => {\n",
              "      const reader = new FileReader();\n",
              "      reader.onload = (e) => {\n",
              "        resolve(e.target.result);\n",
              "      };\n",
              "      reader.readAsArrayBuffer(file);\n",
              "    });\n",
              "    // Wait for the data to be ready.\n",
              "    let fileData = yield {\n",
              "      promise: fileDataPromise,\n",
              "      response: {\n",
              "        action: 'continue',\n",
              "      }\n",
              "    };\n",
              "\n",
              "    // Use a chunked sending to avoid message size limits. See b/62115660.\n",
              "    let position = 0;\n",
              "    do {\n",
              "      const length = Math.min(fileData.byteLength - position, MAX_PAYLOAD_SIZE);\n",
              "      const chunk = new Uint8Array(fileData, position, length);\n",
              "      position += length;\n",
              "\n",
              "      const base64 = btoa(String.fromCharCode.apply(null, chunk));\n",
              "      yield {\n",
              "        response: {\n",
              "          action: 'append',\n",
              "          file: file.name,\n",
              "          data: base64,\n",
              "        },\n",
              "      };\n",
              "\n",
              "      let percentDone = fileData.byteLength === 0 ?\n",
              "          100 :\n",
              "          Math.round((position / fileData.byteLength) * 100);\n",
              "      percent.textContent = `${percentDone}% done`;\n",
              "\n",
              "    } while (position < fileData.byteLength);\n",
              "  }\n",
              "\n",
              "  // All done.\n",
              "  yield {\n",
              "    response: {\n",
              "      action: 'complete',\n",
              "    }\n",
              "  };\n",
              "}\n",
              "\n",
              "scope.google = scope.google || {};\n",
              "scope.google.colab = scope.google.colab || {};\n",
              "scope.google.colab._files = {\n",
              "  _uploadFiles,\n",
              "  _uploadFilesContinue,\n",
              "};\n",
              "})(self);\n",
              "</script> "
            ]
          },
          "metadata": {}
        },
        {
          "output_type": "stream",
          "name": "stdout",
          "text": [
            "Saving MultipleBlob_heatmap_tested_over_MultipleBlob.csv to MultipleBlob_heatmap_tested_over_MultipleBlob.csv\n"
          ]
        },
        {
          "output_type": "execute_result",
          "data": {
            "text/plain": [
              "{'MultipleBlob_heatmap_tested_over_MultipleBlob.csv': b'pointId Ascore actuallabel\\n0 0.745185 0\\n1 0.745185 0\\n2 0.745185 0\\n3 0.742373 0\\n4 0.729849 0\\n5 0.71889 0\\n6 0.703232 0\\n7 0.69829 0\\n8 0.687807 0\\n9 0.695021 0\\n10 0.710502 0\\n11 0.716182 0\\n12 0.720255 0\\n13 0.724352 0\\n14 0.723895 0\\n15 0.723439 0\\n16 0.722528 0\\n17 0.720273 0\\n18 0.710697 0\\n19 0.68427 0\\n20 0.657949 0\\n21 0.64099 0\\n22 0.622281 0\\n23 0.652889 0\\n24 0.680794 0\\n25 0.704455 0\\n26 0.72225 0\\n27 0.726816 0\\n28 0.726816 0\\n29 0.726816 0\\n30 0.745185 0\\n31 0.745185 0\\n32 0.745185 0\\n33 0.742373 0\\n34 0.729849 0\\n35 0.71889 0\\n36 0.703232 0\\n37 0.69829 0\\n38 0.687807 0\\n39 0.695021 0\\n40 0.710502 0\\n41 0.716182 0\\n42 0.720255 0\\n43 0.724352 0\\n44 0.723895 0\\n45 0.723439 0\\n46 0.722528 0\\n47 0.720273 0\\n48 0.710697 0\\n49 0.68427 0\\n50 0.657949 0\\n51 0.64099 0\\n52 0.622281 0\\n53 0.652889 0\\n54 0.680794 0\\n55 0.704455 0\\n56 0.72225 0\\n57 0.726816 0\\n58 0.726816 0\\n59 0.726816 0\\n60 0.745185 0\\n61 0.745185 0\\n62 0.745185 0\\n63 0.742373 0\\n64 0.729849 0\\n65 0.71889 0\\n66 0.703232 0\\n67 0.69829 0\\n68 0.687807 0\\n69 0.695021 0\\n70 0.710502 0\\n71 0.716182 0\\n72 0.720255 0\\n73 0.724352 0\\n74 0.723895 0\\n75 0.723439 0\\n76 0.722528 0\\n77 0.720273 0\\n78 0.710697 0\\n79 0.68427 0\\n80 0.657949 0\\n81 0.64099 0\\n82 0.622281 0\\n83 0.652889 0\\n84 0.680794 0\\n85 0.704455 0\\n86 0.72225 0\\n87 0.726816 0\\n88 0.726816 0\\n89 0.726816 0\\n90 0.745185 0\\n91 0.745185 0\\n92 0.745185 0\\n93 0.742373 0\\n94 0.729849 0\\n95 0.71889 0\\n96 0.703232 0\\n97 0.69829 0\\n98 0.687807 0\\n99 0.695021 0\\n100 0.710502 0\\n101 0.716182 0\\n102 0.720255 0\\n103 0.724352 0\\n104 0.723895 0\\n105 0.723439 0\\n106 0.722528 0\\n107 0.720273 0\\n108 0.710697 0\\n109 0.68427 0\\n110 0.657949 0\\n111 0.64099 0\\n112 0.622281 0\\n113 0.652889 0\\n114 0.680794 0\\n115 0.704455 0\\n116 0.72225 0\\n117 0.726816 0\\n118 0.726816 0\\n119 0.726816 0\\n120 0.739105 0\\n121 0.739105 0\\n122 0.739105 0\\n123 0.736316 0\\n124 0.723895 0\\n125 0.713026 0\\n126 0.697494 0\\n127 0.691285 0\\n128 0.68005 0\\n129 0.687616 0\\n130 0.702932 0\\n131 0.708551 0\\n132 0.71303 0\\n133 0.717085 0\\n134 0.716634 0\\n135 0.710647 0\\n136 0.709752 0\\n137 0.707536 0\\n138 0.69769 0\\n139 0.661972 0\\n140 0.63068 0\\n141 0.603733 0\\n142 0.5816 0\\n143 0.608374 0\\n144 0.646471 0\\n145 0.677795 0\\n146 0.696232 0\\n147 0.700633 0\\n148 0.700633 0\\n149 0.700633 0\\n150 0.727305 0\\n151 0.727305 0\\n152 0.727305 0\\n153 0.724561 0\\n154 0.712337 0\\n155 0.700317 0\\n156 0.681135 0\\n157 0.672524 0\\n158 0.660086 0\\n159 0.669018 0\\n160 0.685777 0\\n161 0.691259 0\\n162 0.697548 0\\n163 0.698543 0\\n164 0.695162 0\\n165 0.688921 0\\n166 0.67978 0\\n167 0.675367 0\\n168 0.660198 0\\n169 0.610855 0\\n170 0.562281 0\\n171 0.525967 0\\n172 0.49851 0\\n173 0.530175 0\\n174 0.569864 0\\n175 0.615478 0\\n176 0.655293 0\\n177 0.659851 0\\n178 0.659851 0\\n179 0.659851 0\\n180 0.705151 0\\n181 0.705151 0\\n182 0.705151 0\\n183 0.70249 0\\n184 0.690639 0\\n185 0.676471 0\\n186 0.657942 0\\n187 0.641078 0\\n188 0.626738 0\\n189 0.637579 0\\n190 0.654578 0\\n191 0.659395 0\\n192 0.662865 0\\n193 0.659914 0\\n194 0.653541 0\\n195 0.645853 0\\n196 0.637902 0\\n197 0.630919 0\\n198 0.618131 0\\n199 0.558927 0\\n200 0.497047 0\\n201 0.452635 0\\n202 0.438005 0\\n203 0.465847 0\\n204 0.513788 0\\n205 0.571406 0\\n206 0.619138 0\\n207 0.627282 0\\n208 0.627282 0\\n209 0.627282 0\\n210 0.698983 0\\n211 0.698983 0\\n212 0.698983 0\\n213 0.696345 0\\n214 0.682714 0\\n215 0.665124 0\\n216 0.647069 0\\n217 0.62935 0\\n218 0.614735 0\\n219 0.624749 0\\n220 0.637062 0\\n221 0.644777 0\\n222 0.645524 0\\n223 0.639512 0\\n224 0.632938 0\\n225 0.625097 0\\n226 0.616665 0\\n227 0.608704 0\\n228 0.593313 0\\n229 0.541224 0\\n230 0.475575 0\\n231 0.435333 0\\n232 0.42073 0\\n233 0.448013 0\\n234 0.497038 0\\n235 0.570596 0\\n236 0.620209 0\\n237 0.630553 0\\n238 0.630553 0\\n239 0.630553 0\\n240 0.693483 0\\n241 0.693483 0\\n242 0.693483 0\\n243 0.690866 0\\n244 0.677342 0\\n245 0.659474 0\\n246 0.638779 0\\n247 0.618029 0\\n248 0.604791 0\\n249 0.616735 0\\n250 0.626008 0\\n251 0.633496 0\\n252 0.633029 0\\n253 0.629009 0\\n254 0.62372 0\\n255 0.617505 0\\n256 0.608729 0\\n257 0.604715 0\\n258 0.588146 0\\n259 0.539752 0\\n260 0.46892 0\\n261 0.443035 0\\n262 0.427395 0\\n263 0.454245 0\\n264 0.501038 0\\n265 0.574513 0\\n266 0.624913 0\\n267 0.635335 0\\n268 0.635335 0\\n269 0.635335 0\\n270 0.70217 0\\n271 0.70217 0\\n272 0.70217 0\\n273 0.69952 0\\n274 0.685827 0\\n275 0.667315 0\\n276 0.644213 0\\n277 0.624719 0\\n278 0.615058 0\\n279 0.627205 0\\n280 0.640044 0\\n281 0.6477 0\\n282 0.647929 0\\n283 0.645599 0\\n284 0.640171 0\\n285 0.634991 0\\n286 0.624952 0\\n287 0.620513 0\\n288 0.60591 0\\n289 0.560878 0\\n290 0.479127 0\\n291 0.454264 0\\n292 0.45096 0\\n293 0.485447 0\\n294 0.53636 0\\n295 0.601144 0\\n296 0.646994 0\\n297 0.65721 0\\n298 0.65721 0\\n299 0.65721 0\\n300 0.713908 0\\n301 0.713908 0\\n302 0.713908 0\\n303 0.711214 0\\n304 0.697731 0\\n305 0.681532 0\\n306 0.659754 0\\n307 0.636245 0\\n308 0.626406 0\\n309 0.643754 0\\n310 0.658023 0\\n311 0.667706 0\\n312 0.674401 0\\n313 0.675106 0\\n314 0.672685 0\\n315 0.669576 0\\n316 0.664594 0\\n317 0.664375 0\\n318 0.653334 0\\n319 0.613232 0\\n320 0.533501 0\\n321 0.508371 0\\n322 0.505491 0\\n323 0.529887 0\\n324 0.57988 0\\n325 0.637841 0\\n326 0.668521 0\\n327 0.677368 0\\n328 0.677368 0\\n329 0.677368 0\\n330 0.717237 0\\n331 0.717237 0\\n332 0.717237 0\\n333 0.71453 0\\n334 0.700746 0\\n335 0.678171 0\\n336 0.65618 0\\n337 0.632195 0\\n338 0.623658 0\\n339 0.646775 0\\n340 0.66707 0\\n341 0.676887 0\\n342 0.683673 0\\n343 0.687562 0\\n344 0.687844 0\\n345 0.684665 0\\n346 0.68357 0\\n347 0.683345 0\\n348 0.673849 0\\n349 0.639012 0\\n350 0.578305 0\\n351 0.549004 0\\n352 0.546789 0\\n353 0.572219 0\\n354 0.617785 0\\n355 0.668095 0\\n356 0.69224 0\\n357 0.698175 0\\n358 0.698175 0\\n359 0.698175 0\\n360 0.718594 0\\n361 0.718594 0\\n362 0.718594 0\\n363 0.715882 0\\n364 0.697773 0\\n365 0.673214 0\\n366 0.646731 0\\n367 0.623728 0\\n368 0.615102 0\\n369 0.639512 0\\n370 0.659994 0\\n371 0.670129 0\\n372 0.681215 0\\n373 0.685089 0\\n374 0.685371 0\\n375 0.682203 0\\n376 0.681112 0\\n377 0.680888 0\\n378 0.673009 0\\n379 0.639021 0\\n380 0.581479 0\\n381 0.55445 0\\n382 0.553864 0\\n383 0.576115 0\\n384 0.624429 0\\n385 0.670151 0\\n386 0.69437 0\\n387 0.700324 0\\n388 0.700324 0\\n389 0.700324 0\\n390 0.720407 0\\n391 0.720407 0\\n392 0.720407 0\\n393 0.717689 0\\n394 0.697333 0\\n395 0.667229 0\\n396 0.63631 0\\n397 0.614742 0\\n398 0.604983 0\\n399 0.63194 0\\n400 0.654573 0\\n401 0.665882 0\\n402 0.676898 0\\n403 0.680748 0\\n404 0.681027 0\\n405 0.67788 0\\n406 0.676795 0\\n407 0.676573 0\\n408 0.668744 0\\n409 0.63888 0\\n410 0.587391 0\\n411 0.557714 0\\n412 0.557732 0\\n413 0.581926 0\\n414 0.629934 0\\n415 0.670912 0\\n416 0.693693 0\\n417 0.699641 0\\n418 0.699641 0\\n419 0.699641 0\\n420 0.7195 0\\n421 0.7195 0\\n422 0.7195 0\\n423 0.716785 0\\n424 0.696455 0\\n425 0.666389 0\\n426 0.635508 0\\n427 0.613968 0\\n428 0.604221 0\\n429 0.63194 0\\n430 0.654573 0\\n431 0.665882 0\\n432 0.676898 0\\n433 0.680748 0\\n434 0.681027 0\\n435 0.67788 0\\n436 0.676795 0\\n437 0.676573 0\\n438 0.668744 0\\n439 0.639685 0\\n440 0.59169 0\\n441 0.561796 0\\n442 0.561814 0\\n443 0.586186 0\\n444 0.634545 0\\n445 0.671335 0\\n446 0.69413 0\\n447 0.700082 0\\n448 0.700082 0\\n449 0.700082 0\\n450 0.716959 0\\n451 0.716959 0\\n452 0.716959 0\\n453 0.714254 0\\n454 0.693122 0\\n455 0.658964 0\\n456 0.628428 0\\n457 0.603652 0\\n458 0.590863 0\\n459 0.619373 0\\n460 0.642779 0\\n461 0.656252 0\\n462 0.675253 0\\n463 0.679094 0\\n464 0.679373 0\\n465 0.676233 0\\n466 0.675151 0\\n467 0.674929 0\\n468 0.668188 0\\n469 0.64117 0\\n470 0.600854 0\\n471 0.572743 0\\n472 0.571992 0\\n473 0.594031 0\\n474 0.643579 0\\n475 0.676403 0\\n476 0.696759 0\\n477 0.700964 0\\n478 0.700964 0\\n479 0.700964 0\\n480 0.717411 0\\n481 0.717411 0\\n482 0.717411 0\\n483 0.714704 0\\n484 0.691813 0\\n485 0.655062 0\\n486 0.624706 0\\n487 0.600077 0\\n488 0.587734 0\\n489 0.616847 0\\n490 0.644528 0\\n491 0.658038 0\\n492 0.677945 0\\n493 0.681801 0\\n494 0.682081 0\\n495 0.678928 0\\n496 0.677842 0\\n497 0.67762 0\\n498 0.670851 0\\n499 0.643726 0\\n500 0.603249 0\\n501 0.579284 0\\n502 0.576723 0\\n503 0.598765 0\\n504 0.644391 0\\n505 0.677256 0\\n506 0.696759 0\\n507 0.700964 0\\n508 0.700964 0\\n509 0.700964 0\\n510 0.716959 0\\n511 0.716959 0\\n512 0.716959 0\\n513 0.714254 0\\n514 0.690942 0\\n515 0.651357 0\\n516 0.618194 0\\n517 0.593447 0\\n518 0.579762 0\\n519 0.609018 0\\n520 0.641069 0\\n521 0.654506 0\\n522 0.675156 0\\n523 0.678996 0\\n524 0.679275 0\\n525 0.676136 0\\n526 0.675054 0\\n527 0.674833 0\\n528 0.669778 0\\n529 0.65074 0\\n530 0.612039 0\\n531 0.589039 0\\n532 0.587709 0\\n533 0.610172 0\\n534 0.655433 0\\n535 0.677879 0\\n536 0.6974 0\\n537 0.701609 0\\n538 0.701609 0\\n539 0.701609 0\\n540 0.713354 0\\n541 0.713354 0\\n542 0.713354 0\\n543 0.70932 0\\n544 0.681604 0\\n545 0.638563 0\\n546 0.603856 0\\n547 0.577029 0\\n548 0.563367 0\\n549 0.595915 0\\n550 0.63122 0\\n551 0.652181 0\\n552 0.673182 0\\n553 0.67701 0\\n554 0.677289 0\\n555 0.674158 0\\n556 0.673929 0\\n557 0.673707 0\\n558 0.668661 0\\n559 0.650475 0\\n560 0.613333 0\\n561 0.591603 0\\n562 0.589021 0\\n563 0.611326 0\\n564 0.655433 0\\n565 0.677879 0\\n566 0.6974 0\\n567 0.700284 0\\n568 0.700284 0\\n569 0.700284 0\\n570 0.695125 0\\n571 0.695125 0\\n572 0.695125 0\\n573 0.691194 0\\n574 0.65617 0\\n575 0.61132 0\\n576 0.56982 0\\n577 0.53036 0\\n578 0.521658 0\\n579 0.56575 0\\n580 0.611833 0\\n581 0.64686 0\\n582 0.66769 0\\n583 0.671487 0\\n584 0.671763 0\\n585 0.670346 0\\n586 0.670962 0\\n587 0.670742 0\\n588 0.670477 0\\n589 0.652652 0\\n590 0.61745 0\\n591 0.596528 0\\n592 0.593925 0\\n593 0.613395 0\\n594 0.656186 0\\n595 0.675747 0\\n596 0.694769 0\\n597 0.697642 0\\n598 0.697642 0\\n599 0.697642 0\\n600 0.661699 0\\n601 0.661699 0\\n602 0.661699 0\\n603 0.65633 0\\n604 0.617208 0\\n605 0.562832 0\\n606 0.502613 0\\n607 0.458079 0\\n608 0.456711 0\\n609 0.497294 0\\n610 0.56132 0\\n611 0.605782 0\\n612 0.634665 0\\n613 0.642838 0\\n614 0.644538 0\\n615 0.647218 0\\n616 0.649971 0\\n617 0.649979 0\\n618 0.654288 0\\n619 0.641383 0\\n620 0.610764 0\\n621 0.590069 0\\n622 0.588033 0\\n623 0.610505 0\\n624 0.650216 0\\n625 0.665402 0\\n626 0.682442 0\\n627 0.685264 0\\n628 0.685264 0\\n629 0.685264 0\\n630 0.652126 0\\n631 0.652126 0\\n632 0.652126 0\\n633 0.644578 0\\n634 0.590696 0\\n635 0.517831 0\\n636 0.460015 0\\n637 0.425847 0\\n638 0.427154 0\\n639 0.463402 0\\n640 0.537326 0\\n641 0.587786 0\\n642 0.627458 0\\n643 0.636509 0\\n644 0.640389 0\\n645 0.643051 0\\n646 0.646682 0\\n647 0.648057 0\\n648 0.652353 0\\n649 0.639889 0\\n650 0.611091 0\\n651 0.591274 0\\n652 0.589234 0\\n653 0.607232 0\\n654 0.646322 0\\n655 0.661417 0\\n656 0.678355 0\\n657 0.68116 0\\n658 0.68116 0\\n659 0.68116 0\\n660 0.654629 0\\n661 0.654629 0\\n662 0.654629 0\\n663 0.647051 0\\n664 0.589568 0\\n665 0.506509 0\\n666 0.444013 0\\n667 0.41912 0\\n668 0.430099 0\\n669 0.47296 0\\n670 0.542509 0\\n671 0.595672 0\\n672 0.63417 0\\n673 0.642913 0\\n674 0.646424 0\\n675 0.649726 0\\n676 0.654268 0\\n677 0.653482 0\\n678 0.658111 0\\n679 0.645537 0\\n680 0.61875 0\\n681 0.597931 0\\n682 0.597869 0\\n683 0.613102 0\\n684 0.649566 0\\n685 0.663064 0\\n686 0.680044 0\\n687 0.682856 0\\n688 0.682856 0\\n689 0.682856 0\\n690 0.67114 0\\n691 0.67114 0\\n692 0.67114 0\\n693 0.664208 0\\n694 0.623031 0\\n695 0.54086 0\\n696 0.470484 0\\n697 0.447539 0\\n698 0.443513 0\\n699 0.488849 0\\n700 0.561168 0\\n701 0.60328 0\\n702 0.639347 0\\n703 0.64857 0\\n704 0.652112 0\\n705 0.655633 0\\n706 0.658326 0\\n707 0.656897 0\\n708 0.664365 0\\n709 0.65347 0\\n710 0.625631 0\\n711 0.604581 0\\n712 0.604518 0\\n713 0.620636 0\\n714 0.655251 0\\n715 0.667603 0\\n716 0.684699 0\\n717 0.687531 0\\n718 0.687531 0\\n719 0.687531 0\\n720 0.686823 0\\n721 0.686823 0\\n722 0.686823 0\\n723 0.67973 0\\n724 0.644532 0\\n725 0.595281 0\\n726 0.5363 0\\n727 0.498524 0\\n728 0.51082 0\\n729 0.550583 0\\n730 0.609838 0\\n731 0.64186 0\\n732 0.671634 0\\n733 0.674753 0\\n734 0.672758 0\\n735 0.675964 0\\n736 0.676816 0\\n737 0.672304 0\\n738 0.674856 0\\n739 0.663789 0\\n740 0.636312 0\\n741 0.618735 0\\n742 0.618671 0\\n743 0.633221 0\\n744 0.664623 0\\n745 0.677152 0\\n746 0.694492 0\\n747 0.697364 0\\n748 0.697364 0\\n749 0.697364 0\\n750 0.721013 0\\n751 0.721013 0\\n752 0.721013 0\\n753 0.716969 0\\n754 0.686891 0\\n755 0.660795 0\\n756 0.614105 0\\n757 0.577097 0\\n758 0.590395 0\\n759 0.617949 0\\n760 0.653844 0\\n761 0.682831 0\\n762 0.696694 0\\n763 0.697573 0\\n764 0.69551 0\\n765 0.698825 0\\n766 0.698384 0\\n767 0.691762 0\\n768 0.691311 0\\n769 0.681922 0\\n770 0.653695 0\\n771 0.637175 0\\n772 0.637109 0\\n773 0.653327 0\\n774 0.68008 0\\n775 0.692028 0\\n776 0.709302 0\\n777 0.712235 0\\n778 0.712235 0\\n779 0.712235 0\\n780 0.740524 0\\n781 0.740524 0\\n782 0.740524 0\\n783 0.739592 0\\n784 0.711249 0\\n785 0.696614 0\\n786 0.654289 0\\n787 0.616236 0\\n788 0.628303 0\\n789 0.648235 0\\n790 0.684163 0\\n791 0.714495 0\\n792 0.723024 0\\n793 0.723936 0\\n794 0.721795 0\\n795 0.721181 0\\n796 0.718912 0\\n797 0.712095 0\\n798 0.709888 0\\n799 0.700247 0\\n800 0.673188 0\\n801 0.659923 0\\n802 0.659855 0\\n803 0.676652 0\\n804 0.698375 0\\n805 0.707942 0\\n806 0.724699 0\\n807 0.727696 0\\n808 0.727696 0\\n809 0.727696 0\\n810 0.759771 0\\n811 0.759771 0\\n812 0.759771 0\\n813 0.758814 0\\n814 0.732038 0\\n815 0.718123 0\\n816 0.679936 0\\n817 0.640828 0\\n818 0.646685 0\\n819 0.662266 0\\n820 0.693513 0\\n821 0.724259 0\\n822 0.732905 0\\n823 0.733829 0\\n824 0.73166 0\\n825 0.728737 0\\n826 0.726445 0\\n827 0.717952 0\\n828 0.715727 0\\n829 0.706452 0\\n830 0.68277 0\\n831 0.669317 0\\n832 0.669247 0\\n833 0.686283 0\\n834 0.70667 0\\n835 0.71635 0\\n836 0.733307 0\\n837 0.736339 0\\n838 0.736339 0\\n839 0.736339 0\\n840 0.769407 0\\n841 0.769407 0\\n842 0.769407 0\\n843 0.768438 0\\n844 0.741322 0\\n845 0.729066 0\\n846 0.68983 0\\n847 0.650943 0\\n848 0.657867 0\\n849 0.671628 0\\n850 0.702021 0\\n851 0.73176 0\\n852 0.740496 0\\n853 0.74143 0\\n854 0.739237 0\\n855 0.736285 0\\n856 0.733968 0\\n857 0.725388 0\\n858 0.723139 0\\n859 0.713768 0\\n860 0.692869 0\\n861 0.680471 0\\n862 0.679724 0\\n863 0.696831 0\\n864 0.716209 0\\n865 0.723314 0\\n866 0.740435 0\\n867 0.743497 0\\n868 0.743497 0\\n869 0.743497 0\\n870 0.769407 0\\n871 0.769407 0\\n872 0.769407 0\\n873 0.768438 0\\n874 0.741322 0\\n875 0.729066 0\\n876 0.68983 0\\n877 0.650943 0\\n878 0.657867 0\\n879 0.671628 0\\n880 0.702021 0\\n881 0.73176 0\\n882 0.740496 0\\n883 0.74143 0\\n884 0.739237 0\\n885 0.736285 0\\n886 0.733968 0\\n887 0.725388 0\\n888 0.723139 0\\n889 0.713768 0\\n890 0.692869 0\\n891 0.680471 0\\n892 0.679724 0\\n893 0.696831 0\\n894 0.716209 0\\n895 0.723314 0\\n896 0.740435 0\\n897 0.743497 0\\n898 0.743497 0\\n899 0.743497 0\\n'}"
            ]
          },
          "metadata": {},
          "execution_count": 21
        }
      ]
    },
    {
      "cell_type": "code",
      "source": [
        "data = pd.read_csv(\"MultipleBlob_heatmap_tested_over_MultipleBlob.csv\", delimiter=' ')\n",
        "S0 = data['Ascore'].to_numpy()\n",
        "S0 = S0.reshape(xx.shape)"
      ],
      "metadata": {
        "id": "2IYDiB-_eT-E"
      },
      "execution_count": 22,
      "outputs": []
    },
    {
      "cell_type": "code",
      "source": [
        "f = plt.figure(figsize=(12,6))\n",
        "\n",
        "ax1 = f.add_subplot(121)\n",
        "levels = np.linspace(np.min(S0),np.max(S0),10)\n",
        "CS = ax1.contourf(xx, yy, S0, levels, cmap=plt.cm.YlOrRd)\n",
        "plt.scatter(x,y,s=15,c='None',edgecolor='k')\n",
        "plt.axis(\"equal\")\n",
        "\n",
        "plt.show()"
      ],
      "metadata": {
        "colab": {
          "base_uri": "https://localhost:8080/",
          "height": 374
        },
        "id": "goRsiFYgeeIi",
        "outputId": "0dfa9e45-3531-4d82-a6b1-d1a273893ff3"
      },
      "execution_count": 23,
      "outputs": [
        {
          "output_type": "display_data",
          "data": {
            "text/plain": [
              "<Figure size 864x432 with 1 Axes>"
            ],
            "image/png": "[encoded data removed]"
          },
          "metadata": {}
        }
      ]
    },
    {
      "cell_type": "markdown",
      "source": [
        "# Sinusoidal Data"
      ],
      "metadata": {
        "id": "hFrCRlrdqg9q"
      }
    },
    {
      "cell_type": "markdown",
      "source": [
        "## Data Preparation"
      ],
      "metadata": {
        "id": "wwMQQ1BjrMXb"
      }
    },
    {
      "cell_type": "markdown",
      "source": [
        "### Data Generation"
      ],
      "metadata": {
        "id": "zrMyG1gSrPq2"
      }
    },
    {
      "cell_type": "code",
      "source": [
        "N = 1000\n",
        "x = np.random.rand(N)*8*np.pi\n",
        "y = np.sin(x) + np.random.randn(N)/4.\n",
        "X=np.array([x,y]).T"
      ],
      "metadata": {
        "id": "4m8-21c_rSzU"
      },
      "execution_count": 24,
      "outputs": []
    },
    {
      "cell_type": "markdown",
      "source": [
        "### Data Visualisation"
      ],
      "metadata": {
        "id": "BdHOi16wrdNl"
      }
    },
    {
      "cell_type": "code",
      "source": [
        "fig=plt.figure(figsize=(6,6))\n",
        "fig.add_subplot(111)\n",
        "plt.plot(X[:,0],X[:,1],'o', color=[0.5,0.5,0.5])\n",
        "\n",
        "plt.xlim([-5,30])\n",
        "plt.ylim([-3.,3.])\n",
        "\n",
        "plt.show()"
      ],
      "metadata": {
        "colab": {
          "base_uri": "https://localhost:8080/",
          "height": 378
        },
        "id": "0mfRvtVTrXKE",
        "outputId": "a698cc48-e01c-4db2-9874-57c27ba87c26"
      },
      "execution_count": 25,
      "outputs": [
        {
          "output_type": "display_data",
          "data": {
            "text/plain": [
              "<Figure size 432x432 with 1 Axes>"
            ],
            "image/png": "[encoded data removed]"
          },
          "metadata": {}
        }
      ]
    },
    {
      "cell_type": "markdown",
      "source": [
        "### Save to csv"
      ],
      "metadata": {
        "id": "9xotDEM8rmvv"
      }
    },
    {
      "cell_type": "code",
      "source": [
        "label=np.zeros(1000, int)\n",
        "label[0]=1\n",
        "\n",
        "dict={'1':x, '2':y, 'label':label}\n",
        "df=pd.DataFrame(dict)\n",
        "\n",
        "df.to_csv('Sinusoidal.csv', sep='\\t')\n",
        "files.download(\"Sinusoidal.csv\")"
      ],
      "metadata": {
        "colab": {
          "base_uri": "https://localhost:8080/",
          "height": 17
        },
        "id": "Q2MT5mKnrqtK",
        "outputId": "80ecb586-f0ef-4f5e-d0e4-7b74cd621d70"
      },
      "execution_count": 26,
      "outputs": [
        {
          "output_type": "display_data",
          "data": {
            "text/plain": [
              "<IPython.core.display.Javascript object>"
            ],
            "application/javascript": [
              "\n",
              "    async function download(id, filename, size) {\n",
              "      if (!google.colab.kernel.accessAllowed) {\n",
              "        return;\n",
              "      }\n",
              "      const div = document.createElement('div');\n",
              "      const label = document.createElement('label');\n",
              "      label.textContent = `Downloading \"${filename}\": `;\n",
              "      div.appendChild(label);\n",
              "      const progress = document.createElement('progress');\n",
              "      progress.max = size;\n",
              "      div.appendChild(progress);\n",
              "      document.body.appendChild(div);\n",
              "\n",
              "      const buffers = [];\n",
              "      let downloaded = 0;\n",
              "\n",
              "      const channel = await google.colab.kernel.comms.open(id);\n",
              "      // Send a message to notify the kernel that we're ready.\n",
              "      channel.send({})\n",
              "\n",
              "      for await (const message of channel.messages) {\n",
              "        // Send a message to notify the kernel that we're ready.\n",
              "        channel.send({})\n",
              "        if (message.buffers) {\n",
              "          for (const buffer of message.buffers) {\n",
              "            buffers.push(buffer);\n",
              "            downloaded += buffer.byteLength;\n",
              "            progress.value = downloaded;\n",
              "          }\n",
              "        }\n",
              "      }\n",
              "      const blob = new Blob(buffers, {type: 'application/binary'});\n",
              "      const a = document.createElement('a');\n",
              "      a.href = window.URL.createObjectURL(blob);\n",
              "      a.download = filename;\n",
              "      div.appendChild(a);\n",
              "      a.click();\n",
              "      div.remove();\n",
              "    }\n",
              "  "
            ]
          },
          "metadata": {}
        },
        {
          "output_type": "display_data",
          "data": {
            "text/plain": [
              "<IPython.core.display.Javascript object>"
            ],
            "application/javascript": [
              "download(\"download_cfe713d2-e8ff-48d5-b867-94cb8613b085\", \"Sinusoidal.csv\", 44014)"
            ]
          },
          "metadata": {}
        }
      ]
    },
    {
      "cell_type": "markdown",
      "source": [
        "## Train iForest"
      ],
      "metadata": {
        "id": "dx_Q2nWVr-04"
      }
    },
    {
      "cell_type": "markdown",
      "source": [
        "This process is done on local machine."
      ],
      "metadata": {
        "id": "tsoM9liMsCWy"
      }
    },
    {
      "cell_type": "markdown",
      "source": [
        "## Obtain Anomaly scores"
      ],
      "metadata": {
        "id": "aRUX5YOZsE5D"
      }
    },
    {
      "cell_type": "code",
      "source": [
        "files.upload()"
      ],
      "metadata": {
        "colab": {
          "base_uri": "https://localhost:8080/",
          "height": 1000
        },
        "id": "-aympP3osh5w",
        "outputId": "7eee8f75-94a4-4984-8883-87e6e735e5b2"
      },
      "execution_count": 27,
      "outputs": [
        {
          "output_type": "display_data",
          "data": {
            "text/plain": [
              "<IPython.core.display.HTML object>"
            ],
            "text/html": [
              "\n",
              "     <input type=\"file\" id=\"files-3fdde4db-e2e2-40b9-9180-f9efa6c91815\" name=\"files[]\" multiple disabled\n",
              "        style=\"border:none\" />\n",
              "     <output id=\"result-3fdde4db-e2e2-40b9-9180-f9efa6c91815\">\n",
              "      Upload widget is only available when the cell has been executed in the\n",
              "      current browser session. Please rerun this cell to enable.\n",
              "      </output>\n",
              "      <script>// Copyright 2017 Google LLC\n",
              "//\n",
              "// Licensed under the Apache License, Version 2.0 (the \"License\");\n",
              "// you may not use this file except in compliance with the License.\n",
              "// You may obtain a copy of the License at\n",
              "//\n",
              "//      http://www.apache.org/licenses/LICENSE-2.0\n",
              "//\n",
              "// Unless required by applicable law or agreed to in writing, software\n",
              "// distributed under the License is distributed on an \"AS IS\" BASIS,\n",
              "// WITHOUT WARRANTIES OR CONDITIONS OF ANY KIND, either express or implied.\n",
              "// See the License for the specific language governing permissions and\n",
              "// limitations under the License.\n",
              "\n",
              "/**\n",
              " * @fileoverview Helpers for google.colab Python module.\n",
              " */\n",
              "(function(scope) {\n",
              "function span(text, styleAttributes = {}) {\n",
              "  const element = document.createElement('span');\n",
              "  element.textContent = text;\n",
              "  for (const key of Object.keys(styleAttributes)) {\n",
              "    element.style[key] = styleAttributes[key];\n",
              "  }\n",
              "  return element;\n",
              "}\n",
              "\n",
              "// Max number of bytes which will be uploaded at a time.\n",
              "const MAX_PAYLOAD_SIZE = 100 * 1024;\n",
              "\n",
              "function _uploadFiles(inputId, outputId) {\n",
              "  const steps = uploadFilesStep(inputId, outputId);\n",
              "  const outputElement = document.getElementById(outputId);\n",
              "  // Cache steps on the outputElement to make it available for the next call\n",
              "  // to uploadFilesContinue from Python.\n",
              "  outputElement.steps = steps;\n",
              "\n",
              "  return _uploadFilesContinue(outputId);\n",
              "}\n",
              "\n",
              "// This is roughly an async generator (not supported in the browser yet),\n",
              "// where there are multiple asynchronous steps and the Python side is going\n",
              "// to poll for completion of each step.\n",
              "// This uses a Promise to block the python side on completion of each step,\n",
              "// then passes the result of the previous step as the input to the next step.\n",
              "function _uploadFilesContinue(outputId) {\n",
              "  const outputElement = document.getElementById(outputId);\n",
              "  const steps = outputElement.steps;\n",
              "\n",
              "  const next = steps.next(outputElement.lastPromiseValue);\n",
              "  return Promise.resolve(next.value.promise).then((value) => {\n",
              "    // Cache the last promise value to make it available to the next\n",
              "    // step of the generator.\n",
              "    outputElement.lastPromiseValue = value;\n",
              "    return next.value.response;\n",
              "  });\n",
              "}\n",
              "\n",
              "/**\n",
              " * Generator function which is called between each async step of the upload\n",
              " * process.\n",
              " * @param {string} inputId Element ID of the input file picker element.\n",
              " * @param {string} outputId Element ID of the output display.\n",
              " * @return {!Iterable<!Object>} Iterable of next steps.\n",
              " */\n",
              "function* uploadFilesStep(inputId, outputId) {\n",
              "  const inputElement = document.getElementById(inputId);\n",
              "  inputElement.disabled = false;\n",
              "\n",
              "  const outputElement = document.getElementById(outputId);\n",
              "  outputElement.innerHTML = '';\n",
              "\n",
              "  const pickedPromise = new Promise((resolve) => {\n",
              "    inputElement.addEventListener('change', (e) => {\n",
              "      resolve(e.target.files);\n",
              "    });\n",
              "  });\n",
              "\n",
              "  const cancel = document.createElement('button');\n",
              "  inputElement.parentElement.appendChild(cancel);\n",
              "  cancel.textContent = 'Cancel upload';\n",
              "  const cancelPromise = new Promise((resolve) => {\n",
              "    cancel.onclick = () => {\n",
              "      resolve(null);\n",
              "    };\n",
              "  });\n",
              "\n",
              "  // Wait for the user to pick the files.\n",
              "  const files = yield {\n",
              "    promise: Promise.race([pickedPromise, cancelPromise]),\n",
              "    response: {\n",
              "      action: 'starting',\n",
              "    }\n",
              "  };\n",
              "\n",
              "  cancel.remove();\n",
              "\n",
              "  // Disable the input element since further picks are not allowed.\n",
              "  inputElement.disabled = true;\n",
              "\n",
              "  if (!files) {\n",
              "    return {\n",
              "      response: {\n",
              "        action: 'complete',\n",
              "      }\n",
              "    };\n",
              "  }\n",
              "\n",
              "  for (const file of files) {\n",
              "    const li = document.createElement('li');\n",
              "    li.append(span(file.name, {fontWeight: 'bold'}));\n",
              "    li.append(span(\n",
              "        `(${file.type || 'n/a'}) - ${file.size} bytes, ` +\n",
              "        `last modified: ${\n",
              "            file.lastModifiedDate ? file.lastModifiedDate.toLocaleDateString() :\n",
              "                                    'n/a'} - `));\n",
              "    const percent = span('0% done');\n",
              "    li.appendChild(percent);\n",
              "\n",
              "    outputElement.appendChild(li);\n",
              "\n",
              "    const fileDataPromise = new Promise((resolve) => {\n",
              "      const reader = new FileReader();\n",
              "      reader.onload = (e) => {\n",
              "        resolve(e.target.result);\n",
              "      };\n",
              "      reader.readAsArrayBuffer(file);\n",
              "    });\n",
              "    // Wait for the data to be ready.\n",
              "    let fileData = yield {\n",
              "      promise: fileDataPromise,\n",
              "      response: {\n",
              "        action: 'continue',\n",
              "      }\n",
              "    };\n",
              "\n",
              "    // Use a chunked sending to avoid message size limits. See b/62115660.\n",
              "    let position = 0;\n",
              "    do {\n",
              "      const length = Math.min(fileData.byteLength - position, MAX_PAYLOAD_SIZE);\n",
              "      const chunk = new Uint8Array(fileData, position, length);\n",
              "      position += length;\n",
              "\n",
              "      const base64 = btoa(String.fromCharCode.apply(null, chunk));\n",
              "      yield {\n",
              "        response: {\n",
              "          action: 'append',\n",
              "          file: file.name,\n",
              "          data: base64,\n",
              "        },\n",
              "      };\n",
              "\n",
              "      let percentDone = fileData.byteLength === 0 ?\n",
              "          100 :\n",
              "          Math.round((position / fileData.byteLength) * 100);\n",
              "      percent.textContent = `${percentDone}% done`;\n",
              "\n",
              "    } while (position < fileData.byteLength);\n",
              "  }\n",
              "\n",
              "  // All done.\n",
              "  yield {\n",
              "    response: {\n",
              "      action: 'complete',\n",
              "    }\n",
              "  };\n",
              "}\n",
              "\n",
              "scope.google = scope.google || {};\n",
              "scope.google.colab = scope.google.colab || {};\n",
              "scope.google.colab._files = {\n",
              "  _uploadFiles,\n",
              "  _uploadFilesContinue,\n",
              "};\n",
              "})(self);\n",
              "</script> "
            ]
          },
          "metadata": {}
        },
        {
          "output_type": "stream",
          "name": "stdout",
          "text": [
            "Saving Sinusoidal_tested_over_Sinusoidal.csv to Sinusoidal_tested_over_Sinusoidal.csv\n"
          ]
        },
        {
          "output_type": "execute_result",
          "data": {
            "text/plain": [
              "{'Sinusoidal_tested_over_Sinusoidal.csv': b'pointId Ascore actuallabel\\n0 0.486912 1\\n1 0.488667 0\\n2 0.488431 0\\n3 0.513591 0\\n4 0.483825 0\\n5 0.494303 0\\n6 0.490947 0\\n7 0.484051 0\\n8 0.531483 0\\n9 0.517576 0\\n10 0.481993 0\\n11 0.463962 0\\n12 0.48695 0\\n13 0.476232 0\\n14 0.484614 0\\n15 0.51292 0\\n16 0.559764 0\\n17 0.511657 0\\n18 0.474245 0\\n19 0.499499 0\\n20 0.48199 0\\n21 0.466725 0\\n22 0.476475 0\\n23 0.486235 0\\n24 0.529947 0\\n25 0.481257 0\\n26 0.549696 0\\n27 0.526402 0\\n28 0.478844 0\\n29 0.467161 0\\n30 0.482403 0\\n31 0.625065 0\\n32 0.475846 0\\n33 0.50332 0\\n34 0.498596 0\\n35 0.495799 0\\n36 0.496514 0\\n37 0.498675 0\\n38 0.575677 0\\n39 0.518189 0\\n40 0.499981 0\\n41 0.542105 0\\n42 0.500039 0\\n43 0.495114 0\\n44 0.492972 0\\n45 0.468677 0\\n46 0.508689 0\\n47 0.529881 0\\n48 0.471665 0\\n49 0.498428 0\\n50 0.459334 0\\n51 0.547738 0\\n52 0.488761 0\\n53 0.488285 0\\n54 0.507244 0\\n55 0.480937 0\\n56 0.479622 0\\n57 0.478788 0\\n58 0.50463 0\\n59 0.52251 0\\n60 0.4976 0\\n61 0.511668 0\\n62 0.504942 0\\n63 0.510648 0\\n64 0.489279 0\\n65 0.470487 0\\n66 0.47667 0\\n67 0.471994 0\\n68 0.478603 0\\n69 0.503738 0\\n70 0.521063 0\\n71 0.511579 0\\n72 0.503547 0\\n73 0.573104 0\\n74 0.571585 0\\n75 0.476309 0\\n76 0.47929 0\\n77 0.534137 0\\n78 0.497507 0\\n79 0.500165 0\\n80 0.530213 0\\n81 0.483989 0\\n82 0.477833 0\\n83 0.499021 0\\n84 0.491783 0\\n85 0.470328 0\\n86 0.481107 0\\n87 0.504175 0\\n88 0.488238 0\\n89 0.501795 0\\n90 0.53147 0\\n91 0.51077 0\\n92 0.47102 0\\n93 0.505902 0\\n94 0.481396 0\\n95 0.57214 0\\n96 0.484754 0\\n97 0.480312 0\\n98 0.536679 0\\n99 0.494936 0\\n100 0.484815 0\\n101 0.642177 0\\n102 0.488325 0\\n103 0.473652 0\\n104 0.488919 0\\n105 0.536135 0\\n106 0.467506 0\\n107 0.498096 0\\n108 0.478859 0\\n109 0.523556 0\\n110 0.533607 0\\n111 0.505343 0\\n112 0.520142 0\\n113 0.486593 0\\n114 0.471194 0\\n115 0.516587 0\\n116 0.508811 0\\n117 0.593728 0\\n118 0.628775 0\\n119 0.521809 0\\n120 0.579815 0\\n121 0.529354 0\\n122 0.598717 0\\n123 0.572517 0\\n124 0.531197 0\\n125 0.500309 0\\n126 0.495037 0\\n127 0.489164 0\\n128 0.502499 0\\n129 0.498248 0\\n130 0.482375 0\\n131 0.530911 0\\n132 0.483597 0\\n133 0.554557 0\\n134 0.478519 0\\n135 0.484985 0\\n136 0.559043 0\\n137 0.513591 0\\n138 0.494933 0\\n139 0.521997 0\\n140 0.518864 0\\n141 0.493034 0\\n142 0.495889 0\\n143 0.550785 0\\n144 0.581095 0\\n145 0.483986 0\\n146 0.538243 0\\n147 0.511796 0\\n148 0.486826 0\\n149 0.494484 0\\n150 0.486416 0\\n151 0.475988 0\\n152 0.463551 0\\n153 0.603143 0\\n154 0.500825 0\\n155 0.537704 0\\n156 0.54654 0\\n157 0.497088 0\\n158 0.485218 0\\n159 0.491505 0\\n160 0.565952 0\\n161 0.523969 0\\n162 0.505692 0\\n163 0.50049 0\\n164 0.559758 0\\n165 0.546805 0\\n166 0.56217 0\\n167 0.529702 0\\n168 0.663717 0\\n169 0.520448 0\\n170 0.527038 0\\n171 0.489216 0\\n172 0.49567 0\\n173 0.537513 0\\n174 0.494692 0\\n175 0.487414 0\\n176 0.499808 0\\n177 0.483718 0\\n178 0.532703 0\\n179 0.491296 0\\n180 0.514906 0\\n181 0.523201 0\\n182 0.529474 0\\n183 0.485389 0\\n184 0.474871 0\\n185 0.53206 0\\n186 0.494547 0\\n187 0.568741 0\\n188 0.480337 0\\n189 0.541662 0\\n190 0.523699 0\\n191 0.580487 0\\n192 0.512247 0\\n193 0.511107 0\\n194 0.485206 0\\n195 0.527174 0\\n196 0.500717 0\\n197 0.516156 0\\n198 0.52263 0\\n199 0.515474 0\\n200 0.497273 0\\n201 0.515472 0\\n202 0.513532 0\\n203 0.484885 0\\n204 0.518633 0\\n205 0.48914 0\\n206 0.487012 0\\n207 0.538127 0\\n208 0.505774 0\\n209 0.536872 0\\n210 0.589908 0\\n211 0.649359 0\\n212 0.476054 0\\n213 0.491056 0\\n214 0.52094 0\\n215 0.614581 0\\n216 0.49481 0\\n217 0.574482 0\\n218 0.484698 0\\n219 0.485526 0\\n220 0.4878 0\\n221 0.493236 0\\n222 0.466071 0\\n223 0.48611 0\\n224 0.505522 0\\n225 0.485533 0\\n226 0.478931 0\\n227 0.495313 0\\n228 0.478017 0\\n229 0.52743 0\\n230 0.506862 0\\n231 0.498344 0\\n232 0.509672 0\\n233 0.488779 0\\n234 0.504456 0\\n235 0.502781 0\\n236 0.477553 0\\n237 0.493186 0\\n238 0.479687 0\\n239 0.484179 0\\n240 0.499561 0\\n241 0.493433 0\\n242 0.527658 0\\n243 0.487804 0\\n244 0.55538 0\\n245 0.479133 0\\n246 0.491661 0\\n247 0.555179 0\\n248 0.515311 0\\n249 0.482973 0\\n250 0.477943 0\\n251 0.545757 0\\n252 0.531482 0\\n253 0.492 0\\n254 0.506606 0\\n255 0.498735 0\\n256 0.501154 0\\n257 0.478164 0\\n258 0.487865 0\\n259 0.483648 0\\n260 0.603523 0\\n261 0.527452 0\\n262 0.49537 0\\n263 0.493971 0\\n264 0.544304 0\\n265 0.518096 0\\n266 0.502548 0\\n267 0.511636 0\\n268 0.5298 0\\n269 0.532645 0\\n270 0.499288 0\\n271 0.480501 0\\n272 0.487026 0\\n273 0.485894 0\\n274 0.515943 0\\n275 0.589025 0\\n276 0.48899 0\\n277 0.588773 0\\n278 0.521479 0\\n279 0.47119 0\\n280 0.505188 0\\n281 0.533695 0\\n282 0.534923 0\\n283 0.482557 0\\n284 0.490096 0\\n285 0.490484 0\\n286 0.526244 0\\n287 0.513497 0\\n288 0.523456 0\\n289 0.494257 0\\n290 0.533445 0\\n291 0.615898 0\\n292 0.474962 0\\n293 0.513634 0\\n294 0.502141 0\\n295 0.512909 0\\n296 0.555277 0\\n297 0.519215 0\\n298 0.499255 0\\n299 0.516332 0\\n300 0.506175 0\\n301 0.508563 0\\n302 0.502717 0\\n303 0.478688 0\\n304 0.51442 0\\n305 0.487565 0\\n306 0.488177 0\\n307 0.487611 0\\n308 0.486903 0\\n309 0.537743 0\\n310 0.48493 0\\n311 0.516939 0\\n312 0.485914 0\\n313 0.491883 0\\n314 0.590864 0\\n315 0.48253 0\\n316 0.501626 0\\n317 0.470348 0\\n318 0.544872 0\\n319 0.529216 0\\n320 0.516155 0\\n321 0.472855 0\\n322 0.494649 0\\n323 0.490454 0\\n324 0.4838 0\\n325 0.47677 0\\n326 0.533123 0\\n327 0.522982 0\\n328 0.48549 0\\n329 0.479484 0\\n330 0.519653 0\\n331 0.512091 0\\n332 0.482831 0\\n333 0.496398 0\\n334 0.505384 0\\n335 0.562454 0\\n336 0.54391 0\\n337 0.484841 0\\n338 0.490309 0\\n339 0.474855 0\\n340 0.504161 0\\n341 0.49319 0\\n342 0.481633 0\\n343 0.468551 0\\n344 0.516926 0\\n345 0.484181 0\\n346 0.48801 0\\n347 0.515097 0\\n348 0.660634 0\\n349 0.492574 0\\n350 0.474385 0\\n351 0.544901 0\\n352 0.579326 0\\n353 0.508615 0\\n354 0.495981 0\\n355 0.511012 0\\n356 0.572088 0\\n357 0.517885 0\\n358 0.581577 0\\n359 0.47774 0\\n360 0.483143 0\\n361 0.496154 0\\n362 0.485246 0\\n363 0.567552 0\\n364 0.558895 0\\n365 0.496984 0\\n366 0.473319 0\\n367 0.477177 0\\n368 0.519649 0\\n369 0.520403 0\\n370 0.482199 0\\n371 0.471371 0\\n372 0.475894 0\\n373 0.553342 0\\n374 0.526665 0\\n375 0.541583 0\\n376 0.518446 0\\n377 0.493691 0\\n378 0.498202 0\\n379 0.476686 0\\n380 0.499702 0\\n381 0.489382 0\\n382 0.522211 0\\n383 0.485605 0\\n384 0.548516 0\\n385 0.524358 0\\n386 0.500752 0\\n387 0.530023 0\\n388 0.528727 0\\n389 0.527895 0\\n390 0.500668 0\\n391 0.497452 0\\n392 0.505321 0\\n393 0.505655 0\\n394 0.505271 0\\n395 0.485514 0\\n396 0.476933 0\\n397 0.476167 0\\n398 0.483919 0\\n399 0.482845 0\\n400 0.487719 0\\n401 0.501547 0\\n402 0.586568 0\\n403 0.528382 0\\n404 0.487564 0\\n405 0.537576 0\\n406 0.483538 0\\n407 0.499078 0\\n408 0.472273 0\\n409 0.502189 0\\n410 0.517324 0\\n411 0.523573 0\\n412 0.550002 0\\n413 0.468274 0\\n414 0.494973 0\\n415 0.548589 0\\n416 0.484282 0\\n417 0.487619 0\\n418 0.500812 0\\n419 0.501136 0\\n420 0.48024 0\\n421 0.47922 0\\n422 0.511618 0\\n423 0.476692 0\\n424 0.481055 0\\n425 0.491665 0\\n426 0.506386 0\\n427 0.498482 0\\n428 0.526125 0\\n429 0.532405 0\\n430 0.534889 0\\n431 0.531362 0\\n432 0.54387 0\\n433 0.504502 0\\n434 0.533605 0\\n435 0.482721 0\\n436 0.520894 0\\n437 0.578769 0\\n438 0.463266 0\\n439 0.576928 0\\n440 0.524683 0\\n441 0.53413 0\\n442 0.519427 0\\n443 0.501114 0\\n444 0.521902 0\\n445 0.522976 0\\n446 0.479358 0\\n447 0.522897 0\\n448 0.492867 0\\n449 0.534346 0\\n450 0.482528 0\\n451 0.588792 0\\n452 0.543242 0\\n453 0.513263 0\\n454 0.476972 0\\n455 0.491804 0\\n456 0.496707 0\\n457 0.501208 0\\n458 0.482366 0\\n459 0.507943 0\\n460 0.513092 0\\n461 0.486122 0\\n462 0.537692 0\\n463 0.516839 0\\n464 0.483754 0\\n465 0.482697 0\\n466 0.484463 0\\n467 0.491084 0\\n468 0.643836 0\\n469 0.601817 0\\n470 0.50631 0\\n471 0.507302 0\\n472 0.482213 0\\n473 0.502043 0\\n474 0.481467 0\\n475 0.501839 0\\n476 0.530886 0\\n477 0.480536 0\\n478 0.485922 0\\n479 0.523214 0\\n480 0.511756 0\\n481 0.47492 0\\n482 0.515799 0\\n483 0.500939 0\\n484 0.66573 0\\n485 0.4863 0\\n486 0.525792 0\\n487 0.577676 0\\n488 0.596636 0\\n489 0.474948 0\\n490 0.492694 0\\n491 0.4872 0\\n492 0.486098 0\\n493 0.56276 0\\n494 0.519335 0\\n495 0.523667 0\\n496 0.503757 0\\n497 0.574974 0\\n498 0.483277 0\\n499 0.466836 0\\n500 0.479084 0\\n501 0.492993 0\\n502 0.497484 0\\n503 0.508458 0\\n504 0.537273 0\\n505 0.527072 0\\n506 0.524909 0\\n507 0.513418 0\\n508 0.488776 0\\n509 0.540917 0\\n510 0.53326 0\\n511 0.484079 0\\n512 0.491682 0\\n513 0.497161 0\\n514 0.498082 0\\n515 0.500314 0\\n516 0.569345 0\\n517 0.488891 0\\n518 0.480245 0\\n519 0.471288 0\\n520 0.513044 0\\n521 0.541621 0\\n522 0.521628 0\\n523 0.507008 0\\n524 0.477477 0\\n525 0.494182 0\\n526 0.530397 0\\n527 0.487649 0\\n528 0.508165 0\\n529 0.509833 0\\n530 0.489746 0\\n531 0.499594 0\\n532 0.539124 0\\n533 0.5405 0\\n534 0.48372 0\\n535 0.481342 0\\n536 0.496607 0\\n537 0.536763 0\\n538 0.51401 0\\n539 0.471648 0\\n540 0.514159 0\\n541 0.497862 0\\n542 0.495926 0\\n543 0.536127 0\\n544 0.48313 0\\n545 0.546649 0\\n546 0.494619 0\\n547 0.485348 0\\n548 0.60539 0\\n549 0.479785 0\\n550 0.536284 0\\n551 0.615962 0\\n552 0.493829 0\\n553 0.507818 0\\n554 0.603193 0\\n555 0.489836 0\\n556 0.484141 0\\n557 0.51332 0\\n558 0.479321 0\\n559 0.49277 0\\n560 0.483393 0\\n561 0.505125 0\\n562 0.470822 0\\n563 0.476862 0\\n564 0.474271 0\\n565 0.468088 0\\n566 0.48061 0\\n567 0.514491 0\\n568 0.486296 0\\n569 0.479105 0\\n570 0.550676 0\\n571 0.659587 0\\n572 0.509516 0\\n573 0.534162 0\\n574 0.472895 0\\n575 0.488599 0\\n576 0.48415 0\\n577 0.559429 0\\n578 0.489613 0\\n579 0.483455 0\\n580 0.493396 0\\n581 0.53261 0\\n582 0.47649 0\\n583 0.550158 0\\n584 0.477787 0\\n585 0.476662 0\\n586 0.478084 0\\n587 0.486708 0\\n588 0.494661 0\\n589 0.474067 0\\n590 0.501487 0\\n591 0.497814 0\\n592 0.477767 0\\n593 0.523282 0\\n594 0.478949 0\\n595 0.516487 0\\n596 0.528087 0\\n597 0.486307 0\\n598 0.480173 0\\n599 0.517717 0\\n600 0.516067 0\\n601 0.521023 0\\n602 0.537107 0\\n603 0.484992 0\\n604 0.539221 0\\n605 0.517606 0\\n606 0.512044 0\\n607 0.524562 0\\n608 0.490313 0\\n609 0.481467 0\\n610 0.520879 0\\n611 0.596844 0\\n612 0.512447 0\\n613 0.47248 0\\n614 0.470088 0\\n615 0.490193 0\\n616 0.474381 0\\n617 0.492491 0\\n618 0.490463 0\\n619 0.484147 0\\n620 0.477349 0\\n621 0.47927 0\\n622 0.469951 0\\n623 0.481393 0\\n624 0.491078 0\\n625 0.491975 0\\n626 0.514969 0\\n627 0.461169 0\\n628 0.573885 0\\n629 0.522662 0\\n630 0.484053 0\\n631 0.527585 0\\n632 0.46423 0\\n633 0.482218 0\\n634 0.481016 0\\n635 0.480898 0\\n636 0.540988 0\\n637 0.491833 0\\n638 0.511235 0\\n639 0.561126 0\\n640 0.587912 0\\n641 0.501318 0\\n642 0.530333 0\\n643 0.48987 0\\n644 0.545713 0\\n645 0.63814 0\\n646 0.491804 0\\n647 0.510523 0\\n648 0.487434 0\\n649 0.48323 0\\n650 0.512073 0\\n651 0.469629 0\\n652 0.474906 0\\n653 0.503627 0\\n654 0.472153 0\\n655 0.476388 0\\n656 0.51212 0\\n657 0.531107 0\\n658 0.539316 0\\n659 0.572265 0\\n660 0.472292 0\\n661 0.501543 0\\n662 0.501978 0\\n663 0.525502 0\\n664 0.476505 0\\n665 0.477792 0\\n666 0.517248 0\\n667 0.494334 0\\n668 0.516424 0\\n669 0.513446 0\\n670 0.506655 0\\n671 0.481479 0\\n672 0.477515 0\\n673 0.59246 0\\n674 0.608287 0\\n675 0.503242 0\\n676 0.568876 0\\n677 0.51619 0\\n678 0.51662 0\\n679 0.487673 0\\n680 0.503182 0\\n681 0.476421 0\\n682 0.519015 0\\n683 0.489487 0\\n684 0.50615 0\\n685 0.50162 0\\n686 0.493246 0\\n687 0.58651 0\\n688 0.482211 0\\n689 0.547554 0\\n690 0.481877 0\\n691 0.503159 0\\n692 0.492729 0\\n693 0.526035 0\\n694 0.546124 0\\n695 0.514022 0\\n696 0.485796 0\\n697 0.508375 0\\n698 0.529457 0\\n699 0.501114 0\\n700 0.505103 0\\n701 0.478668 0\\n702 0.562826 0\\n703 0.491275 0\\n704 0.48326 0\\n705 0.485194 0\\n706 0.489571 0\\n707 0.482392 0\\n708 0.550944 0\\n709 0.526087 0\\n710 0.49542 0\\n711 0.517002 0\\n712 0.473613 0\\n713 0.570252 0\\n714 0.466745 0\\n715 0.462664 0\\n716 0.494064 0\\n717 0.486151 0\\n718 0.52295 0\\n719 0.517941 0\\n720 0.532834 0\\n721 0.475346 0\\n722 0.494771 0\\n723 0.505265 0\\n724 0.534425 0\\n725 0.4929 0\\n726 0.559463 0\\n727 0.483688 0\\n728 0.517504 0\\n729 0.48219 0\\n730 0.519179 0\\n731 0.507346 0\\n732 0.483861 0\\n733 0.479149 0\\n734 0.501844 0\\n735 0.482145 0\\n736 0.48397 0\\n737 0.526754 0\\n738 0.506686 0\\n739 0.48233 0\\n740 0.501304 0\\n741 0.491208 0\\n742 0.520813 0\\n743 0.476795 0\\n744 0.527625 0\\n745 0.501741 0\\n746 0.542374 0\\n747 0.602394 0\\n748 0.470994 0\\n749 0.521929 0\\n750 0.467885 0\\n751 0.482185 0\\n752 0.491354 0\\n753 0.474631 0\\n754 0.573682 0\\n755 0.498333 0\\n756 0.485108 0\\n757 0.501191 0\\n758 0.500454 0\\n759 0.508309 0\\n760 0.48947 0\\n761 0.504654 0\\n762 0.52797 0\\n763 0.552029 0\\n764 0.487779 0\\n765 0.470111 0\\n766 0.52188 0\\n767 0.53017 0\\n768 0.580135 0\\n769 0.487061 0\\n770 0.475309 0\\n771 0.581588 0\\n772 0.479864 0\\n773 0.484684 0\\n774 0.477623 0\\n775 0.483656 0\\n776 0.496892 0\\n777 0.533089 0\\n778 0.492377 0\\n779 0.4908 0\\n780 0.479833 0\\n781 0.524045 0\\n782 0.485877 0\\n783 0.484887 0\\n784 0.481429 0\\n785 0.542332 0\\n786 0.546462 0\\n787 0.529329 0\\n788 0.47872 0\\n789 0.473653 0\\n790 0.484624 0\\n791 0.564839 0\\n792 0.52902 0\\n793 0.491251 0\\n794 0.514266 0\\n795 0.487719 0\\n796 0.49538 0\\n797 0.512217 0\\n798 0.502331 0\\n799 0.467117 0\\n800 0.481419 0\\n801 0.484344 0\\n802 0.475472 0\\n803 0.476265 0\\n804 0.472595 0\\n805 0.480132 0\\n806 0.487314 0\\n807 0.496958 0\\n808 0.573471 0\\n809 0.523802 0\\n810 0.538249 0\\n811 0.530084 0\\n812 0.492978 0\\n813 0.552571 0\\n814 0.543429 0\\n815 0.491299 0\\n816 0.506279 0\\n817 0.5207 0\\n818 0.49789 0\\n819 0.520359 0\\n820 0.483839 0\\n821 0.475826 0\\n822 0.533707 0\\n823 0.498983 0\\n824 0.519502 0\\n825 0.472563 0\\n826 0.489526 0\\n827 0.490582 0\\n828 0.48343 0\\n829 0.485626 0\\n830 0.572199 0\\n831 0.486005 0\\n832 0.499021 0\\n833 0.508603 0\\n834 0.48694 0\\n835 0.501352 0\\n836 0.491448 0\\n837 0.483568 0\\n838 0.47924 0\\n839 0.539751 0\\n840 0.481069 0\\n841 0.57955 0\\n842 0.525213 0\\n843 0.47675 0\\n844 0.506804 0\\n845 0.50371 0\\n846 0.483803 0\\n847 0.534767 0\\n848 0.477059 0\\n849 0.461987 0\\n850 0.493754 0\\n851 0.499725 0\\n852 0.524214 0\\n853 0.478166 0\\n854 0.508623 0\\n855 0.521585 0\\n856 0.507563 0\\n857 0.51642 0\\n858 0.517352 0\\n859 0.531951 0\\n860 0.480129 0\\n861 0.508525 0\\n862 0.53491 0\\n863 0.503022 0\\n864 0.493304 0\\n865 0.483569 0\\n866 0.488877 0\\n867 0.562283 0\\n868 0.476433 0\\n869 0.524705 0\\n870 0.481638 0\\n871 0.494604 0\\n872 0.481857 0\\n873 0.518148 0\\n874 0.505966 0\\n875 0.516522 0\\n876 0.491634 0\\n877 0.478011 0\\n878 0.504007 0\\n879 0.525391 0\\n880 0.668333 0\\n881 0.47897 0\\n882 0.497916 0\\n883 0.479111 0\\n884 0.519981 0\\n885 0.478037 0\\n886 0.52493 0\\n887 0.473517 0\\n888 0.486831 0\\n889 0.476675 0\\n890 0.481936 0\\n891 0.474316 0\\n892 0.470936 0\\n893 0.473424 0\\n894 0.671307 0\\n895 0.480192 0\\n896 0.526037 0\\n897 0.514167 0\\n898 0.470111 0\\n899 0.468417 0\\n900 0.488432 0\\n901 0.495146 0\\n902 0.480739 0\\n903 0.513547 0\\n904 0.631517 0\\n905 0.493784 0\\n906 0.480396 0\\n907 0.492124 0\\n908 0.527579 0\\n909 0.527499 0\\n910 0.488381 0\\n911 0.539608 0\\n912 0.534483 0\\n913 0.494126 0\\n914 0.500445 0\\n915 0.491248 0\\n916 0.483713 0\\n917 0.552011 0\\n918 0.480356 0\\n919 0.490735 0\\n920 0.506175 0\\n921 0.523326 0\\n922 0.482344 0\\n923 0.49235 0\\n924 0.595155 0\\n925 0.487584 0\\n926 0.486959 0\\n927 0.484997 0\\n928 0.481504 0\\n929 0.498347 0\\n930 0.477387 0\\n931 0.5943 0\\n932 0.495515 0\\n933 0.489617 0\\n934 0.479834 0\\n935 0.471457 0\\n936 0.50823 0\\n937 0.491742 0\\n938 0.485158 0\\n939 0.474764 0\\n940 0.544629 0\\n941 0.483132 0\\n942 0.491709 0\\n943 0.501493 0\\n944 0.562254 0\\n945 0.481146 0\\n946 0.491259 0\\n947 0.469913 0\\n948 0.492216 0\\n949 0.478102 0\\n950 0.482132 0\\n951 0.495229 0\\n952 0.655209 0\\n953 0.481945 0\\n954 0.517783 0\\n955 0.509225 0\\n956 0.498095 0\\n957 0.499519 0\\n958 0.484177 0\\n959 0.511654 0\\n960 0.483964 0\\n961 0.49357 0\\n962 0.524661 0\\n963 0.48323 0\\n964 0.497979 0\\n965 0.526737 0\\n966 0.48658 0\\n967 0.48441 0\\n968 0.504373 0\\n969 0.542257 0\\n970 0.494649 0\\n971 0.471458 0\\n972 0.469425 0\\n973 0.559539 0\\n974 0.522491 0\\n975 0.479149 0\\n976 0.64008 0\\n977 0.478297 0\\n978 0.507661 0\\n979 0.468842 0\\n980 0.475401 0\\n981 0.468179 0\\n982 0.49278 0\\n983 0.500838 0\\n984 0.534623 0\\n985 0.514349 0\\n986 0.491161 0\\n987 0.499591 0\\n988 0.478037 0\\n989 0.498545 0\\n990 0.525321 0\\n991 0.530081 0\\n992 0.541678 0\\n993 0.486667 0\\n994 0.479234 0\\n995 0.511336 0\\n996 0.507862 0\\n997 0.524168 0\\n998 0.493701 0\\n999 0.477414 0\\n'}"
            ]
          },
          "metadata": {},
          "execution_count": 27
        }
      ]
    },
    {
      "cell_type": "code",
      "source": [
        "data = pd.read_csv(\"Sinusoidal_tested_over_Sinusoidal.csv\", delimiter=' ')\n",
        "S0 = data['Ascore'].to_numpy()"
      ],
      "metadata": {
        "id": "1onuRjOOfNZ8"
      },
      "execution_count": 28,
      "outputs": []
    },
    {
      "cell_type": "markdown",
      "source": [
        "### Visualise Scores"
      ],
      "metadata": {
        "id": "aWfmzem5tBV2"
      }
    },
    {
      "cell_type": "code",
      "source": [
        "ss0=np.argsort(S0)\n",
        "\n",
        "f = plt.figure(figsize=(12,6))\n",
        "plt.subplot(1,2,1)\n",
        "plt.scatter(x,y,s=15,c='b',edgecolor='b')\n",
        "plt.scatter(x[ss0[-10:]],y[ss0[-10:]],s=55,c='k')\n",
        "plt.scatter(x[ss0[:10]],y[ss0[:10]],s=55,c='r')\n",
        "plt.title('standard')\n",
        "\n",
        "plt.show()\n"
      ],
      "metadata": {
        "colab": {
          "base_uri": "https://localhost:8080/",
          "height": 390
        },
        "id": "VyUqkdiGtPem",
        "outputId": "01e678fe-d5c7-4650-f52a-a47b528c6c06"
      },
      "execution_count": 29,
      "outputs": [
        {
          "output_type": "display_data",
          "data": {
            "text/plain": [
              "<Figure size 864x432 with 1 Axes>"
            ],
            "image/png": "[encoded data removed]"
          },
          "metadata": {}
        }
      ]
    },
    {
      "cell_type": "code",
      "source": [
        "f = plt.figure(figsize=(12,6))\n",
        "plt.subplot(1,2,1)\n",
        "sb.distplot(S0, kde=True, color=\"b\")\n",
        "plt.title('standard')\n"
      ],
      "metadata": {
        "colab": {
          "base_uri": "https://localhost:8080/",
          "height": 462
        },
        "id": "ytojQRNetS2O",
        "outputId": "c5352f2c-bea9-4af2-d8b6-1a328488446d"
      },
      "execution_count": 30,
      "outputs": [
        {
          "output_type": "stream",
          "name": "stderr",
          "text": [
            "/usr/local/lib/python3.7/dist-packages/seaborn/distributions.py:2619: FutureWarning: `distplot` is a deprecated function and will be removed in a future version. Please adapt your code to use either `displot` (a figure-level function with similar flexibility) or `histplot` (an axes-level function for histograms).\n",
            "  warnings.warn(msg, FutureWarning)\n"
          ]
        },
        {
          "output_type": "execute_result",
          "data": {
            "text/plain": [
              "Text(0.5, 1.0, 'standard')"
            ]
          },
          "metadata": {},
          "execution_count": 30
        },
        {
          "output_type": "display_data",
          "data": {
            "text/plain": [
              "<Figure size 864x432 with 1 Axes>"
            ],
            "image/png": "[encoded data removed]"
          },
          "metadata": {}
        }
      ]
    },
    {
      "cell_type": "markdown",
      "source": [
        "## Score Maps"
      ],
      "metadata": {
        "id": "5dBtRh-pt3CI"
      }
    },
    {
      "cell_type": "code",
      "source": [
        "xx, yy = np.meshgrid(np.linspace(-5, 30, 30), np.linspace(-3, 3, 30))\n",
        "X_in=np.c_[xx.ravel(), yy.ravel()]\n",
        "\n",
        "label=np.zeros(900, int)\n",
        "\n",
        "dict={'1':X_in[:, 0], '2':X_in[:, 1], 'label':label}\n",
        "df=pd.DataFrame(dict)\n",
        "\n",
        "df.to_csv('Sinusoidal_heatmap.csv', sep='\\t')\n",
        "files.download(\"Sinusoidal_heatmap.csv\")\n"
      ],
      "metadata": {
        "colab": {
          "base_uri": "https://localhost:8080/",
          "height": 17
        },
        "id": "3JSbJ9Wut9vD",
        "outputId": "27e6c3fc-67b6-48b0-d3ba-889775d3f411"
      },
      "execution_count": 31,
      "outputs": [
        {
          "output_type": "display_data",
          "data": {
            "text/plain": [
              "<IPython.core.display.Javascript object>"
            ],
            "application/javascript": [
              "\n",
              "    async function download(id, filename, size) {\n",
              "      if (!google.colab.kernel.accessAllowed) {\n",
              "        return;\n",
              "      }\n",
              "      const div = document.createElement('div');\n",
              "      const label = document.createElement('label');\n",
              "      label.textContent = `Downloading \"${filename}\": `;\n",
              "      div.appendChild(label);\n",
              "      const progress = document.createElement('progress');\n",
              "      progress.max = size;\n",
              "      div.appendChild(progress);\n",
              "      document.body.appendChild(div);\n",
              "\n",
              "      const buffers = [];\n",
              "      let downloaded = 0;\n",
              "\n",
              "      const channel = await google.colab.kernel.comms.open(id);\n",
              "      // Send a message to notify the kernel that we're ready.\n",
              "      channel.send({})\n",
              "\n",
              "      for await (const message of channel.messages) {\n",
              "        // Send a message to notify the kernel that we're ready.\n",
              "        channel.send({})\n",
              "        if (message.buffers) {\n",
              "          for (const buffer of message.buffers) {\n",
              "            buffers.push(buffer);\n",
              "            downloaded += buffer.byteLength;\n",
              "            progress.value = downloaded;\n",
              "          }\n",
              "        }\n",
              "      }\n",
              "      const blob = new Blob(buffers, {type: 'application/binary'});\n",
              "      const a = document.createElement('a');\n",
              "      a.href = window.URL.createObjectURL(blob);\n",
              "      a.download = filename;\n",
              "      div.appendChild(a);\n",
              "      a.click();\n",
              "      div.remove();\n",
              "    }\n",
              "  "
            ]
          },
          "metadata": {}
        },
        {
          "output_type": "display_data",
          "data": {
            "text/plain": [
              "<IPython.core.display.Javascript object>"
            ],
            "application/javascript": [
              "download(\"download_48bd36d9-3ae4-45d7-98f6-7f7e83bf890d\", \"Sinusoidal_heatmap.csv\", 37971)"
            ]
          },
          "metadata": {}
        }
      ]
    },
    {
      "cell_type": "code",
      "source": [
        "files.upload()\n"
      ],
      "metadata": {
        "colab": {
          "base_uri": "https://localhost:8080/",
          "height": 1000
        },
        "id": "eoyTUjSluxYR",
        "outputId": "ed5a9f95-bfff-4017-b628-592f2526c8f6"
      },
      "execution_count": 32,
      "outputs": [
        {
          "output_type": "display_data",
          "data": {
            "text/plain": [
              "<IPython.core.display.HTML object>"
            ],
            "text/html": [
              "\n",
              "     <input type=\"file\" id=\"files-22babfed-38db-4b92-9ed0-c99b265ef2a3\" name=\"files[]\" multiple disabled\n",
              "        style=\"border:none\" />\n",
              "     <output id=\"result-22babfed-38db-4b92-9ed0-c99b265ef2a3\">\n",
              "      Upload widget is only available when the cell has been executed in the\n",
              "      current browser session. Please rerun this cell to enable.\n",
              "      </output>\n",
              "      <script>// Copyright 2017 Google LLC\n",
              "//\n",
              "// Licensed under the Apache License, Version 2.0 (the \"License\");\n",
              "// you may not use this file except in compliance with the License.\n",
              "// You may obtain a copy of the License at\n",
              "//\n",
              "//      http://www.apache.org/licenses/LICENSE-2.0\n",
              "//\n",
              "// Unless required by applicable law or agreed to in writing, software\n",
              "// distributed under the License is distributed on an \"AS IS\" BASIS,\n",
              "// WITHOUT WARRANTIES OR CONDITIONS OF ANY KIND, either express or implied.\n",
              "// See the License for the specific language governing permissions and\n",
              "// limitations under the License.\n",
              "\n",
              "/**\n",
              " * @fileoverview Helpers for google.colab Python module.\n",
              " */\n",
              "(function(scope) {\n",
              "function span(text, styleAttributes = {}) {\n",
              "  const element = document.createElement('span');\n",
              "  element.textContent = text;\n",
              "  for (const key of Object.keys(styleAttributes)) {\n",
              "    element.style[key] = styleAttributes[key];\n",
              "  }\n",
              "  return element;\n",
              "}\n",
              "\n",
              "// Max number of bytes which will be uploaded at a time.\n",
              "const MAX_PAYLOAD_SIZE = 100 * 1024;\n",
              "\n",
              "function _uploadFiles(inputId, outputId) {\n",
              "  const steps = uploadFilesStep(inputId, outputId);\n",
              "  const outputElement = document.getElementById(outputId);\n",
              "  // Cache steps on the outputElement to make it available for the next call\n",
              "  // to uploadFilesContinue from Python.\n",
              "  outputElement.steps = steps;\n",
              "\n",
              "  return _uploadFilesContinue(outputId);\n",
              "}\n",
              "\n",
              "// This is roughly an async generator (not supported in the browser yet),\n",
              "// where there are multiple asynchronous steps and the Python side is going\n",
              "// to poll for completion of each step.\n",
              "// This uses a Promise to block the python side on completion of each step,\n",
              "// then passes the result of the previous step as the input to the next step.\n",
              "function _uploadFilesContinue(outputId) {\n",
              "  const outputElement = document.getElementById(outputId);\n",
              "  const steps = outputElement.steps;\n",
              "\n",
              "  const next = steps.next(outputElement.lastPromiseValue);\n",
              "  return Promise.resolve(next.value.promise).then((value) => {\n",
              "    // Cache the last promise value to make it available to the next\n",
              "    // step of the generator.\n",
              "    outputElement.lastPromiseValue = value;\n",
              "    return next.value.response;\n",
              "  });\n",
              "}\n",
              "\n",
              "/**\n",
              " * Generator function which is called between each async step of the upload\n",
              " * process.\n",
              " * @param {string} inputId Element ID of the input file picker element.\n",
              " * @param {string} outputId Element ID of the output display.\n",
              " * @return {!Iterable<!Object>} Iterable of next steps.\n",
              " */\n",
              "function* uploadFilesStep(inputId, outputId) {\n",
              "  const inputElement = document.getElementById(inputId);\n",
              "  inputElement.disabled = false;\n",
              "\n",
              "  const outputElement = document.getElementById(outputId);\n",
              "  outputElement.innerHTML = '';\n",
              "\n",
              "  const pickedPromise = new Promise((resolve) => {\n",
              "    inputElement.addEventListener('change', (e) => {\n",
              "      resolve(e.target.files);\n",
              "    });\n",
              "  });\n",
              "\n",
              "  const cancel = document.createElement('button');\n",
              "  inputElement.parentElement.appendChild(cancel);\n",
              "  cancel.textContent = 'Cancel upload';\n",
              "  const cancelPromise = new Promise((resolve) => {\n",
              "    cancel.onclick = () => {\n",
              "      resolve(null);\n",
              "    };\n",
              "  });\n",
              "\n",
              "  // Wait for the user to pick the files.\n",
              "  const files = yield {\n",
              "    promise: Promise.race([pickedPromise, cancelPromise]),\n",
              "    response: {\n",
              "      action: 'starting',\n",
              "    }\n",
              "  };\n",
              "\n",
              "  cancel.remove();\n",
              "\n",
              "  // Disable the input element since further picks are not allowed.\n",
              "  inputElement.disabled = true;\n",
              "\n",
              "  if (!files) {\n",
              "    return {\n",
              "      response: {\n",
              "        action: 'complete',\n",
              "      }\n",
              "    };\n",
              "  }\n",
              "\n",
              "  for (const file of files) {\n",
              "    const li = document.createElement('li');\n",
              "    li.append(span(file.name, {fontWeight: 'bold'}));\n",
              "    li.append(span(\n",
              "        `(${file.type || 'n/a'}) - ${file.size} bytes, ` +\n",
              "        `last modified: ${\n",
              "            file.lastModifiedDate ? file.lastModifiedDate.toLocaleDateString() :\n",
              "                                    'n/a'} - `));\n",
              "    const percent = span('0% done');\n",
              "    li.appendChild(percent);\n",
              "\n",
              "    outputElement.appendChild(li);\n",
              "\n",
              "    const fileDataPromise = new Promise((resolve) => {\n",
              "      const reader = new FileReader();\n",
              "      reader.onload = (e) => {\n",
              "        resolve(e.target.result);\n",
              "      };\n",
              "      reader.readAsArrayBuffer(file);\n",
              "    });\n",
              "    // Wait for the data to be ready.\n",
              "    let fileData = yield {\n",
              "      promise: fileDataPromise,\n",
              "      response: {\n",
              "        action: 'continue',\n",
              "      }\n",
              "    };\n",
              "\n",
              "    // Use a chunked sending to avoid message size limits. See b/62115660.\n",
              "    let position = 0;\n",
              "    do {\n",
              "      const length = Math.min(fileData.byteLength - position, MAX_PAYLOAD_SIZE);\n",
              "      const chunk = new Uint8Array(fileData, position, length);\n",
              "      position += length;\n",
              "\n",
              "      const base64 = btoa(String.fromCharCode.apply(null, chunk));\n",
              "      yield {\n",
              "        response: {\n",
              "          action: 'append',\n",
              "          file: file.name,\n",
              "          data: base64,\n",
              "        },\n",
              "      };\n",
              "\n",
              "      let percentDone = fileData.byteLength === 0 ?\n",
              "          100 :\n",
              "          Math.round((position / fileData.byteLength) * 100);\n",
              "      percent.textContent = `${percentDone}% done`;\n",
              "\n",
              "    } while (position < fileData.byteLength);\n",
              "  }\n",
              "\n",
              "  // All done.\n",
              "  yield {\n",
              "    response: {\n",
              "      action: 'complete',\n",
              "    }\n",
              "  };\n",
              "}\n",
              "\n",
              "scope.google = scope.google || {};\n",
              "scope.google.colab = scope.google.colab || {};\n",
              "scope.google.colab._files = {\n",
              "  _uploadFiles,\n",
              "  _uploadFilesContinue,\n",
              "};\n",
              "})(self);\n",
              "</script> "
            ]
          },
          "metadata": {}
        },
        {
          "output_type": "stream",
          "name": "stdout",
          "text": [
            "Saving Sinusoidal_heatmap_tested_over_Sinusoidal.csv to Sinusoidal_heatmap_tested_over_Sinusoidal.csv\n"
          ]
        },
        {
          "output_type": "execute_result",
          "data": {
            "text/plain": [
              "{'Sinusoidal_heatmap_tested_over_Sinusoidal.csv': b'pointId Ascore actuallabel\\n0 0.699353 0\\n1 0.699353 0\\n2 0.699353 0\\n3 0.699353 0\\n4 0.699353 0\\n5 0.654128 0\\n6 0.621833 0\\n7 0.591763 0\\n8 0.560509 0\\n9 0.562729 0\\n10 0.56435 0\\n11 0.572292 0\\n12 0.564165 0\\n13 0.549882 0\\n14 0.5559 0\\n15 0.576101 0\\n16 0.575275 0\\n17 0.562879 0\\n18 0.561286 0\\n19 0.556543 0\\n20 0.56816 0\\n21 0.576414 0\\n22 0.592054 0\\n23 0.59694 0\\n24 0.601609 0\\n25 0.686074 0\\n26 0.686074 0\\n27 0.686074 0\\n28 0.686074 0\\n29 0.686074 0\\n30 0.699353 0\\n31 0.699353 0\\n32 0.699353 0\\n33 0.699353 0\\n34 0.699353 0\\n35 0.654128 0\\n36 0.621833 0\\n37 0.591763 0\\n38 0.560509 0\\n39 0.562729 0\\n40 0.56435 0\\n41 0.572292 0\\n42 0.564165 0\\n43 0.549882 0\\n44 0.5559 0\\n45 0.576101 0\\n46 0.575275 0\\n47 0.562879 0\\n48 0.561286 0\\n49 0.556543 0\\n50 0.56816 0\\n51 0.576414 0\\n52 0.592054 0\\n53 0.59694 0\\n54 0.601609 0\\n55 0.686074 0\\n56 0.686074 0\\n57 0.686074 0\\n58 0.686074 0\\n59 0.686074 0\\n60 0.699353 0\\n61 0.699353 0\\n62 0.699353 0\\n63 0.699353 0\\n64 0.699353 0\\n65 0.654128 0\\n66 0.621833 0\\n67 0.591763 0\\n68 0.560509 0\\n69 0.562729 0\\n70 0.56435 0\\n71 0.572292 0\\n72 0.564165 0\\n73 0.549882 0\\n74 0.5559 0\\n75 0.576101 0\\n76 0.575275 0\\n77 0.562879 0\\n78 0.561286 0\\n79 0.556543 0\\n80 0.56816 0\\n81 0.576414 0\\n82 0.592054 0\\n83 0.59694 0\\n84 0.601609 0\\n85 0.686074 0\\n86 0.686074 0\\n87 0.686074 0\\n88 0.686074 0\\n89 0.686074 0\\n90 0.699353 0\\n91 0.699353 0\\n92 0.699353 0\\n93 0.699353 0\\n94 0.699353 0\\n95 0.654128 0\\n96 0.621833 0\\n97 0.591763 0\\n98 0.560509 0\\n99 0.562729 0\\n100 0.56435 0\\n101 0.572292 0\\n102 0.564165 0\\n103 0.549882 0\\n104 0.5559 0\\n105 0.576101 0\\n106 0.575275 0\\n107 0.562879 0\\n108 0.561286 0\\n109 0.556543 0\\n110 0.56816 0\\n111 0.576414 0\\n112 0.592054 0\\n113 0.59694 0\\n114 0.601609 0\\n115 0.686074 0\\n116 0.686074 0\\n117 0.686074 0\\n118 0.686074 0\\n119 0.686074 0\\n120 0.699353 0\\n121 0.699353 0\\n122 0.699353 0\\n123 0.699353 0\\n124 0.699353 0\\n125 0.654128 0\\n126 0.621833 0\\n127 0.591763 0\\n128 0.560509 0\\n129 0.562729 0\\n130 0.56435 0\\n131 0.572292 0\\n132 0.564165 0\\n133 0.549882 0\\n134 0.5559 0\\n135 0.576101 0\\n136 0.575275 0\\n137 0.562879 0\\n138 0.561286 0\\n139 0.556543 0\\n140 0.56816 0\\n141 0.576414 0\\n142 0.592054 0\\n143 0.59694 0\\n144 0.601609 0\\n145 0.686074 0\\n146 0.686074 0\\n147 0.686074 0\\n148 0.686074 0\\n149 0.686074 0\\n150 0.699353 0\\n151 0.699353 0\\n152 0.699353 0\\n153 0.699353 0\\n154 0.699353 0\\n155 0.654128 0\\n156 0.621833 0\\n157 0.591763 0\\n158 0.560509 0\\n159 0.562729 0\\n160 0.56435 0\\n161 0.572292 0\\n162 0.564165 0\\n163 0.549882 0\\n164 0.5559 0\\n165 0.576101 0\\n166 0.575275 0\\n167 0.562879 0\\n168 0.561286 0\\n169 0.556543 0\\n170 0.56816 0\\n171 0.576414 0\\n172 0.592054 0\\n173 0.59694 0\\n174 0.601609 0\\n175 0.686074 0\\n176 0.686074 0\\n177 0.686074 0\\n178 0.686074 0\\n179 0.686074 0\\n180 0.699353 0\\n181 0.699353 0\\n182 0.699353 0\\n183 0.699353 0\\n184 0.699353 0\\n185 0.654128 0\\n186 0.621833 0\\n187 0.591763 0\\n188 0.560509 0\\n189 0.562729 0\\n190 0.56435 0\\n191 0.572292 0\\n192 0.564165 0\\n193 0.549882 0\\n194 0.5559 0\\n195 0.576101 0\\n196 0.575275 0\\n197 0.562879 0\\n198 0.561286 0\\n199 0.556543 0\\n200 0.56816 0\\n201 0.576414 0\\n202 0.592054 0\\n203 0.59694 0\\n204 0.601609 0\\n205 0.686074 0\\n206 0.686074 0\\n207 0.686074 0\\n208 0.686074 0\\n209 0.686074 0\\n210 0.699353 0\\n211 0.699353 0\\n212 0.699353 0\\n213 0.699353 0\\n214 0.699353 0\\n215 0.654128 0\\n216 0.618882 0\\n217 0.588955 0\\n218 0.557849 0\\n219 0.562729 0\\n220 0.56435 0\\n221 0.572292 0\\n222 0.564165 0\\n223 0.549882 0\\n224 0.5559 0\\n225 0.576101 0\\n226 0.575275 0\\n227 0.562879 0\\n228 0.561286 0\\n229 0.556543 0\\n230 0.56816 0\\n231 0.576414 0\\n232 0.592054 0\\n233 0.59694 0\\n234 0.601609 0\\n235 0.686074 0\\n236 0.686074 0\\n237 0.686074 0\\n238 0.686074 0\\n239 0.686074 0\\n240 0.694771 0\\n241 0.694771 0\\n242 0.694771 0\\n243 0.694771 0\\n244 0.694771 0\\n245 0.649842 0\\n246 0.610678 0\\n247 0.576174 0\\n248 0.533477 0\\n249 0.549937 0\\n250 0.554944 0\\n251 0.562634 0\\n252 0.553097 0\\n253 0.534991 0\\n254 0.542809 0\\n255 0.567832 0\\n256 0.566304 0\\n257 0.554209 0\\n258 0.546983 0\\n259 0.544537 0\\n260 0.564962 0\\n261 0.574836 0\\n262 0.590432 0\\n263 0.595305 0\\n264 0.592333 0\\n265 0.681213 0\\n266 0.681213 0\\n267 0.681213 0\\n268 0.681213 0\\n269 0.681213 0\\n270 0.68411 0\\n271 0.68411 0\\n272 0.68411 0\\n273 0.68411 0\\n274 0.68411 0\\n275 0.637886 0\\n276 0.594057 0\\n277 0.558246 0\\n278 0.507318 0\\n279 0.527687 0\\n280 0.537076 0\\n281 0.543622 0\\n282 0.534585 0\\n283 0.51095 0\\n284 0.522865 0\\n285 0.551907 0\\n286 0.552029 0\\n287 0.538732 0\\n288 0.519208 0\\n289 0.517103 0\\n290 0.535259 0\\n291 0.550323 0\\n292 0.562383 0\\n293 0.554785 0\\n294 0.55131 0\\n295 0.658043 0\\n296 0.658043 0\\n297 0.658043 0\\n298 0.658043 0\\n299 0.658043 0\\n300 0.678463 0\\n301 0.678463 0\\n302 0.678463 0\\n303 0.678463 0\\n304 0.678463 0\\n305 0.630651 0\\n306 0.584764 0\\n307 0.550156 0\\n308 0.493517 0\\n309 0.511182 0\\n310 0.525507 0\\n311 0.539432 0\\n312 0.52297 0\\n313 0.495102 0\\n314 0.507084 0\\n315 0.542967 0\\n316 0.544222 0\\n317 0.528479 0\\n318 0.509077 0\\n319 0.510269 0\\n320 0.527505 0\\n321 0.537964 0\\n322 0.547094 0\\n323 0.539001 0\\n324 0.527956 0\\n325 0.635085 0\\n326 0.635085 0\\n327 0.635085 0\\n328 0.635085 0\\n329 0.635085 0\\n330 0.677003 0\\n331 0.677003 0\\n332 0.677003 0\\n333 0.677003 0\\n334 0.677003 0\\n335 0.628516 0\\n336 0.583563 0\\n337 0.545268 0\\n338 0.4924 0\\n339 0.495765 0\\n340 0.512251 0\\n341 0.528392 0\\n342 0.509172 0\\n343 0.491387 0\\n344 0.494254 0\\n345 0.528507 0\\n346 0.522017 0\\n347 0.500171 0\\n348 0.489534 0\\n349 0.496588 0\\n350 0.511685 0\\n351 0.524544 0\\n352 0.540959 0\\n353 0.535445 0\\n354 0.53567 0\\n355 0.620979 0\\n356 0.620979 0\\n357 0.620979 0\\n358 0.620979 0\\n359 0.620979 0\\n360 0.675475 0\\n361 0.675475 0\\n362 0.675475 0\\n363 0.675475 0\\n364 0.675475 0\\n365 0.624742 0\\n366 0.576025 0\\n367 0.531408 0\\n368 0.493723 0\\n369 0.476251 0\\n370 0.493131 0\\n371 0.512553 0\\n372 0.491941 0\\n373 0.484563 0\\n374 0.491382 0\\n375 0.519199 0\\n376 0.511331 0\\n377 0.484805 0\\n378 0.490631 0\\n379 0.497908 0\\n380 0.505303 0\\n381 0.51638 0\\n382 0.528632 0\\n383 0.52879 0\\n384 0.549205 0\\n385 0.616573 0\\n386 0.616573 0\\n387 0.616573 0\\n388 0.616573 0\\n389 0.616573 0\\n390 0.675475 0\\n391 0.675475 0\\n392 0.675475 0\\n393 0.675475 0\\n394 0.675475 0\\n395 0.623309 0\\n396 0.570331 0\\n397 0.526688 0\\n398 0.497794 0\\n399 0.473015 0\\n400 0.487336 0\\n401 0.50641 0\\n402 0.48584 0\\n403 0.484686 0\\n404 0.4921 0\\n405 0.511871 0\\n406 0.503574 0\\n407 0.476643 0\\n408 0.501076 0\\n409 0.501803 0\\n410 0.49997 0\\n411 0.51557 0\\n412 0.525548 0\\n413 0.543323 0\\n414 0.564467 0\\n415 0.621897 0\\n416 0.621897 0\\n417 0.621897 0\\n418 0.621897 0\\n419 0.621897 0\\n420 0.666159 0\\n421 0.666159 0\\n422 0.666159 0\\n423 0.666159 0\\n424 0.666159 0\\n425 0.614829 0\\n426 0.563056 0\\n427 0.523784 0\\n428 0.50106 0\\n429 0.473791 0\\n430 0.483624 0\\n431 0.503303 0\\n432 0.490955 0\\n433 0.495632 0\\n434 0.498437 0\\n435 0.503727 0\\n436 0.492289 0\\n437 0.463877 0\\n438 0.501107 0\\n439 0.500423 0\\n440 0.487832 0\\n441 0.498316 0\\n442 0.511331 0\\n443 0.548822 0\\n444 0.580142 0\\n445 0.646907 0\\n446 0.646907 0\\n447 0.646907 0\\n448 0.646907 0\\n449 0.646907 0\\n450 0.647494 0\\n451 0.647494 0\\n452 0.647494 0\\n453 0.647494 0\\n454 0.647494 0\\n455 0.592597 0\\n456 0.549998 0\\n457 0.528803 0\\n458 0.512091 0\\n459 0.480102 0\\n460 0.478834 0\\n461 0.499881 0\\n462 0.494363 0\\n463 0.502157 0\\n464 0.50078 0\\n465 0.500201 0\\n466 0.490179 0\\n467 0.4594 0\\n468 0.50208 0\\n469 0.502485 0\\n470 0.485506 0\\n471 0.498414 0\\n472 0.507636 0\\n473 0.556001 0\\n474 0.592436 0\\n475 0.670948 0\\n476 0.670948 0\\n477 0.670948 0\\n478 0.670948 0\\n479 0.670948 0\\n480 0.635755 0\\n481 0.635755 0\\n482 0.635755 0\\n483 0.635755 0\\n484 0.635755 0\\n485 0.583644 0\\n486 0.545419 0\\n487 0.533058 0\\n488 0.517136 0\\n489 0.4891 0\\n490 0.47398 0\\n491 0.497326 0\\n492 0.502554 0\\n493 0.511365 0\\n494 0.51016 0\\n495 0.496506 0\\n496 0.492015 0\\n497 0.464167 0\\n498 0.507793 0\\n499 0.512521 0\\n500 0.492414 0\\n501 0.495113 0\\n502 0.506259 0\\n503 0.561189 0\\n504 0.597917 0\\n505 0.681705 0\\n506 0.681705 0\\n507 0.681705 0\\n508 0.681705 0\\n509 0.681705 0\\n510 0.627849 0\\n511 0.627849 0\\n512 0.627849 0\\n513 0.627849 0\\n514 0.627849 0\\n515 0.560689 0\\n516 0.52248 0\\n517 0.523652 0\\n518 0.512286 0\\n519 0.488945 0\\n520 0.463978 0\\n521 0.489015 0\\n522 0.50753 0\\n523 0.514006 0\\n524 0.509906 0\\n525 0.488538 0\\n526 0.48027 0\\n527 0.473406 0\\n528 0.515666 0\\n529 0.524084 0\\n530 0.509358 0\\n531 0.499679 0\\n532 0.514907 0\\n533 0.573924 0\\n534 0.607775 0\\n535 0.68313 0\\n536 0.68313 0\\n537 0.68313 0\\n538 0.68313 0\\n539 0.68313 0\\n540 0.630763 0\\n541 0.630763 0\\n542 0.630763 0\\n543 0.630763 0\\n544 0.630763 0\\n545 0.545291 0\\n546 0.519848 0\\n547 0.535795 0\\n548 0.517973 0\\n549 0.49342 0\\n550 0.461449 0\\n551 0.490722 0\\n552 0.516021 0\\n553 0.523294 0\\n554 0.520782 0\\n555 0.495203 0\\n556 0.477557 0\\n557 0.488027 0\\n558 0.526291 0\\n559 0.530985 0\\n560 0.514578 0\\n561 0.494003 0\\n562 0.528474 0\\n563 0.582854 0\\n564 0.616113 0\\n565 0.682699 0\\n566 0.682699 0\\n567 0.682699 0\\n568 0.682699 0\\n569 0.682699 0\\n570 0.633698 0\\n571 0.633698 0\\n572 0.633698 0\\n573 0.633698 0\\n574 0.633698 0\\n575 0.544247 0\\n576 0.536398 0\\n577 0.552508 0\\n578 0.530444 0\\n579 0.504776 0\\n580 0.474658 0\\n581 0.498214 0\\n582 0.528437 0\\n583 0.531529 0\\n584 0.522313 0\\n585 0.495168 0\\n586 0.47395 0\\n587 0.490563 0\\n588 0.530064 0\\n589 0.537559 0\\n590 0.528164 0\\n591 0.499569 0\\n592 0.546845 0\\n593 0.586272 0\\n594 0.618185 0\\n595 0.686235 0\\n596 0.686235 0\\n597 0.686235 0\\n598 0.686235 0\\n599 0.686235 0\\n600 0.644843 0\\n601 0.644843 0\\n602 0.644843 0\\n603 0.644843 0\\n604 0.644843 0\\n605 0.56486 0\\n606 0.554889 0\\n607 0.558739 0\\n608 0.536077 0\\n609 0.507454 0\\n610 0.485704 0\\n611 0.502185 0\\n612 0.5328 0\\n613 0.536566 0\\n614 0.528873 0\\n615 0.514212 0\\n616 0.496027 0\\n617 0.507617 0\\n618 0.542306 0\\n619 0.554742 0\\n620 0.54103 0\\n621 0.515911 0\\n622 0.557097 0\\n623 0.594131 0\\n624 0.624483 0\\n625 0.687533 0\\n626 0.687533 0\\n627 0.687533 0\\n628 0.687533 0\\n629 0.687533 0\\n630 0.65805 0\\n631 0.65805 0\\n632 0.65805 0\\n633 0.65805 0\\n634 0.65805 0\\n635 0.598269 0\\n636 0.581752 0\\n637 0.576179 0\\n638 0.555227 0\\n639 0.526411 0\\n640 0.504023 0\\n641 0.522325 0\\n642 0.546034 0\\n643 0.547977 0\\n644 0.539124 0\\n645 0.532363 0\\n646 0.519656 0\\n647 0.531697 0\\n648 0.559499 0\\n649 0.569394 0\\n650 0.559384 0\\n651 0.537787 0\\n652 0.575166 0\\n653 0.602484 0\\n654 0.629814 0\\n655 0.691679 0\\n656 0.691679 0\\n657 0.691679 0\\n658 0.691679 0\\n659 0.691679 0\\n660 0.659296 0\\n661 0.659296 0\\n662 0.659296 0\\n663 0.659296 0\\n664 0.659296 0\\n665 0.60029 0\\n666 0.585164 0\\n667 0.578125 0\\n668 0.560127 0\\n669 0.531056 0\\n670 0.511101 0\\n671 0.531118 0\\n672 0.551459 0\\n673 0.552597 0\\n674 0.545041 0\\n675 0.53653 0\\n676 0.531789 0\\n677 0.541613 0\\n678 0.563852 0\\n679 0.573825 0\\n680 0.564881 0\\n681 0.543071 0\\n682 0.576255 0\\n683 0.603624 0\\n684 0.631006 0\\n685 0.692988 0\\n686 0.692988 0\\n687 0.692988 0\\n688 0.692988 0\\n689 0.692988 0\\n690 0.661793 0\\n691 0.661793 0\\n692 0.661793 0\\n693 0.661793 0\\n694 0.661793 0\\n695 0.602564 0\\n696 0.58738 0\\n697 0.57995 0\\n698 0.564124 0\\n699 0.534846 0\\n700 0.514748 0\\n701 0.534908 0\\n702 0.554853 0\\n703 0.555999 0\\n704 0.548396 0\\n705 0.539937 0\\n706 0.533803 0\\n707 0.543665 0\\n708 0.566828 0\\n709 0.577652 0\\n710 0.569104 0\\n711 0.54737 0\\n712 0.580815 0\\n713 0.607029 0\\n714 0.634565 0\\n715 0.695613 0\\n716 0.695613 0\\n717 0.695613 0\\n718 0.695613 0\\n719 0.695613 0\\n720 0.661793 0\\n721 0.661793 0\\n722 0.661793 0\\n723 0.661793 0\\n724 0.661793 0\\n725 0.602564 0\\n726 0.58738 0\\n727 0.57995 0\\n728 0.564124 0\\n729 0.534846 0\\n730 0.514748 0\\n731 0.534908 0\\n732 0.554853 0\\n733 0.555999 0\\n734 0.548396 0\\n735 0.539937 0\\n736 0.533803 0\\n737 0.543665 0\\n738 0.566828 0\\n739 0.577652 0\\n740 0.569104 0\\n741 0.54737 0\\n742 0.580815 0\\n743 0.607029 0\\n744 0.634565 0\\n745 0.695613 0\\n746 0.695613 0\\n747 0.695613 0\\n748 0.695613 0\\n749 0.695613 0\\n750 0.661793 0\\n751 0.661793 0\\n752 0.661793 0\\n753 0.661793 0\\n754 0.661793 0\\n755 0.602564 0\\n756 0.58738 0\\n757 0.57995 0\\n758 0.564124 0\\n759 0.534846 0\\n760 0.514748 0\\n761 0.534908 0\\n762 0.554853 0\\n763 0.555999 0\\n764 0.548396 0\\n765 0.539937 0\\n766 0.533803 0\\n767 0.543665 0\\n768 0.566828 0\\n769 0.577652 0\\n770 0.569104 0\\n771 0.54737 0\\n772 0.580815 0\\n773 0.607029 0\\n774 0.634565 0\\n775 0.695613 0\\n776 0.695613 0\\n777 0.695613 0\\n778 0.695613 0\\n779 0.695613 0\\n780 0.661793 0\\n781 0.661793 0\\n782 0.661793 0\\n783 0.661793 0\\n784 0.661793 0\\n785 0.602564 0\\n786 0.58738 0\\n787 0.57995 0\\n788 0.564124 0\\n789 0.534846 0\\n790 0.514748 0\\n791 0.534908 0\\n792 0.554853 0\\n793 0.555999 0\\n794 0.548396 0\\n795 0.539937 0\\n796 0.533803 0\\n797 0.543665 0\\n798 0.566828 0\\n799 0.577652 0\\n800 0.569104 0\\n801 0.54737 0\\n802 0.580815 0\\n803 0.607029 0\\n804 0.634565 0\\n805 0.695613 0\\n806 0.695613 0\\n807 0.695613 0\\n808 0.695613 0\\n809 0.695613 0\\n810 0.661793 0\\n811 0.661793 0\\n812 0.661793 0\\n813 0.661793 0\\n814 0.661793 0\\n815 0.602564 0\\n816 0.58738 0\\n817 0.57995 0\\n818 0.564124 0\\n819 0.534846 0\\n820 0.514748 0\\n821 0.534908 0\\n822 0.554853 0\\n823 0.555999 0\\n824 0.548396 0\\n825 0.539937 0\\n826 0.533803 0\\n827 0.543665 0\\n828 0.566828 0\\n829 0.577652 0\\n830 0.569104 0\\n831 0.54737 0\\n832 0.580815 0\\n833 0.607029 0\\n834 0.634565 0\\n835 0.695613 0\\n836 0.695613 0\\n837 0.695613 0\\n838 0.695613 0\\n839 0.695613 0\\n840 0.661793 0\\n841 0.661793 0\\n842 0.661793 0\\n843 0.661793 0\\n844 0.661793 0\\n845 0.602564 0\\n846 0.58738 0\\n847 0.57995 0\\n848 0.564124 0\\n849 0.534846 0\\n850 0.514748 0\\n851 0.534908 0\\n852 0.554853 0\\n853 0.555999 0\\n854 0.548396 0\\n855 0.539937 0\\n856 0.533803 0\\n857 0.543665 0\\n858 0.566828 0\\n859 0.577652 0\\n860 0.569104 0\\n861 0.54737 0\\n862 0.580815 0\\n863 0.607029 0\\n864 0.634565 0\\n865 0.695613 0\\n866 0.695613 0\\n867 0.695613 0\\n868 0.695613 0\\n869 0.695613 0\\n870 0.661793 0\\n871 0.661793 0\\n872 0.661793 0\\n873 0.661793 0\\n874 0.661793 0\\n875 0.602564 0\\n876 0.58738 0\\n877 0.57995 0\\n878 0.564124 0\\n879 0.534846 0\\n880 0.514748 0\\n881 0.534908 0\\n882 0.554853 0\\n883 0.555999 0\\n884 0.548396 0\\n885 0.539937 0\\n886 0.533803 0\\n887 0.543665 0\\n888 0.566828 0\\n889 0.577652 0\\n890 0.569104 0\\n891 0.54737 0\\n892 0.580815 0\\n893 0.607029 0\\n894 0.634565 0\\n895 0.695613 0\\n896 0.695613 0\\n897 0.695613 0\\n898 0.695613 0\\n899 0.695613 0\\n'}"
            ]
          },
          "metadata": {},
          "execution_count": 32
        }
      ]
    },
    {
      "cell_type": "code",
      "source": [
        "data = pd.read_csv(\"Sinusoidal_heatmap_tested_over_Sinusoidal.csv\", delimiter=' ')\n",
        "S0 = data['Ascore'].to_numpy()\n",
        "S0 = S0.reshape(xx.shape)"
      ],
      "metadata": {
        "id": "_oeFpVzQu-vT"
      },
      "execution_count": 33,
      "outputs": []
    },
    {
      "cell_type": "code",
      "source": [
        "f = plt.figure(figsize=(12,6))\n",
        "\n",
        "ax1 = f.add_subplot(121)\n",
        "levels = np.linspace(np.min(S0),np.max(S0),10)\n",
        "CS = ax1.contourf(xx, yy, S0, levels, cmap=plt.cm.YlOrRd)\n",
        "plt.scatter(x,y,s=15,c='None',edgecolor='k')\n",
        "\n",
        "plt.show()"
      ],
      "metadata": {
        "colab": {
          "base_uri": "https://localhost:8080/",
          "height": 378
        },
        "id": "lIzCt4ZdvXpd",
        "outputId": "78565443-4732-4689-8633-426e5f480cda"
      },
      "execution_count": 34,
      "outputs": [
        {
          "output_type": "display_data",
          "data": {
            "text/plain": [
              "<Figure size 864x432 with 1 Axes>"
            ],
            "image/png": "[encoded data removed]"
          },
          "metadata": {}
        }
      ]
    },
    {
      "cell_type": "code",
      "source": [],
      "metadata": {
        "id": "-kT6pOni9tjf"
      },
      "execution_count": 34,
      "outputs": []
    }
  ]
}