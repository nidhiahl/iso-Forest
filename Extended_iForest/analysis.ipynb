{
 "cells": [
  {
   "cell_type": "markdown",
   "id": "2b786063",
   "metadata": {},
   "source": [
    "## Code snippets for all analysis measures for eg: AUC, F1-score, etc.."
   ]
  },
  {
   "cell_type": "markdown",
   "id": "eda02c21",
   "metadata": {},
   "source": [
    "### AUC computation"
   ]
  },
  {
   "cell_type": "code",
   "execution_count": null,
   "id": "55db852c",
   "metadata": {},
   "outputs": [],
   "source": [
    "#Input: read anoamly scores from file.\n",
    "#output: the computed AUC score."
   ]
  },
  {
   "cell_type": "markdown",
   "id": "72ca5bdf",
   "metadata": {},
   "source": [
    "### F1score computation"
   ]
  },
  {
   "cell_type": "code",
   "execution_count": 5,
   "id": "495268d9",
   "metadata": {},
   "outputs": [],
   "source": [
    "#Input: read anoamly scores from file.\n",
    "#output: the computed AUC score."
   ]
  },
  {
   "cell_type": "code",
   "execution_count": null,
   "id": "d3eeff2d",
   "metadata": {},
   "outputs": [],
   "source": []
  }
 ],
 "metadata": {
  "kernelspec": {
   "display_name": "Python 3 (ipykernel)",
   "language": "python",
   "name": "python3"
  },
  "language_info": {
   "codemirror_mode": {
    "name": "ipython",
    "version": 3
   },
   "file_extension": ".py",
   "mimetype": "text/x-python",
   "name": "python",
   "nbconvert_exporter": "python",
   "pygments_lexer": "ipython3",
   "version": "3.9.7"
  }
 },
 "nbformat": 4,
 "nbformat_minor": 5
}
