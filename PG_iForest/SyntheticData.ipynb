{
  "nbformat": 4,
  "nbformat_minor": 0,
  "metadata": {
    "colab": {
      "provenance": []
    },
    "kernelspec": {
      "name": "python3",
      "display_name": "Python 3"
    },
    "language_info": {
      "name": "python"
    }
  },
  "cells": [
    {
      "cell_type": "markdown",
      "source": [
        "# Imports"
      ],
      "metadata": {
        "id": "-oNGCaZHON8Q"
      }
    },
    {
      "cell_type": "code",
      "source": [
        "%matplotlib inline\n",
        "import pandas as pd\n",
        "import matplotlib.pyplot as plt\n",
        "import numpy as np\n",
        "from scipy.stats import multivariate_normal\n",
        "import random as rn\n",
        "import seaborn as sb\n",
        "sb.set_style(style=\"whitegrid\")\n",
        "sb.set_color_codes()\n",
        "import scipy.ndimage\n",
        "from scipy.interpolate import griddata\n",
        "import numpy.ma as ma\n",
        "from numpy.random import uniform, seed\n",
        "from google.colab import files"
      ],
      "metadata": {
        "id": "AAnfvcFBOSff"
      },
      "execution_count": 1,
      "outputs": []
    },
    {
      "cell_type": "markdown",
      "source": [
        "# Single Blob"
      ],
      "metadata": {
        "id": "Mj6LH_isOEN2"
      }
    },
    {
      "cell_type": "markdown",
      "source": [
        "## Data Preparation\n"
      ],
      "metadata": {
        "id": "Of6H844bOJmu"
      }
    },
    {
      "cell_type": "markdown",
      "source": [
        "### Data Generation"
      ],
      "metadata": {
        "id": "f99Vn1XpOh7J"
      }
    },
    {
      "cell_type": "code",
      "execution_count": 2,
      "metadata": {
        "id": "aoYrHOiIN8Tt"
      },
      "outputs": [],
      "source": [
        "mean = [0, 0]\n",
        "cov = [[1, 0], [0, 1]]  # diagonal covariance\n",
        "Nobjs = 500\n",
        "np.random.seed(1)\n",
        "x, y = np.random.multivariate_normal(mean, cov, Nobjs).T\n",
        "#Add manual outlier\n",
        "x[0]=3.3\n",
        "y[0]=3.3\n",
        "X=np.array([x,y]).T"
      ]
    },
    {
      "cell_type": "markdown",
      "source": [
        "### Data Visualisation"
      ],
      "metadata": {
        "id": "GFiLAmCuOlag"
      }
    },
    {
      "cell_type": "code",
      "source": [
        "fig=plt.figure(figsize=(6,6))\n",
        "fig.add_subplot(111)\n",
        "plt.plot(X[:,0],X[:,1],'o', markersize=10, color=[0.5,0.5,0.5])\n",
        "plt.grid(\"off\")\n",
        "plt.axis(\"equal\")\n",
        "plt.xlim([-5,5])\n",
        "plt.ylim([-5,5])\n",
        "plt.tick_params(direction='out', length=6, width=2, colors='k',labelsize=20)\n",
        "plt.show()"
      ],
      "metadata": {
        "colab": {
          "base_uri": "https://localhost:8080/",
          "height": 386
        },
        "id": "ZUnmRzX1OpnC",
        "outputId": "90b805d9-33bb-4276-c842-456d9954e2a0"
      },
      "execution_count": 3,
      "outputs": [
        {
          "output_type": "display_data",
          "data": {
            "text/plain": [
              "<Figure size 432x432 with 1 Axes>"
            ],
            "image/png": "[encoded data removed]"
          },
          "metadata": {}
        }
      ]
    },
    {
      "cell_type": "markdown",
      "source": [
        "### Saving in csv "
      ],
      "metadata": {
        "id": "XprnJ6NuPA6J"
      }
    },
    {
      "cell_type": "code",
      "source": [
        "label=np.zeros(500, int)\n",
        "label[0]=1\n",
        "\n",
        "dict={'1':x, '2':y, 'label':label}\n",
        "df=pd.DataFrame(dict)\n",
        "\n",
        "df.to_csv('SingleBlob.csv', sep='\\t')\n",
        "files.download(\"SingleBlob.csv\")"
      ],
      "metadata": {
        "colab": {
          "base_uri": "https://localhost:8080/",
          "height": 17
        },
        "id": "b6waRqqFPKWa",
        "outputId": "eda968b5-fa2c-462d-f905-51b4657e8a23"
      },
      "execution_count": 4,
      "outputs": [
        {
          "output_type": "display_data",
          "data": {
            "text/plain": [
              "<IPython.core.display.Javascript object>"
            ],
            "application/javascript": [
              "\n",
              "    async function download(id, filename, size) {\n",
              "      if (!google.colab.kernel.accessAllowed) {\n",
              "        return;\n",
              "      }\n",
              "      const div = document.createElement('div');\n",
              "      const label = document.createElement('label');\n",
              "      label.textContent = `Downloading \"${filename}\": `;\n",
              "      div.appendChild(label);\n",
              "      const progress = document.createElement('progress');\n",
              "      progress.max = size;\n",
              "      div.appendChild(progress);\n",
              "      document.body.appendChild(div);\n",
              "\n",
              "      const buffers = [];\n",
              "      let downloaded = 0;\n",
              "\n",
              "      const channel = await google.colab.kernel.comms.open(id);\n",
              "      // Send a message to notify the kernel that we're ready.\n",
              "      channel.send({})\n",
              "\n",
              "      for await (const message of channel.messages) {\n",
              "        // Send a message to notify the kernel that we're ready.\n",
              "        channel.send({})\n",
              "        if (message.buffers) {\n",
              "          for (const buffer of message.buffers) {\n",
              "            buffers.push(buffer);\n",
              "            downloaded += buffer.byteLength;\n",
              "            progress.value = downloaded;\n",
              "          }\n",
              "        }\n",
              "      }\n",
              "      const blob = new Blob(buffers, {type: 'application/binary'});\n",
              "      const a = document.createElement('a');\n",
              "      a.href = window.URL.createObjectURL(blob);\n",
              "      a.download = filename;\n",
              "      div.appendChild(a);\n",
              "      a.click();\n",
              "      div.remove();\n",
              "    }\n",
              "  "
            ]
          },
          "metadata": {}
        },
        {
          "output_type": "display_data",
          "data": {
            "text/plain": [
              "<IPython.core.display.Javascript object>"
            ],
            "application/javascript": [
              "download(\"download_f93c4d74-df64-43bf-a6e5-4862b55df97f\", \"SingleBlob.csv\", 22523)"
            ]
          },
          "metadata": {}
        }
      ]
    },
    {
      "cell_type": "markdown",
      "source": [
        "## Train iForest on Data"
      ],
      "metadata": {
        "id": "GdqRIpn7mXeA"
      }
    },
    {
      "cell_type": "markdown",
      "source": [
        "This process is done on local machine."
      ],
      "metadata": {
        "id": "UU_puPdimtqj"
      }
    },
    {
      "cell_type": "markdown",
      "source": [
        "## Obtain Anomaly Scores"
      ],
      "metadata": {
        "id": "EgzqDZ7Omxgz"
      }
    },
    {
      "cell_type": "code",
      "source": [
        "files.upload()"
      ],
      "metadata": {
        "colab": {
          "base_uri": "https://localhost:8080/",
          "height": 1000
        },
        "id": "jy60x-JvpbTl",
        "outputId": "d5e8c935-a421-46e2-d9fe-fa0a11308e10"
      },
      "execution_count": 7,
      "outputs": [
        {
          "output_type": "display_data",
          "data": {
            "text/plain": [
              "<IPython.core.display.HTML object>"
            ],
            "text/html": [
              "\n",
              "     <input type=\"file\" id=\"files-1046185d-b911-4565-963d-15443265429b\" name=\"files[]\" multiple disabled\n",
              "        style=\"border:none\" />\n",
              "     <output id=\"result-1046185d-b911-4565-963d-15443265429b\">\n",
              "      Upload widget is only available when the cell has been executed in the\n",
              "      current browser session. Please rerun this cell to enable.\n",
              "      </output>\n",
              "      <script>// Copyright 2017 Google LLC\n",
              "//\n",
              "// Licensed under the Apache License, Version 2.0 (the \"License\");\n",
              "// you may not use this file except in compliance with the License.\n",
              "// You may obtain a copy of the License at\n",
              "//\n",
              "//      http://www.apache.org/licenses/LICENSE-2.0\n",
              "//\n",
              "// Unless required by applicable law or agreed to in writing, software\n",
              "// distributed under the License is distributed on an \"AS IS\" BASIS,\n",
              "// WITHOUT WARRANTIES OR CONDITIONS OF ANY KIND, either express or implied.\n",
              "// See the License for the specific language governing permissions and\n",
              "// limitations under the License.\n",
              "\n",
              "/**\n",
              " * @fileoverview Helpers for google.colab Python module.\n",
              " */\n",
              "(function(scope) {\n",
              "function span(text, styleAttributes = {}) {\n",
              "  const element = document.createElement('span');\n",
              "  element.textContent = text;\n",
              "  for (const key of Object.keys(styleAttributes)) {\n",
              "    element.style[key] = styleAttributes[key];\n",
              "  }\n",
              "  return element;\n",
              "}\n",
              "\n",
              "// Max number of bytes which will be uploaded at a time.\n",
              "const MAX_PAYLOAD_SIZE = 100 * 1024;\n",
              "\n",
              "function _uploadFiles(inputId, outputId) {\n",
              "  const steps = uploadFilesStep(inputId, outputId);\n",
              "  const outputElement = document.getElementById(outputId);\n",
              "  // Cache steps on the outputElement to make it available for the next call\n",
              "  // to uploadFilesContinue from Python.\n",
              "  outputElement.steps = steps;\n",
              "\n",
              "  return _uploadFilesContinue(outputId);\n",
              "}\n",
              "\n",
              "// This is roughly an async generator (not supported in the browser yet),\n",
              "// where there are multiple asynchronous steps and the Python side is going\n",
              "// to poll for completion of each step.\n",
              "// This uses a Promise to block the python side on completion of each step,\n",
              "// then passes the result of the previous step as the input to the next step.\n",
              "function _uploadFilesContinue(outputId) {\n",
              "  const outputElement = document.getElementById(outputId);\n",
              "  const steps = outputElement.steps;\n",
              "\n",
              "  const next = steps.next(outputElement.lastPromiseValue);\n",
              "  return Promise.resolve(next.value.promise).then((value) => {\n",
              "    // Cache the last promise value to make it available to the next\n",
              "    // step of the generator.\n",
              "    outputElement.lastPromiseValue = value;\n",
              "    return next.value.response;\n",
              "  });\n",
              "}\n",
              "\n",
              "/**\n",
              " * Generator function which is called between each async step of the upload\n",
              " * process.\n",
              " * @param {string} inputId Element ID of the input file picker element.\n",
              " * @param {string} outputId Element ID of the output display.\n",
              " * @return {!Iterable<!Object>} Iterable of next steps.\n",
              " */\n",
              "function* uploadFilesStep(inputId, outputId) {\n",
              "  const inputElement = document.getElementById(inputId);\n",
              "  inputElement.disabled = false;\n",
              "\n",
              "  const outputElement = document.getElementById(outputId);\n",
              "  outputElement.innerHTML = '';\n",
              "\n",
              "  const pickedPromise = new Promise((resolve) => {\n",
              "    inputElement.addEventListener('change', (e) => {\n",
              "      resolve(e.target.files);\n",
              "    });\n",
              "  });\n",
              "\n",
              "  const cancel = document.createElement('button');\n",
              "  inputElement.parentElement.appendChild(cancel);\n",
              "  cancel.textContent = 'Cancel upload';\n",
              "  const cancelPromise = new Promise((resolve) => {\n",
              "    cancel.onclick = () => {\n",
              "      resolve(null);\n",
              "    };\n",
              "  });\n",
              "\n",
              "  // Wait for the user to pick the files.\n",
              "  const files = yield {\n",
              "    promise: Promise.race([pickedPromise, cancelPromise]),\n",
              "    response: {\n",
              "      action: 'starting',\n",
              "    }\n",
              "  };\n",
              "\n",
              "  cancel.remove();\n",
              "\n",
              "  // Disable the input element since further picks are not allowed.\n",
              "  inputElement.disabled = true;\n",
              "\n",
              "  if (!files) {\n",
              "    return {\n",
              "      response: {\n",
              "        action: 'complete',\n",
              "      }\n",
              "    };\n",
              "  }\n",
              "\n",
              "  for (const file of files) {\n",
              "    const li = document.createElement('li');\n",
              "    li.append(span(file.name, {fontWeight: 'bold'}));\n",
              "    li.append(span(\n",
              "        `(${file.type || 'n/a'}) - ${file.size} bytes, ` +\n",
              "        `last modified: ${\n",
              "            file.lastModifiedDate ? file.lastModifiedDate.toLocaleDateString() :\n",
              "                                    'n/a'} - `));\n",
              "    const percent = span('0% done');\n",
              "    li.appendChild(percent);\n",
              "\n",
              "    outputElement.appendChild(li);\n",
              "\n",
              "    const fileDataPromise = new Promise((resolve) => {\n",
              "      const reader = new FileReader();\n",
              "      reader.onload = (e) => {\n",
              "        resolve(e.target.result);\n",
              "      };\n",
              "      reader.readAsArrayBuffer(file);\n",
              "    });\n",
              "    // Wait for the data to be ready.\n",
              "    let fileData = yield {\n",
              "      promise: fileDataPromise,\n",
              "      response: {\n",
              "        action: 'continue',\n",
              "      }\n",
              "    };\n",
              "\n",
              "    // Use a chunked sending to avoid message size limits. See b/62115660.\n",
              "    let position = 0;\n",
              "    do {\n",
              "      const length = Math.min(fileData.byteLength - position, MAX_PAYLOAD_SIZE);\n",
              "      const chunk = new Uint8Array(fileData, position, length);\n",
              "      position += length;\n",
              "\n",
              "      const base64 = btoa(String.fromCharCode.apply(null, chunk));\n",
              "      yield {\n",
              "        response: {\n",
              "          action: 'append',\n",
              "          file: file.name,\n",
              "          data: base64,\n",
              "        },\n",
              "      };\n",
              "\n",
              "      let percentDone = fileData.byteLength === 0 ?\n",
              "          100 :\n",
              "          Math.round((position / fileData.byteLength) * 100);\n",
              "      percent.textContent = `${percentDone}% done`;\n",
              "\n",
              "    } while (position < fileData.byteLength);\n",
              "  }\n",
              "\n",
              "  // All done.\n",
              "  yield {\n",
              "    response: {\n",
              "      action: 'complete',\n",
              "    }\n",
              "  };\n",
              "}\n",
              "\n",
              "scope.google = scope.google || {};\n",
              "scope.google.colab = scope.google.colab || {};\n",
              "scope.google.colab._files = {\n",
              "  _uploadFiles,\n",
              "  _uploadFilesContinue,\n",
              "};\n",
              "})(self);\n",
              "</script> "
            ]
          },
          "metadata": {}
        },
        {
          "output_type": "stream",
          "name": "stdout",
          "text": [
            "Saving SingleBlob_tested_over_SingleBlob.csv to SingleBlob_tested_over_SingleBlob.csv\n"
          ]
        },
        {
          "output_type": "execute_result",
          "data": {
            "text/plain": [
              "{'SingleBlob_tested_over_SingleBlob.csv': b'pointId Ascore actuallabel\\n0 0.867812 1\\n1 0.379436 0\\n2 0.537722 0\\n3 0.420242 0\\n4 0.345355 0\\n5 0.535126 0\\n6 0.349767 0\\n7 0.388378 0\\n8 0.365194 0\\n9 0.352545 0\\n10 0.383841 0\\n11 0.359937 0\\n12 0.359642 0\\n13 0.368061 0\\n14 0.356924 0\\n15 0.359605 0\\n16 0.375829 0\\n17 0.358359 0\\n18 0.366998 0\\n19 0.413905 0\\n20 0.365878 0\\n21 0.425172 0\\n22 0.353982 0\\n23 0.491662 0\\n24 0.354637 0\\n25 0.346092 0\\n26 0.367873 0\\n27 0.354897 0\\n28 0.361053 0\\n29 0.355743 0\\n30 0.38472 0\\n31 0.348843 0\\n32 0.348476 0\\n33 0.41345 0\\n34 0.556274 0\\n35 0.392471 0\\n36 0.356826 0\\n37 0.472563 0\\n38 0.360037 0\\n39 0.354989 0\\n40 0.348075 0\\n41 0.350665 0\\n42 0.346928 0\\n43 0.362091 0\\n44 0.360825 0\\n45 0.362208 0\\n46 0.358412 0\\n47 0.347111 0\\n48 0.349708 0\\n49 0.36416 0\\n50 0.374923 0\\n51 0.35428 0\\n52 0.36542 0\\n53 0.371252 0\\n54 0.350017 0\\n55 0.38824 0\\n56 0.364168 0\\n57 0.383696 0\\n58 0.403626 0\\n59 0.365396 0\\n60 0.360486 0\\n61 0.492631 0\\n62 0.46799 0\\n63 0.397739 0\\n64 0.379967 0\\n65 0.356003 0\\n66 0.375691 0\\n67 0.357901 0\\n68 0.375563 0\\n69 0.3496 0\\n70 0.34884 0\\n71 0.360365 0\\n72 0.348946 0\\n73 0.354637 0\\n74 0.354673 0\\n75 0.582504 0\\n76 0.543272 0\\n77 0.346137 0\\n78 0.347674 0\\n79 0.371356 0\\n80 0.374368 0\\n81 0.345939 0\\n82 0.348317 0\\n83 0.35357 0\\n84 0.621501 0\\n85 0.365505 0\\n86 0.642554 0\\n87 0.345623 0\\n88 0.370869 0\\n89 0.349352 0\\n90 0.376184 0\\n91 0.379365 0\\n92 0.356093 0\\n93 0.351254 0\\n94 0.345493 0\\n95 0.366099 0\\n96 0.485431 0\\n97 0.407017 0\\n98 0.357103 0\\n99 0.363255 0\\n100 0.360522 0\\n101 0.451273 0\\n102 0.487795 0\\n103 0.433287 0\\n104 0.46578 0\\n105 0.391496 0\\n106 0.367511 0\\n107 0.380981 0\\n108 0.350622 0\\n109 0.376345 0\\n110 0.405532 0\\n111 0.390423 0\\n112 0.609954 0\\n113 0.351429 0\\n114 0.357932 0\\n115 0.347878 0\\n116 0.428495 0\\n117 0.38683 0\\n118 0.382954 0\\n119 0.424622 0\\n120 0.350968 0\\n121 0.389825 0\\n122 0.364387 0\\n123 0.350622 0\\n124 0.472441 0\\n125 0.34911 0\\n126 0.707076 0\\n127 0.366728 0\\n128 0.494368 0\\n129 0.352265 0\\n130 0.391642 0\\n131 0.349628 0\\n132 0.371254 0\\n133 0.348345 0\\n134 0.352107 0\\n135 0.397961 0\\n136 0.361053 0\\n137 0.377874 0\\n138 0.418468 0\\n139 0.381256 0\\n140 0.358249 0\\n141 0.355868 0\\n142 0.347676 0\\n143 0.346913 0\\n144 0.364677 0\\n145 0.349639 0\\n146 0.358044 0\\n147 0.34779 0\\n148 0.355917 0\\n149 0.366681 0\\n150 0.519976 0\\n151 0.377494 0\\n152 0.4036 0\\n153 0.355804 0\\n154 0.355562 0\\n155 0.36214 0\\n156 0.38856 0\\n157 0.735125 0\\n158 0.348544 0\\n159 0.376679 0\\n160 0.360966 0\\n161 0.359107 0\\n162 0.361608 0\\n163 0.381542 0\\n164 0.368199 0\\n165 0.363753 0\\n166 0.363037 0\\n167 0.387267 0\\n168 0.578521 0\\n169 0.681643 0\\n170 0.380387 0\\n171 0.351849 0\\n172 0.34847 0\\n173 0.349217 0\\n174 0.376894 0\\n175 0.363313 0\\n176 0.358057 0\\n177 0.364066 0\\n178 0.346146 0\\n179 0.359654 0\\n180 0.363232 0\\n181 0.440053 0\\n182 0.356726 0\\n183 0.653882 0\\n184 0.351161 0\\n185 0.347795 0\\n186 0.352164 0\\n187 0.453162 0\\n188 0.533926 0\\n189 0.43019 0\\n190 0.351233 0\\n191 0.40117 0\\n192 0.34892 0\\n193 0.348049 0\\n194 0.36728 0\\n195 0.465713 0\\n196 0.356327 0\\n197 0.374311 0\\n198 0.455684 0\\n199 0.488324 0\\n200 0.379043 0\\n201 0.371854 0\\n202 0.349554 0\\n203 0.484505 0\\n204 0.363753 0\\n205 0.476844 0\\n206 0.412212 0\\n207 0.623843 0\\n208 0.371875 0\\n209 0.479709 0\\n210 0.40099 0\\n211 0.359819 0\\n212 0.484062 0\\n213 0.352602 0\\n214 0.347456 0\\n215 0.38181 0\\n216 0.348801 0\\n217 0.359767 0\\n218 0.362315 0\\n219 0.430828 0\\n220 0.417073 0\\n221 0.405111 0\\n222 0.352298 0\\n223 0.36883 0\\n224 0.386338 0\\n225 0.367716 0\\n226 0.357904 0\\n227 0.380295 0\\n228 0.363938 0\\n229 0.362269 0\\n230 0.369688 0\\n231 0.36234 0\\n232 0.346528 0\\n233 0.418882 0\\n234 0.352803 0\\n235 0.348801 0\\n236 0.432266 0\\n237 0.351084 0\\n238 0.505837 0\\n239 0.35513 0\\n240 0.373279 0\\n241 0.36402 0\\n242 0.387813 0\\n243 0.442957 0\\n244 0.374992 0\\n245 0.3567 0\\n246 0.355196 0\\n247 0.419925 0\\n248 0.521055 0\\n249 0.364487 0\\n250 0.414177 0\\n251 0.357436 0\\n252 0.349338 0\\n253 0.352283 0\\n254 0.36434 0\\n255 0.403659 0\\n256 0.372607 0\\n257 0.358553 0\\n258 0.364473 0\\n259 0.361796 0\\n260 0.382396 0\\n261 0.412694 0\\n262 0.3616 0\\n263 0.377216 0\\n264 0.389213 0\\n265 0.409605 0\\n266 0.351838 0\\n267 0.351052 0\\n268 0.349628 0\\n269 0.422635 0\\n270 0.359593 0\\n271 0.418831 0\\n272 0.569715 0\\n273 0.374639 0\\n274 0.401571 0\\n275 0.397638 0\\n276 0.404692 0\\n277 0.359967 0\\n278 0.383824 0\\n279 0.361089 0\\n280 0.350455 0\\n281 0.387125 0\\n282 0.805432 0\\n283 0.349434 0\\n284 0.384826 0\\n285 0.358847 0\\n286 0.428645 0\\n287 0.354114 0\\n288 0.346399 0\\n289 0.364045 0\\n290 0.357901 0\\n291 0.363885 0\\n292 0.360557 0\\n293 0.421716 0\\n294 0.576778 0\\n295 0.357126 0\\n296 0.415295 0\\n297 0.382329 0\\n298 0.361183 0\\n299 0.384807 0\\n300 0.371877 0\\n301 0.365593 0\\n302 0.394294 0\\n303 0.345493 0\\n304 0.430458 0\\n305 0.357335 0\\n306 0.359194 0\\n307 0.454833 0\\n308 0.38938 0\\n309 0.355675 0\\n310 0.441797 0\\n311 0.360557 0\\n312 0.351718 0\\n313 0.348801 0\\n314 0.398071 0\\n315 0.372722 0\\n316 0.347862 0\\n317 0.355982 0\\n318 0.362594 0\\n319 0.360406 0\\n320 0.365336 0\\n321 0.375932 0\\n322 0.371622 0\\n323 0.471725 0\\n324 0.349818 0\\n325 0.393866 0\\n326 0.435171 0\\n327 0.349418 0\\n328 0.356214 0\\n329 0.390214 0\\n330 0.658396 0\\n331 0.371302 0\\n332 0.350869 0\\n333 0.382047 0\\n334 0.366558 0\\n335 0.435816 0\\n336 0.356748 0\\n337 0.364239 0\\n338 0.346065 0\\n339 0.35185 0\\n340 0.36598 0\\n341 0.613423 0\\n342 0.487656 0\\n343 0.356612 0\\n344 0.350606 0\\n345 0.35867 0\\n346 0.350671 0\\n347 0.34906 0\\n348 0.381085 0\\n349 0.371353 0\\n350 0.378857 0\\n351 0.383284 0\\n352 0.350424 0\\n353 0.417716 0\\n354 0.397128 0\\n355 0.561812 0\\n356 0.348239 0\\n357 0.385917 0\\n358 0.359101 0\\n359 0.345355 0\\n360 0.477501 0\\n361 0.350241 0\\n362 0.377195 0\\n363 0.346164 0\\n364 0.359967 0\\n365 0.360468 0\\n366 0.756682 0\\n367 0.368818 0\\n368 0.35513 0\\n369 0.668597 0\\n370 0.35746 0\\n371 0.406668 0\\n372 0.35849 0\\n373 0.349405 0\\n374 0.35337 0\\n375 0.387503 0\\n376 0.370861 0\\n377 0.358534 0\\n378 0.373367 0\\n379 0.346959 0\\n380 0.417279 0\\n381 0.433885 0\\n382 0.456805 0\\n383 0.350938 0\\n384 0.46921 0\\n385 0.354932 0\\n386 0.351495 0\\n387 0.354343 0\\n388 0.381145 0\\n389 0.463344 0\\n390 0.373726 0\\n391 0.357153 0\\n392 0.491857 0\\n393 0.357194 0\\n394 0.366668 0\\n395 0.459325 0\\n396 0.347111 0\\n397 0.400074 0\\n398 0.372797 0\\n399 0.349352 0\\n400 0.36044 0\\n401 0.388347 0\\n402 0.347014 0\\n403 0.44302 0\\n404 0.393686 0\\n405 0.380281 0\\n406 0.350564 0\\n407 0.611366 0\\n408 0.360253 0\\n409 0.349071 0\\n410 0.355743 0\\n411 0.358551 0\\n412 0.364783 0\\n413 0.356446 0\\n414 0.352852 0\\n415 0.355452 0\\n416 0.348239 0\\n417 0.358189 0\\n418 0.350266 0\\n419 0.354859 0\\n420 0.395131 0\\n421 0.395937 0\\n422 0.555811 0\\n423 0.386275 0\\n424 0.359176 0\\n425 0.35067 0\\n426 0.358925 0\\n427 0.593995 0\\n428 0.354973 0\\n429 0.349723 0\\n430 0.363098 0\\n431 0.393836 0\\n432 0.351246 0\\n433 0.345475 0\\n434 0.347111 0\\n435 0.44189 0\\n436 0.461429 0\\n437 0.35518 0\\n438 0.35865 0\\n439 0.356459 0\\n440 0.357912 0\\n441 0.345997 0\\n442 0.357719 0\\n443 0.416073 0\\n444 0.36415 0\\n445 0.346161 0\\n446 0.692144 0\\n447 0.410233 0\\n448 0.42571 0\\n449 0.395636 0\\n450 0.351626 0\\n451 0.360052 0\\n452 0.362838 0\\n453 0.462633 0\\n454 0.433671 0\\n455 0.378042 0\\n456 0.366558 0\\n457 0.359983 0\\n458 0.351635 0\\n459 0.380862 0\\n460 0.355967 0\\n461 0.385385 0\\n462 0.358225 0\\n463 0.365047 0\\n464 0.350358 0\\n465 0.411071 0\\n466 0.357367 0\\n467 0.400424 0\\n468 0.361941 0\\n469 0.350853 0\\n470 0.356072 0\\n471 0.442778 0\\n472 0.386695 0\\n473 0.358591 0\\n474 0.39208 0\\n475 0.351537 0\\n476 0.357769 0\\n477 0.360996 0\\n478 0.357238 0\\n479 0.363753 0\\n480 0.35328 0\\n481 0.391496 0\\n482 0.376766 0\\n483 0.359814 0\\n484 0.361219 0\\n485 0.345984 0\\n486 0.567967 0\\n487 0.381725 0\\n488 0.634073 0\\n489 0.346218 0\\n490 0.372735 0\\n491 0.346914 0\\n492 0.349275 0\\n493 0.356826 0\\n494 0.353003 0\\n495 0.346122 0\\n496 0.355756 0\\n497 0.367832 0\\n498 0.499444 0\\n499 0.345298 0\\n'}"
            ]
          },
          "metadata": {},
          "execution_count": 7
        }
      ]
    },
    {
      "cell_type": "code",
      "source": [
        "data = pd.read_csv(\"SingleBlob_tested_over_SingleBlob.csv\", delimiter=' ')\n",
        "S0 = data['Ascore'].to_numpy()"
      ],
      "metadata": {
        "id": "qiD-vvr3alKh"
      },
      "execution_count": 8,
      "outputs": []
    },
    {
      "cell_type": "markdown",
      "source": [
        "### Visualise scores"
      ],
      "metadata": {
        "id": "v63vzygPuIsC"
      }
    },
    {
      "cell_type": "code",
      "source": [
        "ss0=np.argsort(S0)\n",
        "\n",
        "\n",
        "f = plt.figure(figsize=(12,6))\n",
        "plt.subplot(1,2,1)\n",
        "plt.scatter(x,y,s=15,c='b',edgecolor='b')\n",
        "plt.scatter(x[ss0[-10:]],y[ss0[-10:]],s=55,c='k')\n",
        "plt.scatter(x[ss0[:10]],y[ss0[:10]],s=55,c='r')\n",
        "plt.title('standard')\n",
        "\n",
        "plt.show()"
      ],
      "metadata": {
        "colab": {
          "base_uri": "https://localhost:8080/",
          "height": 390
        },
        "id": "s0ij85A0ucZW",
        "outputId": "3b9c71f6-9b8d-4e97-85dc-b745ca8256ec"
      },
      "execution_count": 9,
      "outputs": [
        {
          "output_type": "display_data",
          "data": {
            "text/plain": [
              "<Figure size 864x432 with 1 Axes>"
            ],
            "image/png": "[encoded data removed]"
          },
          "metadata": {}
        }
      ]
    },
    {
      "cell_type": "code",
      "source": [
        "f = plt.figure(figsize=(12,6))\n",
        "plt.subplot(1,2,1)\n",
        "sb.distplot(S0, kde=True, color=\"b\")\n",
        "plt.title('standard')\n"
      ],
      "metadata": {
        "colab": {
          "base_uri": "https://localhost:8080/",
          "height": 462
        },
        "id": "E0vo-huGbQvy",
        "outputId": "67a6f153-25be-473d-d460-53e5afb99991"
      },
      "execution_count": null,
      "outputs": [
        {
          "output_type": "stream",
          "name": "stderr",
          "text": [
            "/usr/local/lib/python3.7/dist-packages/seaborn/distributions.py:2619: FutureWarning: `distplot` is a deprecated function and will be removed in a future version. Please adapt your code to use either `displot` (a figure-level function with similar flexibility) or `histplot` (an axes-level function for histograms).\n",
            "  warnings.warn(msg, FutureWarning)\n"
          ]
        },
        {
          "output_type": "execute_result",
          "data": {
            "text/plain": [
              "Text(0.5, 1.0, 'standard')"
            ]
          },
          "metadata": {},
          "execution_count": 33
        },
        {
          "output_type": "display_data",
          "data": {
            "text/plain": [
              "<Figure size 864x432 with 1 Axes>"
            ],
            "image/png": "[encoded data removed]"
          },
          "metadata": {}
        }
      ]
    },
    {
      "cell_type": "markdown",
      "source": [
        "## Score Maps"
      ],
      "metadata": {
        "id": "gb9KqvOTykrF"
      }
    },
    {
      "cell_type": "code",
      "source": [
        "xx, yy = np.meshgrid(np.linspace(-5., 5., 30), np.linspace(-5., 5, 30))\n",
        "X_in=np.c_[xx.ravel(), yy.ravel()]\n",
        "\n",
        "label=np.zeros(900, int)\n",
        "\n",
        "dict={'1':X_in[:, 0], '2':X_in[:, 1], 'label':label}\n",
        "df=pd.DataFrame(dict)\n",
        "\n",
        "df.to_csv('SingleBlob_heatmap.csv', sep='\\t')\n",
        "files.download(\"SingleBlob_heatmap.csv\")\n"
      ],
      "metadata": {
        "colab": {
          "base_uri": "https://localhost:8080/",
          "height": 17
        },
        "id": "NrL2WypDxLBt",
        "outputId": "88fcf419-9d89-4259-e9ec-3cbbe483d4c7"
      },
      "execution_count": 10,
      "outputs": [
        {
          "output_type": "display_data",
          "data": {
            "text/plain": [
              "<IPython.core.display.Javascript object>"
            ],
            "application/javascript": [
              "\n",
              "    async function download(id, filename, size) {\n",
              "      if (!google.colab.kernel.accessAllowed) {\n",
              "        return;\n",
              "      }\n",
              "      const div = document.createElement('div');\n",
              "      const label = document.createElement('label');\n",
              "      label.textContent = `Downloading \"${filename}\": `;\n",
              "      div.appendChild(label);\n",
              "      const progress = document.createElement('progress');\n",
              "      progress.max = size;\n",
              "      div.appendChild(progress);\n",
              "      document.body.appendChild(div);\n",
              "\n",
              "      const buffers = [];\n",
              "      let downloaded = 0;\n",
              "\n",
              "      const channel = await google.colab.kernel.comms.open(id);\n",
              "      // Send a message to notify the kernel that we're ready.\n",
              "      channel.send({})\n",
              "\n",
              "      for await (const message of channel.messages) {\n",
              "        // Send a message to notify the kernel that we're ready.\n",
              "        channel.send({})\n",
              "        if (message.buffers) {\n",
              "          for (const buffer of message.buffers) {\n",
              "            buffers.push(buffer);\n",
              "            downloaded += buffer.byteLength;\n",
              "            progress.value = downloaded;\n",
              "          }\n",
              "        }\n",
              "      }\n",
              "      const blob = new Blob(buffers, {type: 'application/binary'});\n",
              "      const a = document.createElement('a');\n",
              "      a.href = window.URL.createObjectURL(blob);\n",
              "      a.download = filename;\n",
              "      div.appendChild(a);\n",
              "      a.click();\n",
              "      div.remove();\n",
              "    }\n",
              "  "
            ]
          },
          "metadata": {}
        },
        {
          "output_type": "display_data",
          "data": {
            "text/plain": [
              "<IPython.core.display.Javascript object>"
            ],
            "application/javascript": [
              "download(\"download_7efbeebf-17bc-4b94-93bf-b244764b22d3\", \"SingleBlob_heatmap.csv\", 37941)"
            ]
          },
          "metadata": {}
        }
      ]
    },
    {
      "cell_type": "code",
      "source": [
        "files.upload()\n",
        "\n"
      ],
      "metadata": {
        "colab": {
          "base_uri": "https://localhost:8080/",
          "height": 1000
        },
        "id": "P3VgYWc25viV",
        "outputId": "92a0f4fc-2196-4e81-bd11-4c1544fef920"
      },
      "execution_count": 14,
      "outputs": [
        {
          "output_type": "display_data",
          "data": {
            "text/plain": [
              "<IPython.core.display.HTML object>"
            ],
            "text/html": [
              "\n",
              "     <input type=\"file\" id=\"files-26e4c370-34e3-4f0e-9055-4e9dbaa910f8\" name=\"files[]\" multiple disabled\n",
              "        style=\"border:none\" />\n",
              "     <output id=\"result-26e4c370-34e3-4f0e-9055-4e9dbaa910f8\">\n",
              "      Upload widget is only available when the cell has been executed in the\n",
              "      current browser session. Please rerun this cell to enable.\n",
              "      </output>\n",
              "      <script>// Copyright 2017 Google LLC\n",
              "//\n",
              "// Licensed under the Apache License, Version 2.0 (the \"License\");\n",
              "// you may not use this file except in compliance with the License.\n",
              "// You may obtain a copy of the License at\n",
              "//\n",
              "//      http://www.apache.org/licenses/LICENSE-2.0\n",
              "//\n",
              "// Unless required by applicable law or agreed to in writing, software\n",
              "// distributed under the License is distributed on an \"AS IS\" BASIS,\n",
              "// WITHOUT WARRANTIES OR CONDITIONS OF ANY KIND, either express or implied.\n",
              "// See the License for the specific language governing permissions and\n",
              "// limitations under the License.\n",
              "\n",
              "/**\n",
              " * @fileoverview Helpers for google.colab Python module.\n",
              " */\n",
              "(function(scope) {\n",
              "function span(text, styleAttributes = {}) {\n",
              "  const element = document.createElement('span');\n",
              "  element.textContent = text;\n",
              "  for (const key of Object.keys(styleAttributes)) {\n",
              "    element.style[key] = styleAttributes[key];\n",
              "  }\n",
              "  return element;\n",
              "}\n",
              "\n",
              "// Max number of bytes which will be uploaded at a time.\n",
              "const MAX_PAYLOAD_SIZE = 100 * 1024;\n",
              "\n",
              "function _uploadFiles(inputId, outputId) {\n",
              "  const steps = uploadFilesStep(inputId, outputId);\n",
              "  const outputElement = document.getElementById(outputId);\n",
              "  // Cache steps on the outputElement to make it available for the next call\n",
              "  // to uploadFilesContinue from Python.\n",
              "  outputElement.steps = steps;\n",
              "\n",
              "  return _uploadFilesContinue(outputId);\n",
              "}\n",
              "\n",
              "// This is roughly an async generator (not supported in the browser yet),\n",
              "// where there are multiple asynchronous steps and the Python side is going\n",
              "// to poll for completion of each step.\n",
              "// This uses a Promise to block the python side on completion of each step,\n",
              "// then passes the result of the previous step as the input to the next step.\n",
              "function _uploadFilesContinue(outputId) {\n",
              "  const outputElement = document.getElementById(outputId);\n",
              "  const steps = outputElement.steps;\n",
              "\n",
              "  const next = steps.next(outputElement.lastPromiseValue);\n",
              "  return Promise.resolve(next.value.promise).then((value) => {\n",
              "    // Cache the last promise value to make it available to the next\n",
              "    // step of the generator.\n",
              "    outputElement.lastPromiseValue = value;\n",
              "    return next.value.response;\n",
              "  });\n",
              "}\n",
              "\n",
              "/**\n",
              " * Generator function which is called between each async step of the upload\n",
              " * process.\n",
              " * @param {string} inputId Element ID of the input file picker element.\n",
              " * @param {string} outputId Element ID of the output display.\n",
              " * @return {!Iterable<!Object>} Iterable of next steps.\n",
              " */\n",
              "function* uploadFilesStep(inputId, outputId) {\n",
              "  const inputElement = document.getElementById(inputId);\n",
              "  inputElement.disabled = false;\n",
              "\n",
              "  const outputElement = document.getElementById(outputId);\n",
              "  outputElement.innerHTML = '';\n",
              "\n",
              "  const pickedPromise = new Promise((resolve) => {\n",
              "    inputElement.addEventListener('change', (e) => {\n",
              "      resolve(e.target.files);\n",
              "    });\n",
              "  });\n",
              "\n",
              "  const cancel = document.createElement('button');\n",
              "  inputElement.parentElement.appendChild(cancel);\n",
              "  cancel.textContent = 'Cancel upload';\n",
              "  const cancelPromise = new Promise((resolve) => {\n",
              "    cancel.onclick = () => {\n",
              "      resolve(null);\n",
              "    };\n",
              "  });\n",
              "\n",
              "  // Wait for the user to pick the files.\n",
              "  const files = yield {\n",
              "    promise: Promise.race([pickedPromise, cancelPromise]),\n",
              "    response: {\n",
              "      action: 'starting',\n",
              "    }\n",
              "  };\n",
              "\n",
              "  cancel.remove();\n",
              "\n",
              "  // Disable the input element since further picks are not allowed.\n",
              "  inputElement.disabled = true;\n",
              "\n",
              "  if (!files) {\n",
              "    return {\n",
              "      response: {\n",
              "        action: 'complete',\n",
              "      }\n",
              "    };\n",
              "  }\n",
              "\n",
              "  for (const file of files) {\n",
              "    const li = document.createElement('li');\n",
              "    li.append(span(file.name, {fontWeight: 'bold'}));\n",
              "    li.append(span(\n",
              "        `(${file.type || 'n/a'}) - ${file.size} bytes, ` +\n",
              "        `last modified: ${\n",
              "            file.lastModifiedDate ? file.lastModifiedDate.toLocaleDateString() :\n",
              "                                    'n/a'} - `));\n",
              "    const percent = span('0% done');\n",
              "    li.appendChild(percent);\n",
              "\n",
              "    outputElement.appendChild(li);\n",
              "\n",
              "    const fileDataPromise = new Promise((resolve) => {\n",
              "      const reader = new FileReader();\n",
              "      reader.onload = (e) => {\n",
              "        resolve(e.target.result);\n",
              "      };\n",
              "      reader.readAsArrayBuffer(file);\n",
              "    });\n",
              "    // Wait for the data to be ready.\n",
              "    let fileData = yield {\n",
              "      promise: fileDataPromise,\n",
              "      response: {\n",
              "        action: 'continue',\n",
              "      }\n",
              "    };\n",
              "\n",
              "    // Use a chunked sending to avoid message size limits. See b/62115660.\n",
              "    let position = 0;\n",
              "    do {\n",
              "      const length = Math.min(fileData.byteLength - position, MAX_PAYLOAD_SIZE);\n",
              "      const chunk = new Uint8Array(fileData, position, length);\n",
              "      position += length;\n",
              "\n",
              "      const base64 = btoa(String.fromCharCode.apply(null, chunk));\n",
              "      yield {\n",
              "        response: {\n",
              "          action: 'append',\n",
              "          file: file.name,\n",
              "          data: base64,\n",
              "        },\n",
              "      };\n",
              "\n",
              "      let percentDone = fileData.byteLength === 0 ?\n",
              "          100 :\n",
              "          Math.round((position / fileData.byteLength) * 100);\n",
              "      percent.textContent = `${percentDone}% done`;\n",
              "\n",
              "    } while (position < fileData.byteLength);\n",
              "  }\n",
              "\n",
              "  // All done.\n",
              "  yield {\n",
              "    response: {\n",
              "      action: 'complete',\n",
              "    }\n",
              "  };\n",
              "}\n",
              "\n",
              "scope.google = scope.google || {};\n",
              "scope.google.colab = scope.google.colab || {};\n",
              "scope.google.colab._files = {\n",
              "  _uploadFiles,\n",
              "  _uploadFilesContinue,\n",
              "};\n",
              "})(self);\n",
              "</script> "
            ]
          },
          "metadata": {}
        },
        {
          "output_type": "stream",
          "name": "stdout",
          "text": [
            "Saving SingleBlob_heatmap_tested_over_SingleBlob.csv to SingleBlob_heatmap_tested_over_SingleBlob.csv\n"
          ]
        },
        {
          "output_type": "execute_result",
          "data": {
            "text/plain": [
              "{'SingleBlob_heatmap_tested_over_SingleBlob.csv': b'pointId Ascore actuallabel\\n0 0.798101 0\\n1 0.798101 0\\n2 0.798101 0\\n3 0.798101 0\\n4 0.798101 0\\n5 0.798101 0\\n6 0.777956 0\\n7 0.760502 0\\n8 0.740653 0\\n9 0.723493 0\\n10 0.721722 0\\n11 0.716408 0\\n12 0.713492 0\\n13 0.70613 0\\n14 0.700449 0\\n15 0.702921 0\\n16 0.701816 0\\n17 0.702072 0\\n18 0.704001 0\\n19 0.727265 0\\n20 0.733396 0\\n21 0.757462 0\\n22 0.785185 0\\n23 0.811284 0\\n24 0.836668 0\\n25 0.836668 0\\n26 0.836668 0\\n27 0.836668 0\\n28 0.836668 0\\n29 0.836668 0\\n30 0.798101 0\\n31 0.798101 0\\n32 0.798101 0\\n33 0.798101 0\\n34 0.798101 0\\n35 0.798101 0\\n36 0.777956 0\\n37 0.760502 0\\n38 0.740653 0\\n39 0.723493 0\\n40 0.721722 0\\n41 0.716408 0\\n42 0.713492 0\\n43 0.70613 0\\n44 0.700449 0\\n45 0.702921 0\\n46 0.701816 0\\n47 0.702072 0\\n48 0.704001 0\\n49 0.727265 0\\n50 0.733396 0\\n51 0.757462 0\\n52 0.785185 0\\n53 0.811284 0\\n54 0.836668 0\\n55 0.836668 0\\n56 0.836668 0\\n57 0.836668 0\\n58 0.836668 0\\n59 0.836668 0\\n60 0.798101 0\\n61 0.798101 0\\n62 0.798101 0\\n63 0.798101 0\\n64 0.798101 0\\n65 0.798101 0\\n66 0.777956 0\\n67 0.760502 0\\n68 0.740653 0\\n69 0.723493 0\\n70 0.721722 0\\n71 0.716408 0\\n72 0.713492 0\\n73 0.70613 0\\n74 0.700449 0\\n75 0.702921 0\\n76 0.701816 0\\n77 0.702072 0\\n78 0.704001 0\\n79 0.727265 0\\n80 0.733396 0\\n81 0.757462 0\\n82 0.785185 0\\n83 0.811284 0\\n84 0.836668 0\\n85 0.836668 0\\n86 0.836668 0\\n87 0.836668 0\\n88 0.836668 0\\n89 0.836668 0\\n90 0.798101 0\\n91 0.798101 0\\n92 0.798101 0\\n93 0.798101 0\\n94 0.798101 0\\n95 0.798101 0\\n96 0.777956 0\\n97 0.760502 0\\n98 0.740653 0\\n99 0.723493 0\\n100 0.721722 0\\n101 0.716408 0\\n102 0.713492 0\\n103 0.70613 0\\n104 0.700449 0\\n105 0.702921 0\\n106 0.701816 0\\n107 0.702072 0\\n108 0.704001 0\\n109 0.727265 0\\n110 0.733396 0\\n111 0.757462 0\\n112 0.785185 0\\n113 0.811284 0\\n114 0.836668 0\\n115 0.836668 0\\n116 0.836668 0\\n117 0.836668 0\\n118 0.836668 0\\n119 0.836668 0\\n120 0.798101 0\\n121 0.798101 0\\n122 0.798101 0\\n123 0.798101 0\\n124 0.798101 0\\n125 0.798101 0\\n126 0.777956 0\\n127 0.760502 0\\n128 0.740653 0\\n129 0.723493 0\\n130 0.721722 0\\n131 0.716408 0\\n132 0.713492 0\\n133 0.70613 0\\n134 0.700449 0\\n135 0.702921 0\\n136 0.701816 0\\n137 0.702072 0\\n138 0.704001 0\\n139 0.727265 0\\n140 0.733396 0\\n141 0.757462 0\\n142 0.785185 0\\n143 0.811284 0\\n144 0.836668 0\\n145 0.836668 0\\n146 0.836668 0\\n147 0.836668 0\\n148 0.836668 0\\n149 0.836668 0\\n150 0.798101 0\\n151 0.798101 0\\n152 0.798101 0\\n153 0.798101 0\\n154 0.798101 0\\n155 0.798101 0\\n156 0.777956 0\\n157 0.760502 0\\n158 0.740653 0\\n159 0.723493 0\\n160 0.721722 0\\n161 0.716408 0\\n162 0.713492 0\\n163 0.70613 0\\n164 0.700449 0\\n165 0.702921 0\\n166 0.701816 0\\n167 0.702072 0\\n168 0.704001 0\\n169 0.727265 0\\n170 0.733396 0\\n171 0.757462 0\\n172 0.785185 0\\n173 0.811284 0\\n174 0.836668 0\\n175 0.836668 0\\n176 0.836668 0\\n177 0.836668 0\\n178 0.836668 0\\n179 0.836668 0\\n180 0.798101 0\\n181 0.798101 0\\n182 0.798101 0\\n183 0.798101 0\\n184 0.798101 0\\n185 0.798101 0\\n186 0.777956 0\\n187 0.760502 0\\n188 0.740653 0\\n189 0.723493 0\\n190 0.721722 0\\n191 0.716408 0\\n192 0.713492 0\\n193 0.70613 0\\n194 0.700449 0\\n195 0.702921 0\\n196 0.701816 0\\n197 0.702072 0\\n198 0.704001 0\\n199 0.727265 0\\n200 0.733396 0\\n201 0.757462 0\\n202 0.785185 0\\n203 0.811284 0\\n204 0.836668 0\\n205 0.836668 0\\n206 0.836668 0\\n207 0.836668 0\\n208 0.836668 0\\n209 0.836668 0\\n210 0.774151 0\\n211 0.774151 0\\n212 0.774151 0\\n213 0.774151 0\\n214 0.774151 0\\n215 0.774151 0\\n216 0.754611 0\\n217 0.735824 0\\n218 0.697403 0\\n219 0.681021 0\\n220 0.6742 0\\n221 0.666481 0\\n222 0.658588 0\\n223 0.649359 0\\n224 0.642043 0\\n225 0.642731 0\\n226 0.639993 0\\n227 0.643811 0\\n228 0.645579 0\\n229 0.668063 0\\n230 0.681221 0\\n231 0.722575 0\\n232 0.761563 0\\n233 0.793817 0\\n234 0.820204 0\\n235 0.820204 0\\n236 0.820204 0\\n237 0.820204 0\\n238 0.820204 0\\n239 0.820204 0\\n240 0.732424 0\\n241 0.732424 0\\n242 0.732424 0\\n243 0.732424 0\\n244 0.732424 0\\n245 0.732424 0\\n246 0.712589 0\\n247 0.685086 0\\n248 0.642664 0\\n249 0.618852 0\\n250 0.603686 0\\n251 0.580407 0\\n252 0.569624 0\\n253 0.551804 0\\n254 0.545587 0\\n255 0.546913 0\\n256 0.542855 0\\n257 0.549348 0\\n258 0.556449 0\\n259 0.58918 0\\n260 0.611742 0\\n261 0.675695 0\\n262 0.725407 0\\n263 0.76043 0\\n264 0.798781 0\\n265 0.798781 0\\n266 0.798781 0\\n267 0.798781 0\\n268 0.798781 0\\n269 0.798781 0\\n270 0.703197 0\\n271 0.703197 0\\n272 0.703197 0\\n273 0.703197 0\\n274 0.703197 0\\n275 0.703197 0\\n276 0.681769 0\\n277 0.647455 0\\n278 0.565553 0\\n279 0.531912 0\\n280 0.516846 0\\n281 0.490463 0\\n282 0.467657 0\\n283 0.455471 0\\n284 0.448877 0\\n285 0.447111 0\\n286 0.443672 0\\n287 0.453418 0\\n288 0.465962 0\\n289 0.506562 0\\n290 0.530345 0\\n291 0.611753 0\\n292 0.68946 0\\n293 0.745519 0\\n294 0.790997 0\\n295 0.790997 0\\n296 0.790997 0\\n297 0.790997 0\\n298 0.790997 0\\n299 0.790997 0\\n300 0.69982 0\\n301 0.69982 0\\n302 0.69982 0\\n303 0.69982 0\\n304 0.69982 0\\n305 0.69982 0\\n306 0.677079 0\\n307 0.63438 0\\n308 0.54441 0\\n309 0.490601 0\\n310 0.472572 0\\n311 0.447776 0\\n312 0.424596 0\\n313 0.414525 0\\n314 0.407043 0\\n315 0.407271 0\\n316 0.404568 0\\n317 0.412827 0\\n318 0.429337 0\\n319 0.472423 0\\n320 0.504013 0\\n321 0.58878 0\\n322 0.675536 0\\n323 0.731779 0\\n324 0.779646 0\\n325 0.785084 0\\n326 0.785084 0\\n327 0.785084 0\\n328 0.785084 0\\n329 0.785084 0\\n330 0.687938 0\\n331 0.687938 0\\n332 0.687938 0\\n333 0.687938 0\\n334 0.687938 0\\n335 0.687938 0\\n336 0.660709 0\\n337 0.610034 0\\n338 0.507264 0\\n339 0.45614 0\\n340 0.433374 0\\n341 0.405944 0\\n342 0.388833 0\\n343 0.376564 0\\n344 0.372895 0\\n345 0.37312 0\\n346 0.376447 0\\n347 0.380597 0\\n348 0.392311 0\\n349 0.435097 0\\n350 0.464367 0\\n351 0.559218 0\\n352 0.653571 0\\n353 0.720563 0\\n354 0.774685 0\\n355 0.780088 0\\n356 0.780088 0\\n357 0.780088 0\\n358 0.780088 0\\n359 0.780088 0\\n360 0.687014 0\\n361 0.687014 0\\n362 0.687014 0\\n363 0.687014 0\\n364 0.687014 0\\n365 0.687014 0\\n366 0.658416 0\\n367 0.600601 0\\n368 0.488154 0\\n369 0.436139 0\\n370 0.409843 0\\n371 0.379197 0\\n372 0.361727 0\\n373 0.354991 0\\n374 0.351591 0\\n375 0.354522 0\\n376 0.357115 0\\n377 0.361779 0\\n378 0.371706 0\\n379 0.413678 0\\n380 0.443246 0\\n381 0.540376 0\\n382 0.641442 0\\n383 0.709033 0\\n384 0.762618 0\\n385 0.767937 0\\n386 0.767937 0\\n387 0.767937 0\\n388 0.767937 0\\n389 0.767937 0\\n390 0.693582 0\\n391 0.693582 0\\n392 0.693582 0\\n393 0.693582 0\\n394 0.693582 0\\n395 0.693582 0\\n396 0.663595 0\\n397 0.608745 0\\n398 0.484353 0\\n399 0.430881 0\\n400 0.400272 0\\n401 0.370041 0\\n402 0.354918 0\\n403 0.347598 0\\n404 0.344521 0\\n405 0.346402 0\\n406 0.347206 0\\n407 0.351331 0\\n408 0.360629 0\\n409 0.401602 0\\n410 0.431232 0\\n411 0.534116 0\\n412 0.636935 0\\n413 0.704255 0\\n414 0.763432 0\\n415 0.768757 0\\n416 0.768757 0\\n417 0.768757 0\\n418 0.768757 0\\n419 0.768757 0\\n420 0.69697 0\\n421 0.69697 0\\n422 0.69697 0\\n423 0.69697 0\\n424 0.69697 0\\n425 0.69697 0\\n426 0.666837 0\\n427 0.61205 0\\n428 0.488027 0\\n429 0.433771 0\\n430 0.398535 0\\n431 0.367071 0\\n432 0.353072 0\\n433 0.346809 0\\n434 0.343785 0\\n435 0.344946 0\\n436 0.345944 0\\n437 0.351939 0\\n438 0.359567 0\\n439 0.400506 0\\n440 0.433696 0\\n441 0.53966 0\\n442 0.637573 0\\n443 0.704276 0\\n444 0.759833 0\\n445 0.765133 0\\n446 0.765133 0\\n447 0.765133 0\\n448 0.765133 0\\n449 0.765133 0\\n450 0.694036 0\\n451 0.694036 0\\n452 0.694036 0\\n453 0.694036 0\\n454 0.694036 0\\n455 0.694036 0\\n456 0.66403 0\\n457 0.603788 0\\n458 0.476493 0\\n459 0.424013 0\\n460 0.392838 0\\n461 0.366404 0\\n462 0.35442 0\\n463 0.348033 0\\n464 0.345069 0\\n465 0.345386 0\\n466 0.347183 0\\n467 0.352063 0\\n468 0.360099 0\\n469 0.39546 0\\n470 0.436836 0\\n471 0.54751 0\\n472 0.644179 0\\n473 0.711331 0\\n474 0.759577 0\\n475 0.764875 0\\n476 0.764875 0\\n477 0.764875 0\\n478 0.764875 0\\n479 0.764875 0\\n480 0.712948 0\\n481 0.712948 0\\n482 0.712948 0\\n483 0.712948 0\\n484 0.712948 0\\n485 0.712948 0\\n486 0.670449 0\\n487 0.608008 0\\n488 0.486492 0\\n489 0.433982 0\\n490 0.400507 0\\n491 0.371312 0\\n492 0.35672 0\\n493 0.349645 0\\n494 0.346444 0\\n495 0.346762 0\\n496 0.34884 0\\n497 0.357159 0\\n498 0.362099 0\\n499 0.399646 0\\n500 0.44556 0\\n501 0.556496 0\\n502 0.652431 0\\n503 0.716906 0\\n504 0.769264 0\\n505 0.77463 0\\n506 0.77463 0\\n507 0.77463 0\\n508 0.77463 0\\n509 0.77463 0\\n510 0.708136 0\\n511 0.708136 0\\n512 0.708136 0\\n513 0.708136 0\\n514 0.708136 0\\n515 0.708136 0\\n516 0.665924 0\\n517 0.60677 0\\n518 0.488503 0\\n519 0.440399 0\\n520 0.40659 0\\n521 0.377333 0\\n522 0.360424 0\\n523 0.35274 0\\n524 0.349041 0\\n525 0.349667 0\\n526 0.352932 0\\n527 0.359637 0\\n528 0.366154 0\\n529 0.407276 0\\n530 0.44922 0\\n531 0.558102 0\\n532 0.651914 0\\n533 0.718305 0\\n534 0.770766 0\\n535 0.776142 0\\n536 0.776142 0\\n537 0.776142 0\\n538 0.776142 0\\n539 0.776142 0\\n540 0.715121 0\\n541 0.715121 0\\n542 0.715121 0\\n543 0.715121 0\\n544 0.715121 0\\n545 0.715121 0\\n546 0.673004 0\\n547 0.618737 0\\n548 0.500938 0\\n549 0.452709 0\\n550 0.424871 0\\n551 0.392223 0\\n552 0.37262 0\\n553 0.365106 0\\n554 0.358969 0\\n555 0.359613 0\\n556 0.366529 0\\n557 0.375157 0\\n558 0.383949 0\\n559 0.42771 0\\n560 0.466519 0\\n561 0.563901 0\\n562 0.662011 0\\n563 0.724734 0\\n564 0.776196 0\\n565 0.78161 0\\n566 0.78161 0\\n567 0.78161 0\\n568 0.78161 0\\n569 0.78161 0\\n570 0.716867 0\\n571 0.716867 0\\n572 0.716867 0\\n573 0.716867 0\\n574 0.716867 0\\n575 0.716867 0\\n576 0.678159 0\\n577 0.623476 0\\n578 0.519516 0\\n579 0.469498 0\\n580 0.440627 0\\n581 0.408502 0\\n582 0.390474 0\\n583 0.38258 0\\n584 0.377736 0\\n585 0.37663 0\\n586 0.385153 0\\n587 0.393417 0\\n588 0.40212 0\\n589 0.448359 0\\n590 0.485653 0\\n591 0.583459 0\\n592 0.671988 0\\n593 0.731146 0\\n594 0.775385 0\\n595 0.780793 0\\n596 0.780793 0\\n597 0.780793 0\\n598 0.780793 0\\n599 0.780793 0\\n600 0.73748 0\\n601 0.73748 0\\n602 0.73748 0\\n603 0.73748 0\\n604 0.73748 0\\n605 0.73748 0\\n606 0.701333 0\\n607 0.658959 0\\n608 0.573057 0\\n609 0.530531 0\\n610 0.502972 0\\n611 0.468469 0\\n612 0.446016 0\\n613 0.435434 0\\n614 0.42961 0\\n615 0.431653 0\\n616 0.441024 0\\n617 0.453352 0\\n618 0.463346 0\\n619 0.502776 0\\n620 0.534217 0\\n621 0.620346 0\\n622 0.690171 0\\n623 0.736896 0\\n624 0.778604 0\\n625 0.778604 0\\n626 0.778604 0\\n627 0.778604 0\\n628 0.778604 0\\n629 0.778604 0\\n630 0.747026 0\\n631 0.747026 0\\n632 0.747026 0\\n633 0.747026 0\\n634 0.747026 0\\n635 0.747026 0\\n636 0.730072 0\\n637 0.704862 0\\n638 0.634423 0\\n639 0.601083 0\\n640 0.576586 0\\n641 0.550309 0\\n642 0.532667 0\\n643 0.528084 0\\n644 0.518675 0\\n645 0.517626 0\\n646 0.525547 0\\n647 0.540667 0\\n648 0.548003 0\\n649 0.577524 0\\n650 0.601262 0\\n651 0.669894 0\\n652 0.719375 0\\n653 0.757805 0\\n654 0.798179 0\\n655 0.798179 0\\n656 0.798179 0\\n657 0.798179 0\\n658 0.798179 0\\n659 0.798179 0\\n660 0.774773 0\\n661 0.774773 0\\n662 0.774773 0\\n663 0.774773 0\\n664 0.774773 0\\n665 0.774773 0\\n666 0.763846 0\\n667 0.748576 0\\n668 0.71438 0\\n669 0.686438 0\\n670 0.663359 0\\n671 0.640595 0\\n672 0.624567 0\\n673 0.620967 0\\n674 0.615161 0\\n675 0.616856 0\\n676 0.621083 0\\n677 0.631993 0\\n678 0.639578 0\\n679 0.65506 0\\n680 0.673126 0\\n681 0.720122 0\\n682 0.75497 0\\n683 0.787471 0\\n684 0.819585 0\\n685 0.819585 0\\n686 0.819585 0\\n687 0.819585 0\\n688 0.819585 0\\n689 0.819585 0\\n690 0.792549 0\\n691 0.792549 0\\n692 0.792549 0\\n693 0.792549 0\\n694 0.792549 0\\n695 0.792549 0\\n696 0.781372 0\\n697 0.769621 0\\n698 0.737246 0\\n699 0.709908 0\\n700 0.691114 0\\n701 0.671955 0\\n702 0.655061 0\\n703 0.652107 0\\n704 0.647706 0\\n705 0.649832 0\\n706 0.654697 0\\n707 0.663836 0\\n708 0.672521 0\\n709 0.688801 0\\n710 0.704712 0\\n711 0.746661 0\\n712 0.782793 0\\n713 0.812387 0\\n714 0.837861 0\\n715 0.837861 0\\n716 0.837861 0\\n717 0.837861 0\\n718 0.837861 0\\n719 0.837861 0\\n720 0.815344 0\\n721 0.815344 0\\n722 0.815344 0\\n723 0.815344 0\\n724 0.815344 0\\n725 0.815344 0\\n726 0.804352 0\\n727 0.798796 0\\n728 0.772333 0\\n729 0.754114 0\\n730 0.741997 0\\n731 0.731731 0\\n732 0.713416 0\\n733 0.714361 0\\n734 0.709987 0\\n735 0.7115 0\\n736 0.712063 0\\n737 0.721548 0\\n738 0.724795 0\\n739 0.741208 0\\n740 0.75045 0\\n741 0.781188 0\\n742 0.8159 0\\n743 0.840367 0\\n744 0.861818 0\\n745 0.861818 0\\n746 0.861818 0\\n747 0.861818 0\\n748 0.861818 0\\n749 0.861818 0\\n750 0.838251 0\\n751 0.838251 0\\n752 0.838251 0\\n753 0.838251 0\\n754 0.838251 0\\n755 0.838251 0\\n756 0.82695 0\\n757 0.824349 0\\n758 0.803296 0\\n759 0.785109 0\\n760 0.7752 0\\n761 0.770056 0\\n762 0.752503 0\\n763 0.755482 0\\n764 0.750857 0\\n765 0.752457 0\\n766 0.753052 0\\n767 0.762603 0\\n768 0.764263 0\\n769 0.77525 0\\n770 0.779488 0\\n771 0.8036 0\\n772 0.832986 0\\n773 0.848348 0\\n774 0.867812 0\\n775 0.867812 0\\n776 0.867812 0\\n777 0.867812 0\\n778 0.867812 0\\n779 0.867812 0\\n780 0.847813 0\\n781 0.847813 0\\n782 0.847813 0\\n783 0.847813 0\\n784 0.847813 0\\n785 0.847813 0\\n786 0.838494 0\\n787 0.837438 0\\n788 0.821391 0\\n789 0.806666 0\\n790 0.796987 0\\n791 0.791699 0\\n792 0.777357 0\\n793 0.780435 0\\n794 0.776045 0\\n795 0.777209 0\\n796 0.78016 0\\n797 0.787568 0\\n798 0.789282 0\\n799 0.7944 0\\n800 0.794364 0\\n801 0.816874 0\\n802 0.843019 0\\n803 0.856944 0\\n804 0.873848 0\\n805 0.873848 0\\n806 0.873848 0\\n807 0.873848 0\\n808 0.873848 0\\n809 0.873848 0\\n810 0.847813 0\\n811 0.847813 0\\n812 0.847813 0\\n813 0.847813 0\\n814 0.847813 0\\n815 0.847813 0\\n816 0.838494 0\\n817 0.837438 0\\n818 0.821391 0\\n819 0.806666 0\\n820 0.796987 0\\n821 0.791699 0\\n822 0.777357 0\\n823 0.780435 0\\n824 0.776045 0\\n825 0.777209 0\\n826 0.78016 0\\n827 0.787568 0\\n828 0.789282 0\\n829 0.7944 0\\n830 0.794364 0\\n831 0.816874 0\\n832 0.843019 0\\n833 0.856944 0\\n834 0.873848 0\\n835 0.873848 0\\n836 0.873848 0\\n837 0.873848 0\\n838 0.873848 0\\n839 0.873848 0\\n840 0.847813 0\\n841 0.847813 0\\n842 0.847813 0\\n843 0.847813 0\\n844 0.847813 0\\n845 0.847813 0\\n846 0.838494 0\\n847 0.837438 0\\n848 0.821391 0\\n849 0.806666 0\\n850 0.796987 0\\n851 0.791699 0\\n852 0.777357 0\\n853 0.780435 0\\n854 0.776045 0\\n855 0.777209 0\\n856 0.78016 0\\n857 0.787568 0\\n858 0.789282 0\\n859 0.7944 0\\n860 0.794364 0\\n861 0.816874 0\\n862 0.843019 0\\n863 0.856944 0\\n864 0.873848 0\\n865 0.873848 0\\n866 0.873848 0\\n867 0.873848 0\\n868 0.873848 0\\n869 0.873848 0\\n870 0.847813 0\\n871 0.847813 0\\n872 0.847813 0\\n873 0.847813 0\\n874 0.847813 0\\n875 0.847813 0\\n876 0.838494 0\\n877 0.837438 0\\n878 0.821391 0\\n879 0.806666 0\\n880 0.796987 0\\n881 0.791699 0\\n882 0.777357 0\\n883 0.780435 0\\n884 0.776045 0\\n885 0.777209 0\\n886 0.78016 0\\n887 0.787568 0\\n888 0.789282 0\\n889 0.7944 0\\n890 0.794364 0\\n891 0.816874 0\\n892 0.843019 0\\n893 0.856944 0\\n894 0.873848 0\\n895 0.873848 0\\n896 0.873848 0\\n897 0.873848 0\\n898 0.873848 0\\n899 0.873848 0\\n'}"
            ]
          },
          "metadata": {},
          "execution_count": 14
        }
      ]
    },
    {
      "cell_type": "code",
      "source": [
        "data = pd.read_csv(\"SingleBlob_heatmap_tested_over_SingleBlob.csv\", delimiter=' ')\n",
        "S0 = data['Ascore'].to_numpy()\n",
        "S0 = S0.reshape(xx.shape)"
      ],
      "metadata": {
        "id": "UIX_nHUob7tf"
      },
      "execution_count": 15,
      "outputs": []
    },
    {
      "cell_type": "code",
      "source": [
        "f = plt.figure(figsize=(12,6))\n",
        "\n",
        "ax1 = f.add_subplot(121)\n",
        "levels = np.linspace(np.min(S0),np.max(S0),10)\n",
        "CS = ax1.contourf(xx, yy, S0, levels, cmap=plt.cm.YlOrRd)\n",
        "plt.scatter(x,y,s=15,c='None',edgecolor='k')\n",
        "plt.axis(\"equal\")\n",
        "\n",
        "plt.show()"
      ],
      "metadata": {
        "colab": {
          "base_uri": "https://localhost:8080/",
          "height": 374
        },
        "id": "yFAlI7a4cF2I",
        "outputId": "8aa086fe-33ab-4a26-d893-651a1fac2354"
      },
      "execution_count": 16,
      "outputs": [
        {
          "output_type": "display_data",
          "data": {
            "text/plain": [
              "<Figure size 864x432 with 1 Axes>"
            ],
            "image/png": "[encoded data removed]"
          },
          "metadata": {}
        }
      ]
    },
    {
      "cell_type": "markdown",
      "source": [
        "# Multiple Blobs"
      ],
      "metadata": {
        "id": "cBz-G49b06cZ"
      }
    },
    {
      "cell_type": "markdown",
      "source": [
        "## Data Preparation"
      ],
      "metadata": {
        "id": "U8LqrDfq1BEq"
      }
    },
    {
      "cell_type": "markdown",
      "source": [
        "### Data Generation"
      ],
      "metadata": {
        "id": "Tj4WiIl61Irq"
      }
    },
    {
      "cell_type": "code",
      "source": [
        "mean1 = [10, 0]\n",
        "cov1 = [[1, 0], [0, 1]]  \n",
        "\n",
        "mean2 = [0, 10]\n",
        "cov2 = [[1, 0], [0, 1]]\n",
        "\n",
        "Nobjs = 500          # Size of dataset.\n",
        "np.random.seed(1)    # Add this for repeatablilty of the experiment. \n",
        "\n",
        "x1, y1 = np.random.multivariate_normal(mean1, cov1, int(Nobjs/2)).T\n",
        "x2, y2 = np.random.multivariate_normal(mean2, cov2, int(Nobjs/2)).T\n",
        "\n",
        "# join the two clusters so as to make one dataset. \n",
        "x = np.concatenate((x1,x2))\n",
        "y = np.concatenate((y1,y2))\n",
        "X=np.array([x,y]).T"
      ],
      "metadata": {
        "id": "X3oghqTu0_Qy"
      },
      "execution_count": 17,
      "outputs": []
    },
    {
      "cell_type": "markdown",
      "source": [
        "### Data Visualisation"
      ],
      "metadata": {
        "id": "vJeeaHu81Vac"
      }
    },
    {
      "cell_type": "code",
      "source": [
        "fig=plt.figure(figsize=(6,6))\n",
        "fig.add_subplot(111)\n",
        "plt.plot(X[:,0],X[:,1],'o', color=[0.5,0.5,0.5])\n",
        "plt.grid(\"off\")\n",
        "plt.axis(\"equal\")\n",
        "\n",
        "plt.xlim([-5,15])\n",
        "plt.ylim([-5,15])\n",
        "plt.tick_params(direction='out', length=6, width=2, colors='k',labelsize=30)\n",
        "\n",
        "plt.show()"
      ],
      "metadata": {
        "colab": {
          "base_uri": "https://localhost:8080/",
          "height": 396
        },
        "id": "-21nXCuD1Y3C",
        "outputId": "db816836-372a-43e8-af31-70200af98857"
      },
      "execution_count": 18,
      "outputs": [
        {
          "output_type": "display_data",
          "data": {
            "text/plain": [
              "<Figure size 432x432 with 1 Axes>"
            ],
            "image/png": "[encoded data removed]"
          },
          "metadata": {}
        }
      ]
    },
    {
      "cell_type": "markdown",
      "source": [
        "### Save in csv\n"
      ],
      "metadata": {
        "id": "Iv_nHgro1oWL"
      }
    },
    {
      "cell_type": "code",
      "source": [
        "label=np.zeros(500, int)\n",
        "label[0]=1\n",
        "\n",
        "dict={'1':x, '2':y, 'label':label}\n",
        "df=pd.DataFrame(dict)\n",
        "\n",
        "df.to_csv('MultipleBlob.csv', sep='\\t')\n",
        "files.download(\"MultipleBlob.csv\")"
      ],
      "metadata": {
        "colab": {
          "base_uri": "https://localhost:8080/",
          "height": 17
        },
        "id": "xdO-C8PY1scL",
        "outputId": "4e7c2f27-9fcc-4dc9-b4a1-0edbd071f3d2"
      },
      "execution_count": 19,
      "outputs": [
        {
          "output_type": "display_data",
          "data": {
            "text/plain": [
              "<IPython.core.display.Javascript object>"
            ],
            "application/javascript": [
              "\n",
              "    async function download(id, filename, size) {\n",
              "      if (!google.colab.kernel.accessAllowed) {\n",
              "        return;\n",
              "      }\n",
              "      const div = document.createElement('div');\n",
              "      const label = document.createElement('label');\n",
              "      label.textContent = `Downloading \"${filename}\": `;\n",
              "      div.appendChild(label);\n",
              "      const progress = document.createElement('progress');\n",
              "      progress.max = size;\n",
              "      div.appendChild(progress);\n",
              "      document.body.appendChild(div);\n",
              "\n",
              "      const buffers = [];\n",
              "      let downloaded = 0;\n",
              "\n",
              "      const channel = await google.colab.kernel.comms.open(id);\n",
              "      // Send a message to notify the kernel that we're ready.\n",
              "      channel.send({})\n",
              "\n",
              "      for await (const message of channel.messages) {\n",
              "        // Send a message to notify the kernel that we're ready.\n",
              "        channel.send({})\n",
              "        if (message.buffers) {\n",
              "          for (const buffer of message.buffers) {\n",
              "            buffers.push(buffer);\n",
              "            downloaded += buffer.byteLength;\n",
              "            progress.value = downloaded;\n",
              "          }\n",
              "        }\n",
              "      }\n",
              "      const blob = new Blob(buffers, {type: 'application/binary'});\n",
              "      const a = document.createElement('a');\n",
              "      a.href = window.URL.createObjectURL(blob);\n",
              "      a.download = filename;\n",
              "      div.appendChild(a);\n",
              "      a.click();\n",
              "      div.remove();\n",
              "    }\n",
              "  "
            ]
          },
          "metadata": {}
        },
        {
          "output_type": "display_data",
          "data": {
            "text/plain": [
              "<IPython.core.display.Javascript object>"
            ],
            "application/javascript": [
              "download(\"download_db07f138-03e5-4cba-aa3a-369882452c29\", \"MultipleBlob.csv\", 21876)"
            ]
          },
          "metadata": {}
        }
      ]
    },
    {
      "cell_type": "markdown",
      "source": [
        "## Train iForest on Data"
      ],
      "metadata": {
        "id": "LYjAQ9e518Er"
      }
    },
    {
      "cell_type": "markdown",
      "source": [
        "This part is done on local machine"
      ],
      "metadata": {
        "id": "chSXlQu82Dbs"
      }
    },
    {
      "cell_type": "markdown",
      "source": [
        "## Obtain Anomaly Scores"
      ],
      "metadata": {
        "id": "9iskL-5t2KDM"
      }
    },
    {
      "cell_type": "code",
      "source": [
        "files.upload()"
      ],
      "metadata": {
        "colab": {
          "base_uri": "https://localhost:8080/",
          "height": 1000
        },
        "id": "LkOZFAaD2PYE",
        "outputId": "81dd0ce2-4e18-4dc5-983b-22ab5d340065"
      },
      "execution_count": 20,
      "outputs": [
        {
          "output_type": "display_data",
          "data": {
            "text/plain": [
              "<IPython.core.display.HTML object>"
            ],
            "text/html": [
              "\n",
              "     <input type=\"file\" id=\"files-6fb54d63-cf47-46c2-b856-10cb935def11\" name=\"files[]\" multiple disabled\n",
              "        style=\"border:none\" />\n",
              "     <output id=\"result-6fb54d63-cf47-46c2-b856-10cb935def11\">\n",
              "      Upload widget is only available when the cell has been executed in the\n",
              "      current browser session. Please rerun this cell to enable.\n",
              "      </output>\n",
              "      <script>// Copyright 2017 Google LLC\n",
              "//\n",
              "// Licensed under the Apache License, Version 2.0 (the \"License\");\n",
              "// you may not use this file except in compliance with the License.\n",
              "// You may obtain a copy of the License at\n",
              "//\n",
              "//      http://www.apache.org/licenses/LICENSE-2.0\n",
              "//\n",
              "// Unless required by applicable law or agreed to in writing, software\n",
              "// distributed under the License is distributed on an \"AS IS\" BASIS,\n",
              "// WITHOUT WARRANTIES OR CONDITIONS OF ANY KIND, either express or implied.\n",
              "// See the License for the specific language governing permissions and\n",
              "// limitations under the License.\n",
              "\n",
              "/**\n",
              " * @fileoverview Helpers for google.colab Python module.\n",
              " */\n",
              "(function(scope) {\n",
              "function span(text, styleAttributes = {}) {\n",
              "  const element = document.createElement('span');\n",
              "  element.textContent = text;\n",
              "  for (const key of Object.keys(styleAttributes)) {\n",
              "    element.style[key] = styleAttributes[key];\n",
              "  }\n",
              "  return element;\n",
              "}\n",
              "\n",
              "// Max number of bytes which will be uploaded at a time.\n",
              "const MAX_PAYLOAD_SIZE = 100 * 1024;\n",
              "\n",
              "function _uploadFiles(inputId, outputId) {\n",
              "  const steps = uploadFilesStep(inputId, outputId);\n",
              "  const outputElement = document.getElementById(outputId);\n",
              "  // Cache steps on the outputElement to make it available for the next call\n",
              "  // to uploadFilesContinue from Python.\n",
              "  outputElement.steps = steps;\n",
              "\n",
              "  return _uploadFilesContinue(outputId);\n",
              "}\n",
              "\n",
              "// This is roughly an async generator (not supported in the browser yet),\n",
              "// where there are multiple asynchronous steps and the Python side is going\n",
              "// to poll for completion of each step.\n",
              "// This uses a Promise to block the python side on completion of each step,\n",
              "// then passes the result of the previous step as the input to the next step.\n",
              "function _uploadFilesContinue(outputId) {\n",
              "  const outputElement = document.getElementById(outputId);\n",
              "  const steps = outputElement.steps;\n",
              "\n",
              "  const next = steps.next(outputElement.lastPromiseValue);\n",
              "  return Promise.resolve(next.value.promise).then((value) => {\n",
              "    // Cache the last promise value to make it available to the next\n",
              "    // step of the generator.\n",
              "    outputElement.lastPromiseValue = value;\n",
              "    return next.value.response;\n",
              "  });\n",
              "}\n",
              "\n",
              "/**\n",
              " * Generator function which is called between each async step of the upload\n",
              " * process.\n",
              " * @param {string} inputId Element ID of the input file picker element.\n",
              " * @param {string} outputId Element ID of the output display.\n",
              " * @return {!Iterable<!Object>} Iterable of next steps.\n",
              " */\n",
              "function* uploadFilesStep(inputId, outputId) {\n",
              "  const inputElement = document.getElementById(inputId);\n",
              "  inputElement.disabled = false;\n",
              "\n",
              "  const outputElement = document.getElementById(outputId);\n",
              "  outputElement.innerHTML = '';\n",
              "\n",
              "  const pickedPromise = new Promise((resolve) => {\n",
              "    inputElement.addEventListener('change', (e) => {\n",
              "      resolve(e.target.files);\n",
              "    });\n",
              "  });\n",
              "\n",
              "  const cancel = document.createElement('button');\n",
              "  inputElement.parentElement.appendChild(cancel);\n",
              "  cancel.textContent = 'Cancel upload';\n",
              "  const cancelPromise = new Promise((resolve) => {\n",
              "    cancel.onclick = () => {\n",
              "      resolve(null);\n",
              "    };\n",
              "  });\n",
              "\n",
              "  // Wait for the user to pick the files.\n",
              "  const files = yield {\n",
              "    promise: Promise.race([pickedPromise, cancelPromise]),\n",
              "    response: {\n",
              "      action: 'starting',\n",
              "    }\n",
              "  };\n",
              "\n",
              "  cancel.remove();\n",
              "\n",
              "  // Disable the input element since further picks are not allowed.\n",
              "  inputElement.disabled = true;\n",
              "\n",
              "  if (!files) {\n",
              "    return {\n",
              "      response: {\n",
              "        action: 'complete',\n",
              "      }\n",
              "    };\n",
              "  }\n",
              "\n",
              "  for (const file of files) {\n",
              "    const li = document.createElement('li');\n",
              "    li.append(span(file.name, {fontWeight: 'bold'}));\n",
              "    li.append(span(\n",
              "        `(${file.type || 'n/a'}) - ${file.size} bytes, ` +\n",
              "        `last modified: ${\n",
              "            file.lastModifiedDate ? file.lastModifiedDate.toLocaleDateString() :\n",
              "                                    'n/a'} - `));\n",
              "    const percent = span('0% done');\n",
              "    li.appendChild(percent);\n",
              "\n",
              "    outputElement.appendChild(li);\n",
              "\n",
              "    const fileDataPromise = new Promise((resolve) => {\n",
              "      const reader = new FileReader();\n",
              "      reader.onload = (e) => {\n",
              "        resolve(e.target.result);\n",
              "      };\n",
              "      reader.readAsArrayBuffer(file);\n",
              "    });\n",
              "    // Wait for the data to be ready.\n",
              "    let fileData = yield {\n",
              "      promise: fileDataPromise,\n",
              "      response: {\n",
              "        action: 'continue',\n",
              "      }\n",
              "    };\n",
              "\n",
              "    // Use a chunked sending to avoid message size limits. See b/62115660.\n",
              "    let position = 0;\n",
              "    do {\n",
              "      const length = Math.min(fileData.byteLength - position, MAX_PAYLOAD_SIZE);\n",
              "      const chunk = new Uint8Array(fileData, position, length);\n",
              "      position += length;\n",
              "\n",
              "      const base64 = btoa(String.fromCharCode.apply(null, chunk));\n",
              "      yield {\n",
              "        response: {\n",
              "          action: 'append',\n",
              "          file: file.name,\n",
              "          data: base64,\n",
              "        },\n",
              "      };\n",
              "\n",
              "      let percentDone = fileData.byteLength === 0 ?\n",
              "          100 :\n",
              "          Math.round((position / fileData.byteLength) * 100);\n",
              "      percent.textContent = `${percentDone}% done`;\n",
              "\n",
              "    } while (position < fileData.byteLength);\n",
              "  }\n",
              "\n",
              "  // All done.\n",
              "  yield {\n",
              "    response: {\n",
              "      action: 'complete',\n",
              "    }\n",
              "  };\n",
              "}\n",
              "\n",
              "scope.google = scope.google || {};\n",
              "scope.google.colab = scope.google.colab || {};\n",
              "scope.google.colab._files = {\n",
              "  _uploadFiles,\n",
              "  _uploadFilesContinue,\n",
              "};\n",
              "})(self);\n",
              "</script> "
            ]
          },
          "metadata": {}
        },
        {
          "output_type": "stream",
          "name": "stdout",
          "text": [
            "Saving MultipleBlob_tested_over_MultipleBlob.csv to MultipleBlob_tested_over_MultipleBlob.csv\n"
          ]
        },
        {
          "output_type": "execute_result",
          "data": {
            "text/plain": [
              "{'MultipleBlob_tested_over_MultipleBlob.csv': b'pointId Ascore actuallabel\\n0 0.465651 1\\n1 0.425429 0\\n2 0.614329 0\\n3 0.486131 0\\n4 0.393485 0\\n5 0.613406 0\\n6 0.391086 0\\n7 0.447304 0\\n8 0.400435 0\\n9 0.398719 0\\n10 0.428735 0\\n11 0.401749 0\\n12 0.405983 0\\n13 0.40803 0\\n14 0.398321 0\\n15 0.398465 0\\n16 0.406745 0\\n17 0.403875 0\\n18 0.422174 0\\n19 0.47576 0\\n20 0.400435 0\\n21 0.485518 0\\n22 0.395041 0\\n23 0.532822 0\\n24 0.394964 0\\n25 0.394977 0\\n26 0.424718 0\\n27 0.395288 0\\n28 0.401483 0\\n29 0.397853 0\\n30 0.418539 0\\n31 0.394371 0\\n32 0.391735 0\\n33 0.470789 0\\n34 0.615673 0\\n35 0.446416 0\\n36 0.393993 0\\n37 0.555193 0\\n38 0.39782 0\\n39 0.395371 0\\n40 0.389615 0\\n41 0.393172 0\\n42 0.392253 0\\n43 0.402938 0\\n44 0.405747 0\\n45 0.416051 0\\n46 0.39457 0\\n47 0.392207 0\\n48 0.3934 0\\n49 0.398399 0\\n50 0.414372 0\\n51 0.397199 0\\n52 0.420099 0\\n53 0.412753 0\\n54 0.392817 0\\n55 0.436575 0\\n56 0.405425 0\\n57 0.446905 0\\n58 0.492079 0\\n59 0.413352 0\\n60 0.396032 0\\n61 0.528218 0\\n62 0.525335 0\\n63 0.463019 0\\n64 0.421952 0\\n65 0.392968 0\\n66 0.423916 0\\n67 0.397539 0\\n68 0.431204 0\\n69 0.39391 0\\n70 0.389308 0\\n71 0.401501 0\\n72 0.392326 0\\n73 0.396653 0\\n74 0.393981 0\\n75 0.65687 0\\n76 0.557837 0\\n77 0.390538 0\\n78 0.388973 0\\n79 0.425847 0\\n80 0.424639 0\\n81 0.393378 0\\n82 0.39036 0\\n83 0.407476 0\\n84 0.656724 0\\n85 0.403265 0\\n86 0.637461 0\\n87 0.395395 0\\n88 0.439566 0\\n89 0.396585 0\\n90 0.433835 0\\n91 0.417972 0\\n92 0.393102 0\\n93 0.394765 0\\n94 0.392077 0\\n95 0.415268 0\\n96 0.537235 0\\n97 0.498474 0\\n98 0.393391 0\\n99 0.406061 0\\n100 0.39883 0\\n101 0.50323 0\\n102 0.563958 0\\n103 0.48611 0\\n104 0.522951 0\\n105 0.455569 0\\n106 0.418686 0\\n107 0.422479 0\\n108 0.394676 0\\n109 0.440852 0\\n110 0.465721 0\\n111 0.446557 0\\n112 0.638456 0\\n113 0.39598 0\\n114 0.399012 0\\n115 0.393012 0\\n116 0.493453 0\\n117 0.441804 0\\n118 0.427405 0\\n119 0.472163 0\\n120 0.401135 0\\n121 0.457088 0\\n122 0.40974 0\\n123 0.394676 0\\n124 0.552592 0\\n125 0.394307 0\\n126 0.740982 0\\n127 0.418304 0\\n128 0.539639 0\\n129 0.396178 0\\n130 0.480749 0\\n131 0.394752 0\\n132 0.405885 0\\n133 0.397215 0\\n134 0.39586 0\\n135 0.455343 0\\n136 0.398468 0\\n137 0.42464 0\\n138 0.453234 0\\n139 0.427917 0\\n140 0.401499 0\\n141 0.397259 0\\n142 0.394055 0\\n143 0.395722 0\\n144 0.420061 0\\n145 0.390056 0\\n146 0.397861 0\\n147 0.393663 0\\n148 0.394826 0\\n149 0.411623 0\\n150 0.609525 0\\n151 0.414705 0\\n152 0.466532 0\\n153 0.396065 0\\n154 0.396624 0\\n155 0.412821 0\\n156 0.446874 0\\n157 0.696689 0\\n158 0.392571 0\\n159 0.411532 0\\n160 0.394211 0\\n161 0.399124 0\\n162 0.400223 0\\n163 0.410865 0\\n164 0.407355 0\\n165 0.407781 0\\n166 0.417875 0\\n167 0.447406 0\\n168 0.659703 0\\n169 0.741299 0\\n170 0.415019 0\\n171 0.401565 0\\n172 0.391845 0\\n173 0.388673 0\\n174 0.441081 0\\n175 0.410944 0\\n176 0.395719 0\\n177 0.398824 0\\n178 0.389346 0\\n179 0.398434 0\\n180 0.402329 0\\n181 0.538611 0\\n182 0.395919 0\\n183 0.693484 0\\n184 0.394527 0\\n185 0.395046 0\\n186 0.397609 0\\n187 0.497223 0\\n188 0.553843 0\\n189 0.502805 0\\n190 0.396135 0\\n191 0.452524 0\\n192 0.391158 0\\n193 0.388805 0\\n194 0.414822 0\\n195 0.533762 0\\n196 0.403327 0\\n197 0.413509 0\\n198 0.515629 0\\n199 0.528295 0\\n200 0.433092 0\\n201 0.410316 0\\n202 0.395053 0\\n203 0.585732 0\\n204 0.406856 0\\n205 0.522416 0\\n206 0.478373 0\\n207 0.69596 0\\n208 0.41301 0\\n209 0.571627 0\\n210 0.463871 0\\n211 0.395701 0\\n212 0.529415 0\\n213 0.401791 0\\n214 0.395286 0\\n215 0.436458 0\\n216 0.394238 0\\n217 0.411108 0\\n218 0.40159 0\\n219 0.48917 0\\n220 0.508156 0\\n221 0.453796 0\\n222 0.393601 0\\n223 0.411199 0\\n224 0.448247 0\\n225 0.408736 0\\n226 0.397259 0\\n227 0.427299 0\\n228 0.406599 0\\n229 0.401161 0\\n230 0.419165 0\\n231 0.411179 0\\n232 0.390502 0\\n233 0.48401 0\\n234 0.39994 0\\n235 0.39143 0\\n236 0.485848 0\\n237 0.394398 0\\n238 0.603246 0\\n239 0.396555 0\\n240 0.425881 0\\n241 0.40174 0\\n242 0.448431 0\\n243 0.502224 0\\n244 0.42668 0\\n245 0.395581 0\\n246 0.398416 0\\n247 0.471523 0\\n248 0.596848 0\\n249 0.422056 0\\n250 0.454557 0\\n251 0.391481 0\\n252 0.379493 0\\n253 0.384856 0\\n254 0.394757 0\\n255 0.440539 0\\n256 0.412999 0\\n257 0.391238 0\\n258 0.401579 0\\n259 0.396505 0\\n260 0.424478 0\\n261 0.475671 0\\n262 0.403805 0\\n263 0.416895 0\\n264 0.428547 0\\n265 0.454597 0\\n266 0.38269 0\\n267 0.383267 0\\n268 0.38476 0\\n269 0.459968 0\\n270 0.395811 0\\n271 0.455762 0\\n272 0.598751 0\\n273 0.405113 0\\n274 0.452697 0\\n275 0.423296 0\\n276 0.443701 0\\n277 0.395801 0\\n278 0.426812 0\\n279 0.390942 0\\n280 0.382951 0\\n281 0.430395 0\\n282 0.783102 0\\n283 0.379683 0\\n284 0.418485 0\\n285 0.389007 0\\n286 0.489787 0\\n287 0.389214 0\\n288 0.378682 0\\n289 0.396524 0\\n290 0.389063 0\\n291 0.393966 0\\n292 0.395355 0\\n293 0.454729 0\\n294 0.6029 0\\n295 0.390328 0\\n296 0.473651 0\\n297 0.426809 0\\n298 0.397378 0\\n299 0.424138 0\\n300 0.403353 0\\n301 0.394362 0\\n302 0.425134 0\\n303 0.379622 0\\n304 0.474645 0\\n305 0.395786 0\\n306 0.38789 0\\n307 0.514841 0\\n308 0.436884 0\\n309 0.389063 0\\n310 0.487575 0\\n311 0.395355 0\\n312 0.387989 0\\n313 0.381601 0\\n314 0.424067 0\\n315 0.409786 0\\n316 0.379216 0\\n317 0.389155 0\\n318 0.394831 0\\n319 0.39212 0\\n320 0.411206 0\\n321 0.410031 0\\n322 0.408893 0\\n323 0.516366 0\\n324 0.385465 0\\n325 0.438446 0\\n326 0.468802 0\\n327 0.380383 0\\n328 0.392529 0\\n329 0.422039 0\\n330 0.635342 0\\n331 0.408172 0\\n332 0.385895 0\\n333 0.418788 0\\n334 0.391725 0\\n335 0.464359 0\\n336 0.390027 0\\n337 0.387029 0\\n338 0.380667 0\\n339 0.386714 0\\n340 0.402471 0\\n341 0.704486 0\\n342 0.53032 0\\n343 0.38516 0\\n344 0.381691 0\\n345 0.389572 0\\n346 0.384111 0\\n347 0.378432 0\\n348 0.423717 0\\n349 0.403171 0\\n350 0.42226 0\\n351 0.426668 0\\n352 0.384711 0\\n353 0.459643 0\\n354 0.423216 0\\n355 0.575829 0\\n356 0.379816 0\\n357 0.431783 0\\n358 0.39052 0\\n359 0.381759 0\\n360 0.520797 0\\n361 0.384711 0\\n362 0.41108 0\\n363 0.378407 0\\n364 0.393788 0\\n365 0.403805 0\\n366 0.704414 0\\n367 0.405131 0\\n368 0.386992 0\\n369 0.638181 0\\n370 0.393382 0\\n371 0.444103 0\\n372 0.393855 0\\n373 0.378 0\\n374 0.391791 0\\n375 0.422429 0\\n376 0.41288 0\\n377 0.385985 0\\n378 0.404308 0\\n379 0.378871 0\\n380 0.468667 0\\n381 0.500216 0\\n382 0.494374 0\\n383 0.380324 0\\n384 0.517069 0\\n385 0.390035 0\\n386 0.390959 0\\n387 0.392357 0\\n388 0.417724 0\\n389 0.508171 0\\n390 0.412786 0\\n391 0.38919 0\\n392 0.543137 0\\n393 0.388755 0\\n394 0.396535 0\\n395 0.497587 0\\n396 0.377496 0\\n397 0.438581 0\\n398 0.406404 0\\n399 0.38476 0\\n400 0.393457 0\\n401 0.419663 0\\n402 0.381953 0\\n403 0.506119 0\\n404 0.44373 0\\n405 0.415828 0\\n406 0.386836 0\\n407 0.578341 0\\n408 0.396489 0\\n409 0.37851 0\\n410 0.390767 0\\n411 0.387946 0\\n412 0.393966 0\\n413 0.386507 0\\n414 0.388161 0\\n415 0.387353 0\\n416 0.378303 0\\n417 0.392495 0\\n418 0.382851 0\\n419 0.388269 0\\n420 0.438069 0\\n421 0.42001 0\\n422 0.648582 0\\n423 0.419069 0\\n424 0.39253 0\\n425 0.383327 0\\n426 0.393252 0\\n427 0.667443 0\\n428 0.396752 0\\n429 0.382717 0\\n430 0.389535 0\\n431 0.418969 0\\n432 0.388676 0\\n433 0.381429 0\\n434 0.377281 0\\n435 0.48588 0\\n436 0.50401 0\\n437 0.385785 0\\n438 0.389572 0\\n439 0.388536 0\\n440 0.39617 0\\n441 0.378703 0\\n442 0.39212 0\\n443 0.476962 0\\n444 0.404164 0\\n445 0.378728 0\\n446 0.659589 0\\n447 0.4438 0\\n448 0.44281 0\\n449 0.422117 0\\n450 0.383432 0\\n451 0.391604 0\\n452 0.398883 0\\n453 0.47852 0\\n454 0.46443 0\\n455 0.422922 0\\n456 0.395686 0\\n457 0.394469 0\\n458 0.37782 0\\n459 0.416581 0\\n460 0.398938 0\\n461 0.428829 0\\n462 0.389572 0\\n463 0.398989 0\\n464 0.383858 0\\n465 0.459069 0\\n466 0.388634 0\\n467 0.430762 0\\n468 0.405731 0\\n469 0.394263 0\\n470 0.393 0\\n471 0.500381 0\\n472 0.424187 0\\n473 0.386461 0\\n474 0.4454 0\\n475 0.380224 0\\n476 0.389867 0\\n477 0.39212 0\\n478 0.397301 0\\n479 0.400848 0\\n480 0.38835 0\\n481 0.420556 0\\n482 0.411837 0\\n483 0.386124 0\\n484 0.399934 0\\n485 0.378407 0\\n486 0.580974 0\\n487 0.416913 0\\n488 0.605723 0\\n489 0.378728 0\\n490 0.404981 0\\n491 0.378811 0\\n492 0.379509 0\\n493 0.391501 0\\n494 0.388676 0\\n495 0.379447 0\\n496 0.388269 0\\n497 0.40615 0\\n498 0.519764 0\\n499 0.380583 0\\n'}"
            ]
          },
          "metadata": {},
          "execution_count": 20
        }
      ]
    },
    {
      "cell_type": "code",
      "source": [
        "data = pd.read_csv(\"MultipleBlob_tested_over_MultipleBlob.csv\", delimiter=' ')\n",
        "S0 = data['Ascore'].to_numpy()\n"
      ],
      "metadata": {
        "id": "pM11VBA52uv9"
      },
      "execution_count": 21,
      "outputs": []
    },
    {
      "cell_type": "markdown",
      "source": [
        "### Visualise Scores"
      ],
      "metadata": {
        "id": "OrOHHgZF3jNh"
      }
    },
    {
      "cell_type": "code",
      "source": [
        "ss0=np.argsort(S0)\n",
        "\n",
        "f = plt.figure(figsize=(12,6))\n",
        "plt.subplot(1,2,1)\n",
        "plt.scatter(x,y,s=15,c='b',edgecolor='b')\n",
        "plt.scatter(x[ss0[-10:]],y[ss0[-10:]],s=55,c='k')\n",
        "plt.scatter(x[ss0[:10]],y[ss0[:10]],s=55,c='r')\n",
        "plt.title('standard')\n",
        "\n",
        "plt.show()"
      ],
      "metadata": {
        "colab": {
          "base_uri": "https://localhost:8080/",
          "height": 390
        },
        "id": "_FzUsri8dvWy",
        "outputId": "44f8e2cb-d81a-43a0-aa31-53f68b95d95b"
      },
      "execution_count": 22,
      "outputs": [
        {
          "output_type": "display_data",
          "data": {
            "text/plain": [
              "<Figure size 864x432 with 1 Axes>"
            ],
            "image/png": "[encoded data removed]"
          },
          "metadata": {}
        }
      ]
    },
    {
      "cell_type": "code",
      "source": [
        "f = plt.figure(figsize=(12,6))\n",
        "plt.subplot(1,2,1)\n",
        "sb.distplot(S0, kde=True, color=\"b\")\n",
        "plt.title('standard')"
      ],
      "metadata": {
        "colab": {
          "base_uri": "https://localhost:8080/",
          "height": 462
        },
        "id": "fmxwmkcZd5pC",
        "outputId": "8c5482ec-b93d-4e6d-b87e-b00eb67ce012"
      },
      "execution_count": 23,
      "outputs": [
        {
          "output_type": "stream",
          "name": "stderr",
          "text": [
            "/usr/local/lib/python3.7/dist-packages/seaborn/distributions.py:2619: FutureWarning: `distplot` is a deprecated function and will be removed in a future version. Please adapt your code to use either `displot` (a figure-level function with similar flexibility) or `histplot` (an axes-level function for histograms).\n",
            "  warnings.warn(msg, FutureWarning)\n"
          ]
        },
        {
          "output_type": "execute_result",
          "data": {
            "text/plain": [
              "Text(0.5, 1.0, 'standard')"
            ]
          },
          "metadata": {},
          "execution_count": 23
        },
        {
          "output_type": "display_data",
          "data": {
            "text/plain": [
              "<Figure size 864x432 with 1 Axes>"
            ],
            "image/png": "[encoded data removed]"
          },
          "metadata": {}
        }
      ]
    },
    {
      "cell_type": "markdown",
      "source": [
        "## Score Map"
      ],
      "metadata": {
        "id": "3BYlR-5F4v4W"
      }
    },
    {
      "cell_type": "code",
      "source": [
        "xx, yy = np.meshgrid(np.linspace(-5, 15, 30), np.linspace(-5, 15, 30))\n",
        "X_in=np.c_[xx.ravel(), yy.ravel()]\n",
        "\n",
        "label=np.zeros(900, int)\n",
        "\n",
        "dict={'1':X_in[:, 0], '2':X_in[:, 1], 'label':label}\n",
        "df=pd.DataFrame(dict)\n",
        "\n",
        "df.to_csv('MultipleBlob_heatmap.csv', sep='\\t')\n",
        "files.download(\"MultipleBlob_heatmap.csv\")"
      ],
      "metadata": {
        "colab": {
          "base_uri": "https://localhost:8080/",
          "height": 17
        },
        "id": "rcs2MUsh40kn",
        "outputId": "7f11a2d7-c270-40dc-d40b-16d77c22da47"
      },
      "execution_count": 24,
      "outputs": [
        {
          "output_type": "display_data",
          "data": {
            "text/plain": [
              "<IPython.core.display.Javascript object>"
            ],
            "application/javascript": [
              "\n",
              "    async function download(id, filename, size) {\n",
              "      if (!google.colab.kernel.accessAllowed) {\n",
              "        return;\n",
              "      }\n",
              "      const div = document.createElement('div');\n",
              "      const label = document.createElement('label');\n",
              "      label.textContent = `Downloading \"${filename}\": `;\n",
              "      div.appendChild(label);\n",
              "      const progress = document.createElement('progress');\n",
              "      progress.max = size;\n",
              "      div.appendChild(progress);\n",
              "      document.body.appendChild(div);\n",
              "\n",
              "      const buffers = [];\n",
              "      let downloaded = 0;\n",
              "\n",
              "      const channel = await google.colab.kernel.comms.open(id);\n",
              "      // Send a message to notify the kernel that we're ready.\n",
              "      channel.send({})\n",
              "\n",
              "      for await (const message of channel.messages) {\n",
              "        // Send a message to notify the kernel that we're ready.\n",
              "        channel.send({})\n",
              "        if (message.buffers) {\n",
              "          for (const buffer of message.buffers) {\n",
              "            buffers.push(buffer);\n",
              "            downloaded += buffer.byteLength;\n",
              "            progress.value = downloaded;\n",
              "          }\n",
              "        }\n",
              "      }\n",
              "      const blob = new Blob(buffers, {type: 'application/binary'});\n",
              "      const a = document.createElement('a');\n",
              "      a.href = window.URL.createObjectURL(blob);\n",
              "      a.download = filename;\n",
              "      div.appendChild(a);\n",
              "      a.click();\n",
              "      div.remove();\n",
              "    }\n",
              "  "
            ]
          },
          "metadata": {}
        },
        {
          "output_type": "display_data",
          "data": {
            "text/plain": [
              "<IPython.core.display.Javascript object>"
            ],
            "application/javascript": [
              "download(\"download_5cd5fd04-0703-4153-8b2f-a536744c9347\", \"MultipleBlob_heatmap.csv\", 37401)"
            ]
          },
          "metadata": {}
        }
      ]
    },
    {
      "cell_type": "code",
      "source": [
        "files.upload()"
      ],
      "metadata": {
        "colab": {
          "base_uri": "https://localhost:8080/",
          "height": 1000
        },
        "id": "XtPwsKDteMJG",
        "outputId": "58eaa684-fcba-498f-f801-f8354f48fa32"
      },
      "execution_count": 28,
      "outputs": [
        {
          "output_type": "display_data",
          "data": {
            "text/plain": [
              "<IPython.core.display.HTML object>"
            ],
            "text/html": [
              "\n",
              "     <input type=\"file\" id=\"files-0be55eec-43d4-44ff-a81a-aaec5ba11c2c\" name=\"files[]\" multiple disabled\n",
              "        style=\"border:none\" />\n",
              "     <output id=\"result-0be55eec-43d4-44ff-a81a-aaec5ba11c2c\">\n",
              "      Upload widget is only available when the cell has been executed in the\n",
              "      current browser session. Please rerun this cell to enable.\n",
              "      </output>\n",
              "      <script>// Copyright 2017 Google LLC\n",
              "//\n",
              "// Licensed under the Apache License, Version 2.0 (the \"License\");\n",
              "// you may not use this file except in compliance with the License.\n",
              "// You may obtain a copy of the License at\n",
              "//\n",
              "//      http://www.apache.org/licenses/LICENSE-2.0\n",
              "//\n",
              "// Unless required by applicable law or agreed to in writing, software\n",
              "// distributed under the License is distributed on an \"AS IS\" BASIS,\n",
              "// WITHOUT WARRANTIES OR CONDITIONS OF ANY KIND, either express or implied.\n",
              "// See the License for the specific language governing permissions and\n",
              "// limitations under the License.\n",
              "\n",
              "/**\n",
              " * @fileoverview Helpers for google.colab Python module.\n",
              " */\n",
              "(function(scope) {\n",
              "function span(text, styleAttributes = {}) {\n",
              "  const element = document.createElement('span');\n",
              "  element.textContent = text;\n",
              "  for (const key of Object.keys(styleAttributes)) {\n",
              "    element.style[key] = styleAttributes[key];\n",
              "  }\n",
              "  return element;\n",
              "}\n",
              "\n",
              "// Max number of bytes which will be uploaded at a time.\n",
              "const MAX_PAYLOAD_SIZE = 100 * 1024;\n",
              "\n",
              "function _uploadFiles(inputId, outputId) {\n",
              "  const steps = uploadFilesStep(inputId, outputId);\n",
              "  const outputElement = document.getElementById(outputId);\n",
              "  // Cache steps on the outputElement to make it available for the next call\n",
              "  // to uploadFilesContinue from Python.\n",
              "  outputElement.steps = steps;\n",
              "\n",
              "  return _uploadFilesContinue(outputId);\n",
              "}\n",
              "\n",
              "// This is roughly an async generator (not supported in the browser yet),\n",
              "// where there are multiple asynchronous steps and the Python side is going\n",
              "// to poll for completion of each step.\n",
              "// This uses a Promise to block the python side on completion of each step,\n",
              "// then passes the result of the previous step as the input to the next step.\n",
              "function _uploadFilesContinue(outputId) {\n",
              "  const outputElement = document.getElementById(outputId);\n",
              "  const steps = outputElement.steps;\n",
              "\n",
              "  const next = steps.next(outputElement.lastPromiseValue);\n",
              "  return Promise.resolve(next.value.promise).then((value) => {\n",
              "    // Cache the last promise value to make it available to the next\n",
              "    // step of the generator.\n",
              "    outputElement.lastPromiseValue = value;\n",
              "    return next.value.response;\n",
              "  });\n",
              "}\n",
              "\n",
              "/**\n",
              " * Generator function which is called between each async step of the upload\n",
              " * process.\n",
              " * @param {string} inputId Element ID of the input file picker element.\n",
              " * @param {string} outputId Element ID of the output display.\n",
              " * @return {!Iterable<!Object>} Iterable of next steps.\n",
              " */\n",
              "function* uploadFilesStep(inputId, outputId) {\n",
              "  const inputElement = document.getElementById(inputId);\n",
              "  inputElement.disabled = false;\n",
              "\n",
              "  const outputElement = document.getElementById(outputId);\n",
              "  outputElement.innerHTML = '';\n",
              "\n",
              "  const pickedPromise = new Promise((resolve) => {\n",
              "    inputElement.addEventListener('change', (e) => {\n",
              "      resolve(e.target.files);\n",
              "    });\n",
              "  });\n",
              "\n",
              "  const cancel = document.createElement('button');\n",
              "  inputElement.parentElement.appendChild(cancel);\n",
              "  cancel.textContent = 'Cancel upload';\n",
              "  const cancelPromise = new Promise((resolve) => {\n",
              "    cancel.onclick = () => {\n",
              "      resolve(null);\n",
              "    };\n",
              "  });\n",
              "\n",
              "  // Wait for the user to pick the files.\n",
              "  const files = yield {\n",
              "    promise: Promise.race([pickedPromise, cancelPromise]),\n",
              "    response: {\n",
              "      action: 'starting',\n",
              "    }\n",
              "  };\n",
              "\n",
              "  cancel.remove();\n",
              "\n",
              "  // Disable the input element since further picks are not allowed.\n",
              "  inputElement.disabled = true;\n",
              "\n",
              "  if (!files) {\n",
              "    return {\n",
              "      response: {\n",
              "        action: 'complete',\n",
              "      }\n",
              "    };\n",
              "  }\n",
              "\n",
              "  for (const file of files) {\n",
              "    const li = document.createElement('li');\n",
              "    li.append(span(file.name, {fontWeight: 'bold'}));\n",
              "    li.append(span(\n",
              "        `(${file.type || 'n/a'}) - ${file.size} bytes, ` +\n",
              "        `last modified: ${\n",
              "            file.lastModifiedDate ? file.lastModifiedDate.toLocaleDateString() :\n",
              "                                    'n/a'} - `));\n",
              "    const percent = span('0% done');\n",
              "    li.appendChild(percent);\n",
              "\n",
              "    outputElement.appendChild(li);\n",
              "\n",
              "    const fileDataPromise = new Promise((resolve) => {\n",
              "      const reader = new FileReader();\n",
              "      reader.onload = (e) => {\n",
              "        resolve(e.target.result);\n",
              "      };\n",
              "      reader.readAsArrayBuffer(file);\n",
              "    });\n",
              "    // Wait for the data to be ready.\n",
              "    let fileData = yield {\n",
              "      promise: fileDataPromise,\n",
              "      response: {\n",
              "        action: 'continue',\n",
              "      }\n",
              "    };\n",
              "\n",
              "    // Use a chunked sending to avoid message size limits. See b/62115660.\n",
              "    let position = 0;\n",
              "    do {\n",
              "      const length = Math.min(fileData.byteLength - position, MAX_PAYLOAD_SIZE);\n",
              "      const chunk = new Uint8Array(fileData, position, length);\n",
              "      position += length;\n",
              "\n",
              "      const base64 = btoa(String.fromCharCode.apply(null, chunk));\n",
              "      yield {\n",
              "        response: {\n",
              "          action: 'append',\n",
              "          file: file.name,\n",
              "          data: base64,\n",
              "        },\n",
              "      };\n",
              "\n",
              "      let percentDone = fileData.byteLength === 0 ?\n",
              "          100 :\n",
              "          Math.round((position / fileData.byteLength) * 100);\n",
              "      percent.textContent = `${percentDone}% done`;\n",
              "\n",
              "    } while (position < fileData.byteLength);\n",
              "  }\n",
              "\n",
              "  // All done.\n",
              "  yield {\n",
              "    response: {\n",
              "      action: 'complete',\n",
              "    }\n",
              "  };\n",
              "}\n",
              "\n",
              "scope.google = scope.google || {};\n",
              "scope.google.colab = scope.google.colab || {};\n",
              "scope.google.colab._files = {\n",
              "  _uploadFiles,\n",
              "  _uploadFilesContinue,\n",
              "};\n",
              "})(self);\n",
              "</script> "
            ]
          },
          "metadata": {}
        },
        {
          "output_type": "stream",
          "name": "stdout",
          "text": [
            "Saving MultipleBlob_heatmap_tested_over_MultipleBlob.csv to MultipleBlob_heatmap_tested_over_MultipleBlob.csv\n"
          ]
        },
        {
          "output_type": "execute_result",
          "data": {
            "text/plain": [
              "{'MultipleBlob_heatmap_tested_over_MultipleBlob.csv': b'pointId Ascore actuallabel\\n0 0.767113 0\\n1 0.767113 0\\n2 0.767113 0\\n3 0.765664 0\\n4 0.748789 0\\n5 0.729375 0\\n6 0.717858 0\\n7 0.712327 0\\n8 0.713691 0\\n9 0.718629 0\\n10 0.742716 0\\n11 0.758425 0\\n12 0.776842 0\\n13 0.776352 0\\n14 0.769848 0\\n15 0.772637 0\\n16 0.774587 0\\n17 0.773124 0\\n18 0.7673 0\\n19 0.720446 0\\n20 0.690423 0\\n21 0.665351 0\\n22 0.658637 0\\n23 0.662909 0\\n24 0.705622 0\\n25 0.72106 0\\n26 0.782889 0\\n27 0.782889 0\\n28 0.782889 0\\n29 0.782889 0\\n30 0.767113 0\\n31 0.767113 0\\n32 0.767113 0\\n33 0.765664 0\\n34 0.748789 0\\n35 0.729375 0\\n36 0.717858 0\\n37 0.712327 0\\n38 0.713691 0\\n39 0.718629 0\\n40 0.742716 0\\n41 0.758425 0\\n42 0.776842 0\\n43 0.776352 0\\n44 0.769848 0\\n45 0.772637 0\\n46 0.774587 0\\n47 0.773124 0\\n48 0.7673 0\\n49 0.720446 0\\n50 0.690423 0\\n51 0.665351 0\\n52 0.658637 0\\n53 0.662909 0\\n54 0.705622 0\\n55 0.72106 0\\n56 0.782889 0\\n57 0.782889 0\\n58 0.782889 0\\n59 0.782889 0\\n60 0.767113 0\\n61 0.767113 0\\n62 0.767113 0\\n63 0.765664 0\\n64 0.748789 0\\n65 0.729375 0\\n66 0.717858 0\\n67 0.712327 0\\n68 0.713691 0\\n69 0.718629 0\\n70 0.742716 0\\n71 0.758425 0\\n72 0.776842 0\\n73 0.776352 0\\n74 0.769848 0\\n75 0.772637 0\\n76 0.774587 0\\n77 0.773124 0\\n78 0.7673 0\\n79 0.720446 0\\n80 0.690423 0\\n81 0.665351 0\\n82 0.658637 0\\n83 0.662909 0\\n84 0.705622 0\\n85 0.72106 0\\n86 0.782889 0\\n87 0.782889 0\\n88 0.782889 0\\n89 0.782889 0\\n90 0.767113 0\\n91 0.767113 0\\n92 0.767113 0\\n93 0.765664 0\\n94 0.748789 0\\n95 0.729375 0\\n96 0.717858 0\\n97 0.712327 0\\n98 0.713691 0\\n99 0.718629 0\\n100 0.742716 0\\n101 0.758425 0\\n102 0.776842 0\\n103 0.776352 0\\n104 0.769848 0\\n105 0.772637 0\\n106 0.774587 0\\n107 0.773124 0\\n108 0.7673 0\\n109 0.720446 0\\n110 0.690423 0\\n111 0.665351 0\\n112 0.658637 0\\n113 0.662909 0\\n114 0.705622 0\\n115 0.72106 0\\n116 0.782889 0\\n117 0.782889 0\\n118 0.782889 0\\n119 0.782889 0\\n120 0.752017 0\\n121 0.752017 0\\n122 0.752017 0\\n123 0.750597 0\\n124 0.734054 0\\n125 0.715022 0\\n126 0.703731 0\\n127 0.69831 0\\n128 0.699647 0\\n129 0.704487 0\\n130 0.7281 0\\n131 0.743501 0\\n132 0.761555 0\\n133 0.760116 0\\n134 0.753748 0\\n135 0.754574 0\\n136 0.751253 0\\n137 0.748418 0\\n138 0.741125 0\\n139 0.681942 0\\n140 0.639287 0\\n141 0.599449 0\\n142 0.596873 0\\n143 0.611709 0\\n144 0.659629 0\\n145 0.686399 0\\n146 0.753928 0\\n147 0.753928 0\\n148 0.753928 0\\n149 0.753928 0\\n150 0.736922 0\\n151 0.736922 0\\n152 0.736922 0\\n153 0.73553 0\\n154 0.719319 0\\n155 0.700669 0\\n156 0.689605 0\\n157 0.684293 0\\n158 0.685603 0\\n159 0.690346 0\\n160 0.713485 0\\n161 0.727659 0\\n162 0.74392 0\\n163 0.74158 0\\n164 0.735367 0\\n165 0.73268 0\\n166 0.721217 0\\n167 0.718703 0\\n168 0.710803 0\\n169 0.609044 0\\n170 0.536829 0\\n171 0.486356 0\\n172 0.481824 0\\n173 0.496094 0\\n174 0.555079 0\\n175 0.624925 0\\n176 0.719554 0\\n177 0.719554 0\\n178 0.719554 0\\n179 0.719554 0\\n180 0.731232 0\\n181 0.731232 0\\n182 0.731232 0\\n183 0.729851 0\\n184 0.713765 0\\n185 0.695259 0\\n186 0.68428 0\\n187 0.679009 0\\n188 0.680309 0\\n189 0.685015 0\\n190 0.707976 0\\n191 0.718289 0\\n192 0.733879 0\\n193 0.72138 0\\n194 0.712918 0\\n195 0.706442 0\\n196 0.692904 0\\n197 0.689032 0\\n198 0.67765 0\\n199 0.548415 0\\n200 0.450455 0\\n201 0.399123 0\\n202 0.399498 0\\n203 0.408888 0\\n204 0.482427 0\\n205 0.574666 0\\n206 0.68978 0\\n207 0.699016 0\\n208 0.699016 0\\n209 0.699016 0\\n210 0.729025 0\\n211 0.729025 0\\n212 0.729025 0\\n213 0.727648 0\\n214 0.711611 0\\n215 0.693161 0\\n216 0.682216 0\\n217 0.67696 0\\n218 0.678256 0\\n219 0.682949 0\\n220 0.705839 0\\n221 0.716122 0\\n222 0.731665 0\\n223 0.721215 0\\n224 0.710761 0\\n225 0.702648 0\\n226 0.695848 0\\n227 0.69196 0\\n228 0.680529 0\\n229 0.546792 0\\n230 0.447469 0\\n231 0.391587 0\\n232 0.390273 0\\n233 0.399574 0\\n234 0.467388 0\\n235 0.573118 0\\n236 0.689988 0\\n237 0.699227 0\\n238 0.699227 0\\n239 0.699227 0\\n240 0.725157 0\\n241 0.725157 0\\n242 0.725157 0\\n243 0.723787 0\\n244 0.707835 0\\n245 0.689483 0\\n246 0.678595 0\\n247 0.673368 0\\n248 0.674657 0\\n249 0.679325 0\\n250 0.702094 0\\n251 0.712661 0\\n252 0.728128 0\\n253 0.718634 0\\n254 0.707553 0\\n255 0.699918 0\\n256 0.693144 0\\n257 0.688919 0\\n258 0.676259 0\\n259 0.54538 0\\n260 0.444402 0\\n261 0.392985 0\\n262 0.391242 0\\n263 0.402589 0\\n264 0.470182 0\\n265 0.567386 0\\n266 0.680961 0\\n267 0.693683 0\\n268 0.693683 0\\n269 0.693683 0\\n270 0.731858 0\\n271 0.731858 0\\n272 0.731858 0\\n273 0.730476 0\\n274 0.714376 0\\n275 0.695855 0\\n276 0.684867 0\\n277 0.679591 0\\n278 0.680892 0\\n279 0.685603 0\\n280 0.708582 0\\n281 0.719247 0\\n282 0.731301 0\\n283 0.725364 0\\n284 0.716987 0\\n285 0.705989 0\\n286 0.697259 0\\n287 0.694036 0\\n288 0.681282 0\\n289 0.563335 0\\n290 0.467024 0\\n291 0.41704 0\\n292 0.416913 0\\n293 0.431211 0\\n294 0.504882 0\\n295 0.600752 0\\n296 0.70342 0\\n297 0.710796 0\\n298 0.710796 0\\n299 0.710796 0\\n300 0.737379 0\\n301 0.737379 0\\n302 0.737379 0\\n303 0.735987 0\\n304 0.719766 0\\n305 0.701104 0\\n306 0.690033 0\\n307 0.684717 0\\n308 0.686028 0\\n309 0.690775 0\\n310 0.713928 0\\n311 0.724673 0\\n312 0.736102 0\\n313 0.734549 0\\n314 0.729687 0\\n315 0.726652 0\\n316 0.718395 0\\n317 0.716587 0\\n318 0.708263 0\\n319 0.624693 0\\n320 0.557929 0\\n321 0.520587 0\\n322 0.521276 0\\n323 0.53792 0\\n324 0.589553 0\\n325 0.651566 0\\n326 0.728606 0\\n327 0.733785 0\\n328 0.733785 0\\n329 0.733785 0\\n330 0.759379 0\\n331 0.759379 0\\n332 0.759379 0\\n333 0.757945 0\\n334 0.738442 0\\n335 0.719297 0\\n336 0.704304 0\\n337 0.699318 0\\n338 0.700673 0\\n339 0.705521 0\\n340 0.729168 0\\n341 0.749833 0\\n342 0.768041 0\\n343 0.767557 0\\n344 0.763437 0\\n345 0.759294 0\\n346 0.75465 0\\n347 0.754174 0\\n348 0.745884 0\\n349 0.689325 0\\n350 0.642295 0\\n351 0.616277 0\\n352 0.611217 0\\n353 0.625131 0\\n354 0.657992 0\\n355 0.71263 0\\n356 0.762239 0\\n357 0.767657 0\\n358 0.767657 0\\n359 0.767657 0\\n360 0.763477 0\\n361 0.763477 0\\n362 0.763477 0\\n363 0.762035 0\\n364 0.737706 0\\n365 0.717222 0\\n366 0.703158 0\\n367 0.698181 0\\n368 0.698498 0\\n369 0.70333 0\\n370 0.733565 0\\n371 0.754355 0\\n372 0.774134 0\\n373 0.773647 0\\n374 0.769494 0\\n375 0.765318 0\\n376 0.760637 0\\n377 0.760157 0\\n378 0.751802 0\\n379 0.696109 0\\n380 0.648394 0\\n381 0.62213 0\\n382 0.618636 0\\n383 0.630885 0\\n384 0.662986 0\\n385 0.718284 0\\n386 0.761758 0\\n387 0.767173 0\\n388 0.767173 0\\n389 0.767173 0\\n390 0.765403 0\\n391 0.765403 0\\n392 0.765403 0\\n393 0.763958 0\\n394 0.735385 0\\n395 0.714065 0\\n396 0.696761 0\\n397 0.692701 0\\n398 0.693016 0\\n399 0.697811 0\\n400 0.729855 0\\n401 0.75483 0\\n402 0.775111 0\\n403 0.774622 0\\n404 0.770465 0\\n405 0.766284 0\\n406 0.761596 0\\n407 0.761116 0\\n408 0.75275 0\\n409 0.704375 0\\n410 0.659462 0\\n411 0.633156 0\\n412 0.6296 0\\n413 0.64046 0\\n414 0.672544 0\\n415 0.724259 0\\n416 0.762239 0\\n417 0.767657 0\\n418 0.767657 0\\n419 0.767657 0\\n420 0.77099 0\\n421 0.77099 0\\n422 0.77099 0\\n423 0.765664 0\\n424 0.731917 0\\n425 0.71025 0\\n426 0.692601 0\\n427 0.687583 0\\n428 0.687896 0\\n429 0.69005 0\\n430 0.72335 0\\n431 0.755087 0\\n432 0.776842 0\\n433 0.776352 0\\n434 0.772186 0\\n435 0.767995 0\\n436 0.763297 0\\n437 0.762816 0\\n438 0.75707 0\\n439 0.708418 0\\n440 0.66908 0\\n441 0.642238 0\\n442 0.639081 0\\n443 0.648944 0\\n444 0.67821 0\\n445 0.723346 0\\n446 0.758884 0\\n447 0.764278 0\\n448 0.764278 0\\n449 0.764278 0\\n450 0.767113 0\\n451 0.767113 0\\n452 0.767113 0\\n453 0.761814 0\\n454 0.725241 0\\n455 0.694588 0\\n456 0.672734 0\\n457 0.675959 0\\n458 0.672354 0\\n459 0.676722 0\\n460 0.710273 0\\n461 0.756516 0\\n462 0.778312 0\\n463 0.777821 0\\n464 0.773647 0\\n465 0.769448 0\\n466 0.764741 0\\n467 0.76426 0\\n468 0.760896 0\\n469 0.71695 0\\n470 0.688936 0\\n471 0.667487 0\\n472 0.661577 0\\n473 0.67211 0\\n474 0.699564 0\\n475 0.737262 0\\n476 0.770564 0\\n477 0.770564 0\\n478 0.770564 0\\n479 0.770564 0\\n480 0.764921 0\\n481 0.764921 0\\n482 0.764921 0\\n483 0.759637 0\\n484 0.722713 0\\n485 0.688696 0\\n486 0.665768 0\\n487 0.665221 0\\n488 0.661673 0\\n489 0.667169 0\\n490 0.703362 0\\n491 0.758903 0\\n492 0.780768 0\\n493 0.780276 0\\n494 0.776088 0\\n495 0.771876 0\\n496 0.767155 0\\n497 0.766671 0\\n498 0.763297 0\\n499 0.725813 0\\n500 0.698876 0\\n501 0.678722 0\\n502 0.673711 0\\n503 0.684437 0\\n504 0.71134 0\\n505 0.74239 0\\n506 0.768625 0\\n507 0.768625 0\\n508 0.768625 0\\n509 0.768625 0\\n510 0.763958 0\\n511 0.763958 0\\n512 0.763958 0\\n513 0.758681 0\\n514 0.719079 0\\n515 0.680299 0\\n516 0.655284 0\\n517 0.654552 0\\n518 0.651634 0\\n519 0.657632 0\\n520 0.701591 0\\n521 0.760819 0\\n522 0.782738 0\\n523 0.782245 0\\n524 0.778047 0\\n525 0.773824 0\\n526 0.769091 0\\n527 0.768606 0\\n528 0.765223 0\\n529 0.731783 0\\n530 0.706741 0\\n531 0.687027 0\\n532 0.68212 0\\n533 0.692107 0\\n534 0.719312 0\\n535 0.74752 0\\n536 0.773935 0\\n537 0.773935 0\\n538 0.773935 0\\n539 0.773935 0\\n540 0.761075 0\\n541 0.761075 0\\n542 0.761075 0\\n543 0.755818 0\\n544 0.701353 0\\n545 0.655294 0\\n546 0.623486 0\\n547 0.62166 0\\n548 0.617945 0\\n549 0.626378 0\\n550 0.682561 0\\n551 0.74885 0\\n552 0.776099 0\\n553 0.782245 0\\n554 0.778047 0\\n555 0.773824 0\\n556 0.769091 0\\n557 0.768606 0\\n558 0.768122 0\\n559 0.739164 0\\n560 0.716407 0\\n561 0.701517 0\\n562 0.696382 0\\n563 0.706133 0\\n564 0.724282 0\\n565 0.749406 0\\n566 0.773935 0\\n567 0.773935 0\\n568 0.773935 0\\n569 0.773935 0\\n570 0.725792 0\\n571 0.725792 0\\n572 0.725792 0\\n573 0.712349 0\\n574 0.630178 0\\n575 0.563717 0\\n576 0.510127 0\\n577 0.485061 0\\n578 0.490498 0\\n579 0.508147 0\\n580 0.586076 0\\n581 0.691707 0\\n582 0.737249 0\\n583 0.74262 0\\n584 0.742244 0\\n585 0.739147 0\\n586 0.743122 0\\n587 0.742654 0\\n588 0.744997 0\\n589 0.720903 0\\n590 0.698708 0\\n591 0.685048 0\\n592 0.680034 0\\n593 0.688254 0\\n594 0.705943 0\\n595 0.730432 0\\n596 0.75434 0\\n597 0.75434 0\\n598 0.75434 0\\n599 0.75434 0\\n600 0.704114 0\\n601 0.704114 0\\n602 0.704114 0\\n603 0.686963 0\\n604 0.581069 0\\n605 0.491272 0\\n606 0.435671 0\\n607 0.412383 0\\n608 0.416898 0\\n609 0.436887 0\\n610 0.531864 0\\n611 0.649485 0\\n612 0.710233 0\\n613 0.715407 0\\n614 0.717868 0\\n615 0.714873 0\\n616 0.723963 0\\n617 0.727425 0\\n618 0.736929 0\\n619 0.713096 0\\n620 0.691141 0\\n621 0.677629 0\\n622 0.67267 0\\n623 0.6808 0\\n624 0.698298 0\\n625 0.722521 0\\n626 0.74617 0\\n627 0.74617 0\\n628 0.74617 0\\n629 0.74617 0\\n630 0.691275 0\\n631 0.691275 0\\n632 0.691275 0\\n633 0.674012 0\\n634 0.561704 0\\n635 0.459242 0\\n636 0.40878 0\\n637 0.384857 0\\n638 0.387776 0\\n639 0.408898 0\\n640 0.503924 0\\n641 0.635415 0\\n642 0.697343 0\\n643 0.702423 0\\n644 0.703509 0\\n645 0.700574 0\\n646 0.713226 0\\n647 0.719201 0\\n648 0.733797 0\\n649 0.710065 0\\n650 0.688204 0\\n651 0.674749 0\\n652 0.669811 0\\n653 0.677907 0\\n654 0.69533 0\\n655 0.71945 0\\n656 0.742999 0\\n657 0.742999 0\\n658 0.742999 0\\n659 0.742999 0\\n660 0.684832 0\\n661 0.684832 0\\n662 0.684832 0\\n663 0.66773 0\\n664 0.556193 0\\n665 0.450948 0\\n666 0.403399 0\\n667 0.379392 0\\n668 0.382415 0\\n669 0.405922 0\\n670 0.494859 0\\n671 0.637396 0\\n672 0.698383 0\\n673 0.703471 0\\n674 0.704558 0\\n675 0.701618 0\\n676 0.715565 0\\n677 0.720198 0\\n678 0.734973 0\\n679 0.711203 0\\n680 0.689307 0\\n681 0.67583 0\\n682 0.670884 0\\n683 0.678993 0\\n684 0.696444 0\\n685 0.720603 0\\n686 0.744189 0\\n687 0.744189 0\\n688 0.744189 0\\n689 0.744189 0\\n690 0.694085 0\\n691 0.694085 0\\n692 0.694085 0\\n693 0.677179 0\\n694 0.573114 0\\n695 0.477783 0\\n696 0.421382 0\\n697 0.388543 0\\n698 0.394433 0\\n699 0.422949 0\\n700 0.510984 0\\n701 0.649838 0\\n702 0.709481 0\\n703 0.715709 0\\n704 0.714446 0\\n705 0.713055 0\\n706 0.728323 0\\n707 0.729241 0\\n708 0.741841 0\\n709 0.717849 0\\n710 0.695748 0\\n711 0.682146 0\\n712 0.677153 0\\n713 0.685338 0\\n714 0.702952 0\\n715 0.727337 0\\n716 0.751144 0\\n717 0.751144 0\\n718 0.751144 0\\n719 0.751144 0\\n720 0.70857 0\\n721 0.70857 0\\n722 0.70857 0\\n723 0.6938 0\\n724 0.600238 0\\n725 0.519431 0\\n726 0.470516 0\\n727 0.431748 0\\n728 0.440799 0\\n729 0.472734 0\\n730 0.551804 0\\n731 0.675056 0\\n732 0.723842 0\\n733 0.726287 0\\n734 0.725005 0\\n735 0.722891 0\\n736 0.737267 0\\n737 0.738196 0\\n738 0.748109 0\\n739 0.719906 0\\n740 0.697742 0\\n741 0.6841 0\\n742 0.679093 0\\n743 0.687302 0\\n744 0.704966 0\\n745 0.729421 0\\n746 0.753296 0\\n747 0.753296 0\\n748 0.753296 0\\n749 0.753296 0\\n750 0.749274 0\\n751 0.749274 0\\n752 0.749274 0\\n753 0.735859 0\\n754 0.679108 0\\n755 0.640165 0\\n756 0.602526 0\\n757 0.577122 0\\n758 0.58802 0\\n759 0.601888 0\\n760 0.665081 0\\n761 0.73778 0\\n762 0.764146 0\\n763 0.763184 0\\n764 0.761357 0\\n765 0.757226 0\\n766 0.76126 0\\n767 0.76222 0\\n768 0.769091 0\\n769 0.739164 0\\n770 0.716407 0\\n771 0.702401 0\\n772 0.69726 0\\n773 0.705688 0\\n774 0.723826 0\\n775 0.748934 0\\n776 0.773448 0\\n777 0.773448 0\\n778 0.773448 0\\n779 0.773448 0\\n780 0.774006 0\\n781 0.774006 0\\n782 0.774006 0\\n783 0.761107 0\\n784 0.720659 0\\n785 0.685668 0\\n786 0.65986 0\\n787 0.63711 0\\n788 0.641519 0\\n789 0.655638 0\\n790 0.702969 0\\n791 0.759936 0\\n792 0.78034 0\\n793 0.777885 0\\n794 0.776512 0\\n795 0.769511 0\\n796 0.770429 0\\n797 0.769944 0\\n798 0.776395 0\\n799 0.750745 0\\n800 0.727631 0\\n801 0.713406 0\\n802 0.708185 0\\n803 0.716745 0\\n804 0.732544 0\\n805 0.757477 0\\n806 0.78227 0\\n807 0.78227 0\\n808 0.78227 0\\n809 0.78227 0\\n810 0.791038 0\\n811 0.791038 0\\n812 0.791038 0\\n813 0.777854 0\\n814 0.746053 0\\n815 0.711172 0\\n816 0.690135 0\\n817 0.670726 0\\n818 0.674517 0\\n819 0.685652 0\\n820 0.716351 0\\n821 0.77103 0\\n822 0.791731 0\\n823 0.789241 0\\n824 0.787352 0\\n825 0.77927 0\\n826 0.7802 0\\n827 0.779708 0\\n828 0.785251 0\\n829 0.759309 0\\n830 0.735932 0\\n831 0.721544 0\\n832 0.716263 0\\n833 0.72492 0\\n834 0.7409 0\\n835 0.766118 0\\n836 0.791194 0\\n837 0.791194 0\\n838 0.791194 0\\n839 0.791194 0\\n840 0.794034 0\\n841 0.794034 0\\n842 0.794034 0\\n843 0.783265 0\\n844 0.75219 0\\n845 0.719534 0\\n846 0.699866 0\\n847 0.680183 0\\n848 0.684027 0\\n849 0.693882 0\\n850 0.72495 0\\n851 0.776882 0\\n852 0.795733 0\\n853 0.793229 0\\n854 0.791331 0\\n855 0.783209 0\\n856 0.782662 0\\n857 0.782169 0\\n858 0.787729 0\\n859 0.760746 0\\n860 0.737324 0\\n861 0.722909 0\\n862 0.717618 0\\n863 0.726292 0\\n864 0.742302 0\\n865 0.767568 0\\n866 0.792691 0\\n867 0.792691 0\\n868 0.792691 0\\n869 0.792691 0\\n870 0.794034 0\\n871 0.794034 0\\n872 0.794034 0\\n873 0.783265 0\\n874 0.75219 0\\n875 0.719534 0\\n876 0.699866 0\\n877 0.680183 0\\n878 0.684027 0\\n879 0.693882 0\\n880 0.72495 0\\n881 0.776882 0\\n882 0.795733 0\\n883 0.793229 0\\n884 0.791331 0\\n885 0.783209 0\\n886 0.782662 0\\n887 0.782169 0\\n888 0.787729 0\\n889 0.760746 0\\n890 0.737324 0\\n891 0.722909 0\\n892 0.717618 0\\n893 0.726292 0\\n894 0.742302 0\\n895 0.767568 0\\n896 0.792691 0\\n897 0.792691 0\\n898 0.792691 0\\n899 0.792691 0\\n'}"
            ]
          },
          "metadata": {},
          "execution_count": 28
        }
      ]
    },
    {
      "cell_type": "code",
      "source": [
        "data = pd.read_csv(\"MultipleBlob_heatmap_tested_over_MultipleBlob.csv\", delimiter=' ')\n",
        "S0 = data['Ascore'].to_numpy()\n",
        "S0 = S0.reshape(xx.shape)"
      ],
      "metadata": {
        "id": "2IYDiB-_eT-E"
      },
      "execution_count": 29,
      "outputs": []
    },
    {
      "cell_type": "code",
      "source": [
        "f = plt.figure(figsize=(12,6))\n",
        "\n",
        "ax1 = f.add_subplot(121)\n",
        "levels = np.linspace(np.min(S0),np.max(S0),10)\n",
        "CS = ax1.contourf(xx, yy, S0, levels, cmap=plt.cm.YlOrRd)\n",
        "plt.scatter(x,y,s=15,c='None',edgecolor='k')\n",
        "plt.axis(\"equal\")\n",
        "\n",
        "plt.show()"
      ],
      "metadata": {
        "colab": {
          "base_uri": "https://localhost:8080/",
          "height": 374
        },
        "id": "goRsiFYgeeIi",
        "outputId": "7cea7a6a-4e8a-4433-e0c4-347757c0cd36"
      },
      "execution_count": 30,
      "outputs": [
        {
          "output_type": "display_data",
          "data": {
            "text/plain": [
              "<Figure size 864x432 with 1 Axes>"
            ],
            "image/png": "[encoded data removed]"
          },
          "metadata": {}
        }
      ]
    },
    {
      "cell_type": "markdown",
      "source": [
        "# Sinusoidal Data"
      ],
      "metadata": {
        "id": "hFrCRlrdqg9q"
      }
    },
    {
      "cell_type": "markdown",
      "source": [
        "## Data Preparation"
      ],
      "metadata": {
        "id": "wwMQQ1BjrMXb"
      }
    },
    {
      "cell_type": "markdown",
      "source": [
        "### Data Generation"
      ],
      "metadata": {
        "id": "zrMyG1gSrPq2"
      }
    },
    {
      "cell_type": "code",
      "source": [
        "N = 1000\n",
        "x = np.random.rand(N)*8*np.pi\n",
        "y = np.sin(x) + np.random.randn(N)/4.\n",
        "X=np.array([x,y]).T"
      ],
      "metadata": {
        "id": "4m8-21c_rSzU"
      },
      "execution_count": 31,
      "outputs": []
    },
    {
      "cell_type": "markdown",
      "source": [
        "### Data Visualisation"
      ],
      "metadata": {
        "id": "BdHOi16wrdNl"
      }
    },
    {
      "cell_type": "code",
      "source": [
        "fig=plt.figure(figsize=(6,6))\n",
        "fig.add_subplot(111)\n",
        "plt.plot(X[:,0],X[:,1],'o', color=[0.5,0.5,0.5])\n",
        "\n",
        "plt.xlim([-5,30])\n",
        "plt.ylim([-3.,3.])\n",
        "\n",
        "plt.show()"
      ],
      "metadata": {
        "colab": {
          "base_uri": "https://localhost:8080/",
          "height": 378
        },
        "id": "0mfRvtVTrXKE",
        "outputId": "354f3a35-0b5b-4ec5-d17c-bbe246a2d667"
      },
      "execution_count": 32,
      "outputs": [
        {
          "output_type": "display_data",
          "data": {
            "text/plain": [
              "<Figure size 432x432 with 1 Axes>"
            ],
            "image/png": "[encoded data removed]"
          },
          "metadata": {}
        }
      ]
    },
    {
      "cell_type": "markdown",
      "source": [
        "### Save to csv"
      ],
      "metadata": {
        "id": "9xotDEM8rmvv"
      }
    },
    {
      "cell_type": "code",
      "source": [
        "label=np.zeros(1000, int)\n",
        "label[0]=1\n",
        "\n",
        "dict={'1':x, '2':y, 'label':label}\n",
        "df=pd.DataFrame(dict)\n",
        "\n",
        "df.to_csv('Sinusoidal.csv', sep='\\t')\n",
        "files.download(\"Sinusoidal.csv\")"
      ],
      "metadata": {
        "colab": {
          "base_uri": "https://localhost:8080/",
          "height": 17
        },
        "id": "Q2MT5mKnrqtK",
        "outputId": "4d2fca19-3a4b-49aa-e828-5abfe87495e1"
      },
      "execution_count": 33,
      "outputs": [
        {
          "output_type": "display_data",
          "data": {
            "text/plain": [
              "<IPython.core.display.Javascript object>"
            ],
            "application/javascript": [
              "\n",
              "    async function download(id, filename, size) {\n",
              "      if (!google.colab.kernel.accessAllowed) {\n",
              "        return;\n",
              "      }\n",
              "      const div = document.createElement('div');\n",
              "      const label = document.createElement('label');\n",
              "      label.textContent = `Downloading \"${filename}\": `;\n",
              "      div.appendChild(label);\n",
              "      const progress = document.createElement('progress');\n",
              "      progress.max = size;\n",
              "      div.appendChild(progress);\n",
              "      document.body.appendChild(div);\n",
              "\n",
              "      const buffers = [];\n",
              "      let downloaded = 0;\n",
              "\n",
              "      const channel = await google.colab.kernel.comms.open(id);\n",
              "      // Send a message to notify the kernel that we're ready.\n",
              "      channel.send({})\n",
              "\n",
              "      for await (const message of channel.messages) {\n",
              "        // Send a message to notify the kernel that we're ready.\n",
              "        channel.send({})\n",
              "        if (message.buffers) {\n",
              "          for (const buffer of message.buffers) {\n",
              "            buffers.push(buffer);\n",
              "            downloaded += buffer.byteLength;\n",
              "            progress.value = downloaded;\n",
              "          }\n",
              "        }\n",
              "      }\n",
              "      const blob = new Blob(buffers, {type: 'application/binary'});\n",
              "      const a = document.createElement('a');\n",
              "      a.href = window.URL.createObjectURL(blob);\n",
              "      a.download = filename;\n",
              "      div.appendChild(a);\n",
              "      a.click();\n",
              "      div.remove();\n",
              "    }\n",
              "  "
            ]
          },
          "metadata": {}
        },
        {
          "output_type": "display_data",
          "data": {
            "text/plain": [
              "<IPython.core.display.Javascript object>"
            ],
            "application/javascript": [
              "download(\"download_33319368-44f0-45c7-9a9a-6f053266b847\", \"Sinusoidal.csv\", 44014)"
            ]
          },
          "metadata": {}
        }
      ]
    },
    {
      "cell_type": "markdown",
      "source": [
        "## Train iForest"
      ],
      "metadata": {
        "id": "dx_Q2nWVr-04"
      }
    },
    {
      "cell_type": "markdown",
      "source": [
        "This process is done on local machine."
      ],
      "metadata": {
        "id": "tsoM9liMsCWy"
      }
    },
    {
      "cell_type": "markdown",
      "source": [
        "## Obtain Anomaly scores"
      ],
      "metadata": {
        "id": "aRUX5YOZsE5D"
      }
    },
    {
      "cell_type": "code",
      "source": [
        "files.upload()"
      ],
      "metadata": {
        "colab": {
          "base_uri": "https://localhost:8080/",
          "height": 1000
        },
        "id": "-aympP3osh5w",
        "outputId": "a1437749-16d1-47d7-fdce-87a7d3d78ee6"
      },
      "execution_count": 34,
      "outputs": [
        {
          "output_type": "display_data",
          "data": {
            "text/plain": [
              "<IPython.core.display.HTML object>"
            ],
            "text/html": [
              "\n",
              "     <input type=\"file\" id=\"files-f7693b8d-0523-462b-a1a4-bf3b3e410adb\" name=\"files[]\" multiple disabled\n",
              "        style=\"border:none\" />\n",
              "     <output id=\"result-f7693b8d-0523-462b-a1a4-bf3b3e410adb\">\n",
              "      Upload widget is only available when the cell has been executed in the\n",
              "      current browser session. Please rerun this cell to enable.\n",
              "      </output>\n",
              "      <script>// Copyright 2017 Google LLC\n",
              "//\n",
              "// Licensed under the Apache License, Version 2.0 (the \"License\");\n",
              "// you may not use this file except in compliance with the License.\n",
              "// You may obtain a copy of the License at\n",
              "//\n",
              "//      http://www.apache.org/licenses/LICENSE-2.0\n",
              "//\n",
              "// Unless required by applicable law or agreed to in writing, software\n",
              "// distributed under the License is distributed on an \"AS IS\" BASIS,\n",
              "// WITHOUT WARRANTIES OR CONDITIONS OF ANY KIND, either express or implied.\n",
              "// See the License for the specific language governing permissions and\n",
              "// limitations under the License.\n",
              "\n",
              "/**\n",
              " * @fileoverview Helpers for google.colab Python module.\n",
              " */\n",
              "(function(scope) {\n",
              "function span(text, styleAttributes = {}) {\n",
              "  const element = document.createElement('span');\n",
              "  element.textContent = text;\n",
              "  for (const key of Object.keys(styleAttributes)) {\n",
              "    element.style[key] = styleAttributes[key];\n",
              "  }\n",
              "  return element;\n",
              "}\n",
              "\n",
              "// Max number of bytes which will be uploaded at a time.\n",
              "const MAX_PAYLOAD_SIZE = 100 * 1024;\n",
              "\n",
              "function _uploadFiles(inputId, outputId) {\n",
              "  const steps = uploadFilesStep(inputId, outputId);\n",
              "  const outputElement = document.getElementById(outputId);\n",
              "  // Cache steps on the outputElement to make it available for the next call\n",
              "  // to uploadFilesContinue from Python.\n",
              "  outputElement.steps = steps;\n",
              "\n",
              "  return _uploadFilesContinue(outputId);\n",
              "}\n",
              "\n",
              "// This is roughly an async generator (not supported in the browser yet),\n",
              "// where there are multiple asynchronous steps and the Python side is going\n",
              "// to poll for completion of each step.\n",
              "// This uses a Promise to block the python side on completion of each step,\n",
              "// then passes the result of the previous step as the input to the next step.\n",
              "function _uploadFilesContinue(outputId) {\n",
              "  const outputElement = document.getElementById(outputId);\n",
              "  const steps = outputElement.steps;\n",
              "\n",
              "  const next = steps.next(outputElement.lastPromiseValue);\n",
              "  return Promise.resolve(next.value.promise).then((value) => {\n",
              "    // Cache the last promise value to make it available to the next\n",
              "    // step of the generator.\n",
              "    outputElement.lastPromiseValue = value;\n",
              "    return next.value.response;\n",
              "  });\n",
              "}\n",
              "\n",
              "/**\n",
              " * Generator function which is called between each async step of the upload\n",
              " * process.\n",
              " * @param {string} inputId Element ID of the input file picker element.\n",
              " * @param {string} outputId Element ID of the output display.\n",
              " * @return {!Iterable<!Object>} Iterable of next steps.\n",
              " */\n",
              "function* uploadFilesStep(inputId, outputId) {\n",
              "  const inputElement = document.getElementById(inputId);\n",
              "  inputElement.disabled = false;\n",
              "\n",
              "  const outputElement = document.getElementById(outputId);\n",
              "  outputElement.innerHTML = '';\n",
              "\n",
              "  const pickedPromise = new Promise((resolve) => {\n",
              "    inputElement.addEventListener('change', (e) => {\n",
              "      resolve(e.target.files);\n",
              "    });\n",
              "  });\n",
              "\n",
              "  const cancel = document.createElement('button');\n",
              "  inputElement.parentElement.appendChild(cancel);\n",
              "  cancel.textContent = 'Cancel upload';\n",
              "  const cancelPromise = new Promise((resolve) => {\n",
              "    cancel.onclick = () => {\n",
              "      resolve(null);\n",
              "    };\n",
              "  });\n",
              "\n",
              "  // Wait for the user to pick the files.\n",
              "  const files = yield {\n",
              "    promise: Promise.race([pickedPromise, cancelPromise]),\n",
              "    response: {\n",
              "      action: 'starting',\n",
              "    }\n",
              "  };\n",
              "\n",
              "  cancel.remove();\n",
              "\n",
              "  // Disable the input element since further picks are not allowed.\n",
              "  inputElement.disabled = true;\n",
              "\n",
              "  if (!files) {\n",
              "    return {\n",
              "      response: {\n",
              "        action: 'complete',\n",
              "      }\n",
              "    };\n",
              "  }\n",
              "\n",
              "  for (const file of files) {\n",
              "    const li = document.createElement('li');\n",
              "    li.append(span(file.name, {fontWeight: 'bold'}));\n",
              "    li.append(span(\n",
              "        `(${file.type || 'n/a'}) - ${file.size} bytes, ` +\n",
              "        `last modified: ${\n",
              "            file.lastModifiedDate ? file.lastModifiedDate.toLocaleDateString() :\n",
              "                                    'n/a'} - `));\n",
              "    const percent = span('0% done');\n",
              "    li.appendChild(percent);\n",
              "\n",
              "    outputElement.appendChild(li);\n",
              "\n",
              "    const fileDataPromise = new Promise((resolve) => {\n",
              "      const reader = new FileReader();\n",
              "      reader.onload = (e) => {\n",
              "        resolve(e.target.result);\n",
              "      };\n",
              "      reader.readAsArrayBuffer(file);\n",
              "    });\n",
              "    // Wait for the data to be ready.\n",
              "    let fileData = yield {\n",
              "      promise: fileDataPromise,\n",
              "      response: {\n",
              "        action: 'continue',\n",
              "      }\n",
              "    };\n",
              "\n",
              "    // Use a chunked sending to avoid message size limits. See b/62115660.\n",
              "    let position = 0;\n",
              "    do {\n",
              "      const length = Math.min(fileData.byteLength - position, MAX_PAYLOAD_SIZE);\n",
              "      const chunk = new Uint8Array(fileData, position, length);\n",
              "      position += length;\n",
              "\n",
              "      const base64 = btoa(String.fromCharCode.apply(null, chunk));\n",
              "      yield {\n",
              "        response: {\n",
              "          action: 'append',\n",
              "          file: file.name,\n",
              "          data: base64,\n",
              "        },\n",
              "      };\n",
              "\n",
              "      let percentDone = fileData.byteLength === 0 ?\n",
              "          100 :\n",
              "          Math.round((position / fileData.byteLength) * 100);\n",
              "      percent.textContent = `${percentDone}% done`;\n",
              "\n",
              "    } while (position < fileData.byteLength);\n",
              "  }\n",
              "\n",
              "  // All done.\n",
              "  yield {\n",
              "    response: {\n",
              "      action: 'complete',\n",
              "    }\n",
              "  };\n",
              "}\n",
              "\n",
              "scope.google = scope.google || {};\n",
              "scope.google.colab = scope.google.colab || {};\n",
              "scope.google.colab._files = {\n",
              "  _uploadFiles,\n",
              "  _uploadFilesContinue,\n",
              "};\n",
              "})(self);\n",
              "</script> "
            ]
          },
          "metadata": {}
        },
        {
          "output_type": "stream",
          "name": "stdout",
          "text": [
            "Saving Sinusoidal_tested_over_Sinusoidal.csv to Sinusoidal_tested_over_Sinusoidal.csv\n"
          ]
        },
        {
          "output_type": "execute_result",
          "data": {
            "text/plain": [
              "{'Sinusoidal_tested_over_Sinusoidal.csv': b'pointId Ascore actuallabel\\n0 0.465982 1\\n1 0.464373 0\\n2 0.487579 0\\n3 0.485557 0\\n4 0.467493 0\\n5 0.477605 0\\n6 0.476943 0\\n7 0.458789 0\\n8 0.516538 0\\n9 0.516269 0\\n10 0.489013 0\\n11 0.467704 0\\n12 0.479996 0\\n13 0.461795 0\\n14 0.485164 0\\n15 0.503127 0\\n16 0.582628 0\\n17 0.495126 0\\n18 0.44922 0\\n19 0.497315 0\\n20 0.46633 0\\n21 0.463366 0\\n22 0.449438 0\\n23 0.474118 0\\n24 0.514997 0\\n25 0.482978 0\\n26 0.569554 0\\n27 0.530807 0\\n28 0.483353 0\\n29 0.455405 0\\n30 0.467647 0\\n31 0.560654 0\\n32 0.462536 0\\n33 0.465826 0\\n34 0.482605 0\\n35 0.474568 0\\n36 0.464209 0\\n37 0.490688 0\\n38 0.51044 0\\n39 0.480416 0\\n40 0.461851 0\\n41 0.565857 0\\n42 0.562478 0\\n43 0.488183 0\\n44 0.462962 0\\n45 0.46586 0\\n46 0.501332 0\\n47 0.495588 0\\n48 0.462728 0\\n49 0.47764 0\\n50 0.455256 0\\n51 0.480216 0\\n52 0.475162 0\\n53 0.474863 0\\n54 0.497829 0\\n55 0.461567 0\\n56 0.460106 0\\n57 0.466138 0\\n58 0.475013 0\\n59 0.513749 0\\n60 0.473245 0\\n61 0.492781 0\\n62 0.481336 0\\n63 0.473169 0\\n64 0.474338 0\\n65 0.463455 0\\n66 0.486103 0\\n67 0.459943 0\\n68 0.470908 0\\n69 0.465899 0\\n70 0.50684 0\\n71 0.488475 0\\n72 0.462844 0\\n73 0.645526 0\\n74 0.503434 0\\n75 0.488158 0\\n76 0.460983 0\\n77 0.523002 0\\n78 0.476161 0\\n79 0.456217 0\\n80 0.496725 0\\n81 0.474595 0\\n82 0.462693 0\\n83 0.461603 0\\n84 0.502993 0\\n85 0.463026 0\\n86 0.468528 0\\n87 0.528676 0\\n88 0.472782 0\\n89 0.502684 0\\n90 0.678963 0\\n91 0.492997 0\\n92 0.459241 0\\n93 0.465563 0\\n94 0.478224 0\\n95 0.505523 0\\n96 0.453396 0\\n97 0.486173 0\\n98 0.526694 0\\n99 0.486714 0\\n100 0.467127 0\\n101 0.600801 0\\n102 0.455096 0\\n103 0.461915 0\\n104 0.490067 0\\n105 0.546993 0\\n106 0.458025 0\\n107 0.489045 0\\n108 0.464136 0\\n109 0.501018 0\\n110 0.502455 0\\n111 0.502503 0\\n112 0.47689 0\\n113 0.487778 0\\n114 0.46934 0\\n115 0.511198 0\\n116 0.484771 0\\n117 0.505752 0\\n118 0.532946 0\\n119 0.524449 0\\n120 0.65193 0\\n121 0.531289 0\\n122 0.563074 0\\n123 0.492646 0\\n124 0.498186 0\\n125 0.494103 0\\n126 0.482984 0\\n127 0.462895 0\\n128 0.478417 0\\n129 0.467606 0\\n130 0.481349 0\\n131 0.480859 0\\n132 0.481234 0\\n133 0.527343 0\\n134 0.44906 0\\n135 0.465668 0\\n136 0.528976 0\\n137 0.485557 0\\n138 0.48552 0\\n139 0.51171 0\\n140 0.541489 0\\n141 0.466384 0\\n142 0.471839 0\\n143 0.576481 0\\n144 0.503836 0\\n145 0.453847 0\\n146 0.47405 0\\n147 0.488044 0\\n148 0.469231 0\\n149 0.478681 0\\n150 0.47819 0\\n151 0.446788 0\\n152 0.449704 0\\n153 0.517443 0\\n154 0.487813 0\\n155 0.548699 0\\n156 0.552976 0\\n157 0.470181 0\\n158 0.466013 0\\n159 0.460133 0\\n160 0.669695 0\\n161 0.503912 0\\n162 0.481115 0\\n163 0.49282 0\\n164 0.487554 0\\n165 0.478514 0\\n166 0.56376 0\\n167 0.527752 0\\n168 0.650025 0\\n169 0.527895 0\\n170 0.51155 0\\n171 0.459473 0\\n172 0.471634 0\\n173 0.475323 0\\n174 0.462641 0\\n175 0.465883 0\\n176 0.472585 0\\n177 0.467209 0\\n178 0.495028 0\\n179 0.490655 0\\n180 0.497643 0\\n181 0.519148 0\\n182 0.513972 0\\n183 0.470817 0\\n184 0.444923 0\\n185 0.493091 0\\n186 0.475768 0\\n187 0.489103 0\\n188 0.458151 0\\n189 0.496434 0\\n190 0.490566 0\\n191 0.64213 0\\n192 0.484057 0\\n193 0.49369 0\\n194 0.467187 0\\n195 0.524156 0\\n196 0.47685 0\\n197 0.484891 0\\n198 0.529971 0\\n199 0.507449 0\\n200 0.470984 0\\n201 0.501077 0\\n202 0.544131 0\\n203 0.495345 0\\n204 0.493137 0\\n205 0.487434 0\\n206 0.469658 0\\n207 0.522295 0\\n208 0.489446 0\\n209 0.508556 0\\n210 0.511973 0\\n211 0.638858 0\\n212 0.476746 0\\n213 0.479376 0\\n214 0.515454 0\\n215 0.560081 0\\n216 0.476989 0\\n217 0.639037 0\\n218 0.457154 0\\n219 0.470039 0\\n220 0.460836 0\\n221 0.452628 0\\n222 0.455647 0\\n223 0.470289 0\\n224 0.490556 0\\n225 0.474403 0\\n226 0.468576 0\\n227 0.480499 0\\n228 0.462521 0\\n229 0.527244 0\\n230 0.467155 0\\n231 0.489951 0\\n232 0.463843 0\\n233 0.463201 0\\n234 0.465163 0\\n235 0.468927 0\\n236 0.457466 0\\n237 0.450364 0\\n238 0.452936 0\\n239 0.459795 0\\n240 0.466953 0\\n241 0.461797 0\\n242 0.469783 0\\n243 0.466884 0\\n244 0.481365 0\\n245 0.465188 0\\n246 0.467918 0\\n247 0.48456 0\\n248 0.528942 0\\n249 0.46382 0\\n250 0.459363 0\\n251 0.668535 0\\n252 0.515871 0\\n253 0.466597 0\\n254 0.483513 0\\n255 0.491142 0\\n256 0.485635 0\\n257 0.464199 0\\n258 0.475896 0\\n259 0.472913 0\\n260 0.515701 0\\n261 0.511481 0\\n262 0.49458 0\\n263 0.470667 0\\n264 0.554236 0\\n265 0.529353 0\\n266 0.464823 0\\n267 0.489814 0\\n268 0.54908 0\\n269 0.480489 0\\n270 0.493502 0\\n271 0.443796 0\\n272 0.452499 0\\n273 0.469139 0\\n274 0.486664 0\\n275 0.545582 0\\n276 0.468118 0\\n277 0.547182 0\\n278 0.565102 0\\n279 0.469428 0\\n280 0.500685 0\\n281 0.533193 0\\n282 0.508838 0\\n283 0.485921 0\\n284 0.475438 0\\n285 0.46481 0\\n286 0.495131 0\\n287 0.49319 0\\n288 0.49914 0\\n289 0.484721 0\\n290 0.499896 0\\n291 0.592317 0\\n292 0.47755 0\\n293 0.478919 0\\n294 0.505551 0\\n295 0.507591 0\\n296 0.53144 0\\n297 0.543383 0\\n298 0.500011 0\\n299 0.49377 0\\n300 0.505987 0\\n301 0.527206 0\\n302 0.482986 0\\n303 0.447794 0\\n304 0.613739 0\\n305 0.457046 0\\n306 0.473878 0\\n307 0.475 0\\n308 0.455765 0\\n309 0.559705 0\\n310 0.46013 0\\n311 0.520852 0\\n312 0.449679 0\\n313 0.463736 0\\n314 0.512949 0\\n315 0.489113 0\\n316 0.466207 0\\n317 0.463771 0\\n318 0.47373 0\\n319 0.496264 0\\n320 0.510063 0\\n321 0.457198 0\\n322 0.474658 0\\n323 0.495399 0\\n324 0.495757 0\\n325 0.462768 0\\n326 0.494983 0\\n327 0.493243 0\\n328 0.473665 0\\n329 0.446357 0\\n330 0.511997 0\\n331 0.474262 0\\n332 0.471607 0\\n333 0.474555 0\\n334 0.479268 0\\n335 0.555788 0\\n336 0.476825 0\\n337 0.482382 0\\n338 0.453338 0\\n339 0.479686 0\\n340 0.507225 0\\n341 0.461321 0\\n342 0.471207 0\\n343 0.452269 0\\n344 0.492762 0\\n345 0.462819 0\\n346 0.484323 0\\n347 0.465848 0\\n348 0.633105 0\\n349 0.45931 0\\n350 0.463748 0\\n351 0.553957 0\\n352 0.670454 0\\n353 0.498004 0\\n354 0.476809 0\\n355 0.485951 0\\n356 0.546305 0\\n357 0.498644 0\\n358 0.511211 0\\n359 0.467238 0\\n360 0.449407 0\\n361 0.467852 0\\n362 0.476998 0\\n363 0.562217 0\\n364 0.675809 0\\n365 0.478427 0\\n366 0.465969 0\\n367 0.463837 0\\n368 0.510498 0\\n369 0.481949 0\\n370 0.461731 0\\n371 0.465585 0\\n372 0.461572 0\\n373 0.484016 0\\n374 0.497062 0\\n375 0.503195 0\\n376 0.519734 0\\n377 0.521705 0\\n378 0.495313 0\\n379 0.472884 0\\n380 0.47225 0\\n381 0.454435 0\\n382 0.543818 0\\n383 0.47417 0\\n384 0.543388 0\\n385 0.485532 0\\n386 0.467082 0\\n387 0.473626 0\\n388 0.670812 0\\n389 0.534293 0\\n390 0.468462 0\\n391 0.504374 0\\n392 0.497876 0\\n393 0.483448 0\\n394 0.481564 0\\n395 0.469679 0\\n396 0.463258 0\\n397 0.469958 0\\n398 0.472506 0\\n399 0.454472 0\\n400 0.469496 0\\n401 0.490346 0\\n402 0.513567 0\\n403 0.506766 0\\n404 0.482189 0\\n405 0.54121 0\\n406 0.476448 0\\n407 0.463677 0\\n408 0.465769 0\\n409 0.471684 0\\n410 0.524605 0\\n411 0.476038 0\\n412 0.552603 0\\n413 0.451655 0\\n414 0.479468 0\\n415 0.542374 0\\n416 0.487752 0\\n417 0.486045 0\\n418 0.48033 0\\n419 0.500588 0\\n420 0.487678 0\\n421 0.469076 0\\n422 0.501857 0\\n423 0.478859 0\\n424 0.46478 0\\n425 0.488811 0\\n426 0.483234 0\\n427 0.547282 0\\n428 0.493658 0\\n429 0.529942 0\\n430 0.520731 0\\n431 0.521732 0\\n432 0.533332 0\\n433 0.492754 0\\n434 0.520557 0\\n435 0.486351 0\\n436 0.508958 0\\n437 0.492756 0\\n438 0.454302 0\\n439 0.502536 0\\n440 0.525188 0\\n441 0.47724 0\\n442 0.528227 0\\n443 0.490346 0\\n444 0.564154 0\\n445 0.506158 0\\n446 0.452528 0\\n447 0.503703 0\\n448 0.466893 0\\n449 0.525725 0\\n450 0.470793 0\\n451 0.513041 0\\n452 0.533192 0\\n453 0.487287 0\\n454 0.45793 0\\n455 0.466731 0\\n456 0.465511 0\\n457 0.474665 0\\n458 0.483794 0\\n459 0.484189 0\\n460 0.514442 0\\n461 0.460577 0\\n462 0.500182 0\\n463 0.509331 0\\n464 0.461323 0\\n465 0.483612 0\\n466 0.457864 0\\n467 0.468137 0\\n468 0.579775 0\\n469 0.609691 0\\n470 0.466468 0\\n471 0.465202 0\\n472 0.462633 0\\n473 0.497743 0\\n474 0.469938 0\\n475 0.469833 0\\n476 0.579426 0\\n477 0.468841 0\\n478 0.462898 0\\n479 0.47652 0\\n480 0.483779 0\\n481 0.459861 0\\n482 0.49874 0\\n483 0.47828 0\\n484 0.59112 0\\n485 0.449587 0\\n486 0.525386 0\\n487 0.622278 0\\n488 0.518238 0\\n489 0.448982 0\\n490 0.485227 0\\n491 0.475849 0\\n492 0.477742 0\\n493 0.599726 0\\n494 0.477472 0\\n495 0.498739 0\\n496 0.596391 0\\n497 0.519496 0\\n498 0.465594 0\\n499 0.465766 0\\n500 0.471236 0\\n501 0.471241 0\\n502 0.474814 0\\n503 0.523814 0\\n504 0.554496 0\\n505 0.519777 0\\n506 0.523612 0\\n507 0.499042 0\\n508 0.467239 0\\n509 0.47174 0\\n510 0.49528 0\\n511 0.466992 0\\n512 0.47559 0\\n513 0.469307 0\\n514 0.4726 0\\n515 0.477766 0\\n516 0.602655 0\\n517 0.478626 0\\n518 0.465205 0\\n519 0.448206 0\\n520 0.49033 0\\n521 0.503398 0\\n522 0.479564 0\\n523 0.492051 0\\n524 0.462259 0\\n525 0.472276 0\\n526 0.521087 0\\n527 0.46023 0\\n528 0.465411 0\\n529 0.491192 0\\n530 0.459893 0\\n531 0.549794 0\\n532 0.501814 0\\n533 0.501192 0\\n534 0.466479 0\\n535 0.483114 0\\n536 0.461809 0\\n537 0.509114 0\\n538 0.504472 0\\n539 0.467237 0\\n540 0.488193 0\\n541 0.492204 0\\n542 0.492395 0\\n543 0.532539 0\\n544 0.470745 0\\n545 0.545465 0\\n546 0.485188 0\\n547 0.452334 0\\n548 0.521218 0\\n549 0.47916 0\\n550 0.535579 0\\n551 0.642574 0\\n552 0.489888 0\\n553 0.483444 0\\n554 0.550922 0\\n555 0.467617 0\\n556 0.474159 0\\n557 0.522894 0\\n558 0.484431 0\\n559 0.478639 0\\n560 0.449184 0\\n561 0.472886 0\\n562 0.461124 0\\n563 0.458439 0\\n564 0.459863 0\\n565 0.451655 0\\n566 0.464469 0\\n567 0.50113 0\\n568 0.468819 0\\n569 0.466476 0\\n570 0.484831 0\\n571 0.64304 0\\n572 0.487287 0\\n573 0.495678 0\\n574 0.466646 0\\n575 0.467846 0\\n576 0.489205 0\\n577 0.572482 0\\n578 0.466976 0\\n579 0.488976 0\\n580 0.486712 0\\n581 0.501866 0\\n582 0.474948 0\\n583 0.529005 0\\n584 0.479029 0\\n585 0.476012 0\\n586 0.467345 0\\n587 0.483807 0\\n588 0.476319 0\\n589 0.46139 0\\n590 0.503131 0\\n591 0.487091 0\\n592 0.470355 0\\n593 0.52238 0\\n594 0.446212 0\\n595 0.499778 0\\n596 0.545612 0\\n597 0.462078 0\\n598 0.490496 0\\n599 0.483393 0\\n600 0.506707 0\\n601 0.509519 0\\n602 0.580023 0\\n603 0.465476 0\\n604 0.528672 0\\n605 0.500282 0\\n606 0.475179 0\\n607 0.525149 0\\n608 0.472661 0\\n609 0.474449 0\\n610 0.514146 0\\n611 0.530855 0\\n612 0.484115 0\\n613 0.45795 0\\n614 0.456478 0\\n615 0.472651 0\\n616 0.452818 0\\n617 0.473886 0\\n618 0.497271 0\\n619 0.467436 0\\n620 0.450973 0\\n621 0.463628 0\\n622 0.449778 0\\n623 0.455388 0\\n624 0.477547 0\\n625 0.471059 0\\n626 0.514387 0\\n627 0.451887 0\\n628 0.506273 0\\n629 0.496795 0\\n630 0.450724 0\\n631 0.485248 0\\n632 0.451263 0\\n633 0.47716 0\\n634 0.449195 0\\n635 0.465858 0\\n636 0.48127 0\\n637 0.464077 0\\n638 0.529963 0\\n639 0.481534 0\\n640 0.546084 0\\n641 0.492593 0\\n642 0.496149 0\\n643 0.492388 0\\n644 0.564127 0\\n645 0.549385 0\\n646 0.48421 0\\n647 0.481327 0\\n648 0.461854 0\\n649 0.450509 0\\n650 0.495776 0\\n651 0.46886 0\\n652 0.45084 0\\n653 0.474437 0\\n654 0.465747 0\\n655 0.447296 0\\n656 0.494875 0\\n657 0.499829 0\\n658 0.517698 0\\n659 0.6177 0\\n660 0.466643 0\\n661 0.489425 0\\n662 0.467879 0\\n663 0.515632 0\\n664 0.44703 0\\n665 0.468627 0\\n666 0.515148 0\\n667 0.489263 0\\n668 0.471293 0\\n669 0.491968 0\\n670 0.499171 0\\n671 0.456845 0\\n672 0.464586 0\\n673 0.550212 0\\n674 0.538104 0\\n675 0.470826 0\\n676 0.621331 0\\n677 0.533689 0\\n678 0.537637 0\\n679 0.484344 0\\n680 0.476494 0\\n681 0.44714 0\\n682 0.49828 0\\n683 0.467014 0\\n684 0.469108 0\\n685 0.479344 0\\n686 0.470679 0\\n687 0.510849 0\\n688 0.466931 0\\n689 0.56911 0\\n690 0.454901 0\\n691 0.456524 0\\n692 0.489312 0\\n693 0.537037 0\\n694 0.540156 0\\n695 0.526167 0\\n696 0.475301 0\\n697 0.494291 0\\n698 0.527349 0\\n699 0.492338 0\\n700 0.500135 0\\n701 0.467616 0\\n702 0.652335 0\\n703 0.463287 0\\n704 0.455819 0\\n705 0.485297 0\\n706 0.462891 0\\n707 0.456473 0\\n708 0.605408 0\\n709 0.497015 0\\n710 0.49617 0\\n711 0.490704 0\\n712 0.467429 0\\n713 0.496121 0\\n714 0.453119 0\\n715 0.454111 0\\n716 0.476844 0\\n717 0.472219 0\\n718 0.513118 0\\n719 0.530603 0\\n720 0.499965 0\\n721 0.467513 0\\n722 0.467696 0\\n723 0.49006 0\\n724 0.553332 0\\n725 0.476397 0\\n726 0.481797 0\\n727 0.468861 0\\n728 0.494032 0\\n729 0.462186 0\\n730 0.469081 0\\n731 0.500068 0\\n732 0.467599 0\\n733 0.461938 0\\n734 0.501757 0\\n735 0.486897 0\\n736 0.478291 0\\n737 0.4973 0\\n738 0.504332 0\\n739 0.460027 0\\n740 0.576353 0\\n741 0.487596 0\\n742 0.546996 0\\n743 0.454168 0\\n744 0.514616 0\\n745 0.495781 0\\n746 0.527076 0\\n747 0.647833 0\\n748 0.465182 0\\n749 0.493411 0\\n750 0.452965 0\\n751 0.465878 0\\n752 0.472607 0\\n753 0.461915 0\\n754 0.514403 0\\n755 0.464209 0\\n756 0.453871 0\\n757 0.46762 0\\n758 0.499799 0\\n759 0.509804 0\\n760 0.460577 0\\n761 0.467242 0\\n762 0.520384 0\\n763 0.650086 0\\n764 0.471417 0\\n765 0.46412 0\\n766 0.498787 0\\n767 0.513174 0\\n768 0.556339 0\\n769 0.474091 0\\n770 0.478877 0\\n771 0.51182 0\\n772 0.451357 0\\n773 0.458257 0\\n774 0.464675 0\\n775 0.456758 0\\n776 0.486243 0\\n777 0.511363 0\\n778 0.485143 0\\n779 0.493008 0\\n780 0.474325 0\\n781 0.551654 0\\n782 0.459304 0\\n783 0.485712 0\\n784 0.466821 0\\n785 0.616309 0\\n786 0.529962 0\\n787 0.48804 0\\n788 0.448146 0\\n789 0.445248 0\\n790 0.481987 0\\n791 0.55902 0\\n792 0.530619 0\\n793 0.461826 0\\n794 0.519302 0\\n795 0.469496 0\\n796 0.466991 0\\n797 0.515837 0\\n798 0.49264 0\\n799 0.463139 0\\n800 0.486965 0\\n801 0.465596 0\\n802 0.486359 0\\n803 0.485615 0\\n804 0.45795 0\\n805 0.487874 0\\n806 0.475765 0\\n807 0.471366 0\\n808 0.553425 0\\n809 0.504738 0\\n810 0.525816 0\\n811 0.497376 0\\n812 0.481471 0\\n813 0.552184 0\\n814 0.649137 0\\n815 0.494445 0\\n816 0.477774 0\\n817 0.515986 0\\n818 0.473864 0\\n819 0.515374 0\\n820 0.457132 0\\n821 0.45085 0\\n822 0.510706 0\\n823 0.490726 0\\n824 0.528733 0\\n825 0.444924 0\\n826 0.462601 0\\n827 0.460158 0\\n828 0.46853 0\\n829 0.465913 0\\n830 0.691419 0\\n831 0.456288 0\\n832 0.462938 0\\n833 0.503102 0\\n834 0.476431 0\\n835 0.492524 0\\n836 0.475492 0\\n837 0.460577 0\\n838 0.478727 0\\n839 0.527307 0\\n840 0.453056 0\\n841 0.510527 0\\n842 0.525729 0\\n843 0.457466 0\\n844 0.50893 0\\n845 0.49357 0\\n846 0.457154 0\\n847 0.563779 0\\n848 0.452667 0\\n849 0.451263 0\\n850 0.480812 0\\n851 0.493811 0\\n852 0.611032 0\\n853 0.488104 0\\n854 0.468622 0\\n855 0.511239 0\\n856 0.501821 0\\n857 0.517625 0\\n858 0.50124 0\\n859 0.514694 0\\n860 0.473498 0\\n861 0.510011 0\\n862 0.560366 0\\n863 0.470743 0\\n864 0.483969 0\\n865 0.458985 0\\n866 0.46106 0\\n867 0.668187 0\\n868 0.465134 0\\n869 0.498135 0\\n870 0.47019 0\\n871 0.48795 0\\n872 0.45962 0\\n873 0.51675 0\\n874 0.482847 0\\n875 0.496294 0\\n876 0.482208 0\\n877 0.478056 0\\n878 0.505948 0\\n879 0.486479 0\\n880 0.650569 0\\n881 0.467592 0\\n882 0.556934 0\\n883 0.479188 0\\n884 0.51173 0\\n885 0.459305 0\\n886 0.524473 0\\n887 0.446888 0\\n888 0.470038 0\\n889 0.46518 0\\n890 0.45906 0\\n891 0.459637 0\\n892 0.47073 0\\n893 0.444772 0\\n894 0.64972 0\\n895 0.461454 0\\n896 0.543114 0\\n897 0.504987 0\\n898 0.464813 0\\n899 0.454141 0\\n900 0.467512 0\\n901 0.473866 0\\n902 0.462501 0\\n903 0.500381 0\\n904 0.566503 0\\n905 0.48378 0\\n906 0.453066 0\\n907 0.489113 0\\n908 0.512014 0\\n909 0.516664 0\\n910 0.469845 0\\n911 0.66907 0\\n912 0.510911 0\\n913 0.4726 0\\n914 0.478151 0\\n915 0.464079 0\\n916 0.477333 0\\n917 0.540309 0\\n918 0.460588 0\\n919 0.472709 0\\n920 0.505987 0\\n921 0.50393 0\\n922 0.467211 0\\n923 0.464701 0\\n924 0.559439 0\\n925 0.46198 0\\n926 0.458307 0\\n927 0.465277 0\\n928 0.465493 0\\n929 0.490848 0\\n930 0.467492 0\\n931 0.517731 0\\n932 0.477263 0\\n933 0.464375 0\\n934 0.474703 0\\n935 0.466195 0\\n936 0.46876 0\\n937 0.460263 0\\n938 0.46182 0\\n939 0.464312 0\\n940 0.528961 0\\n941 0.45541 0\\n942 0.465063 0\\n943 0.501694 0\\n944 0.539419 0\\n945 0.49004 0\\n946 0.475289 0\\n947 0.470685 0\\n948 0.487797 0\\n949 0.447608 0\\n950 0.468912 0\\n951 0.489055 0\\n952 0.592244 0\\n953 0.490024 0\\n954 0.468831 0\\n955 0.482828 0\\n956 0.46324 0\\n957 0.496204 0\\n958 0.487801 0\\n959 0.51552 0\\n960 0.449933 0\\n961 0.484737 0\\n962 0.482533 0\\n963 0.450509 0\\n964 0.49411 0\\n965 0.528284 0\\n966 0.469311 0\\n967 0.45543 0\\n968 0.480478 0\\n969 0.506654 0\\n970 0.494339 0\\n971 0.461477 0\\n972 0.460155 0\\n973 0.553455 0\\n974 0.499757 0\\n975 0.459321 0\\n976 0.600458 0\\n977 0.466183 0\\n978 0.499407 0\\n979 0.464897 0\\n980 0.465225 0\\n981 0.451655 0\\n982 0.474051 0\\n983 0.473442 0\\n984 0.684217 0\\n985 0.531829 0\\n986 0.466166 0\\n987 0.465862 0\\n988 0.485707 0\\n989 0.473604 0\\n990 0.519829 0\\n991 0.499169 0\\n992 0.605005 0\\n993 0.469516 0\\n994 0.474626 0\\n995 0.511863 0\\n996 0.485656 0\\n997 0.540962 0\\n998 0.478728 0\\n999 0.456439 0\\n'}"
            ]
          },
          "metadata": {},
          "execution_count": 34
        }
      ]
    },
    {
      "cell_type": "code",
      "source": [
        "data = pd.read_csv(\"Sinusoidal_tested_over_Sinusoidal.csv\", delimiter=' ')\n",
        "S0 = data['Ascore'].to_numpy()"
      ],
      "metadata": {
        "id": "1onuRjOOfNZ8"
      },
      "execution_count": 35,
      "outputs": []
    },
    {
      "cell_type": "markdown",
      "source": [
        "### Visualise Scores"
      ],
      "metadata": {
        "id": "aWfmzem5tBV2"
      }
    },
    {
      "cell_type": "code",
      "source": [
        "ss0=np.argsort(S0)\n",
        "\n",
        "f = plt.figure(figsize=(12,6))\n",
        "plt.subplot(1,2,1)\n",
        "plt.scatter(x,y,s=15,c='b',edgecolor='b')\n",
        "plt.scatter(x[ss0[-10:]],y[ss0[-10:]],s=55,c='k')\n",
        "plt.scatter(x[ss0[:10]],y[ss0[:10]],s=55,c='r')\n",
        "plt.title('standard')\n",
        "\n",
        "plt.show()\n"
      ],
      "metadata": {
        "colab": {
          "base_uri": "https://localhost:8080/",
          "height": 390
        },
        "id": "VyUqkdiGtPem",
        "outputId": "d1c9d229-15dc-41f8-a0b5-2785bbb998fd"
      },
      "execution_count": 36,
      "outputs": [
        {
          "output_type": "display_data",
          "data": {
            "text/plain": [
              "<Figure size 864x432 with 1 Axes>"
            ],
            "image/png": "[encoded data removed]"
          },
          "metadata": {}
        }
      ]
    },
    {
      "cell_type": "code",
      "source": [
        "f = plt.figure(figsize=(12,6))\n",
        "plt.subplot(1,2,1)\n",
        "sb.distplot(S0, kde=True, color=\"b\")\n",
        "plt.title('standard')\n"
      ],
      "metadata": {
        "colab": {
          "base_uri": "https://localhost:8080/",
          "height": 462
        },
        "id": "ytojQRNetS2O",
        "outputId": "8d3b289b-3286-4fcb-8d33-f39a5647af1d"
      },
      "execution_count": 37,
      "outputs": [
        {
          "output_type": "stream",
          "name": "stderr",
          "text": [
            "/usr/local/lib/python3.7/dist-packages/seaborn/distributions.py:2619: FutureWarning: `distplot` is a deprecated function and will be removed in a future version. Please adapt your code to use either `displot` (a figure-level function with similar flexibility) or `histplot` (an axes-level function for histograms).\n",
            "  warnings.warn(msg, FutureWarning)\n"
          ]
        },
        {
          "output_type": "execute_result",
          "data": {
            "text/plain": [
              "Text(0.5, 1.0, 'standard')"
            ]
          },
          "metadata": {},
          "execution_count": 37
        },
        {
          "output_type": "display_data",
          "data": {
            "text/plain": [
              "<Figure size 864x432 with 1 Axes>"
            ],
            "image/png": "[encoded data removed]"
          },
          "metadata": {}
        }
      ]
    },
    {
      "cell_type": "markdown",
      "source": [
        "## Score Maps"
      ],
      "metadata": {
        "id": "5dBtRh-pt3CI"
      }
    },
    {
      "cell_type": "code",
      "source": [
        "xx, yy = np.meshgrid(np.linspace(-5, 30, 30), np.linspace(-3, 3, 30))\n",
        "X_in=np.c_[xx.ravel(), yy.ravel()]\n",
        "\n",
        "label=np.zeros(900, int)\n",
        "\n",
        "dict={'1':X_in[:, 0], '2':X_in[:, 1], 'label':label}\n",
        "df=pd.DataFrame(dict)\n",
        "\n",
        "df.to_csv('Sinusoidal_heatmap.csv', sep='\\t')\n",
        "files.download(\"Sinusoidal_heatmap.csv\")\n"
      ],
      "metadata": {
        "colab": {
          "base_uri": "https://localhost:8080/",
          "height": 17
        },
        "id": "3JSbJ9Wut9vD",
        "outputId": "9dee0f28-992a-4aeb-f690-80f74b88eb6b"
      },
      "execution_count": 38,
      "outputs": [
        {
          "output_type": "display_data",
          "data": {
            "text/plain": [
              "<IPython.core.display.Javascript object>"
            ],
            "application/javascript": [
              "\n",
              "    async function download(id, filename, size) {\n",
              "      if (!google.colab.kernel.accessAllowed) {\n",
              "        return;\n",
              "      }\n",
              "      const div = document.createElement('div');\n",
              "      const label = document.createElement('label');\n",
              "      label.textContent = `Downloading \"${filename}\": `;\n",
              "      div.appendChild(label);\n",
              "      const progress = document.createElement('progress');\n",
              "      progress.max = size;\n",
              "      div.appendChild(progress);\n",
              "      document.body.appendChild(div);\n",
              "\n",
              "      const buffers = [];\n",
              "      let downloaded = 0;\n",
              "\n",
              "      const channel = await google.colab.kernel.comms.open(id);\n",
              "      // Send a message to notify the kernel that we're ready.\n",
              "      channel.send({})\n",
              "\n",
              "      for await (const message of channel.messages) {\n",
              "        // Send a message to notify the kernel that we're ready.\n",
              "        channel.send({})\n",
              "        if (message.buffers) {\n",
              "          for (const buffer of message.buffers) {\n",
              "            buffers.push(buffer);\n",
              "            downloaded += buffer.byteLength;\n",
              "            progress.value = downloaded;\n",
              "          }\n",
              "        }\n",
              "      }\n",
              "      const blob = new Blob(buffers, {type: 'application/binary'});\n",
              "      const a = document.createElement('a');\n",
              "      a.href = window.URL.createObjectURL(blob);\n",
              "      a.download = filename;\n",
              "      div.appendChild(a);\n",
              "      a.click();\n",
              "      div.remove();\n",
              "    }\n",
              "  "
            ]
          },
          "metadata": {}
        },
        {
          "output_type": "display_data",
          "data": {
            "text/plain": [
              "<IPython.core.display.Javascript object>"
            ],
            "application/javascript": [
              "download(\"download_28bd559b-c3b5-4624-bbe4-cd5b6b16b648\", \"Sinusoidal_heatmap.csv\", 37971)"
            ]
          },
          "metadata": {}
        }
      ]
    },
    {
      "cell_type": "code",
      "source": [
        "files.upload()\n"
      ],
      "metadata": {
        "colab": {
          "base_uri": "https://localhost:8080/",
          "height": 1000
        },
        "id": "eoyTUjSluxYR",
        "outputId": "b7cb43e4-60dd-4c21-d1dd-3152864adcca"
      },
      "execution_count": 39,
      "outputs": [
        {
          "output_type": "display_data",
          "data": {
            "text/plain": [
              "<IPython.core.display.HTML object>"
            ],
            "text/html": [
              "\n",
              "     <input type=\"file\" id=\"files-816af443-78f5-48a0-a2d0-730985e54308\" name=\"files[]\" multiple disabled\n",
              "        style=\"border:none\" />\n",
              "     <output id=\"result-816af443-78f5-48a0-a2d0-730985e54308\">\n",
              "      Upload widget is only available when the cell has been executed in the\n",
              "      current browser session. Please rerun this cell to enable.\n",
              "      </output>\n",
              "      <script>// Copyright 2017 Google LLC\n",
              "//\n",
              "// Licensed under the Apache License, Version 2.0 (the \"License\");\n",
              "// you may not use this file except in compliance with the License.\n",
              "// You may obtain a copy of the License at\n",
              "//\n",
              "//      http://www.apache.org/licenses/LICENSE-2.0\n",
              "//\n",
              "// Unless required by applicable law or agreed to in writing, software\n",
              "// distributed under the License is distributed on an \"AS IS\" BASIS,\n",
              "// WITHOUT WARRANTIES OR CONDITIONS OF ANY KIND, either express or implied.\n",
              "// See the License for the specific language governing permissions and\n",
              "// limitations under the License.\n",
              "\n",
              "/**\n",
              " * @fileoverview Helpers for google.colab Python module.\n",
              " */\n",
              "(function(scope) {\n",
              "function span(text, styleAttributes = {}) {\n",
              "  const element = document.createElement('span');\n",
              "  element.textContent = text;\n",
              "  for (const key of Object.keys(styleAttributes)) {\n",
              "    element.style[key] = styleAttributes[key];\n",
              "  }\n",
              "  return element;\n",
              "}\n",
              "\n",
              "// Max number of bytes which will be uploaded at a time.\n",
              "const MAX_PAYLOAD_SIZE = 100 * 1024;\n",
              "\n",
              "function _uploadFiles(inputId, outputId) {\n",
              "  const steps = uploadFilesStep(inputId, outputId);\n",
              "  const outputElement = document.getElementById(outputId);\n",
              "  // Cache steps on the outputElement to make it available for the next call\n",
              "  // to uploadFilesContinue from Python.\n",
              "  outputElement.steps = steps;\n",
              "\n",
              "  return _uploadFilesContinue(outputId);\n",
              "}\n",
              "\n",
              "// This is roughly an async generator (not supported in the browser yet),\n",
              "// where there are multiple asynchronous steps and the Python side is going\n",
              "// to poll for completion of each step.\n",
              "// This uses a Promise to block the python side on completion of each step,\n",
              "// then passes the result of the previous step as the input to the next step.\n",
              "function _uploadFilesContinue(outputId) {\n",
              "  const outputElement = document.getElementById(outputId);\n",
              "  const steps = outputElement.steps;\n",
              "\n",
              "  const next = steps.next(outputElement.lastPromiseValue);\n",
              "  return Promise.resolve(next.value.promise).then((value) => {\n",
              "    // Cache the last promise value to make it available to the next\n",
              "    // step of the generator.\n",
              "    outputElement.lastPromiseValue = value;\n",
              "    return next.value.response;\n",
              "  });\n",
              "}\n",
              "\n",
              "/**\n",
              " * Generator function which is called between each async step of the upload\n",
              " * process.\n",
              " * @param {string} inputId Element ID of the input file picker element.\n",
              " * @param {string} outputId Element ID of the output display.\n",
              " * @return {!Iterable<!Object>} Iterable of next steps.\n",
              " */\n",
              "function* uploadFilesStep(inputId, outputId) {\n",
              "  const inputElement = document.getElementById(inputId);\n",
              "  inputElement.disabled = false;\n",
              "\n",
              "  const outputElement = document.getElementById(outputId);\n",
              "  outputElement.innerHTML = '';\n",
              "\n",
              "  const pickedPromise = new Promise((resolve) => {\n",
              "    inputElement.addEventListener('change', (e) => {\n",
              "      resolve(e.target.files);\n",
              "    });\n",
              "  });\n",
              "\n",
              "  const cancel = document.createElement('button');\n",
              "  inputElement.parentElement.appendChild(cancel);\n",
              "  cancel.textContent = 'Cancel upload';\n",
              "  const cancelPromise = new Promise((resolve) => {\n",
              "    cancel.onclick = () => {\n",
              "      resolve(null);\n",
              "    };\n",
              "  });\n",
              "\n",
              "  // Wait for the user to pick the files.\n",
              "  const files = yield {\n",
              "    promise: Promise.race([pickedPromise, cancelPromise]),\n",
              "    response: {\n",
              "      action: 'starting',\n",
              "    }\n",
              "  };\n",
              "\n",
              "  cancel.remove();\n",
              "\n",
              "  // Disable the input element since further picks are not allowed.\n",
              "  inputElement.disabled = true;\n",
              "\n",
              "  if (!files) {\n",
              "    return {\n",
              "      response: {\n",
              "        action: 'complete',\n",
              "      }\n",
              "    };\n",
              "  }\n",
              "\n",
              "  for (const file of files) {\n",
              "    const li = document.createElement('li');\n",
              "    li.append(span(file.name, {fontWeight: 'bold'}));\n",
              "    li.append(span(\n",
              "        `(${file.type || 'n/a'}) - ${file.size} bytes, ` +\n",
              "        `last modified: ${\n",
              "            file.lastModifiedDate ? file.lastModifiedDate.toLocaleDateString() :\n",
              "                                    'n/a'} - `));\n",
              "    const percent = span('0% done');\n",
              "    li.appendChild(percent);\n",
              "\n",
              "    outputElement.appendChild(li);\n",
              "\n",
              "    const fileDataPromise = new Promise((resolve) => {\n",
              "      const reader = new FileReader();\n",
              "      reader.onload = (e) => {\n",
              "        resolve(e.target.result);\n",
              "      };\n",
              "      reader.readAsArrayBuffer(file);\n",
              "    });\n",
              "    // Wait for the data to be ready.\n",
              "    let fileData = yield {\n",
              "      promise: fileDataPromise,\n",
              "      response: {\n",
              "        action: 'continue',\n",
              "      }\n",
              "    };\n",
              "\n",
              "    // Use a chunked sending to avoid message size limits. See b/62115660.\n",
              "    let position = 0;\n",
              "    do {\n",
              "      const length = Math.min(fileData.byteLength - position, MAX_PAYLOAD_SIZE);\n",
              "      const chunk = new Uint8Array(fileData, position, length);\n",
              "      position += length;\n",
              "\n",
              "      const base64 = btoa(String.fromCharCode.apply(null, chunk));\n",
              "      yield {\n",
              "        response: {\n",
              "          action: 'append',\n",
              "          file: file.name,\n",
              "          data: base64,\n",
              "        },\n",
              "      };\n",
              "\n",
              "      let percentDone = fileData.byteLength === 0 ?\n",
              "          100 :\n",
              "          Math.round((position / fileData.byteLength) * 100);\n",
              "      percent.textContent = `${percentDone}% done`;\n",
              "\n",
              "    } while (position < fileData.byteLength);\n",
              "  }\n",
              "\n",
              "  // All done.\n",
              "  yield {\n",
              "    response: {\n",
              "      action: 'complete',\n",
              "    }\n",
              "  };\n",
              "}\n",
              "\n",
              "scope.google = scope.google || {};\n",
              "scope.google.colab = scope.google.colab || {};\n",
              "scope.google.colab._files = {\n",
              "  _uploadFiles,\n",
              "  _uploadFilesContinue,\n",
              "};\n",
              "})(self);\n",
              "</script> "
            ]
          },
          "metadata": {}
        },
        {
          "output_type": "stream",
          "name": "stdout",
          "text": [
            "Saving Sinusoidal_heatmap_tested_over_Sinusoidal.csv to Sinusoidal_heatmap_tested_over_Sinusoidal.csv\n"
          ]
        },
        {
          "output_type": "execute_result",
          "data": {
            "text/plain": [
              "{'Sinusoidal_heatmap_tested_over_Sinusoidal.csv': b'pointId Ascore actuallabel\\n0 0.738025 0\\n1 0.738025 0\\n2 0.738025 0\\n3 0.738025 0\\n4 0.738025 0\\n5 0.720096 0\\n6 0.702684 0\\n7 0.675122 0\\n8 0.662535 0\\n9 0.665172 0\\n10 0.663472 0\\n11 0.661887 0\\n12 0.657615 0\\n13 0.645757 0\\n14 0.655422 0\\n15 0.668756 0\\n16 0.666259 0\\n17 0.667928 0\\n18 0.657101 0\\n19 0.673943 0\\n20 0.682181 0\\n21 0.683748 0\\n22 0.687866 0\\n23 0.672262 0\\n24 0.665063 0\\n25 0.697649 0\\n26 0.697649 0\\n27 0.697649 0\\n28 0.697649 0\\n29 0.697649 0\\n30 0.738025 0\\n31 0.738025 0\\n32 0.738025 0\\n33 0.738025 0\\n34 0.738025 0\\n35 0.720096 0\\n36 0.702684 0\\n37 0.675122 0\\n38 0.662535 0\\n39 0.665172 0\\n40 0.663472 0\\n41 0.661887 0\\n42 0.657615 0\\n43 0.645757 0\\n44 0.655422 0\\n45 0.668756 0\\n46 0.666259 0\\n47 0.667928 0\\n48 0.657101 0\\n49 0.673943 0\\n50 0.682181 0\\n51 0.683748 0\\n52 0.687866 0\\n53 0.672262 0\\n54 0.665063 0\\n55 0.697649 0\\n56 0.697649 0\\n57 0.697649 0\\n58 0.697649 0\\n59 0.697649 0\\n60 0.738025 0\\n61 0.738025 0\\n62 0.738025 0\\n63 0.738025 0\\n64 0.738025 0\\n65 0.720096 0\\n66 0.702684 0\\n67 0.675122 0\\n68 0.662535 0\\n69 0.665172 0\\n70 0.663472 0\\n71 0.661887 0\\n72 0.657615 0\\n73 0.645757 0\\n74 0.655422 0\\n75 0.668756 0\\n76 0.666259 0\\n77 0.667928 0\\n78 0.657101 0\\n79 0.673943 0\\n80 0.682181 0\\n81 0.683748 0\\n82 0.687866 0\\n83 0.672262 0\\n84 0.665063 0\\n85 0.697649 0\\n86 0.697649 0\\n87 0.697649 0\\n88 0.697649 0\\n89 0.697649 0\\n90 0.738025 0\\n91 0.738025 0\\n92 0.738025 0\\n93 0.738025 0\\n94 0.738025 0\\n95 0.720096 0\\n96 0.702684 0\\n97 0.675122 0\\n98 0.662535 0\\n99 0.665172 0\\n100 0.663472 0\\n101 0.661887 0\\n102 0.657615 0\\n103 0.645757 0\\n104 0.655422 0\\n105 0.668756 0\\n106 0.666259 0\\n107 0.667928 0\\n108 0.657101 0\\n109 0.673943 0\\n110 0.682181 0\\n111 0.683748 0\\n112 0.687866 0\\n113 0.672262 0\\n114 0.665063 0\\n115 0.697649 0\\n116 0.697649 0\\n117 0.697649 0\\n118 0.697649 0\\n119 0.697649 0\\n120 0.738025 0\\n121 0.738025 0\\n122 0.738025 0\\n123 0.738025 0\\n124 0.738025 0\\n125 0.720096 0\\n126 0.702684 0\\n127 0.675122 0\\n128 0.662535 0\\n129 0.665172 0\\n130 0.663472 0\\n131 0.661887 0\\n132 0.657615 0\\n133 0.645757 0\\n134 0.655422 0\\n135 0.668756 0\\n136 0.666259 0\\n137 0.667928 0\\n138 0.657101 0\\n139 0.673943 0\\n140 0.682181 0\\n141 0.683748 0\\n142 0.687866 0\\n143 0.672262 0\\n144 0.665063 0\\n145 0.697649 0\\n146 0.697649 0\\n147 0.697649 0\\n148 0.697649 0\\n149 0.697649 0\\n150 0.738025 0\\n151 0.738025 0\\n152 0.738025 0\\n153 0.738025 0\\n154 0.738025 0\\n155 0.720096 0\\n156 0.702684 0\\n157 0.675122 0\\n158 0.662535 0\\n159 0.665172 0\\n160 0.663472 0\\n161 0.661887 0\\n162 0.657615 0\\n163 0.645757 0\\n164 0.655422 0\\n165 0.668756 0\\n166 0.666259 0\\n167 0.667928 0\\n168 0.657101 0\\n169 0.673943 0\\n170 0.682181 0\\n171 0.683748 0\\n172 0.687866 0\\n173 0.672262 0\\n174 0.665063 0\\n175 0.697649 0\\n176 0.697649 0\\n177 0.697649 0\\n178 0.697649 0\\n179 0.697649 0\\n180 0.738025 0\\n181 0.738025 0\\n182 0.738025 0\\n183 0.738025 0\\n184 0.738025 0\\n185 0.720096 0\\n186 0.702684 0\\n187 0.675122 0\\n188 0.662535 0\\n189 0.665172 0\\n190 0.663472 0\\n191 0.661887 0\\n192 0.657615 0\\n193 0.645757 0\\n194 0.655422 0\\n195 0.668756 0\\n196 0.666259 0\\n197 0.667928 0\\n198 0.657101 0\\n199 0.673943 0\\n200 0.682181 0\\n201 0.683748 0\\n202 0.687866 0\\n203 0.672262 0\\n204 0.665063 0\\n205 0.697649 0\\n206 0.697649 0\\n207 0.697649 0\\n208 0.697649 0\\n209 0.697649 0\\n210 0.737095 0\\n211 0.737095 0\\n212 0.737095 0\\n213 0.737095 0\\n214 0.737095 0\\n215 0.719189 0\\n216 0.701799 0\\n217 0.674271 0\\n218 0.657365 0\\n219 0.661598 0\\n220 0.662219 0\\n221 0.660637 0\\n222 0.656373 0\\n223 0.644538 0\\n224 0.654184 0\\n225 0.667493 0\\n226 0.665 0\\n227 0.666666 0\\n228 0.657101 0\\n229 0.673943 0\\n230 0.682181 0\\n231 0.683748 0\\n232 0.687866 0\\n233 0.672262 0\\n234 0.665063 0\\n235 0.697649 0\\n236 0.697649 0\\n237 0.697649 0\\n238 0.697649 0\\n239 0.697649 0\\n240 0.699964 0\\n241 0.699964 0\\n242 0.699964 0\\n243 0.699964 0\\n244 0.699964 0\\n245 0.67432 0\\n246 0.655194 0\\n247 0.625456 0\\n248 0.599056 0\\n249 0.610637 0\\n250 0.615042 0\\n251 0.607446 0\\n252 0.596716 0\\n253 0.583675 0\\n254 0.593469 0\\n255 0.604195 0\\n256 0.6033 0\\n257 0.604741 0\\n258 0.59549 0\\n259 0.611186 0\\n260 0.625406 0\\n261 0.633675 0\\n262 0.647611 0\\n263 0.629286 0\\n264 0.621312 0\\n265 0.660479 0\\n266 0.660479 0\\n267 0.660479 0\\n268 0.660479 0\\n269 0.660479 0\\n270 0.64955 0\\n271 0.64955 0\\n272 0.64955 0\\n273 0.64955 0\\n274 0.64955 0\\n275 0.618415 0\\n276 0.588087 0\\n277 0.548768 0\\n278 0.511017 0\\n279 0.528582 0\\n280 0.543866 0\\n281 0.532007 0\\n282 0.519457 0\\n283 0.504161 0\\n284 0.513109 0\\n285 0.525184 0\\n286 0.518389 0\\n287 0.518099 0\\n288 0.51422 0\\n289 0.525561 0\\n290 0.545792 0\\n291 0.550068 0\\n292 0.560623 0\\n293 0.536917 0\\n294 0.529863 0\\n295 0.584169 0\\n296 0.584169 0\\n297 0.584169 0\\n298 0.584169 0\\n299 0.584169 0\\n300 0.634573 0\\n301 0.634573 0\\n302 0.634573 0\\n303 0.634573 0\\n304 0.634573 0\\n305 0.597551 0\\n306 0.554155 0\\n307 0.507976 0\\n308 0.466322 0\\n309 0.486952 0\\n310 0.503832 0\\n311 0.495659 0\\n312 0.483587 0\\n313 0.463099 0\\n314 0.475778 0\\n315 0.494811 0\\n316 0.486944 0\\n317 0.478372 0\\n318 0.478186 0\\n319 0.489532 0\\n320 0.513419 0\\n321 0.521155 0\\n322 0.530814 0\\n323 0.505088 0\\n324 0.496031 0\\n325 0.55681 0\\n326 0.55681 0\\n327 0.55681 0\\n328 0.55681 0\\n329 0.55681 0\\n330 0.637587 0\\n331 0.637587 0\\n332 0.637587 0\\n333 0.637587 0\\n334 0.637587 0\\n335 0.600973 0\\n336 0.551908 0\\n337 0.503851 0\\n338 0.462527 0\\n339 0.473605 0\\n340 0.494324 0\\n341 0.485598 0\\n342 0.472893 0\\n343 0.455848 0\\n344 0.46268 0\\n345 0.481964 0\\n346 0.473749 0\\n347 0.462229 0\\n348 0.463196 0\\n349 0.469673 0\\n350 0.492606 0\\n351 0.500121 0\\n352 0.508272 0\\n353 0.488534 0\\n354 0.495373 0\\n355 0.548966 0\\n356 0.548966 0\\n357 0.548966 0\\n358 0.548966 0\\n359 0.548966 0\\n360 0.640916 0\\n361 0.640916 0\\n362 0.640916 0\\n363 0.640916 0\\n364 0.640916 0\\n365 0.603722 0\\n366 0.555321 0\\n367 0.508532 0\\n368 0.477089 0\\n369 0.471148 0\\n370 0.492625 0\\n371 0.482522 0\\n372 0.471809 0\\n373 0.455419 0\\n374 0.460354 0\\n375 0.477726 0\\n376 0.467533 0\\n377 0.462414 0\\n378 0.467187 0\\n379 0.47022 0\\n380 0.493888 0\\n381 0.504813 0\\n382 0.51034 0\\n383 0.494977 0\\n384 0.51196 0\\n385 0.556253 0\\n386 0.556253 0\\n387 0.556253 0\\n388 0.556253 0\\n389 0.556253 0\\n390 0.646115 0\\n391 0.646115 0\\n392 0.646115 0\\n393 0.646115 0\\n394 0.646115 0\\n395 0.610287 0\\n396 0.560489 0\\n397 0.516779 0\\n398 0.486904 0\\n399 0.473761 0\\n400 0.488188 0\\n401 0.480592 0\\n402 0.473233 0\\n403 0.464066 0\\n404 0.46606 0\\n405 0.480899 0\\n406 0.468884 0\\n407 0.463166 0\\n408 0.473063 0\\n409 0.473776 0\\n410 0.490987 0\\n411 0.504683 0\\n412 0.509509 0\\n413 0.506045 0\\n414 0.532505 0\\n415 0.570096 0\\n416 0.570096 0\\n417 0.570096 0\\n418 0.570096 0\\n419 0.570096 0\\n420 0.648106 0\\n421 0.648106 0\\n422 0.648106 0\\n423 0.648106 0\\n424 0.648106 0\\n425 0.616699 0\\n426 0.564949 0\\n427 0.526462 0\\n428 0.50565 0\\n429 0.490739 0\\n430 0.497235 0\\n431 0.495469 0\\n432 0.491371 0\\n433 0.484856 0\\n434 0.481076 0\\n435 0.484934 0\\n436 0.475234 0\\n437 0.465272 0\\n438 0.47981 0\\n439 0.481786 0\\n440 0.488196 0\\n441 0.499938 0\\n442 0.504374 0\\n443 0.518435 0\\n444 0.547192 0\\n445 0.585596 0\\n446 0.585596 0\\n447 0.585596 0\\n448 0.585596 0\\n449 0.585596 0\\n450 0.633791 0\\n451 0.633791 0\\n452 0.633791 0\\n453 0.633791 0\\n454 0.633791 0\\n455 0.599417 0\\n456 0.557061 0\\n457 0.529072 0\\n458 0.511006 0\\n459 0.488151 0\\n460 0.484594 0\\n461 0.485174 0\\n462 0.484339 0\\n463 0.479812 0\\n464 0.480417 0\\n465 0.487281 0\\n466 0.487458 0\\n467 0.477538 0\\n468 0.495091 0\\n469 0.493711 0\\n470 0.48711 0\\n471 0.499962 0\\n472 0.508944 0\\n473 0.544006 0\\n474 0.570938 0\\n475 0.615691 0\\n476 0.615691 0\\n477 0.615691 0\\n478 0.615691 0\\n479 0.615691 0\\n480 0.610416 0\\n481 0.610416 0\\n482 0.610416 0\\n483 0.610416 0\\n484 0.610416 0\\n485 0.568425 0\\n486 0.533718 0\\n487 0.521551 0\\n488 0.504117 0\\n489 0.479491 0\\n490 0.470582 0\\n491 0.473805 0\\n492 0.477388 0\\n493 0.470626 0\\n494 0.464665 0\\n495 0.457106 0\\n496 0.452539 0\\n497 0.448983 0\\n498 0.473855 0\\n499 0.476945 0\\n500 0.468651 0\\n501 0.479583 0\\n502 0.491828 0\\n503 0.530229 0\\n504 0.559232 0\\n505 0.611403 0\\n506 0.611403 0\\n507 0.611403 0\\n508 0.611403 0\\n509 0.611403 0\\n510 0.584115 0\\n511 0.584115 0\\n512 0.584115 0\\n513 0.584115 0\\n514 0.584115 0\\n515 0.53551 0\\n516 0.50335 0\\n517 0.503743 0\\n518 0.491003 0\\n519 0.473935 0\\n520 0.465076 0\\n521 0.473671 0\\n522 0.480881 0\\n523 0.476281 0\\n524 0.470574 0\\n525 0.460772 0\\n526 0.455126 0\\n527 0.45985 0\\n528 0.495783 0\\n529 0.502348 0\\n530 0.491139 0\\n531 0.483538 0\\n532 0.495851 0\\n533 0.540226 0\\n534 0.568889 0\\n535 0.612866 0\\n536 0.612866 0\\n537 0.612866 0\\n538 0.612866 0\\n539 0.612866 0\\n540 0.574188 0\\n541 0.574188 0\\n542 0.574188 0\\n543 0.574188 0\\n544 0.574188 0\\n545 0.514758 0\\n546 0.498175 0\\n547 0.509836 0\\n548 0.504334 0\\n549 0.488234 0\\n550 0.471105 0\\n551 0.478079 0\\n552 0.494957 0\\n553 0.491916 0\\n554 0.481793 0\\n555 0.465835 0\\n556 0.461568 0\\n557 0.472229 0\\n558 0.507398 0\\n559 0.514024 0\\n560 0.503174 0\\n561 0.487765 0\\n562 0.515188 0\\n563 0.551786 0\\n564 0.577927 0\\n565 0.619232 0\\n566 0.619232 0\\n567 0.619232 0\\n568 0.619232 0\\n569 0.619232 0\\n570 0.583912 0\\n571 0.583912 0\\n572 0.583912 0\\n573 0.583912 0\\n574 0.583912 0\\n575 0.523349 0\\n576 0.515677 0\\n577 0.532982 0\\n578 0.520824 0\\n579 0.510044 0\\n580 0.492941 0\\n581 0.49414 0\\n582 0.512446 0\\n583 0.509847 0\\n584 0.495073 0\\n585 0.476391 0\\n586 0.471313 0\\n587 0.4874 0\\n588 0.516307 0\\n589 0.521372 0\\n590 0.50694 0\\n591 0.492935 0\\n592 0.53111 0\\n593 0.559438 0\\n594 0.580927 0\\n595 0.621918 0\\n596 0.621918 0\\n597 0.621918 0\\n598 0.621918 0\\n599 0.621918 0\\n600 0.627746 0\\n601 0.627746 0\\n602 0.627746 0\\n603 0.627746 0\\n604 0.627746 0\\n605 0.57901 0\\n606 0.566556 0\\n607 0.569311 0\\n608 0.556825 0\\n609 0.548032 0\\n610 0.534245 0\\n611 0.532181 0\\n612 0.555368 0\\n613 0.554623 0\\n614 0.543115 0\\n615 0.526794 0\\n616 0.524062 0\\n617 0.540027 0\\n618 0.563505 0\\n619 0.568802 0\\n620 0.548974 0\\n621 0.532371 0\\n622 0.577119 0\\n623 0.60073 0\\n624 0.618798 0\\n625 0.652411 0\\n626 0.652411 0\\n627 0.652411 0\\n628 0.652411 0\\n629 0.652411 0\\n630 0.678561 0\\n631 0.678561 0\\n632 0.678561 0\\n633 0.678561 0\\n634 0.678561 0\\n635 0.641828 0\\n636 0.634308 0\\n637 0.635583 0\\n638 0.623528 0\\n639 0.614069 0\\n640 0.603977 0\\n641 0.600153 0\\n642 0.623198 0\\n643 0.630153 0\\n644 0.62609 0\\n645 0.615265 0\\n646 0.624491 0\\n647 0.63748 0\\n648 0.64942 0\\n649 0.655617 0\\n650 0.635767 0\\n651 0.616313 0\\n652 0.657354 0\\n653 0.671679 0\\n654 0.682607 0\\n655 0.708532 0\\n656 0.708532 0\\n657 0.708532 0\\n658 0.708532 0\\n659 0.708532 0\\n660 0.728963 0\\n661 0.728963 0\\n662 0.728963 0\\n663 0.728963 0\\n664 0.728963 0\\n665 0.709478 0\\n666 0.705416 0\\n667 0.716712 0\\n668 0.706969 0\\n669 0.703396 0\\n670 0.693077 0\\n671 0.685794 0\\n672 0.706011 0\\n673 0.710219 0\\n674 0.708763 0\\n675 0.699169 0\\n676 0.707086 0\\n677 0.718013 0\\n678 0.722205 0\\n679 0.730059 0\\n680 0.707118 0\\n681 0.693484 0\\n682 0.72694 0\\n683 0.73409 0\\n684 0.732632 0\\n685 0.754566 0\\n686 0.754566 0\\n687 0.754566 0\\n688 0.754566 0\\n689 0.754566 0\\n690 0.730802 0\\n691 0.730802 0\\n692 0.730802 0\\n693 0.730802 0\\n694 0.730802 0\\n695 0.715379 0\\n696 0.711284 0\\n697 0.722674 0\\n698 0.716572 0\\n699 0.712951 0\\n700 0.702492 0\\n701 0.69837 0\\n702 0.718958 0\\n703 0.720692 0\\n704 0.719214 0\\n705 0.706168 0\\n706 0.714164 0\\n707 0.7252 0\\n708 0.726891 0\\n709 0.734796 0\\n710 0.711707 0\\n711 0.697985 0\\n712 0.72694 0\\n713 0.73409 0\\n714 0.732632 0\\n715 0.754566 0\\n716 0.754566 0\\n717 0.754566 0\\n718 0.754566 0\\n719 0.754566 0\\n720 0.730802 0\\n721 0.730802 0\\n722 0.730802 0\\n723 0.730802 0\\n724 0.730802 0\\n725 0.715379 0\\n726 0.711284 0\\n727 0.722674 0\\n728 0.716572 0\\n729 0.712951 0\\n730 0.702492 0\\n731 0.69837 0\\n732 0.718958 0\\n733 0.720692 0\\n734 0.719214 0\\n735 0.706168 0\\n736 0.714164 0\\n737 0.7252 0\\n738 0.726891 0\\n739 0.734796 0\\n740 0.711707 0\\n741 0.697985 0\\n742 0.72694 0\\n743 0.73409 0\\n744 0.732632 0\\n745 0.754566 0\\n746 0.754566 0\\n747 0.754566 0\\n748 0.754566 0\\n749 0.754566 0\\n750 0.730802 0\\n751 0.730802 0\\n752 0.730802 0\\n753 0.730802 0\\n754 0.730802 0\\n755 0.715379 0\\n756 0.711284 0\\n757 0.722674 0\\n758 0.716572 0\\n759 0.712951 0\\n760 0.702492 0\\n761 0.69837 0\\n762 0.718958 0\\n763 0.720692 0\\n764 0.719214 0\\n765 0.706168 0\\n766 0.714164 0\\n767 0.7252 0\\n768 0.726891 0\\n769 0.734796 0\\n770 0.711707 0\\n771 0.697985 0\\n772 0.72694 0\\n773 0.73409 0\\n774 0.732632 0\\n775 0.754566 0\\n776 0.754566 0\\n777 0.754566 0\\n778 0.754566 0\\n779 0.754566 0\\n780 0.730802 0\\n781 0.730802 0\\n782 0.730802 0\\n783 0.730802 0\\n784 0.730802 0\\n785 0.715379 0\\n786 0.711284 0\\n787 0.722674 0\\n788 0.716572 0\\n789 0.712951 0\\n790 0.702492 0\\n791 0.69837 0\\n792 0.718958 0\\n793 0.720692 0\\n794 0.719214 0\\n795 0.706168 0\\n796 0.714164 0\\n797 0.7252 0\\n798 0.726891 0\\n799 0.734796 0\\n800 0.711707 0\\n801 0.697985 0\\n802 0.72694 0\\n803 0.73409 0\\n804 0.732632 0\\n805 0.754566 0\\n806 0.754566 0\\n807 0.754566 0\\n808 0.754566 0\\n809 0.754566 0\\n810 0.730802 0\\n811 0.730802 0\\n812 0.730802 0\\n813 0.730802 0\\n814 0.730802 0\\n815 0.715379 0\\n816 0.711284 0\\n817 0.722674 0\\n818 0.716572 0\\n819 0.712951 0\\n820 0.702492 0\\n821 0.69837 0\\n822 0.718958 0\\n823 0.720692 0\\n824 0.719214 0\\n825 0.706168 0\\n826 0.714164 0\\n827 0.7252 0\\n828 0.726891 0\\n829 0.734796 0\\n830 0.711707 0\\n831 0.697985 0\\n832 0.72694 0\\n833 0.73409 0\\n834 0.732632 0\\n835 0.754566 0\\n836 0.754566 0\\n837 0.754566 0\\n838 0.754566 0\\n839 0.754566 0\\n840 0.730802 0\\n841 0.730802 0\\n842 0.730802 0\\n843 0.730802 0\\n844 0.730802 0\\n845 0.715379 0\\n846 0.711284 0\\n847 0.722674 0\\n848 0.716572 0\\n849 0.712951 0\\n850 0.702492 0\\n851 0.69837 0\\n852 0.718958 0\\n853 0.720692 0\\n854 0.719214 0\\n855 0.706168 0\\n856 0.714164 0\\n857 0.7252 0\\n858 0.726891 0\\n859 0.734796 0\\n860 0.711707 0\\n861 0.697985 0\\n862 0.72694 0\\n863 0.73409 0\\n864 0.732632 0\\n865 0.754566 0\\n866 0.754566 0\\n867 0.754566 0\\n868 0.754566 0\\n869 0.754566 0\\n870 0.730802 0\\n871 0.730802 0\\n872 0.730802 0\\n873 0.730802 0\\n874 0.730802 0\\n875 0.715379 0\\n876 0.711284 0\\n877 0.722674 0\\n878 0.716572 0\\n879 0.712951 0\\n880 0.702492 0\\n881 0.69837 0\\n882 0.718958 0\\n883 0.720692 0\\n884 0.719214 0\\n885 0.706168 0\\n886 0.714164 0\\n887 0.7252 0\\n888 0.726891 0\\n889 0.734796 0\\n890 0.711707 0\\n891 0.697985 0\\n892 0.72694 0\\n893 0.73409 0\\n894 0.732632 0\\n895 0.754566 0\\n896 0.754566 0\\n897 0.754566 0\\n898 0.754566 0\\n899 0.754566 0\\n'}"
            ]
          },
          "metadata": {},
          "execution_count": 39
        }
      ]
    },
    {
      "cell_type": "code",
      "source": [
        "data = pd.read_csv(\"Sinusoidal_heatmap_tested_over_Sinusoidal.csv\", delimiter=' ')\n",
        "S0 = data['Ascore'].to_numpy()\n",
        "S0 = S0.reshape(xx.shape)"
      ],
      "metadata": {
        "id": "_oeFpVzQu-vT"
      },
      "execution_count": 40,
      "outputs": []
    },
    {
      "cell_type": "code",
      "source": [
        "f = plt.figure(figsize=(12,6))\n",
        "\n",
        "ax1 = f.add_subplot(121)\n",
        "levels = np.linspace(np.min(S0),np.max(S0),10)\n",
        "CS = ax1.contourf(xx, yy, S0, levels, cmap=plt.cm.YlOrRd)\n",
        "plt.scatter(x,y,s=15,c='None',edgecolor='k')\n",
        "\n",
        "plt.show()"
      ],
      "metadata": {
        "colab": {
          "base_uri": "https://localhost:8080/",
          "height": 378
        },
        "id": "lIzCt4ZdvXpd",
        "outputId": "82d8e8a2-01b3-4af8-d99c-8b6390974c7a"
      },
      "execution_count": 41,
      "outputs": [
        {
          "output_type": "display_data",
          "data": {
            "text/plain": [
              "<Figure size 864x432 with 1 Axes>"
            ],
            "image/png": "[encoded data removed]"
          },
          "metadata": {}
        }
      ]
    }
  ]
}